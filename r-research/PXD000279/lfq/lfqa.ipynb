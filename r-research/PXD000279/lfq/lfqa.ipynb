{
 "cells": [
  {
   "cell_type": "code",
   "execution_count": 1,
   "metadata": {},
   "outputs": [],
   "source": [
    "import pandas as pd"
   ]
  },
  {
   "cell_type": "code",
   "execution_count": 3,
   "metadata": {},
   "outputs": [
    {
     "name": "stdout",
     "output_type": "stream",
     "text": [
      "38\n",
      "3\n",
      "1947\n",
      "0\n"
     ]
    }
   ],
   "source": [
    "Results_imputationPerseustype = pd.read_csv(\"./Results_imputationPerseustype.csv\", header=0, sep=\",\")\n",
    "Results_imputationPerseustype.dropna(subset=[\"UPS1_vs_UPS2_log2 fold change\", \"UPS1_vs_UPS2_p.adj\"], how=\"any\", inplace=True)\n",
    "positive =  Results_imputationPerseustype[(abs(Results_imputationPerseustype[\"UPS1_vs_UPS2_log2 fold change\"]) >1) &(Results_imputationPerseustype[\"UPS1_vs_UPS2_p.adj\"] <0.05) ]\n",
    "negative = Results_imputationPerseustype[(abs(Results_imputationPerseustype[\"UPS1_vs_UPS2_log2 fold change\"]) <=1) | (Results_imputationPerseustype[\"UPS1_vs_UPS2_p.adj\"] >=0.05) ]\n",
    "\n",
    "no_difference_ups = [\"P00167\", \"P01133\", \"P02144\", \"P04040\", \"P15559\", \"P62937\", \"P63165\",  \"Q06830\"]\n",
    "\n",
    "difference_ups =  [\"P01579\", \"O76070\", \"P63279\", \"P68871\",\"P01127\", \"P01008\", \"P62988\", \"P10599\", \"P02787\", \"P99999\", \"P12081\", \"P51965\",\"P10636-8\", \n",
    "       \"P01031\", \"P09211\", \"P02788\", \"P41159\", \"O00762\", \"P05413\", \"P00441\", \"P00918\", \"P08758\", \"P00915\", \"P01344\", \"P69905\", \n",
    "        \"P00709\", \"P55957\", \"P08263\", \"P61769\", \"P10145\", \"P16083\", \"P61626\", \"P02741\", \"P06732\",\n",
    "        \"P01375\", \"P06396\", \"P02753\", \"P01112\", \"Q15843\", \"P02768\"]\n",
    "\n",
    "TP = len(positive[positive[\"Protein IDs\"].str.contains(\"|\".join(difference_ups))])\n",
    "FP = len(positive) - TP\n",
    "\n",
    "FN = len(negative[negative[\"Protein IDs\"].str.contains(\"|\".join(difference_ups))])\n",
    "TN = len(negative) - FN\n",
    "\n",
    "print(TP)\n",
    "print(FP)\n",
    "print(TN)\n",
    "print(FN)"
   ]
  },
  {
   "cell_type": "code",
   "execution_count": 5,
   "metadata": {},
   "outputs": [
    {
     "name": "stdout",
     "output_type": "stream",
     "text": [
      "36\n",
      "3\n",
      "1947\n",
      "2\n"
     ]
    }
   ],
   "source": [
    "Results_imputationPerseustype = pd.read_csv(\"./Results_imputationKNN.csv\", header=0, sep=\",\")\n",
    "Results_imputationPerseustype.dropna(subset=[\"UPS1_vs_UPS2_log2 fold change\", \"UPS1_vs_UPS2_p.adj\"], how=\"any\", inplace=True)\n",
    "positive =  Results_imputationPerseustype[(abs(Results_imputationPerseustype[\"UPS1_vs_UPS2_log2 fold change\"]) >1) &(Results_imputationPerseustype[\"UPS1_vs_UPS2_p.adj\"] <0.05) ]\n",
    "negative = Results_imputationPerseustype[(abs(Results_imputationPerseustype[\"UPS1_vs_UPS2_log2 fold change\"]) <=1) | (Results_imputationPerseustype[\"UPS1_vs_UPS2_p.adj\"] >=0.05) ]\n",
    "\n",
    "no_difference_ups = [\"P00167\", \"P01133\", \"P02144\", \"P04040\", \"P15559\", \"P62937\", \"P63165\",  \"Q06830\"]\n",
    "\n",
    "difference_ups =  [\"P01579\", \"O76070\", \"P63279\", \"P68871\",\"P01127\", \"P01008\", \"P62988\", \"P10599\", \"P02787\", \"P99999\", \"P12081\", \"P51965\",\"P10636-8\", \n",
    "       \"P01031\", \"P09211\", \"P02788\", \"P41159\", \"O00762\", \"P05413\", \"P00441\", \"P00918\", \"P08758\", \"P00915\", \"P01344\", \"P69905\", \n",
    "        \"P00709\", \"P55957\", \"P08263\", \"P61769\", \"P10145\", \"P16083\", \"P61626\", \"P02741\", \"P06732\",\n",
    "        \"P01375\", \"P06396\", \"P02753\", \"P01112\", \"Q15843\", \"P02768\"]\n",
    "\n",
    "TP = len(positive[positive[\"Protein IDs\"].str.contains(\"|\".join(difference_ups))])\n",
    "FP = len(positive) - TP\n",
    "\n",
    "FN = len(negative[negative[\"Protein IDs\"].str.contains(\"|\".join(difference_ups))])\n",
    "TN = len(negative) - FN\n",
    "\n",
    "print(TP)\n",
    "print(FP)\n",
    "print(TN)\n",
    "print(FN)"
   ]
  },
  {
   "cell_type": "code",
   "execution_count": 6,
   "metadata": {},
   "outputs": [
    {
     "name": "stdout",
     "output_type": "stream",
     "text": [
      "31\n",
      "2\n",
      "1948\n",
      "7\n"
     ]
    }
   ],
   "source": [
    "Results_imputationPerseustype = pd.read_csv(\"./Results_imputation0.csv\", header=0, sep=\",\")\n",
    "Results_imputationPerseustype.dropna(subset=[\"UPS1_vs_UPS2_log2 fold change\", \"UPS1_vs_UPS2_p.adj\"], how=\"any\", inplace=True)\n",
    "positive =  Results_imputationPerseustype[(abs(Results_imputationPerseustype[\"UPS1_vs_UPS2_log2 fold change\"]) >1) &(Results_imputationPerseustype[\"UPS1_vs_UPS2_p.adj\"] <0.05) ]\n",
    "negative = Results_imputationPerseustype[(abs(Results_imputationPerseustype[\"UPS1_vs_UPS2_log2 fold change\"]) <=1) | (Results_imputationPerseustype[\"UPS1_vs_UPS2_p.adj\"] >=0.05) ]\n",
    "\n",
    "no_difference_ups = [\"P00167\", \"P01133\", \"P02144\", \"P04040\", \"P15559\", \"P62937\", \"P63165\",  \"Q06830\"]\n",
    "\n",
    "difference_ups =  [\"P01579\", \"O76070\", \"P63279\", \"P68871\",\"P01127\", \"P01008\", \"P62988\", \"P10599\", \"P02787\", \"P99999\", \"P12081\", \"P51965\",\"P10636-8\", \n",
    "       \"P01031\", \"P09211\", \"P02788\", \"P41159\", \"O00762\", \"P05413\", \"P00441\", \"P00918\", \"P08758\", \"P00915\", \"P01344\", \"P69905\", \n",
    "        \"P00709\", \"P55957\", \"P08263\", \"P61769\", \"P10145\", \"P16083\", \"P61626\", \"P02741\", \"P06732\",\n",
    "        \"P01375\", \"P06396\", \"P02753\", \"P01112\", \"Q15843\", \"P02768\"]\n",
    "\n",
    "TP = len(positive[positive[\"Protein IDs\"].str.contains(\"|\".join(difference_ups))])\n",
    "FP = len(positive) - TP\n",
    "\n",
    "FN = len(negative[negative[\"Protein IDs\"].str.contains(\"|\".join(difference_ups))])\n",
    "TN = len(negative) - FN\n",
    "\n",
    "print(TP)\n",
    "print(FP)\n",
    "print(TN)\n",
    "print(FN)"
   ]
  },
  {
   "cell_type": "code",
   "execution_count": null,
   "metadata": {},
   "outputs": [],
   "source": []
  }
 ],
 "metadata": {
  "kernelspec": {
   "display_name": "Python 3",
   "language": "python",
   "name": "python3"
  },
  "language_info": {
   "codemirror_mode": {
    "name": "ipython",
    "version": 3
   },
   "file_extension": ".py",
   "mimetype": "text/x-python",
   "name": "python",
   "nbconvert_exporter": "python",
   "pygments_lexer": "ipython3",
   "version": "3.7.8"
  }
 },
 "nbformat": 4,
 "nbformat_minor": 2
}
