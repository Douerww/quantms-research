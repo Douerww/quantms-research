{
 "cells": [
  {
   "cell_type": "code",
   "execution_count": 15,
   "metadata": {},
   "outputs": [
    {
     "name": "stdout",
     "output_type": "stream",
     "text": [
      "The rpy2.ipython extension is already loaded. To reload it, use:\n",
      "  %reload_ext rpy2.ipython\n"
     ]
    }
   ],
   "source": [
    "%load_ext rpy2.ipython"
   ]
  },
  {
   "cell_type": "code",
   "execution_count": 16,
   "metadata": {},
   "outputs": [],
   "source": [
    "import pandas as pd"
   ]
  },
  {
   "cell_type": "code",
   "execution_count": 17,
   "metadata": {},
   "outputs": [],
   "source": [
    "%%R\n",
    "data_folder = './'\n",
    "setwd(data_folder)"
   ]
  },
  {
   "cell_type": "code",
   "execution_count": 9,
   "metadata": {},
   "outputs": [],
   "source": [
    "%%R\n",
    "library(proteus)\n",
    "\n",
    "proteinGroupsFile <- \"./proteinGroups.txt\"\n",
    "meta <- read.csv(\"./metadata.csv\")\n",
    "prot.MQ <- readProteinGroups(proteinGroupsFile, meta)\n",
    "\n",
    "#It is possible to read these data directly into Proteus and skip peptide and protein aggregation steps.\n",
    "prodat.med <- normalizeData(prot.MQ)\n",
    "\n",
    "res <- limmaDE(prodat.med, sig.level=0.05)\n",
    "r <- res[which(res$significant), c(\"protein\", \"logFC\", \"adj.P.Val\")]\n",
    "write.csv(res, \"proteus_median.csv\")"
   ]
  },
  {
   "cell_type": "code",
   "execution_count": 18,
   "metadata": {},
   "outputs": [
    {
     "name": "stdout",
     "output_type": "stream",
     "text": [
      "33\n",
      "6\n",
      "2191\n",
      "1\n"
     ]
    }
   ],
   "source": [
    "proteus_median = pd.read_csv(\"./proteus_median.csv\", header=0, sep=\",\", index_col=0)\n",
    "proteus_median.dropna(subset=[\"logFC\", \"P.Value\"], how=\"any\", inplace=True)\n",
    "positive =  proteus_median[(abs(proteus_median[\"logFC\"]) >1) &(proteus_median[\"adj.P.Val\"] <0.05) ]\n",
    "negative = proteus_median[(abs(proteus_median[\"logFC\"]) <=1) | (proteus_median[\"adj.P.Val\"] >=0.05) ]\n",
    "\n",
    "no_difference_ups = [\"P00167\", \"P01133\", \"P02144\", \"P04040\", \"P15559\", \"P62937\", \"P63165\",  \"Q06830\"]\n",
    "difference_ups =  [\"P01579\", \"O76070\", \"P63279\", \"P68871\",\"P01127\", \"P01008\", \"P62988\", \"P10599\", \"P02787\", \"P99999\", \"P12081\", \"P51965\",\"P10636-8\", \n",
    "       \"P01031\", \"P09211\", \"P02788\", \"P41159\", \"O00762\", \"P05413\", \"P00441\", \"P00918\", \"P08758\", \"P00915\", \"P01344\", \"P69905\", \n",
    "        \"P00709\", \"P55957\", \"P08263\", \"P61769\", \"P10145\", \"P16083\", \"P61626\", \"P02741\", \"P06732\",\n",
    "        \"P01375\", \"P06396\", \"P02753\", \"P01112\", \"Q15843\", \"P02768\"]\n",
    "\n",
    "\n",
    "TP = len(positive[positive[\"protein\"].str.contains(\"|\".join(difference_ups))])\n",
    "FP = len(positive) - TP\n",
    "\n",
    "FN = len(negative[negative[\"protein\"].str.contains(\"|\".join(difference_ups))])\n",
    "TN = len(negative) - FN\n",
    "\n",
    "print(TP)\n",
    "print(FP)\n",
    "print(TN)\n",
    "print(FN)"
   ]
  },
  {
   "cell_type": "code",
   "execution_count": 10,
   "metadata": {},
   "outputs": [],
   "source": [
    "%%R\n",
    "\n",
    "#It is possible to read these data directly into Proteus and skip peptide and protein aggregation steps.\n",
    "prodat.med <- normalizeData(prot.MQ, norm.fun=limma::normalizeQuantiles)\n",
    "\n",
    "res <- limmaDE(prodat.med, sig.level=0.05)\n",
    "r <- res[which(res$significant), c(\"protein\", \"logFC\", \"adj.P.Val\")]\n",
    "write.csv(res, \"proteus_normalizeQuantiles.csv\")"
   ]
  },
  {
   "cell_type": "code",
   "execution_count": 19,
   "metadata": {},
   "outputs": [
    {
     "name": "stdout",
     "output_type": "stream",
     "text": [
      "33\n",
      "6\n",
      "2191\n",
      "1\n"
     ]
    }
   ],
   "source": [
    "proteus_normalizeQuantiles = pd.read_csv(\"./proteus_normalizeQuantiles.csv\", header=0, sep=\",\", index_col=0)\n",
    "proteus_normalizeQuantiles.dropna(subset=[\"logFC\", \"P.Value\"], how=\"any\", inplace=True)\n",
    "positive =  proteus_normalizeQuantiles[(abs(proteus_normalizeQuantiles[\"logFC\"]) >1) &(proteus_normalizeQuantiles[\"adj.P.Val\"] <0.05) ]\n",
    "negative = proteus_normalizeQuantiles[(abs(proteus_normalizeQuantiles[\"logFC\"]) <=1) | (proteus_normalizeQuantiles[\"adj.P.Val\"] >=0.05) ]\n",
    "TP = len(positive[positive[\"protein\"].str.contains(\"|\".join(difference_ups))])\n",
    "FP = len(positive) - TP\n",
    "\n",
    "FN = len(negative[negative[\"protein\"].str.contains(\"|\".join(difference_ups))])\n",
    "TN = len(negative) - FN\n",
    "\n",
    "print(TP)\n",
    "print(FP)\n",
    "print(TN)\n",
    "print(FN)"
   ]
  },
  {
   "cell_type": "code",
   "execution_count": null,
   "metadata": {},
   "outputs": [],
   "source": []
  }
 ],
 "metadata": {
  "kernelspec": {
   "display_name": "Python 3",
   "language": "python",
   "name": "python3"
  },
  "language_info": {
   "codemirror_mode": {
    "name": "ipython",
    "version": 3
   },
   "file_extension": ".py",
   "mimetype": "text/x-python",
   "name": "python",
   "nbconvert_exporter": "python",
   "pygments_lexer": "ipython3",
   "version": "3.7.8"
  }
 },
 "nbformat": 4,
 "nbformat_minor": 2
}
