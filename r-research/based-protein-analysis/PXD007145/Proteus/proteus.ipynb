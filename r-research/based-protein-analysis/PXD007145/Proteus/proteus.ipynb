{
 "cells": [
  {
   "cell_type": "code",
   "execution_count": 1,
   "metadata": {},
   "outputs": [],
   "source": [
    "import pandas as pd"
   ]
  },
  {
   "cell_type": "markdown",
   "metadata": {},
   "source": [
    "# 4-1"
   ]
  },
  {
   "cell_type": "code",
   "execution_count": 13,
   "metadata": {},
   "outputs": [
    {
     "name": "stdout",
     "output_type": "stream",
     "text": [
      "428\n",
      "290\n",
      "2888\n",
      "88\n",
      "PPV = 0.596100\n",
      "NPV = 0.970430\n"
     ]
    }
   ],
   "source": [
    "# equalize medians (EM)\n",
    "proteus_median = pd.read_csv(\"./proteus_median_4-1.csv\", header=0, sep=\",\", index_col=0)\n",
    "proteus_median.dropna(subset=[\"logFC\", \"P.Value\"], how=\"any\", inplace=True)\n",
    "positive =  proteus_median[(abs(proteus_median[\"logFC\"]) >1) &(proteus_median[\"adj.P.Val\"] <0.05) ]\n",
    "negative = proteus_median[(abs(proteus_median[\"logFC\"]) <=1) | (proteus_median[\"adj.P.Val\"] >=0.05) ]\n",
    "\n",
    "TP = len(positive[positive[\"protein\"].str.contains(\"YEAST\")])\n",
    "FP = len(positive) - TP\n",
    "\n",
    "FN = len(negative[negative[\"protein\"].str.contains(\"YEAST\")])\n",
    "TN = len(negative) - FN\n",
    "\n",
    "print(TP)\n",
    "print(FP)\n",
    "print(TN)\n",
    "print(FN)\n",
    "\n",
    "print(\"PPV = %.6f\" % (TP / (TP + FP)))\n",
    "print(\"NPV = %.6f\" % (TN / (TN + FN)))"
   ]
  },
  {
   "cell_type": "code",
   "execution_count": 14,
   "metadata": {},
   "outputs": [
    {
     "name": "stdout",
     "output_type": "stream",
     "text": [
      "430\n",
      "273\n",
      "2905\n",
      "86\n",
      "PPV = 0.611664\n",
      "NPV = 0.971247\n"
     ]
    }
   ],
   "source": [
    "# quantile (Q)\n",
    "proteus_normalizeQuantiles = pd.read_csv(\"./proteus_quantile_4-1.csv\", header=0, sep=\",\", index_col=0)\n",
    "proteus_normalizeQuantiles.dropna(subset=[\"logFC\", \"P.Value\"], how=\"any\", inplace=True)\n",
    "positive =  proteus_normalizeQuantiles[(abs(proteus_normalizeQuantiles[\"logFC\"]) >1) &(proteus_normalizeQuantiles[\"adj.P.Val\"] <0.05) ]\n",
    "negative = proteus_normalizeQuantiles[(abs(proteus_normalizeQuantiles[\"logFC\"]) <=1) | (proteus_normalizeQuantiles[\"adj.P.Val\"] >=0.05) ]\n",
    "\n",
    "TP = len(positive[positive[\"protein\"].str.contains(\"YEAST\")])\n",
    "FP = len(positive) - TP\n",
    "\n",
    "FN = len(negative[negative[\"protein\"].str.contains(\"YEAST\")])\n",
    "TN = len(negative) - FN\n",
    "\n",
    "print(TP)\n",
    "print(FP)\n",
    "print(TN)\n",
    "print(FN)\n",
    "\n",
    "print(\"PPV = %.6f\" % (TP / (TP + FP)))\n",
    "print(\"NPV = %.6f\" % (TN / (TN + FN)))"
   ]
  },
  {
   "cell_type": "code",
   "execution_count": 15,
   "metadata": {},
   "outputs": [
    {
     "name": "stdout",
     "output_type": "stream",
     "text": [
      "431\n",
      "262\n",
      "2916\n",
      "85\n",
      "PPV = 0.621934\n",
      "NPV = 0.971676\n"
     ]
    }
   ],
   "source": [
    "# no normalization (NN)\n",
    "proteus_none = pd.read_csv(\"./proteus_none_4-1.csv\", header=0, sep=\",\", index_col=0)\n",
    "proteus_none.dropna(subset=[\"logFC\", \"P.Value\"], how=\"any\", inplace=True)\n",
    "positive =  proteus_none[(abs(proteus_none[\"logFC\"]) >1) &(proteus_none[\"adj.P.Val\"] <0.05) ]\n",
    "negative = proteus_none[(abs(proteus_none[\"logFC\"]) <=1) | (proteus_none[\"adj.P.Val\"] >=0.05) ]\n",
    "\n",
    "TP = len(positive[positive[\"protein\"].str.contains(\"YEAST\")])\n",
    "FP = len(positive) - TP\n",
    "\n",
    "FN = len(negative[negative[\"protein\"].str.contains(\"YEAST\")])\n",
    "TN = len(negative) - FN\n",
    "\n",
    "print(TP)\n",
    "print(FP)\n",
    "print(TN)\n",
    "print(FN)\n",
    "\n",
    "print(\"PPV = %.6f\" % (TP / (TP + FP)))\n",
    "print(\"NPV = %.6f\" % (TN / (TN + FN)))"
   ]
  },
  {
   "cell_type": "markdown",
   "metadata": {},
   "source": [
    "# 10-1"
   ]
  },
  {
   "cell_type": "code",
   "execution_count": 16,
   "metadata": {},
   "outputs": [
    {
     "name": "stdout",
     "output_type": "stream",
     "text": [
      "467\n",
      "733\n",
      "2147\n",
      "56\n",
      "PPV = 0.389167\n",
      "NPV = 0.974580\n"
     ]
    }
   ],
   "source": [
    "# equalize medians (EM)\n",
    "proteus_median = pd.read_csv(\"./proteus_median_10-1.csv\", header=0, sep=\",\", index_col=0)\n",
    "proteus_median.dropna(subset=[\"logFC\", \"P.Value\"], how=\"any\", inplace=True)\n",
    "positive =  proteus_median[(abs(proteus_median[\"logFC\"]) >1) &(proteus_median[\"adj.P.Val\"] <0.05) ]\n",
    "negative = proteus_median[(abs(proteus_median[\"logFC\"]) <=1) | (proteus_median[\"adj.P.Val\"] >=0.05) ]\n",
    "\n",
    "TP = len(positive[positive[\"protein\"].str.contains(\"YEAST\")])\n",
    "FP = len(positive) - TP\n",
    "\n",
    "FN = len(negative[negative[\"protein\"].str.contains(\"YEAST\")])\n",
    "TN = len(negative) - FN\n",
    "\n",
    "print(TP)\n",
    "print(FP)\n",
    "print(TN)\n",
    "print(FN)\n",
    "\n",
    "print(\"PPV = %.6f\" % (TP / (TP + FP)))\n",
    "print(\"NPV = %.6f\" % (TN / (TN + FN)))"
   ]
  },
  {
   "cell_type": "code",
   "execution_count": 17,
   "metadata": {},
   "outputs": [
    {
     "name": "stdout",
     "output_type": "stream",
     "text": [
      "468\n",
      "699\n",
      "2181\n",
      "55\n",
      "PPV = 0.401028\n",
      "NPV = 0.975403\n"
     ]
    }
   ],
   "source": [
    "# quantile (Q)\n",
    "proteus_normalizeQuantiles = pd.read_csv(\"./proteus_quantile_10-1.csv\", header=0, sep=\",\", index_col=0)\n",
    "proteus_normalizeQuantiles.dropna(subset=[\"logFC\", \"P.Value\"], how=\"any\", inplace=True)\n",
    "positive =  proteus_normalizeQuantiles[(abs(proteus_normalizeQuantiles[\"logFC\"]) >1) &(proteus_normalizeQuantiles[\"adj.P.Val\"] <0.05) ]\n",
    "negative = proteus_normalizeQuantiles[(abs(proteus_normalizeQuantiles[\"logFC\"]) <=1) | (proteus_normalizeQuantiles[\"adj.P.Val\"] >=0.05) ]\n",
    "\n",
    "TP = len(positive[positive[\"protein\"].str.contains(\"YEAST\")])\n",
    "FP = len(positive) - TP\n",
    "\n",
    "FN = len(negative[negative[\"protein\"].str.contains(\"YEAST\")])\n",
    "TN = len(negative) - FN\n",
    "\n",
    "print(TP)\n",
    "print(FP)\n",
    "print(TN)\n",
    "print(FN)\n",
    "\n",
    "print(\"PPV = %.6f\" % (TP / (TP + FP)))\n",
    "print(\"NPV = %.6f\" % (TN / (TN + FN)))"
   ]
  },
  {
   "cell_type": "code",
   "execution_count": 18,
   "metadata": {},
   "outputs": [
    {
     "name": "stdout",
     "output_type": "stream",
     "text": [
      "475\n",
      "404\n",
      "2476\n",
      "48\n",
      "PPV = 0.540387\n",
      "NPV = 0.980983\n"
     ]
    }
   ],
   "source": [
    "# no normalization (NN)\n",
    "proteus_none = pd.read_csv(\"./proteus_none_10-1.csv\", header=0, sep=\",\", index_col=0)\n",
    "proteus_none.dropna(subset=[\"logFC\", \"P.Value\"], how=\"any\", inplace=True)\n",
    "positive =  proteus_none[(abs(proteus_none[\"logFC\"]) >1) &(proteus_none[\"adj.P.Val\"] <0.05) ]\n",
    "negative = proteus_none[(abs(proteus_none[\"logFC\"]) <=1) | (proteus_none[\"adj.P.Val\"] >=0.05) ]\n",
    "\n",
    "TP = len(positive[positive[\"protein\"].str.contains(\"YEAST\")])\n",
    "FP = len(positive) - TP\n",
    "\n",
    "FN = len(negative[negative[\"protein\"].str.contains(\"YEAST\")])\n",
    "TN = len(negative) - FN\n",
    "\n",
    "print(TP)\n",
    "print(FP)\n",
    "print(TN)\n",
    "print(FN)\n",
    "\n",
    "print(\"PPV = %.6f\" % (TP / (TP + FP)))\n",
    "print(\"NPV = %.6f\" % (TN / (TN + FN)))"
   ]
  },
  {
   "cell_type": "code",
   "execution_count": null,
   "metadata": {},
   "outputs": [],
   "source": []
  }
 ],
 "metadata": {
  "kernelspec": {
   "display_name": "douer(base)",
   "language": "python",
   "name": "base"
  },
  "language_info": {
   "codemirror_mode": {
    "name": "ipython",
    "version": 3
   },
   "file_extension": ".py",
   "mimetype": "text/x-python",
   "name": "python",
   "nbconvert_exporter": "python",
   "pygments_lexer": "ipython3",
   "version": "3.7.6"
  }
 },
 "nbformat": 4,
 "nbformat_minor": 4
}
