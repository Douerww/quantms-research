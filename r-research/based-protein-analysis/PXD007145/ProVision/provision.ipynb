{
 "cells": [
  {
   "cell_type": "code",
   "execution_count": 1,
   "metadata": {},
   "outputs": [],
   "source": [
    "import pandas as pd"
   ]
  },
  {
   "cell_type": "code",
   "execution_count": 3,
   "metadata": {},
   "outputs": [],
   "source": [
    "df = pd.read_csv(\"../protein_species_YEAST.csv\", header=0, sep=\",\")\n",
    "DEP = df['Protein'].values"
   ]
  },
  {
   "cell_type": "markdown",
   "metadata": {},
   "source": [
    "# 4-1"
   ]
  },
  {
   "cell_type": "code",
   "execution_count": 4,
   "metadata": {},
   "outputs": [
    {
     "name": "stdout",
     "output_type": "stream",
     "text": [
      "239\n",
      "149\n",
      "1635\n",
      "287\n",
      "PPV = 0.615979\n",
      "NPV = 0.850676\n"
     ]
    }
   ],
   "source": [
    "provision = pd.read_excel(\"./provision-fold4-fold1.xlsx\", header=0, sep=\"\\t\")\n",
    "\n",
    "positive =  provision[provision[\"significant\"] != \"Non significant\"]\n",
    "negative = provision[provision[\"significant\"] == \"Non significant\"]\n",
    "\n",
    "TP = len(positive[positive[\"UniprotID\"].str.contains(\"|\".join(DEP))])\n",
    "FP = len(positive) - TP\n",
    "\n",
    "FN = len(negative[negative[\"UniprotID\"].str.contains(\"|\".join(DEP))])\n",
    "TN = len(negative) - FN\n",
    "\n",
    "print(TP)\n",
    "print(FP)\n",
    "print(TN)\n",
    "print(FN)\n",
    "\n",
    "print(\"PPV = %.6f\" % (TP / (TP + FP)))\n",
    "print(\"NPV = %.6f\" % (TN / (TN + FN)))"
   ]
  },
  {
   "cell_type": "markdown",
   "metadata": {},
   "source": [
    "# 10-1"
   ]
  },
  {
   "cell_type": "code",
   "execution_count": 5,
   "metadata": {},
   "outputs": [
    {
     "name": "stdout",
     "output_type": "stream",
     "text": [
      "400\n",
      "358\n",
      "1426\n",
      "126\n",
      "PPV = 0.527704\n",
      "NPV = 0.918814\n"
     ]
    }
   ],
   "source": [
    "provision = pd.read_excel(\"./provision-fold10-fold1.xlsx\", header=0, sep=\"\\t\")\n",
    "\n",
    "positive =  provision[provision[\"significant\"] != \"Non significant\"]\n",
    "negative = provision[provision[\"significant\"] == \"Non significant\"]\n",
    "\n",
    "TP = len(positive[positive[\"UniprotID\"].str.contains(\"|\".join(DEP))])\n",
    "FP = len(positive) - TP\n",
    "\n",
    "FN = len(negative[negative[\"UniprotID\"].str.contains(\"|\".join(DEP))])\n",
    "TN = len(negative) - FN\n",
    "\n",
    "print(TP)\n",
    "print(FP)\n",
    "print(TN)\n",
    "print(FN)\n",
    "\n",
    "print(\"PPV = %.6f\" % (TP / (TP + FP)))\n",
    "print(\"NPV = %.6f\" % (TN / (TN + FN)))"
   ]
  },
  {
   "cell_type": "code",
   "execution_count": null,
   "metadata": {},
   "outputs": [],
   "source": []
  }
 ],
 "metadata": {
  "kernelspec": {
   "display_name": "douer(base)",
   "language": "python",
   "name": "base"
  },
  "language_info": {
   "codemirror_mode": {
    "name": "ipython",
    "version": 3
   },
   "file_extension": ".py",
   "mimetype": "text/x-python",
   "name": "python",
   "nbconvert_exporter": "python",
   "pygments_lexer": "ipython3",
   "version": "3.7.6"
  }
 },
 "nbformat": 4,
 "nbformat_minor": 4
}
