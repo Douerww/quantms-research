{
 "cells": [
  {
   "cell_type": "code",
   "execution_count": 1,
   "metadata": {},
   "outputs": [],
   "source": [
    "import pandas as pd"
   ]
  },
  {
   "cell_type": "markdown",
   "metadata": {},
   "source": [
    "# 4-1"
   ]
  },
  {
   "cell_type": "code",
   "execution_count": 3,
   "metadata": {},
   "outputs": [
    {
     "name": "stdout",
     "output_type": "stream",
     "text": [
      "260\n",
      "150\n",
      "1411\n",
      "287\n",
      "PPV = 0.634146\n",
      "NPV = 0.830978\n"
     ]
    }
   ],
   "source": [
    "# ND\n",
    "lfq = pd.read_csv(\"./lfq-Results-ND.csv\", header=0, sep=\",\")\n",
    "lfq.dropna(subset=[\"fold1_vs_fold4_log2 fold change\", \"fold1_vs_fold4_p.adj\"], how=\"any\", inplace=True)\n",
    "positive =  lfq[(abs(lfq[\"fold1_vs_fold4_log2 fold change\"]) >1) &(lfq[\"fold1_vs_fold4_p.adj\"] <0.05) ]\n",
    "negative = lfq[(abs(lfq[\"fold1_vs_fold4_log2 fold change\"]) <=1) | (lfq[\"fold1_vs_fold4_p.adj\"] >=0.05) ]\n",
    "\n",
    "TP = len(positive[positive[\"Protein IDs\"].str.contains(\"YEAST\")])\n",
    "FP = len(positive) - TP\n",
    "\n",
    "FN = len(negative[negative[\"Protein IDs\"].str.contains(\"YEAST\")])\n",
    "TN = len(negative) - FN\n",
    "\n",
    "print(TP)\n",
    "print(FP)\n",
    "print(TN)\n",
    "print(FN)\n",
    "\n",
    "print(\"PPV = %.6f\" % (TP / (TP + FP)))\n",
    "print(\"NPV = %.6f\" % (TN / (TN + FN)))"
   ]
  },
  {
   "cell_type": "code",
   "execution_count": 4,
   "metadata": {},
   "outputs": [
    {
     "name": "stdout",
     "output_type": "stream",
     "text": [
      "128\n",
      "109\n",
      "1452\n",
      "419\n",
      "PPV = 0.540084\n",
      "NPV = 0.776056\n"
     ]
    }
   ],
   "source": [
    "# KNN\n",
    "lfq = pd.read_csv(\"./lfq-Results-KNN.csv\", header=0, sep=\",\")\n",
    "lfq.dropna(subset=[\"fold1_vs_fold4_log2 fold change\", \"fold1_vs_fold4_p.adj\"], how=\"any\", inplace=True)\n",
    "positive =  lfq[(abs(lfq[\"fold1_vs_fold4_log2 fold change\"]) >1) &(lfq[\"fold1_vs_fold4_p.adj\"] <0.05) ]\n",
    "negative = lfq[(abs(lfq[\"fold1_vs_fold4_log2 fold change\"]) <=1) | (lfq[\"fold1_vs_fold4_p.adj\"] >=0.05) ]\n",
    "\n",
    "TP = len(positive[positive[\"Protein IDs\"].str.contains(\"YEAST\")])\n",
    "FP = len(positive) - TP\n",
    "\n",
    "FN = len(negative[negative[\"Protein IDs\"].str.contains(\"YEAST\")])\n",
    "TN = len(negative) - FN\n",
    "\n",
    "print(TP)\n",
    "print(FP)\n",
    "print(TN)\n",
    "print(FN)\n",
    "\n",
    "print(\"PPV = %.6f\" % (TP / (TP + FP)))\n",
    "print(\"NPV = %.6f\" % (TN / (TN + FN)))"
   ]
  },
  {
   "cell_type": "code",
   "execution_count": 5,
   "metadata": {},
   "outputs": [
    {
     "name": "stdout",
     "output_type": "stream",
     "text": [
      "260\n",
      "181\n",
      "1380\n",
      "287\n",
      "PPV = 0.589569\n",
      "NPV = 0.827834\n"
     ]
    }
   ],
   "source": [
    "# zero\n",
    "lfq = pd.read_csv(\"./lfq-Results-zero.csv\", header=0, sep=\",\")\n",
    "lfq.dropna(subset=[\"fold1_vs_fold4_log2 fold change\", \"fold1_vs_fold4_p.adj\"], how=\"any\", inplace=True)\n",
    "positive =  lfq[(abs(lfq[\"fold1_vs_fold4_log2 fold change\"]) >1) &(lfq[\"fold1_vs_fold4_p.adj\"] <0.05) ]\n",
    "negative = lfq[(abs(lfq[\"fold1_vs_fold4_log2 fold change\"]) <=1) | (lfq[\"fold1_vs_fold4_p.adj\"] >=0.05) ]\n",
    "\n",
    "TP = len(positive[positive[\"Protein IDs\"].str.contains(\"YEAST\")])\n",
    "FP = len(positive) - TP\n",
    "\n",
    "FN = len(negative[negative[\"Protein IDs\"].str.contains(\"YEAST\")])\n",
    "TN = len(negative) - FN\n",
    "\n",
    "print(TP)\n",
    "print(FP)\n",
    "print(TN)\n",
    "print(FN)\n",
    "\n",
    "print(\"PPV = %.6f\" % (TP / (TP + FP)))\n",
    "print(\"NPV = %.6f\" % (TN / (TN + FN)))"
   ]
  },
  {
   "cell_type": "code",
   "execution_count": 6,
   "metadata": {},
   "outputs": [
    {
     "name": "stdout",
     "output_type": "stream",
     "text": [
      "263\n",
      "111\n",
      "1450\n",
      "284\n",
      "PPV = 0.703209\n",
      "NPV = 0.836217\n"
     ]
    }
   ],
   "source": [
    "# QRILC\n",
    "lfq = pd.read_csv(\"./lfq-Results-QRILC.csv\", header=0, sep=\",\")\n",
    "lfq.dropna(subset=[\"fold1_vs_fold4_log2 fold change\", \"fold1_vs_fold4_p.adj\"], how=\"any\", inplace=True)\n",
    "positive =  lfq[(abs(lfq[\"fold1_vs_fold4_log2 fold change\"]) >1) &(lfq[\"fold1_vs_fold4_p.adj\"] <0.05) ]\n",
    "negative = lfq[(abs(lfq[\"fold1_vs_fold4_log2 fold change\"]) <=1) | (lfq[\"fold1_vs_fold4_p.adj\"] >=0.05) ]\n",
    "\n",
    "TP = len(positive[positive[\"Protein IDs\"].str.contains(\"YEAST\")])\n",
    "FP = len(positive) - TP\n",
    "\n",
    "FN = len(negative[negative[\"Protein IDs\"].str.contains(\"YEAST\")])\n",
    "TN = len(negative) - FN\n",
    "\n",
    "print(TP)\n",
    "print(FP)\n",
    "print(TN)\n",
    "print(FN)\n",
    "\n",
    "print(\"PPV = %.6f\" % (TP / (TP + FP)))\n",
    "print(\"NPV = %.6f\" % (TN / (TN + FN)))"
   ]
  },
  {
   "cell_type": "markdown",
   "metadata": {},
   "source": [
    "# 10-1 "
   ]
  },
  {
   "cell_type": "code",
   "execution_count": 7,
   "metadata": {},
   "outputs": [
    {
     "name": "stdout",
     "output_type": "stream",
     "text": [
      "453\n",
      "343\n",
      "1218\n",
      "94\n",
      "PPV = 0.569095\n",
      "NPV = 0.928354\n"
     ]
    }
   ],
   "source": [
    "# ND\n",
    "lfq = pd.read_csv(\"./lfq-Results-ND.csv\", header=0, sep=\",\")\n",
    "lfq.dropna(subset=[\"fold1_vs_fold10_log2 fold change\", \"fold1_vs_fold10_p.adj\"], how=\"any\", inplace=True)\n",
    "positive =  lfq[(abs(lfq[\"fold1_vs_fold10_log2 fold change\"]) >1) &(lfq[\"fold1_vs_fold10_p.adj\"] <0.05) ]\n",
    "negative = lfq[(abs(lfq[\"fold1_vs_fold10_log2 fold change\"]) <=1) | (lfq[\"fold1_vs_fold10_p.adj\"] >=0.05) ]\n",
    "\n",
    "TP = len(positive[positive[\"Protein IDs\"].str.contains(\"YEAST\")])\n",
    "FP = len(positive) - TP\n",
    "\n",
    "FN = len(negative[negative[\"Protein IDs\"].str.contains(\"YEAST\")])\n",
    "TN = len(negative) - FN\n",
    "\n",
    "print(TP)\n",
    "print(FP)\n",
    "print(TN)\n",
    "print(FN)\n",
    "\n",
    "print(\"PPV = %.6f\" % (TP / (TP + FP)))\n",
    "print(\"NPV = %.6f\" % (TN / (TN + FN)))"
   ]
  },
  {
   "cell_type": "code",
   "execution_count": 8,
   "metadata": {},
   "outputs": [
    {
     "name": "stdout",
     "output_type": "stream",
     "text": [
      "335\n",
      "192\n",
      "1369\n",
      "212\n",
      "PPV = 0.635674\n",
      "NPV = 0.865908\n"
     ]
    }
   ],
   "source": [
    "# KNN\n",
    "lfq = pd.read_csv(\"./lfq-Results-KNN.csv\", header=0, sep=\",\")\n",
    "lfq.dropna(subset=[\"fold1_vs_fold10_log2 fold change\", \"fold1_vs_fold10_p.adj\"], how=\"any\", inplace=True)\n",
    "positive =  lfq[(abs(lfq[\"fold1_vs_fold10_log2 fold change\"]) >1) &(lfq[\"fold1_vs_fold10_p.adj\"] <0.05) ]\n",
    "negative = lfq[(abs(lfq[\"fold1_vs_fold10_log2 fold change\"]) <=1) | (lfq[\"fold1_vs_fold10_p.adj\"] >=0.05) ]\n",
    "\n",
    "TP = len(positive[positive[\"Protein IDs\"].str.contains(\"YEAST\")])\n",
    "FP = len(positive) - TP\n",
    "\n",
    "FN = len(negative[negative[\"Protein IDs\"].str.contains(\"YEAST\")])\n",
    "TN = len(negative) - FN\n",
    "\n",
    "print(TP)\n",
    "print(FP)\n",
    "print(TN)\n",
    "print(FN)\n",
    "\n",
    "print(\"PPV = %.6f\" % (TP / (TP + FP)))\n",
    "print(\"NPV = %.6f\" % (TN / (TN + FN)))"
   ]
  },
  {
   "cell_type": "code",
   "execution_count": 9,
   "metadata": {},
   "outputs": [
    {
     "name": "stdout",
     "output_type": "stream",
     "text": [
      "487\n",
      "347\n",
      "1214\n",
      "60\n",
      "PPV = 0.583933\n",
      "NPV = 0.952904\n"
     ]
    }
   ],
   "source": [
    "# zero\n",
    "lfq = pd.read_csv(\"./lfq-Results-zero.csv\", header=0, sep=\",\")\n",
    "lfq.dropna(subset=[\"fold1_vs_fold10_log2 fold change\", \"fold1_vs_fold10_p.adj\"], how=\"any\", inplace=True)\n",
    "positive =  lfq[(abs(lfq[\"fold1_vs_fold10_log2 fold change\"]) >1) &(lfq[\"fold1_vs_fold10_p.adj\"] <0.05) ]\n",
    "negative = lfq[(abs(lfq[\"fold1_vs_fold10_log2 fold change\"]) <=1) | (lfq[\"fold1_vs_fold10_p.adj\"] >=0.05) ]\n",
    "\n",
    "TP = len(positive[positive[\"Protein IDs\"].str.contains(\"YEAST\")])\n",
    "FP = len(positive) - TP\n",
    "\n",
    "FN = len(negative[negative[\"Protein IDs\"].str.contains(\"YEAST\")])\n",
    "TN = len(negative) - FN\n",
    "\n",
    "print(TP)\n",
    "print(FP)\n",
    "print(TN)\n",
    "print(FN)\n",
    "\n",
    "print(\"PPV = %.6f\" % (TP / (TP + FP)))\n",
    "print(\"NPV = %.6f\" % (TN / (TN + FN)))"
   ]
  },
  {
   "cell_type": "code",
   "execution_count": 10,
   "metadata": {},
   "outputs": [
    {
     "name": "stdout",
     "output_type": "stream",
     "text": [
      "454\n",
      "314\n",
      "1247\n",
      "93\n",
      "PPV = 0.591146\n",
      "NPV = 0.930597\n"
     ]
    }
   ],
   "source": [
    "# QRILC\n",
    "lfq = pd.read_csv(\"./lfq-Results-QRILC.csv\", header=0, sep=\",\")\n",
    "lfq.dropna(subset=[\"fold1_vs_fold10_log2 fold change\", \"fold1_vs_fold10_p.adj\"], how=\"any\", inplace=True)\n",
    "positive =  lfq[(abs(lfq[\"fold1_vs_fold10_log2 fold change\"]) >1) &(lfq[\"fold1_vs_fold10_p.adj\"] <0.05) ]\n",
    "negative = lfq[(abs(lfq[\"fold1_vs_fold10_log2 fold change\"]) <=1) | (lfq[\"fold1_vs_fold10_p.adj\"] >=0.05) ]\n",
    "\n",
    "TP = len(positive[positive[\"Protein IDs\"].str.contains(\"YEAST\")])\n",
    "FP = len(positive) - TP\n",
    "\n",
    "FN = len(negative[negative[\"Protein IDs\"].str.contains(\"YEAST\")])\n",
    "TN = len(negative) - FN\n",
    "\n",
    "print(TP)\n",
    "print(FP)\n",
    "print(TN)\n",
    "print(FN)\n",
    "\n",
    "print(\"PPV = %.6f\" % (TP / (TP + FP)))\n",
    "print(\"NPV = %.6f\" % (TN / (TN + FN)))"
   ]
  },
  {
   "cell_type": "code",
   "execution_count": null,
   "metadata": {},
   "outputs": [],
   "source": []
  }
 ],
 "metadata": {
  "kernelspec": {
   "display_name": "douer(base)",
   "language": "python",
   "name": "base"
  },
  "language_info": {
   "codemirror_mode": {
    "name": "ipython",
    "version": 3
   },
   "file_extension": ".py",
   "mimetype": "text/x-python",
   "name": "python",
   "nbconvert_exporter": "python",
   "pygments_lexer": "ipython3",
   "version": "3.7.6"
  }
 },
 "nbformat": 4,
 "nbformat_minor": 4
}
