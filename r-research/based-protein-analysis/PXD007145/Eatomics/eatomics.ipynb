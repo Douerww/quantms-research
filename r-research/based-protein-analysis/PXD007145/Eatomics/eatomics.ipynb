{
 "cells": [
  {
   "cell_type": "code",
   "execution_count": 2,
   "metadata": {},
   "outputs": [],
   "source": [
    "import pandas as pd"
   ]
  },
  {
   "cell_type": "markdown",
   "metadata": {},
   "source": [
    "# 4-1"
   ]
  },
  {
   "cell_type": "code",
   "execution_count": 7,
   "metadata": {},
   "outputs": [
    {
     "name": "stdout",
     "output_type": "stream",
     "text": [
      "43\n",
      "25\n",
      "1046\n",
      "8\n",
      "PPV = 0.632353\n",
      "NPV = 0.992410\n"
     ]
    }
   ],
   "source": [
    "# ND\n",
    "eatomics_up = pd.read_excel(\"./Eatomics_4-1_ND.csv\", sheet_name=\"Upregulated.Proteins\")\n",
    "eatomics_down = pd.read_excel(\"./Eatomics_4-1_ND.csv\", sheet_name=\"Downregulated.Proteins\")\n",
    "eatomics = pd.concat([eatomics_up, eatomics_down])\n",
    "\n",
    "eatomics.dropna(subset=[\"adj.P.Val\", \"logFC\"], how=\"any\", inplace=True)\n",
    "positive =  eatomics[(abs(eatomics[\"logFC\"]) >1) &(eatomics[\"adj.P.Val\"] <0.05) ]\n",
    "negative = eatomics[(abs(eatomics[\"logFC\"]) <=1) | (eatomics[\"adj.P.Val\"] >=0.05) ]\n",
    "\n",
    "\n",
    "TP = len(positive[positive[\"Majority protein IDs\"].str.contains(\"YEAST\")])\n",
    "FP = len(positive) - TP\n",
    "\n",
    "FN = len(negative[negative[\"Majority protein IDs\"].str.contains(\"YEAST\")])\n",
    "TN = len(negative) - FN\n",
    "\n",
    "print(TP)\n",
    "print(FP)\n",
    "print(TN)\n",
    "print(FN)\n",
    "\n",
    "print(\"PPV = %.6f\" % (TP / (TP + FP)))\n",
    "print(\"NPV = %.6f\" % (TN / (TN + FN)))"
   ]
  },
  {
   "cell_type": "code",
   "execution_count": 8,
   "metadata": {},
   "outputs": [
    {
     "name": "stdout",
     "output_type": "stream",
     "text": [
      "43\n",
      "25\n",
      "1046\n",
      "8\n",
      "PPV = 0.632353\n",
      "NPV = 0.992410\n"
     ]
    }
   ],
   "source": [
    "# KNN\n",
    "eatomics_up = pd.read_excel(\"./Eatomics_4-1_KNN.csv\", sheet_name=\"Upregulated.Proteins\")\n",
    "eatomics_down = pd.read_excel(\"./Eatomics_4-1_KNN.csv\", sheet_name=\"Downregulated.Proteins\")\n",
    "eatomics = pd.concat([eatomics_up, eatomics_down])\n",
    "\n",
    "eatomics.dropna(subset=[\"adj.P.Val\", \"logFC\"], how=\"any\", inplace=True)\n",
    "positive =  eatomics[(abs(eatomics[\"logFC\"]) >1) &(eatomics[\"adj.P.Val\"] <0.05) ]\n",
    "negative = eatomics[(abs(eatomics[\"logFC\"]) <=1) | (eatomics[\"adj.P.Val\"] >=0.05) ]\n",
    "\n",
    "\n",
    "TP = len(positive[positive[\"Majority protein IDs\"].str.contains(\"YEAST\")])\n",
    "FP = len(positive) - TP\n",
    "\n",
    "FN = len(negative[negative[\"Majority protein IDs\"].str.contains(\"YEAST\")])\n",
    "TN = len(negative) - FN\n",
    "\n",
    "print(TP)\n",
    "print(FP)\n",
    "print(TN)\n",
    "print(FN)\n",
    "\n",
    "print(\"PPV = %.6f\" % (TP / (TP + FP)))\n",
    "print(\"NPV = %.6f\" % (TN / (TN + FN)))"
   ]
  },
  {
   "cell_type": "code",
   "execution_count": 9,
   "metadata": {},
   "outputs": [
    {
     "name": "stdout",
     "output_type": "stream",
     "text": [
      "43\n",
      "25\n",
      "1046\n",
      "8\n",
      "PPV = 0.632353\n",
      "NPV = 0.992410\n"
     ]
    }
   ],
   "source": [
    "# QRILC\n",
    "eatomics_up = pd.read_excel(\"./Eatomics_4-1_QRILC.csv\", sheet_name=\"Upregulated.Proteins\")\n",
    "eatomics_down = pd.read_excel(\"./Eatomics_4-1_QRILC.csv\", sheet_name=\"Downregulated.Proteins\")\n",
    "eatomics = pd.concat([eatomics_up, eatomics_down])\n",
    "\n",
    "eatomics.dropna(subset=[\"adj.P.Val\", \"logFC\"], how=\"any\", inplace=True)\n",
    "positive =  eatomics[(abs(eatomics[\"logFC\"]) >1) &(eatomics[\"adj.P.Val\"] <0.05) ]\n",
    "negative = eatomics[(abs(eatomics[\"logFC\"]) <=1) | (eatomics[\"adj.P.Val\"] >=0.05) ]\n",
    "\n",
    "\n",
    "TP = len(positive[positive[\"Majority protein IDs\"].str.contains(\"YEAST\")])\n",
    "FP = len(positive) - TP\n",
    "\n",
    "FN = len(negative[negative[\"Majority protein IDs\"].str.contains(\"YEAST\")])\n",
    "TN = len(negative) - FN\n",
    "\n",
    "print(TP)\n",
    "print(FP)\n",
    "print(TN)\n",
    "print(FN)\n",
    "\n",
    "print(\"PPV = %.6f\" % (TP / (TP + FP)))\n",
    "print(\"NPV = %.6f\" % (TN / (TN + FN)))"
   ]
  },
  {
   "cell_type": "markdown",
   "metadata": {},
   "source": [
    "# 10-1"
   ]
  },
  {
   "cell_type": "code",
   "execution_count": 10,
   "metadata": {},
   "outputs": [
    {
     "name": "stdout",
     "output_type": "stream",
     "text": [
      "49\n",
      "99\n",
      "891\n",
      "2\n",
      "PPV = 0.331081\n",
      "NPV = 0.997760\n"
     ]
    }
   ],
   "source": [
    "# ND\n",
    "eatomics_up = pd.read_excel(\"./Eatomics_10-1_ND.csv\", sheet_name=\"Upregulated.Proteins\")\n",
    "eatomics_down = pd.read_excel(\"./Eatomics_10-1_ND.csv\", sheet_name=\"Downregulated.Proteins\")\n",
    "eatomics = pd.concat([eatomics_up, eatomics_down])\n",
    "\n",
    "eatomics.dropna(subset=[\"adj.P.Val\", \"logFC\"], how=\"any\", inplace=True)\n",
    "positive =  eatomics[(abs(eatomics[\"logFC\"]) >1) &(eatomics[\"adj.P.Val\"] <0.05) ]\n",
    "negative = eatomics[(abs(eatomics[\"logFC\"]) <=1) | (eatomics[\"adj.P.Val\"] >=0.05) ]\n",
    "\n",
    "\n",
    "TP = len(positive[positive[\"Majority protein IDs\"].str.contains(\"YEAST\")])\n",
    "FP = len(positive) - TP\n",
    "\n",
    "FN = len(negative[negative[\"Majority protein IDs\"].str.contains(\"YEAST\")])\n",
    "TN = len(negative) - FN\n",
    "\n",
    "print(TP)\n",
    "print(FP)\n",
    "print(TN)\n",
    "print(FN)\n",
    "\n",
    "print(\"PPV = %.6f\" % (TP / (TP + FP)))\n",
    "print(\"NPV = %.6f\" % (TN / (TN + FN)))"
   ]
  },
  {
   "cell_type": "code",
   "execution_count": 11,
   "metadata": {},
   "outputs": [
    {
     "name": "stdout",
     "output_type": "stream",
     "text": [
      "49\n",
      "99\n",
      "891\n",
      "2\n",
      "PPV = 0.331081\n",
      "NPV = 0.997760\n"
     ]
    }
   ],
   "source": [
    "# KNN\n",
    "eatomics_up = pd.read_excel(\"./Eatomics_10-1_KNN.csv\", sheet_name=\"Upregulated.Proteins\")\n",
    "eatomics_down = pd.read_excel(\"./Eatomics_10-1_KNN.csv\", sheet_name=\"Downregulated.Proteins\")\n",
    "eatomics = pd.concat([eatomics_up, eatomics_down])\n",
    "\n",
    "eatomics.dropna(subset=[\"adj.P.Val\", \"logFC\"], how=\"any\", inplace=True)\n",
    "positive =  eatomics[(abs(eatomics[\"logFC\"]) >1) &(eatomics[\"adj.P.Val\"] <0.05) ]\n",
    "negative = eatomics[(abs(eatomics[\"logFC\"]) <=1) | (eatomics[\"adj.P.Val\"] >=0.05) ]\n",
    "\n",
    "\n",
    "TP = len(positive[positive[\"Majority protein IDs\"].str.contains(\"YEAST\")])\n",
    "FP = len(positive) - TP\n",
    "\n",
    "FN = len(negative[negative[\"Majority protein IDs\"].str.contains(\"YEAST\")])\n",
    "TN = len(negative) - FN\n",
    "\n",
    "print(TP)\n",
    "print(FP)\n",
    "print(TN)\n",
    "print(FN)\n",
    "\n",
    "print(\"PPV = %.6f\" % (TP / (TP + FP)))\n",
    "print(\"NPV = %.6f\" % (TN / (TN + FN)))"
   ]
  },
  {
   "cell_type": "code",
   "execution_count": 12,
   "metadata": {},
   "outputs": [
    {
     "name": "stdout",
     "output_type": "stream",
     "text": [
      "49\n",
      "99\n",
      "891\n",
      "2\n",
      "PPV = 0.331081\n",
      "NPV = 0.997760\n"
     ]
    }
   ],
   "source": [
    "# QRILC\n",
    "eatomics_up = pd.read_excel(\"./Eatomics_10-1_QRILC.csv\", sheet_name=\"Upregulated.Proteins\")\n",
    "eatomics_down = pd.read_excel(\"./Eatomics_10-1_QRILC.csv\", sheet_name=\"Downregulated.Proteins\")\n",
    "eatomics = pd.concat([eatomics_up, eatomics_down])\n",
    "\n",
    "eatomics.dropna(subset=[\"adj.P.Val\", \"logFC\"], how=\"any\", inplace=True)\n",
    "positive =  eatomics[(abs(eatomics[\"logFC\"]) >1) &(eatomics[\"adj.P.Val\"] <0.05) ]\n",
    "negative = eatomics[(abs(eatomics[\"logFC\"]) <=1) | (eatomics[\"adj.P.Val\"] >=0.05) ]\n",
    "\n",
    "\n",
    "TP = len(positive[positive[\"Majority protein IDs\"].str.contains(\"YEAST\")])\n",
    "FP = len(positive) - TP\n",
    "\n",
    "FN = len(negative[negative[\"Majority protein IDs\"].str.contains(\"YEAST\")])\n",
    "TN = len(negative) - FN\n",
    "\n",
    "print(TP)\n",
    "print(FP)\n",
    "print(TN)\n",
    "print(FN)\n",
    "\n",
    "print(\"PPV = %.6f\" % (TP / (TP + FP)))\n",
    "print(\"NPV = %.6f\" % (TN / (TN + FN)))"
   ]
  },
  {
   "cell_type": "code",
   "execution_count": null,
   "metadata": {},
   "outputs": [],
   "source": []
  }
 ],
 "metadata": {
  "kernelspec": {
   "display_name": "douer(base)",
   "language": "python",
   "name": "base"
  },
  "language_info": {
   "codemirror_mode": {
    "name": "ipython",
    "version": 3
   },
   "file_extension": ".py",
   "mimetype": "text/x-python",
   "name": "python",
   "nbconvert_exporter": "python",
   "pygments_lexer": "ipython3",
   "version": "3.7.6"
  }
 },
 "nbformat": 4,
 "nbformat_minor": 4
}
