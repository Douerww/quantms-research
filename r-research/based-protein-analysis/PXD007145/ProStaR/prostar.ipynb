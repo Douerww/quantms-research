{
 "cells": [
  {
   "cell_type": "code",
   "execution_count": 1,
   "metadata": {},
   "outputs": [],
   "source": [
    "import pandas as pd"
   ]
  },
  {
   "cell_type": "markdown",
   "metadata": {},
   "source": [
    "# 4-1"
   ]
  },
  {
   "cell_type": "code",
   "execution_count": 3,
   "metadata": {},
   "outputs": [
    {
     "name": "stdout",
     "output_type": "stream",
     "text": [
      "304\n",
      "253\n",
      "3669\n",
      "1295\n",
      "PPV = 0.545781\n",
      "NPV = 0.739122\n"
     ]
    }
   ],
   "source": [
    "# GQA\n",
    "ProStaR = pd.read_excel(\"./prostar-(DQ - GQA)-anaDiff_fold1_vs_fold4.xlsx\", header=0)\n",
    "ProStaR = ProStaR[-ProStaR[\"Protein_IDs\"].str.contains(\"CON_|REV_\")]\n",
    "ProStaR.dropna(subset=[\"logFC (fold1_vs_fold4)\", \"P_Value (fold1_vs_fold4)\"], how=\"any\", inplace=True)\n",
    "\n",
    "positive =  ProStaR[(abs(ProStaR[\"logFC (fold1_vs_fold4)\"]) >1) &(ProStaR[\"P_Value (fold1_vs_fold4)\"] <0.05) ]\n",
    "negative = ProStaR[(abs(ProStaR[\"logFC (fold1_vs_fold4)\"]) <=1) | (ProStaR[\"P_Value (fold1_vs_fold4)\"] >=0.05) ]\n",
    "\n",
    "TP = len(positive[positive[\"Protein_IDs\"].str.contains(\"YEAST\")])\n",
    "FP = len(positive) - TP\n",
    "\n",
    "FN = len(negative[negative[\"Protein_IDs\"].str.contains(\"YEAST\")])\n",
    "TN = len(negative) - FN\n",
    "\n",
    "print(TP)\n",
    "print(FP)\n",
    "print(TN)\n",
    "print(FN)\n",
    "\n",
    "print(\"PPV = %.6f\" % (TP / (TP + FP)))\n",
    "print(\"NPV = %.6f\" % (TN / (TN + FN)))"
   ]
  },
  {
   "cell_type": "code",
   "execution_count": 4,
   "metadata": {},
   "outputs": [
    {
     "name": "stdout",
     "output_type": "stream",
     "text": [
      "272\n",
      "477\n",
      "3445\n",
      "1327\n",
      "PPV = 0.363151\n",
      "NPV = 0.721920\n"
     ]
    }
   ],
   "source": [
    "# NN\n",
    "ProStaR = pd.read_excel(\"./prostar-(DQ - NN)-anaDiff_fold1_vs_fold4.xlsx\", header=0)\n",
    "ProStaR = ProStaR[-ProStaR[\"Protein_IDs\"].str.contains(\"CON_|REV_\")]\n",
    "ProStaR.dropna(subset=[\"logFC (fold1_vs_fold4)\", \"P_Value (fold1_vs_fold4)\"], how=\"any\", inplace=True)\n",
    "\n",
    "positive =  ProStaR[(abs(ProStaR[\"logFC (fold1_vs_fold4)\"]) >1) &(ProStaR[\"P_Value (fold1_vs_fold4)\"] <0.05) ]\n",
    "negative = ProStaR[(abs(ProStaR[\"logFC (fold1_vs_fold4)\"]) <=1) | (ProStaR[\"P_Value (fold1_vs_fold4)\"] >=0.05) ]\n",
    "\n",
    "TP = len(positive[positive[\"Protein_IDs\"].str.contains(\"YEAST\")])\n",
    "FP = len(positive) - TP\n",
    "\n",
    "FN = len(negative[negative[\"Protein_IDs\"].str.contains(\"YEAST\")])\n",
    "TN = len(negative) - FN\n",
    "\n",
    "print(TP)\n",
    "print(FP)\n",
    "print(TN)\n",
    "print(FN)\n",
    "\n",
    "print(\"PPV = %.6f\" % (TP / (TP + FP)))\n",
    "print(\"NPV = %.6f\" % (TN / (TN + FN)))"
   ]
  },
  {
   "cell_type": "markdown",
   "metadata": {},
   "source": [
    "# 10-1"
   ]
  },
  {
   "cell_type": "code",
   "execution_count": 5,
   "metadata": {},
   "outputs": [
    {
     "name": "stdout",
     "output_type": "stream",
     "text": [
      "504\n",
      "383\n",
      "3539\n",
      "1095\n",
      "PPV = 0.568207\n",
      "NPV = 0.763703\n"
     ]
    }
   ],
   "source": [
    "# GQA\n",
    "ProStaR = pd.read_excel(\"./prostar-(DQ - GQA)-anaDiff_fold1_vs_fold10.xlsx\", header=0)\n",
    "ProStaR = ProStaR[-ProStaR[\"Protein_IDs\"].str.contains(\"CON_|REV_\")]\n",
    "ProStaR.dropna(subset=[\"logFC (fold1_vs_fold10)\", \"P_Value (fold1_vs_fold10)\"], how=\"any\", inplace=True)\n",
    "\n",
    "positive =  ProStaR[(abs(ProStaR[\"logFC (fold1_vs_fold10)\"]) >1) &(ProStaR[\"P_Value (fold1_vs_fold10)\"] <0.05) ]\n",
    "negative = ProStaR[(abs(ProStaR[\"logFC (fold1_vs_fold10)\"]) <=1) | (ProStaR[\"P_Value (fold1_vs_fold10)\"] >=0.05) ]\n",
    "\n",
    "TP = len(positive[positive[\"Protein_IDs\"].str.contains(\"YEAST\")])\n",
    "FP = len(positive) - TP\n",
    "\n",
    "FN = len(negative[negative[\"Protein_IDs\"].str.contains(\"YEAST\")])\n",
    "TN = len(negative) - FN\n",
    "\n",
    "print(TP)\n",
    "print(FP)\n",
    "print(TN)\n",
    "print(FN)\n",
    "\n",
    "print(\"PPV = %.6f\" % (TP / (TP + FP)))\n",
    "print(\"NPV = %.6f\" % (TN / (TN + FN)))"
   ]
  },
  {
   "cell_type": "code",
   "execution_count": 6,
   "metadata": {},
   "outputs": [
    {
     "name": "stdout",
     "output_type": "stream",
     "text": [
      "488\n",
      "467\n",
      "3455\n",
      "1111\n",
      "PPV = 0.510995\n",
      "NPV = 0.756680\n"
     ]
    }
   ],
   "source": [
    "# NN\n",
    "ProStaR = pd.read_excel(\"./prostar-(DQ - NN)-anaDiff_fold1_vs_fold10.xlsx\", header=0)\n",
    "ProStaR = ProStaR[-ProStaR[\"Protein_IDs\"].str.contains(\"CON_|REV_\")]\n",
    "ProStaR.dropna(subset=[\"logFC (fold1_vs_fold10)\", \"P_Value (fold1_vs_fold10)\"], how=\"any\", inplace=True)\n",
    "\n",
    "positive =  ProStaR[(abs(ProStaR[\"logFC (fold1_vs_fold10)\"]) >1) &(ProStaR[\"P_Value (fold1_vs_fold10)\"] <0.05) ]\n",
    "negative = ProStaR[(abs(ProStaR[\"logFC (fold1_vs_fold10)\"]) <=1) | (ProStaR[\"P_Value (fold1_vs_fold10)\"] >=0.05) ]\n",
    "\n",
    "TP = len(positive[positive[\"Protein_IDs\"].str.contains(\"YEAST\")])\n",
    "FP = len(positive) - TP\n",
    "\n",
    "FN = len(negative[negative[\"Protein_IDs\"].str.contains(\"YEAST\")])\n",
    "TN = len(negative) - FN\n",
    "\n",
    "print(TP)\n",
    "print(FP)\n",
    "print(TN)\n",
    "print(FN)\n",
    "\n",
    "print(\"PPV = %.6f\" % (TP / (TP + FP)))\n",
    "print(\"NPV = %.6f\" % (TN / (TN + FN)))"
   ]
  },
  {
   "cell_type": "code",
   "execution_count": null,
   "metadata": {},
   "outputs": [],
   "source": []
  }
 ],
 "metadata": {
  "kernelspec": {
   "display_name": "douer(base)",
   "language": "python",
   "name": "base"
  },
  "language_info": {
   "codemirror_mode": {
    "name": "ipython",
    "version": 3
   },
   "file_extension": ".py",
   "mimetype": "text/x-python",
   "name": "python",
   "nbconvert_exporter": "python",
   "pygments_lexer": "ipython3",
   "version": "3.7.6"
  }
 },
 "nbformat": 4,
 "nbformat_minor": 4
}
