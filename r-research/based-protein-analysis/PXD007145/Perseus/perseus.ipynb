{
 "cells": [
  {
   "cell_type": "code",
   "execution_count": 1,
   "metadata": {},
   "outputs": [],
   "source": [
    "import pandas as pd"
   ]
  },
  {
   "cell_type": "markdown",
   "metadata": {},
   "source": [
    "# 4-1"
   ]
  },
  {
   "cell_type": "code",
   "execution_count": 2,
   "metadata": {},
   "outputs": [
    {
     "name": "stdout",
     "output_type": "stream",
     "text": [
      "89\n",
      "26\n",
      "1322\n",
      "34\n",
      "PPV = 0.773913\n",
      "NPV = 0.974926\n"
     ]
    }
   ],
   "source": [
    "# NaN\n",
    "perseus = pd.read_csv(\"./perseus-NaN_4-1.txt\", header=0, sep=\"\\t\")\n",
    "perseus.dropna(subset=[\"Student's T-test Difference fold4_fold1\", \"Student's T-test q-value fold4_fold1\"], how=\"any\", inplace=True)\n",
    "positive =  perseus[(abs(perseus[\"Student's T-test Difference fold4_fold1\"]) >1) &(perseus[\"Student's T-test q-value fold4_fold1\"] <0.05) ]\n",
    "negative = perseus[(abs(perseus[\"Student's T-test Difference fold4_fold1\"]) <=1) | (perseus[\"Student's T-test q-value fold4_fold1\"] >=0.05) ]\n",
    "\n",
    "TP = len(positive[positive[\"Majority protein IDs\"].str.contains(\"YEAST\")])\n",
    "FP = len(positive) - TP\n",
    "\n",
    "FN = len(negative[negative[\"Majority protein IDs\"].str.contains(\"YEAST\")])\n",
    "TN = len(negative) - FN\n",
    "\n",
    "print(TP)\n",
    "print(FP)\n",
    "print(TN)\n",
    "print(FN)\n",
    "\n",
    "print(\"PPV = %.6f\" % (TP / (TP + FP)))\n",
    "print(\"NPV = %.6f\" % (TN / (TN + FN)))"
   ]
  },
  {
   "cell_type": "code",
   "execution_count": 9,
   "metadata": {},
   "outputs": [
    {
     "name": "stdout",
     "output_type": "stream",
     "text": [
      "107\n",
      "74\n",
      "1286\n",
      "16\n",
      "PPV = 0.591160\n",
      "NPV = 0.987711\n"
     ]
    }
   ],
   "source": [
    "# GD\n",
    "perseus = pd.read_csv(\"./perseus-GD_4-1.txt\", header=0, sep=\"\\t\")\n",
    "perseus.dropna(subset=[\"Student's T-test Difference fold4_fold1\", \"Student's T-test q-value fold4_fold1\"], how=\"any\", inplace=True)\n",
    "positive =  perseus[(abs(perseus[\"Student's T-test Difference fold4_fold1\"]) >1) &(perseus[\"Student's T-test q-value fold4_fold1\"] <0.05) ]\n",
    "negative = perseus[(abs(perseus[\"Student's T-test Difference fold4_fold1\"]) <=1) | (perseus[\"Student's T-test q-value fold4_fold1\"] >=0.05) ]\n",
    "\n",
    "TP = len(positive[positive[\"Majority protein IDs\"].str.contains(\"YEAST\")])\n",
    "FP = len(positive) - TP\n",
    "\n",
    "FN = len(negative[negative[\"Majority protein IDs\"].str.contains(\"YEAST\")])\n",
    "TN = len(negative) - FN\n",
    "\n",
    "print(TP)\n",
    "print(FP)\n",
    "print(TN)\n",
    "print(FN)\n",
    "\n",
    "print(\"PPV = %.6f\" % (TP / (TP + FP)))\n",
    "print(\"NPV = %.6f\" % (TN / (TN + FN)))"
   ]
  },
  {
   "cell_type": "code",
   "execution_count": 5,
   "metadata": {},
   "outputs": [
    {
     "name": "stdout",
     "output_type": "stream",
     "text": [
      "159\n",
      "84\n",
      "1283\n",
      "67\n",
      "PPV = 0.654321\n",
      "NPV = 0.950370\n"
     ]
    }
   ],
   "source": [
    "# zero\n",
    "perseus = pd.read_csv(\"./perseus-zero_4-1.txt\", header=0, sep=\"\\t\")\n",
    "perseus.dropna(subset=[\"Student's T-test Difference fold4_fold1\", \"Student's T-test q-value fold4_fold1\"], how=\"any\", inplace=True)\n",
    "positive =  perseus[(abs(perseus[\"Student's T-test Difference fold4_fold1\"]) >1) &(perseus[\"Student's T-test q-value fold4_fold1\"] <0.05) ]\n",
    "negative = perseus[(abs(perseus[\"Student's T-test Difference fold4_fold1\"]) <=1) | (perseus[\"Student's T-test q-value fold4_fold1\"] >=0.05) ]\n",
    "\n",
    "TP = len(positive[positive[\"Majority protein IDs\"].str.contains(\"YEAST\")])\n",
    "FP = len(positive) - TP\n",
    "\n",
    "FN = len(negative[negative[\"Majority protein IDs\"].str.contains(\"YEAST\")])\n",
    "TN = len(negative) - FN\n",
    "\n",
    "print(TP)\n",
    "print(FP)\n",
    "print(TN)\n",
    "print(FN)\n",
    "\n",
    "print(\"PPV = %.6f\" % (TP / (TP + FP)))\n",
    "print(\"NPV = %.6f\" % (TN / (TN + FN)))"
   ]
  },
  {
   "cell_type": "markdown",
   "metadata": {},
   "source": [
    "# 10-1"
   ]
  },
  {
   "cell_type": "code",
   "execution_count": 10,
   "metadata": {},
   "outputs": [
    {
     "name": "stdout",
     "output_type": "stream",
     "text": [
      "96\n",
      "102\n",
      "1108\n",
      "29\n",
      "PPV = 0.484848\n",
      "NPV = 0.974494\n"
     ]
    }
   ],
   "source": [
    "# NaN\n",
    "perseus = pd.read_csv(\"./perseus-NaN_10-1.txt\", header=0, sep=\"\\t\")\n",
    "perseus.dropna(subset=[\"Student's T-test Difference fold10_fold1\", \"Student's T-test q-value fold10_fold1\"], how=\"any\", inplace=True)\n",
    "positive =  perseus[(abs(perseus[\"Student's T-test Difference fold10_fold1\"]) >1) &(perseus[\"Student's T-test q-value fold10_fold1\"] <0.05) ]\n",
    "negative = perseus[(abs(perseus[\"Student's T-test Difference fold10_fold1\"]) <=1) | (perseus[\"Student's T-test q-value fold10_fold1\"] >=0.05) ]\n",
    "\n",
    "TP = len(positive[positive[\"Majority protein IDs\"].str.contains(\"YEAST\")])\n",
    "FP = len(positive) - TP\n",
    "\n",
    "FN = len(negative[negative[\"Majority protein IDs\"].str.contains(\"YEAST\")])\n",
    "TN = len(negative) - FN\n",
    "\n",
    "print(TP)\n",
    "print(FP)\n",
    "print(TN)\n",
    "print(FN)\n",
    "\n",
    "print(\"PPV = %.6f\" % (TP / (TP + FP)))\n",
    "print(\"NPV = %.6f\" % (TN / (TN + FN)))"
   ]
  },
  {
   "cell_type": "code",
   "execution_count": 7,
   "metadata": {},
   "outputs": [
    {
     "name": "stdout",
     "output_type": "stream",
     "text": [
      "82\n",
      "279\n",
      "1157\n",
      "6\n",
      "PPV = 0.227147\n",
      "NPV = 0.994841\n"
     ]
    }
   ],
   "source": [
    "# GD\n",
    "perseus = pd.read_csv(\"./perseus-GD_10-1.txt\", header=0, sep=\"\\t\")\n",
    "perseus.dropna(subset=[\"Student's T-test Difference fold10_fold1\", \"Student's T-test q-value fold10_fold1\"], how=\"any\", inplace=True)\n",
    "positive =  perseus[(abs(perseus[\"Student's T-test Difference fold10_fold1\"]) >1) &(perseus[\"Student's T-test q-value fold10_fold1\"] <0.05) ]\n",
    "negative = perseus[(abs(perseus[\"Student's T-test Difference fold10_fold1\"]) <=1) | (perseus[\"Student's T-test q-value fold10_fold1\"] >=0.05) ]\n",
    "\n",
    "TP = len(positive[positive[\"Majority protein IDs\"].str.contains(\"YEAST\")])\n",
    "FP = len(positive) - TP\n",
    "\n",
    "FN = len(negative[negative[\"Majority protein IDs\"].str.contains(\"YEAST\")])\n",
    "TN = len(negative) - FN\n",
    "\n",
    "print(TP)\n",
    "print(FP)\n",
    "print(TN)\n",
    "print(FN)\n",
    "\n",
    "print(\"PPV = %.6f\" % (TP / (TP + FP)))\n",
    "print(\"NPV = %.6f\" % (TN / (TN + FN)))"
   ]
  },
  {
   "cell_type": "code",
   "execution_count": 8,
   "metadata": {},
   "outputs": [
    {
     "name": "stdout",
     "output_type": "stream",
     "text": [
      "314\n",
      "180\n",
      "1084\n",
      "51\n",
      "PPV = 0.635628\n",
      "NPV = 0.955066\n"
     ]
    }
   ],
   "source": [
    "# zero\n",
    "perseus = pd.read_csv(\"./perseus-zero_10-1.txt\", header=0, sep=\"\\t\")\n",
    "perseus.dropna(subset=[\"Student's T-test Difference fold10_fold1\", \"Student's T-test q-value fold10_fold1\"], how=\"any\", inplace=True)\n",
    "positive =  perseus[(abs(perseus[\"Student's T-test Difference fold10_fold1\"]) >1) &(perseus[\"Student's T-test q-value fold10_fold1\"] <0.05) ]\n",
    "negative = perseus[(abs(perseus[\"Student's T-test Difference fold10_fold1\"]) <=1) | (perseus[\"Student's T-test q-value fold10_fold1\"] >=0.05) ]\n",
    "\n",
    "TP = len(positive[positive[\"Majority protein IDs\"].str.contains(\"YEAST\")])\n",
    "FP = len(positive) - TP\n",
    "\n",
    "FN = len(negative[negative[\"Majority protein IDs\"].str.contains(\"YEAST\")])\n",
    "TN = len(negative) - FN\n",
    "\n",
    "print(TP)\n",
    "print(FP)\n",
    "print(TN)\n",
    "print(FN)\n",
    "\n",
    "print(\"PPV = %.6f\" % (TP / (TP + FP)))\n",
    "print(\"NPV = %.6f\" % (TN / (TN + FN)))"
   ]
  },
  {
   "cell_type": "code",
   "execution_count": null,
   "metadata": {},
   "outputs": [],
   "source": []
  }
 ],
 "metadata": {
  "kernelspec": {
   "display_name": "douer(base)",
   "language": "python",
   "name": "base"
  },
  "language_info": {
   "codemirror_mode": {
    "name": "ipython",
    "version": 3
   },
   "file_extension": ".py",
   "mimetype": "text/x-python",
   "name": "python",
   "nbconvert_exporter": "python",
   "pygments_lexer": "ipython3",
   "version": "3.7.6"
  }
 },
 "nbformat": 4,
 "nbformat_minor": 4
}
