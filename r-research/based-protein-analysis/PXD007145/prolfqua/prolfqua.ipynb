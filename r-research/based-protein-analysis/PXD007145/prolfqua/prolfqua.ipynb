{
 "cells": [
  {
   "cell_type": "code",
   "execution_count": 4,
   "metadata": {},
   "outputs": [],
   "source": [
    "import pandas as pd"
   ]
  },
  {
   "cell_type": "code",
   "execution_count": 1,
   "metadata": {},
   "outputs": [],
   "source": [
    "# NN"
   ]
  },
  {
   "cell_type": "markdown",
   "metadata": {},
   "source": [
    "# 4-1"
   ]
  },
  {
   "cell_type": "code",
   "execution_count": 4,
   "metadata": {},
   "outputs": [
    {
     "name": "stdout",
     "output_type": "stream",
     "text": [
      "539\n",
      "259\n",
      "1884\n",
      "174\n",
      "PPV = 0.675439\n",
      "NPV = 0.915452\n"
     ]
    }
   ],
   "source": [
    "WaldTest_moderated = pd.read_csv(\"./prolfqua-WaldTest_moderated_4-1.csv\", header=0, sep=\",\", index_col=0)\n",
    "WaldTest_moderated.dropna(subset=[\"diff\", \"p.value\"], how=\"any\", inplace=True)\n",
    "WaldTest_moderated = WaldTest_moderated[-WaldTest_moderated[\"protein_Id\"].str.contains(\"CON_\")]\n",
    "WaldTest_moderated = WaldTest_moderated[-WaldTest_moderated[\"protein_Id\"].str.contains(\"REV_\")]\n",
    "positive =  WaldTest_moderated[(abs(WaldTest_moderated[\"diff\"]) >1) &(WaldTest_moderated[\"FDR\"] <0.05) ]\n",
    "negative = WaldTest_moderated[(abs(WaldTest_moderated[\"diff\"]) <=1) | (WaldTest_moderated[\"FDR\"] >=0.05) ]\n",
    "\n",
    "TP = len(positive[positive[\"protein_Id\"].str.contains(\"YEAST\")])\n",
    "FP = len(positive) - TP\n",
    "\n",
    "FN = len(negative[negative[\"protein_Id\"].str.contains(\"YEAST\")])\n",
    "TN = len(negative) - FN\n",
    "\n",
    "print(TP)\n",
    "print(FP)\n",
    "print(TN)\n",
    "print(FN)\n",
    "\n",
    "print(\"PPV = %.6f\" % (TP / (TP + FP)))\n",
    "print(\"NPV = %.6f\" % (TN / (TN + FN)))"
   ]
  },
  {
   "cell_type": "markdown",
   "metadata": {},
   "source": [
    "# 10-1"
   ]
  },
  {
   "cell_type": "code",
   "execution_count": 5,
   "metadata": {},
   "outputs": [
    {
     "name": "stdout",
     "output_type": "stream",
     "text": [
      "356\n",
      "507\n",
      "1513\n",
      "39\n",
      "PPV = 0.412514\n",
      "NPV = 0.974871\n"
     ]
    }
   ],
   "source": [
    "WaldTest_moderated = pd.read_csv(\"./prolfqua-WaldTest_moderated_10-1.csv\", header=0, sep=\",\", index_col=0)\n",
    "WaldTest_moderated.dropna(subset=[\"diff\", \"p.value\"], how=\"any\", inplace=True)\n",
    "WaldTest_moderated = WaldTest_moderated[-WaldTest_moderated[\"protein_Id\"].str.contains(\"CON_\")]\n",
    "WaldTest_moderated = WaldTest_moderated[-WaldTest_moderated[\"protein_Id\"].str.contains(\"REV_\")]\n",
    "positive =  WaldTest_moderated[(abs(WaldTest_moderated[\"diff\"]) >1) &(WaldTest_moderated[\"FDR\"] <0.05) ]\n",
    "negative = WaldTest_moderated[(abs(WaldTest_moderated[\"diff\"]) <=1) | (WaldTest_moderated[\"FDR\"] >=0.05) ]\n",
    "\n",
    "TP = len(positive[positive[\"protein_Id\"].str.contains(\"YEAST\")])\n",
    "FP = len(positive) - TP\n",
    "\n",
    "FN = len(negative[negative[\"protein_Id\"].str.contains(\"YEAST\")])\n",
    "TN = len(negative) - FN\n",
    "\n",
    "print(TP)\n",
    "print(FP)\n",
    "print(TN)\n",
    "print(FN)\n",
    "\n",
    "print(\"PPV = %.6f\" % (TP / (TP + FP)))\n",
    "print(\"NPV = %.6f\" % (TN / (TN + FN)))"
   ]
  },
  {
   "cell_type": "code",
   "execution_count": 2,
   "metadata": {},
   "outputs": [],
   "source": [
    "#GMI"
   ]
  },
  {
   "cell_type": "markdown",
   "metadata": {},
   "source": [
    "# 4-1"
   ]
  },
  {
   "cell_type": "code",
   "execution_count": 5,
   "metadata": {},
   "outputs": [
    {
     "name": "stdout",
     "output_type": "stream",
     "text": [
      "544\n",
      "293\n",
      "1939\n",
      "267\n",
      "PPV = 0.649940\n",
      "NPV = 0.878966\n"
     ]
    }
   ],
   "source": [
    "WaldTest_moderated = pd.read_csv(\"./prolfqua-WaldTest-GMI_4-1.csv\", header=0, sep=\",\", index_col=0)\n",
    "WaldTest_moderated.dropna(subset=[\"diff\", \"p.value\"], how=\"any\", inplace=True)\n",
    "WaldTest_moderated = WaldTest_moderated[-WaldTest_moderated[\"protein_Id\"].str.contains(\"CON_\")]\n",
    "WaldTest_moderated = WaldTest_moderated[-WaldTest_moderated[\"protein_Id\"].str.contains(\"REV_\")]\n",
    "positive =  WaldTest_moderated[(abs(WaldTest_moderated[\"diff\"]) >1) &(WaldTest_moderated[\"FDR\"] <0.05) ]\n",
    "negative = WaldTest_moderated[(abs(WaldTest_moderated[\"diff\"]) <=1) | (WaldTest_moderated[\"FDR\"] >=0.05) ]\n",
    "\n",
    "TP = len(positive[positive[\"protein_Id\"].str.contains(\"YEAST\")])\n",
    "FP = len(positive) - TP\n",
    "\n",
    "FN = len(negative[negative[\"protein_Id\"].str.contains(\"YEAST\")])\n",
    "TN = len(negative) - FN\n",
    "\n",
    "print(TP)\n",
    "print(FP)\n",
    "print(TN)\n",
    "print(FN)\n",
    "\n",
    "print(\"PPV = %.6f\" % (TP / (TP + FP)))\n",
    "print(\"NPV = %.6f\" % (TN / (TN + FN)))"
   ]
  },
  {
   "cell_type": "code",
   "execution_count": 6,
   "metadata": {},
   "outputs": [
    {
     "name": "stdout",
     "output_type": "stream",
     "text": [
      "703\n",
      "611\n",
      "1621\n",
      "108\n",
      "PPV = 0.535008\n",
      "NPV = 0.937536\n"
     ]
    }
   ],
   "source": [
    "WaldTest_moderated = pd.read_csv(\"./prolfqua-WaldTest-GMI_10-1.csv\", header=0, sep=\",\", index_col=0)\n",
    "WaldTest_moderated.dropna(subset=[\"diff\", \"p.value\"], how=\"any\", inplace=True)\n",
    "WaldTest_moderated = WaldTest_moderated[-WaldTest_moderated[\"protein_Id\"].str.contains(\"CON_\")]\n",
    "WaldTest_moderated = WaldTest_moderated[-WaldTest_moderated[\"protein_Id\"].str.contains(\"REV_\")]\n",
    "positive =  WaldTest_moderated[(abs(WaldTest_moderated[\"diff\"]) >1) &(WaldTest_moderated[\"FDR\"] <0.05) ]\n",
    "negative = WaldTest_moderated[(abs(WaldTest_moderated[\"diff\"]) <=1) | (WaldTest_moderated[\"FDR\"] >=0.05) ]\n",
    "\n",
    "TP = len(positive[positive[\"protein_Id\"].str.contains(\"YEAST\")])\n",
    "FP = len(positive) - TP\n",
    "\n",
    "FN = len(negative[negative[\"protein_Id\"].str.contains(\"YEAST\")])\n",
    "TN = len(negative) - FN\n",
    "\n",
    "print(TP)\n",
    "print(FP)\n",
    "print(TN)\n",
    "print(FN)\n",
    "\n",
    "print(\"PPV = %.6f\" % (TP / (TP + FP)))\n",
    "print(\"NPV = %.6f\" % (TN / (TN + FN)))"
   ]
  },
  {
   "cell_type": "code",
   "execution_count": null,
   "metadata": {},
   "outputs": [],
   "source": []
  }
 ],
 "metadata": {
  "kernelspec": {
   "display_name": "douer(base)",
   "language": "python",
   "name": "base"
  },
  "language_info": {
   "codemirror_mode": {
    "name": "ipython",
    "version": 3
   },
   "file_extension": ".py",
   "mimetype": "text/x-python",
   "name": "python",
   "nbconvert_exporter": "python",
   "pygments_lexer": "ipython3",
   "version": "3.7.6"
  }
 },
 "nbformat": 4,
 "nbformat_minor": 4
}
