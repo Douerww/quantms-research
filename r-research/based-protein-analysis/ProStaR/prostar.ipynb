{
 "cells": [
  {
   "cell_type": "code",
   "execution_count": 14,
   "metadata": {},
   "outputs": [],
   "source": [
    "import pandas as pd"
   ]
  },
  {
   "cell_type": "code",
   "execution_count": 15,
   "metadata": {},
   "outputs": [
    {
     "name": "stdout",
     "output_type": "stream",
     "text": [
      "37\n",
      "7\n",
      "2194\n",
      "0\n"
     ]
    }
   ],
   "source": [
    "ProStaR_global_quantile_alignment_det_quantile = pd.read_excel(\"./ProStaR_normalization_global_quantile_alignment_inputation_det_quantile.xlsx\", header=0)\n",
    "ProStaR_global_quantile_alignment_det_quantile = ProStaR_global_quantile_alignment_det_quantile[-ProStaR_global_quantile_alignment_det_quantile[\"Protein_IDs\"].str.contains(\"CON_|REV_\")]\n",
    "ProStaR_global_quantile_alignment_det_quantile.dropna(subset=[\"logFC (UPS1_vs_UPS2)\", \"P_Value (UPS1_vs_UPS2)\"], how=\"any\", inplace=True)\n",
    "\n",
    "no_difference_ups = [\"P00167\", \"P01133\", \"P02144\", \"P04040\", \"P15559\", \"P62937\", \"P63165\",  \"Q06830\"]\n",
    "difference_ups =  [\"P01579\", \"O76070\", \"P63279\", \"P68871\",\"P01127\", \"P01008\", \"P62988\", \"P10599\", \"P02787\", \"P99999\", \"P12081\", \"P51965\",\"P10636-8\", \n",
    "       \"P01031\", \"P09211\", \"P02788\", \"P41159\", \"O00762\", \"P05413\", \"P00441\", \"P00918\", \"P08758\", \"P00915\", \"P01344\", \"P69905\", \n",
    "        \"P00709\", \"P55957\", \"P08263\", \"P61769\", \"P10145\", \"P16083\", \"P61626\", \"P02741\", \"P06732\",\n",
    "        \"P01375\", \"P06396\", \"P02753\", \"P01112\", \"Q15843\", \"P02768\"]\n",
    "\n",
    "positive =  ProStaR_global_quantile_alignment_det_quantile[(abs(ProStaR_global_quantile_alignment_det_quantile[\"logFC (UPS1_vs_UPS2)\"]) >1) &(ProStaR_global_quantile_alignment_det_quantile[\"P_Value (UPS1_vs_UPS2)\"] <0.05) ]\n",
    "negative = ProStaR_global_quantile_alignment_det_quantile[(abs(ProStaR_global_quantile_alignment_det_quantile[\"logFC (UPS1_vs_UPS2)\"]) <=1) | (ProStaR_global_quantile_alignment_det_quantile[\"P_Value (UPS1_vs_UPS2)\"] >=0.05) ]\n",
    "\n",
    "TP = len(positive[positive[\"Protein_IDs\"].str.contains(\"|\".join(difference_ups))])\n",
    "FP = len(positive) - TP\n",
    "\n",
    "FN = len(negative[negative[\"Protein_IDs\"].str.contains(\"|\".join(difference_ups))])\n",
    "TN = len(negative) - FN\n",
    "\n",
    "print(TP)\n",
    "print(FP)\n",
    "print(TN)\n",
    "print(FN)"
   ]
  },
  {
   "cell_type": "code",
   "execution_count": 12,
   "metadata": {},
   "outputs": [
    {
     "data": {
      "text/html": [
       "<div>\n",
       "<style scoped>\n",
       "    .dataframe tbody tr th:only-of-type {\n",
       "        vertical-align: middle;\n",
       "    }\n",
       "\n",
       "    .dataframe tbody tr th {\n",
       "        vertical-align: top;\n",
       "    }\n",
       "\n",
       "    .dataframe thead th {\n",
       "        text-align: right;\n",
       "    }\n",
       "</style>\n",
       "<table border=\"1\" class=\"dataframe\">\n",
       "  <thead>\n",
       "    <tr style=\"text-align: right;\">\n",
       "      <th></th>\n",
       "      <th>id</th>\n",
       "      <th>logFC (UPS1_vs_UPS2)</th>\n",
       "      <th>P_Value (UPS1_vs_UPS2)</th>\n",
       "      <th>isDifferential (UPS1_vs_UPS2)</th>\n",
       "      <th>Protein_IDs</th>\n",
       "    </tr>\n",
       "  </thead>\n",
       "  <tbody>\n",
       "    <tr>\n",
       "      <th>38</th>\n",
       "      <td>P02144ups|MYG_HUMAN_UPS</td>\n",
       "      <td>1.190727</td>\n",
       "      <td>0.001736</td>\n",
       "      <td>1</td>\n",
       "      <td>P02144ups|MYG_HUMAN_UPS</td>\n",
       "    </tr>\n",
       "    <tr>\n",
       "      <th>54</th>\n",
       "      <td>P15559ups|NQO1_HUMAN_UPS</td>\n",
       "      <td>1.129932</td>\n",
       "      <td>0.000013</td>\n",
       "      <td>1</td>\n",
       "      <td>P15559ups|NQO1_HUMAN_UPS</td>\n",
       "    </tr>\n",
       "    <tr>\n",
       "      <th>63</th>\n",
       "      <td>P63165ups|SUMO1_HUMAN_UPS</td>\n",
       "      <td>1.020949</td>\n",
       "      <td>0.000015</td>\n",
       "      <td>1</td>\n",
       "      <td>P63165ups|SUMO1_HUMAN_UPS</td>\n",
       "    </tr>\n",
       "    <tr>\n",
       "      <th>705</th>\n",
       "      <td>sp|P0AAJ3|FDNH_ECOLI</td>\n",
       "      <td>-1.040692</td>\n",
       "      <td>0.024210</td>\n",
       "      <td>1</td>\n",
       "      <td>sp|P0AAJ3|FDNH_ECOLI</td>\n",
       "    </tr>\n",
       "    <tr>\n",
       "      <th>887</th>\n",
       "      <td>sp|P0ACZ8|CUSR_ECOLI</td>\n",
       "      <td>-1.000802</td>\n",
       "      <td>0.002156</td>\n",
       "      <td>1</td>\n",
       "      <td>sp|P0ACZ8|CUSR_ECOLI</td>\n",
       "    </tr>\n",
       "    <tr>\n",
       "      <th>894</th>\n",
       "      <td>sp|P0AD21|YEJG_ECOLI</td>\n",
       "      <td>-1.172176</td>\n",
       "      <td>0.015430</td>\n",
       "      <td>1</td>\n",
       "      <td>sp|P0AD21|YEJG_ECOLI</td>\n",
       "    </tr>\n",
       "    <tr>\n",
       "      <th>1654</th>\n",
       "      <td>sp|P37024|HRPB_ECOLI</td>\n",
       "      <td>-1.516888</td>\n",
       "      <td>0.000769</td>\n",
       "      <td>1</td>\n",
       "      <td>sp|P37024|HRPB_ECOLI</td>\n",
       "    </tr>\n",
       "    <tr>\n",
       "      <th>1731</th>\n",
       "      <td>sp|P38104|RSPA_ECOLI</td>\n",
       "      <td>-1.114262</td>\n",
       "      <td>0.001834</td>\n",
       "      <td>1</td>\n",
       "      <td>sp|P38104|RSPA_ECOLI</td>\n",
       "    </tr>\n",
       "  </tbody>\n",
       "</table>\n",
       "</div>"
      ],
      "text/plain": [
       "                             id  logFC (UPS1_vs_UPS2)  P_Value (UPS1_vs_UPS2)  \\\n",
       "38      P02144ups|MYG_HUMAN_UPS              1.190727                0.001736   \n",
       "54     P15559ups|NQO1_HUMAN_UPS              1.129932                0.000013   \n",
       "63    P63165ups|SUMO1_HUMAN_UPS              1.020949                0.000015   \n",
       "705        sp|P0AAJ3|FDNH_ECOLI             -1.040692                0.024210   \n",
       "887        sp|P0ACZ8|CUSR_ECOLI             -1.000802                0.002156   \n",
       "894        sp|P0AD21|YEJG_ECOLI             -1.172176                0.015430   \n",
       "1654       sp|P37024|HRPB_ECOLI             -1.516888                0.000769   \n",
       "1731       sp|P38104|RSPA_ECOLI             -1.114262                0.001834   \n",
       "\n",
       "      isDifferential (UPS1_vs_UPS2)                Protein_IDs  \n",
       "38                                1    P02144ups|MYG_HUMAN_UPS  \n",
       "54                                1   P15559ups|NQO1_HUMAN_UPS  \n",
       "63                                1  P63165ups|SUMO1_HUMAN_UPS  \n",
       "705                               1       sp|P0AAJ3|FDNH_ECOLI  \n",
       "887                               1       sp|P0ACZ8|CUSR_ECOLI  \n",
       "894                               1       sp|P0AD21|YEJG_ECOLI  \n",
       "1654                              1       sp|P37024|HRPB_ECOLI  \n",
       "1731                              1       sp|P38104|RSPA_ECOLI  "
      ]
     },
     "execution_count": 12,
     "metadata": {},
     "output_type": "execute_result"
    }
   ],
   "source": [
    "positive[(positive[\"Protein_IDs\"].str.contains(\"ECOLI\")) | (positive[\"Protein_IDs\"].str.contains(\"|\".join(no_difference_ups)))]"
   ]
  },
  {
   "cell_type": "code",
   "execution_count": 13,
   "metadata": {},
   "outputs": [
    {
     "name": "stdout",
     "output_type": "stream",
     "text": [
      "37\n",
      "7\n",
      "2194\n",
      "0\n"
     ]
    }
   ],
   "source": [
    "ProStaR_global_quantile_alignment_det_quantile = pd.read_excel(\"./anaDiff_UPS1_vs_UPS2.xlsx\", header=0)\n",
    "ProStaR_global_quantile_alignment_det_quantile = ProStaR_global_quantile_alignment_det_quantile[-ProStaR_global_quantile_alignment_det_quantile[\"Protein_IDs\"].str.contains(\"CON_|REV_\")]\n",
    "ProStaR_global_quantile_alignment_det_quantile.dropna(subset=[\"logFC (UPS1_vs_UPS2)\", \"P_Value (UPS1_vs_UPS2)\"], how=\"any\", inplace=True)\n",
    "\n",
    "no_difference_ups = [\"P00167\", \"P01133\", \"P02144\", \"P04040\", \"P15559\", \"P62937\", \"P63165\",  \"Q06830\"]\n",
    "difference_ups =  [\"P01579\", \"O76070\", \"P63279\", \"P68871\",\"P01127\", \"P01008\", \"P62988\", \"P10599\", \"P02787\", \"P99999\", \"P12081\", \"P51965\",\"P10636-8\", \n",
    "       \"P01031\", \"P09211\", \"P02788\", \"P41159\", \"O00762\", \"P05413\", \"P00441\", \"P00918\", \"P08758\", \"P00915\", \"P01344\", \"P69905\", \n",
    "        \"P00709\", \"P55957\", \"P08263\", \"P61769\", \"P10145\", \"P16083\", \"P61626\", \"P02741\", \"P06732\",\n",
    "        \"P01375\", \"P06396\", \"P02753\", \"P01112\", \"Q15843\", \"P02768\"]\n",
    "\n",
    "positive =  ProStaR_global_quantile_alignment_det_quantile[(abs(ProStaR_global_quantile_alignment_det_quantile[\"logFC (UPS1_vs_UPS2)\"]) >1) &(ProStaR_global_quantile_alignment_det_quantile[\"P_Value (UPS1_vs_UPS2)\"] <0.05) ]\n",
    "negative = ProStaR_global_quantile_alignment_det_quantile[(abs(ProStaR_global_quantile_alignment_det_quantile[\"logFC (UPS1_vs_UPS2)\"]) <=1) | (ProStaR_global_quantile_alignment_det_quantile[\"P_Value (UPS1_vs_UPS2)\"] >=0.05) ]\n",
    "\n",
    "TP = len(positive[positive[\"Protein_IDs\"].str.contains(\"|\".join(difference_ups))])\n",
    "FP = len(positive) - TP\n",
    "\n",
    "FN = len(negative[negative[\"Protein_IDs\"].str.contains(\"|\".join(difference_ups))])\n",
    "TN = len(negative) - FN\n",
    "\n",
    "print(TP)\n",
    "print(FP)\n",
    "print(TN)\n",
    "print(FN)"
   ]
  },
  {
   "cell_type": "code",
   "execution_count": null,
   "metadata": {},
   "outputs": [],
   "source": []
  }
 ],
 "metadata": {
  "kernelspec": {
   "display_name": "Python 3",
   "language": "python",
   "name": "python3"
  },
  "language_info": {
   "codemirror_mode": {
    "name": "ipython",
    "version": 3
   },
   "file_extension": ".py",
   "mimetype": "text/x-python",
   "name": "python",
   "nbconvert_exporter": "python",
   "pygments_lexer": "ipython3",
   "version": "3.7.8"
  }
 },
 "nbformat": 4,
 "nbformat_minor": 2
}
