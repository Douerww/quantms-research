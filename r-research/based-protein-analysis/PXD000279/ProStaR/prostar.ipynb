{
 "cells": [
  {
   "cell_type": "code",
   "execution_count": 1,
   "metadata": {},
   "outputs": [],
   "source": [
    "import pandas as pd"
   ]
  },
  {
   "cell_type": "code",
   "execution_count": 3,
   "metadata": {},
   "outputs": [
    {
     "name": "stdout",
     "output_type": "stream",
     "text": [
      "37\n",
      "7\n",
      "2194\n",
      "0\n",
      "PPV = 0.840909\n",
      "NPV = 1.000000\n"
     ]
    }
   ],
   "source": [
    "ProStaR_global_quantile_alignment_det_quantile = pd.read_excel(\"./ProStaR_normalization_global_quantile_alignment_inputation_det_quantile.xlsx\", header=0)\n",
    "ProStaR_global_quantile_alignment_det_quantile = ProStaR_global_quantile_alignment_det_quantile[-ProStaR_global_quantile_alignment_det_quantile[\"Protein_IDs\"].str.contains(\"CON_|REV_\")]\n",
    "ProStaR_global_quantile_alignment_det_quantile.dropna(subset=[\"logFC (UPS1_vs_UPS2)\", \"P_Value (UPS1_vs_UPS2)\"], how=\"any\", inplace=True)\n",
    "\n",
    "no_difference_ups = [\"P00167\", \"P01133\", \"P02144\", \"P04040\", \"P15559\", \"P62937\", \"P63165\",  \"Q06830\"]\n",
    "difference_ups =  [\"P01579\", \"O76070\", \"P63279\", \"P68871\",\"P01127\", \"P01008\", \"P62988\", \"P10599\", \"P02787\", \"P99999\", \"P12081\", \"P51965\",\"P10636-8\", \n",
    "       \"P01031\", \"P09211\", \"P02788\", \"P41159\", \"O00762\", \"P05413\", \"P00441\", \"P00918\", \"P08758\", \"P00915\", \"P01344\", \"P69905\", \n",
    "        \"P00709\", \"P55957\", \"P08263\", \"P61769\", \"P10145\", \"P16083\", \"P61626\", \"P02741\", \"P06732\",\n",
    "        \"P01375\", \"P06396\", \"P02753\", \"P01112\", \"Q15843\", \"P02768\"]\n",
    "\n",
    "positive =  ProStaR_global_quantile_alignment_det_quantile[(abs(ProStaR_global_quantile_alignment_det_quantile[\"logFC (UPS1_vs_UPS2)\"]) >1) &(ProStaR_global_quantile_alignment_det_quantile[\"P_Value (UPS1_vs_UPS2)\"] <0.05) ]\n",
    "negative = ProStaR_global_quantile_alignment_det_quantile[(abs(ProStaR_global_quantile_alignment_det_quantile[\"logFC (UPS1_vs_UPS2)\"]) <=1) | (ProStaR_global_quantile_alignment_det_quantile[\"P_Value (UPS1_vs_UPS2)\"] >=0.05) ]\n",
    "\n",
    "TP = len(positive[positive[\"Protein_IDs\"].str.contains(\"|\".join(difference_ups))])\n",
    "FP = len(positive) - TP\n",
    "\n",
    "FN = len(negative[negative[\"Protein_IDs\"].str.contains(\"|\".join(difference_ups))])\n",
    "TN = len(negative) - FN\n",
    "\n",
    "print(TP)\n",
    "print(FP)\n",
    "print(TN)\n",
    "print(FN)\n",
    "\n",
    "print(\"PPV = %.6f\" % (TP / (TP + FP)))\n",
    "print(\"NPV = %.6f\" % (TN / (TN + FN)))"
   ]
  },
  {
   "cell_type": "code",
   "execution_count": 5,
   "metadata": {},
   "outputs": [
    {
     "name": "stdout",
     "output_type": "stream",
     "text": [
      "37\n",
      "20\n",
      "2191\n",
      "0\n",
      "PPV = 0.649123\n",
      "NPV = 1.000000\n"
     ]
    }
   ],
   "source": [
    "ProStaR_global_quantile_alignment_det_quantile = pd.read_excel(\"./ProStaR_normalization_none_inputation_det_quantile.xlsx\", header=0)\n",
    "ProStaR_global_quantile_alignment_det_quantile = ProStaR_global_quantile_alignment_det_quantile[-ProStaR_global_quantile_alignment_det_quantile[\"Protein_IDs\"].str.contains(\"CON_|REV_\")]\n",
    "ProStaR_global_quantile_alignment_det_quantile.dropna(subset=[\"logFC (UPS1_vs_UPS2)\", \"P_Value (UPS1_vs_UPS2)\"], how=\"any\", inplace=True)\n",
    "\n",
    "no_difference_ups = [\"P00167\", \"P01133\", \"P02144\", \"P04040\", \"P15559\", \"P62937\", \"P63165\",  \"Q06830\"]\n",
    "difference_ups =  [\"P01579\", \"O76070\", \"P63279\", \"P68871\",\"P01127\", \"P01008\", \"P62988\", \"P10599\", \"P02787\", \"P99999\", \"P12081\", \"P51965\",\"P10636-8\", \n",
    "       \"P01031\", \"P09211\", \"P02788\", \"P41159\", \"O00762\", \"P05413\", \"P00441\", \"P00918\", \"P08758\", \"P00915\", \"P01344\", \"P69905\", \n",
    "        \"P00709\", \"P55957\", \"P08263\", \"P61769\", \"P10145\", \"P16083\", \"P61626\", \"P02741\", \"P06732\",\n",
    "        \"P01375\", \"P06396\", \"P02753\", \"P01112\", \"Q15843\", \"P02768\"]\n",
    "\n",
    "positive =  ProStaR_global_quantile_alignment_det_quantile[(abs(ProStaR_global_quantile_alignment_det_quantile[\"logFC (UPS1_vs_UPS2)\"]) >1) &(ProStaR_global_quantile_alignment_det_quantile[\"P_Value (UPS1_vs_UPS2)\"] <0.05) ]\n",
    "negative = ProStaR_global_quantile_alignment_det_quantile[(abs(ProStaR_global_quantile_alignment_det_quantile[\"logFC (UPS1_vs_UPS2)\"]) <=1) | (ProStaR_global_quantile_alignment_det_quantile[\"P_Value (UPS1_vs_UPS2)\"] >=0.05) ]\n",
    "\n",
    "TP = len(positive[positive[\"Protein_IDs\"].str.contains(\"|\".join(difference_ups))])\n",
    "FP = len(positive) - TP\n",
    "\n",
    "FN = len(negative[negative[\"Protein_IDs\"].str.contains(\"|\".join(difference_ups))])\n",
    "TN = len(negative) - FN\n",
    "\n",
    "print(TP)\n",
    "print(FP)\n",
    "print(TN)\n",
    "print(FN)\n",
    "\n",
    "print(\"PPV = %.6f\" % (TP / (TP + FP)))\n",
    "print(\"NPV = %.6f\" % (TN / (TN + FN)))"
   ]
  },
  {
   "cell_type": "code",
   "execution_count": null,
   "metadata": {},
   "outputs": [],
   "source": []
  }
 ],
 "metadata": {
  "kernelspec": {
   "display_name": "douer(base)",
   "language": "python",
   "name": "base"
  },
  "language_info": {
   "codemirror_mode": {
    "name": "ipython",
    "version": 3
   },
   "file_extension": ".py",
   "mimetype": "text/x-python",
   "name": "python",
   "nbconvert_exporter": "python",
   "pygments_lexer": "ipython3",
   "version": "3.7.6"
  }
 },
 "nbformat": 4,
 "nbformat_minor": 4
}
