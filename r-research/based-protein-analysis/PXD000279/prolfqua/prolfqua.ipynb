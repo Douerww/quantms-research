{
 "cells": [
  {
   "cell_type": "code",
   "execution_count": 1,
   "metadata": {},
   "outputs": [],
   "source": [
    "import pandas as pd"
   ]
  },
  {
   "cell_type": "code",
   "execution_count": 2,
   "metadata": {},
   "outputs": [
    {
     "name": "stdout",
     "output_type": "stream",
     "text": [
      "35\n",
      "4\n",
      "2096\n",
      "1\n",
      "PPV = 0.897436\n",
      "NPV = 0.999523\n"
     ]
    }
   ],
   "source": [
    "# NN\n",
    "WaldTest_moderated = pd.read_csv(\"./prolfqua-WaldTest_moderated.csv\", header=0, sep=\",\", index_col=0)\n",
    "WaldTest_moderated.dropna(subset=[\"diff\", \"p.value\"], how=\"any\", inplace=True)\n",
    "WaldTest_moderated = WaldTest_moderated[-WaldTest_moderated[\"protein_Id\"].str.contains(\"CON_\")]\n",
    "WaldTest_moderated = WaldTest_moderated[-WaldTest_moderated[\"protein_Id\"].str.contains(\"REV_\")]\n",
    "positive =  WaldTest_moderated[(abs(WaldTest_moderated[\"diff\"]) >1) &(WaldTest_moderated[\"FDR\"] <0.05) ]\n",
    "negative = WaldTest_moderated[(abs(WaldTest_moderated[\"diff\"]) <=1) | (WaldTest_moderated[\"FDR\"] >=0.05) ]\n",
    "\n",
    "no_difference_ups = [\"P00167\", \"P01133\", \"P02144\", \"P04040\", \"P15559\", \"P62937\", \"P63165\",  \"Q06830\"]\n",
    "difference_ups =  [\"P01579\", \"O76070\", \"P63279\", \"P68871\",\"P01127\", \"P01008\", \"P62988\", \"P10599\", \"P02787\", \"P99999\", \"P12081\", \"P51965\",\"P10636-8\", \n",
    "       \"P01031\", \"P09211\", \"P02788\", \"P41159\", \"O00762\", \"P05413\", \"P00441\", \"P00918\", \"P08758\", \"P00915\", \"P01344\", \"P69905\", \n",
    "        \"P00709\", \"P55957\", \"P08263\", \"P61769\", \"P10145\", \"P16083\", \"P61626\", \"P02741\", \"P06732\",\n",
    "        \"P01375\", \"P06396\", \"P02753\", \"P01112\", \"Q15843\", \"P02768\"]\n",
    "\n",
    "TP = len(positive[positive[\"protein_Id\"].str.contains(\"|\".join(difference_ups))])\n",
    "FP = len(positive) - TP\n",
    "\n",
    "FN = len(negative[negative[\"protein_Id\"].str.contains(\"|\".join(difference_ups))])\n",
    "TN = len(negative) - FN\n",
    "\n",
    "print(TP)\n",
    "print(FP)\n",
    "print(TN)\n",
    "print(FN)\n",
    "\n",
    "print(\"PPV = %.6f\" % (TP / (TP + FP)))\n",
    "print(\"NPV = %.6f\" % (TN / (TN + FN)))"
   ]
  },
  {
   "cell_type": "code",
   "execution_count": 3,
   "metadata": {},
   "outputs": [
    {
     "name": "stdout",
     "output_type": "stream",
     "text": [
      "39\n",
      "4\n",
      "2099\n",
      "1\n",
      "PPV = 0.906977\n",
      "NPV = 0.999524\n"
     ]
    }
   ],
   "source": [
    "# GMI\n",
    "WaldTest_moderated = pd.read_csv(\"./prolfqua-WaldTest-GMI.csv\", header=0, sep=\",\", index_col=0)\n",
    "WaldTest_moderated.dropna(subset=[\"diff\", \"p.value\"], how=\"any\", inplace=True)\n",
    "WaldTest_moderated = WaldTest_moderated[-WaldTest_moderated[\"protein_Id\"].str.contains(\"CON_\")]\n",
    "WaldTest_moderated = WaldTest_moderated[-WaldTest_moderated[\"protein_Id\"].str.contains(\"REV_\")]\n",
    "positive =  WaldTest_moderated[(abs(WaldTest_moderated[\"diff\"]) >1) &(WaldTest_moderated[\"FDR\"] <0.05) ]\n",
    "negative = WaldTest_moderated[(abs(WaldTest_moderated[\"diff\"]) <=1) | (WaldTest_moderated[\"FDR\"] >=0.05) ]\n",
    "\n",
    "no_difference_ups = [\"P00167\", \"P01133\", \"P02144\", \"P04040\", \"P15559\", \"P62937\", \"P63165\",  \"Q06830\"]\n",
    "difference_ups =  [\"P01579\", \"O76070\", \"P63279\", \"P68871\",\"P01127\", \"P01008\", \"P62988\", \"P10599\", \"P02787\", \"P99999\", \"P12081\", \"P51965\",\"P10636-8\", \n",
    "       \"P01031\", \"P09211\", \"P02788\", \"P41159\", \"O00762\", \"P05413\", \"P00441\", \"P00918\", \"P08758\", \"P00915\", \"P01344\", \"P69905\", \n",
    "        \"P00709\", \"P55957\", \"P08263\", \"P61769\", \"P10145\", \"P16083\", \"P61626\", \"P02741\", \"P06732\",\n",
    "        \"P01375\", \"P06396\", \"P02753\", \"P01112\", \"Q15843\", \"P02768\"]\n",
    "\n",
    "TP = len(positive[positive[\"protein_Id\"].str.contains(\"|\".join(difference_ups))])\n",
    "FP = len(positive) - TP\n",
    "\n",
    "FN = len(negative[negative[\"protein_Id\"].str.contains(\"|\".join(difference_ups))])\n",
    "TN = len(negative) - FN\n",
    "\n",
    "print(TP)\n",
    "print(FP)\n",
    "print(TN)\n",
    "print(FN)\n",
    "\n",
    "print(\"PPV = %.6f\" % (TP / (TP + FP)))\n",
    "print(\"NPV = %.6f\" % (TN / (TN + FN)))"
   ]
  },
  {
   "cell_type": "code",
   "execution_count": null,
   "metadata": {},
   "outputs": [],
   "source": []
  }
 ],
 "metadata": {
  "kernelspec": {
   "display_name": "douer(base)",
   "language": "python",
   "name": "base"
  },
  "language_info": {
   "codemirror_mode": {
    "name": "ipython",
    "version": 3
   },
   "file_extension": ".py",
   "mimetype": "text/x-python",
   "name": "python",
   "nbconvert_exporter": "python",
   "pygments_lexer": "ipython3",
   "version": "3.7.6"
  }
 },
 "nbformat": 4,
 "nbformat_minor": 4
}
