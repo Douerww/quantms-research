{
 "cells": [
  {
   "cell_type": "code",
   "execution_count": 8,
   "metadata": {},
   "outputs": [],
   "source": [
    "import pandas as pd"
   ]
  },
  {
   "cell_type": "markdown",
   "metadata": {},
   "source": [
    "# quantms"
   ]
  },
  {
   "cell_type": "code",
   "execution_count": 9,
   "metadata": {},
   "outputs": [
    {
     "name": "stdout",
     "output_type": "stream",
     "text": [
      "33\n",
      "3\n",
      "1863\n",
      "6\n",
      "PPV = 0.916667\n",
      "NPV = 0.996790\n"
     ]
    }
   ],
   "source": [
    "# EM (equalizeMedians)\n",
    "proteus = pd.read_csv(\"./proteus-quantms-EM.csv\", header=0, sep=\",\", index_col=0)\n",
    "proteus.dropna(subset=[\"logFC\", \"P.Value\"], how=\"any\", inplace=True)\n",
    "positive =  proteus[(abs(proteus[\"logFC\"]) >1) &(proteus[\"adj.P.Val\"] <0.05) ]\n",
    "negative = proteus[(abs(proteus[\"logFC\"]) <=1) | (proteus[\"adj.P.Val\"] >=0.05) ]\n",
    "\n",
    "no_difference_ups = [\"P00167\", \"P01133\", \"P02144\", \"P04040\", \"P15559\", \"P62937\", \"P63165\",  \"Q06830\"]\n",
    "difference_ups =  [\"P01579\", \"O76070\", \"P63279\", \"P68871\",\"P01127\", \"P01008\", \"P62988\", \"P10599\", \"P02787\", \"P99999\", \"P12081\", \"P51965\",\"P10636-8\", \n",
    "       \"P01031\", \"P09211\", \"P02788\", \"P41159\", \"O00762\", \"P05413\", \"P00441\", \"P00918\", \"P08758\", \"P00915\", \"P01344\", \"P69905\", \n",
    "        \"P00709\", \"P55957\", \"P08263\", \"P61769\", \"P10145\", \"P16083\", \"P61626\", \"P02741\", \"P06732\",\n",
    "        \"P01375\", \"P06396\", \"P02753\", \"P01112\", \"Q15843\", \"P02768\"]\n",
    "\n",
    "\n",
    "TP = len(positive[positive[\"protein\"].str.contains(\"|\".join(difference_ups))])\n",
    "FP = len(positive) - TP\n",
    "\n",
    "FN = len(negative[negative[\"protein\"].str.contains(\"|\".join(difference_ups))])\n",
    "TN = len(negative) - FN\n",
    "\n",
    "print(TP)\n",
    "print(FP)\n",
    "print(TN)\n",
    "print(FN)\n",
    "\n",
    "print(\"PPV = %.6f\" % (TP / (TP + FP)))\n",
    "print(\"NPV = %.6f\" % (TN / (TN + FN)))"
   ]
  },
  {
   "cell_type": "code",
   "execution_count": 10,
   "metadata": {},
   "outputs": [
    {
     "name": "stdout",
     "output_type": "stream",
     "text": [
      "33\n",
      "3\n",
      "1863\n",
      "6\n",
      "PPV = 0.916667\n",
      "NPV = 0.996790\n"
     ]
    }
   ],
   "source": [
    "# Q (quantiles)\n",
    "proteus = pd.read_csv(\"./proteus-quantms-Q.csv\", header=0, sep=\",\", index_col=0)\n",
    "proteus.dropna(subset=[\"logFC\", \"P.Value\"], how=\"any\", inplace=True)\n",
    "positive =  proteus[(abs(proteus[\"logFC\"]) >1) &(proteus[\"adj.P.Val\"] <0.05) ]\n",
    "negative = proteus[(abs(proteus[\"logFC\"]) <=1) | (proteus[\"adj.P.Val\"] >=0.05) ]\n",
    "\n",
    "no_difference_ups = [\"P00167\", \"P01133\", \"P02144\", \"P04040\", \"P15559\", \"P62937\", \"P63165\",  \"Q06830\"]\n",
    "difference_ups =  [\"P01579\", \"O76070\", \"P63279\", \"P68871\",\"P01127\", \"P01008\", \"P62988\", \"P10599\", \"P02787\", \"P99999\", \"P12081\", \"P51965\",\"P10636-8\", \n",
    "       \"P01031\", \"P09211\", \"P02788\", \"P41159\", \"O00762\", \"P05413\", \"P00441\", \"P00918\", \"P08758\", \"P00915\", \"P01344\", \"P69905\", \n",
    "        \"P00709\", \"P55957\", \"P08263\", \"P61769\", \"P10145\", \"P16083\", \"P61626\", \"P02741\", \"P06732\",\n",
    "        \"P01375\", \"P06396\", \"P02753\", \"P01112\", \"Q15843\", \"P02768\"]\n",
    "\n",
    "\n",
    "TP = len(positive[positive[\"protein\"].str.contains(\"|\".join(difference_ups))])\n",
    "FP = len(positive) - TP\n",
    "\n",
    "FN = len(negative[negative[\"protein\"].str.contains(\"|\".join(difference_ups))])\n",
    "TN = len(negative) - FN\n",
    "\n",
    "print(TP)\n",
    "print(FP)\n",
    "print(TN)\n",
    "print(FN)\n",
    "\n",
    "print(\"PPV = %.6f\" % (TP / (TP + FP)))\n",
    "print(\"NPV = %.6f\" % (TN / (TN + FN)))"
   ]
  },
  {
   "cell_type": "code",
   "execution_count": 11,
   "metadata": {},
   "outputs": [
    {
     "name": "stdout",
     "output_type": "stream",
     "text": [
      "28\n",
      "2\n",
      "1864\n",
      "11\n",
      "PPV = 0.933333\n",
      "NPV = 0.994133\n"
     ]
    }
   ],
   "source": [
    "# NN (None)\n",
    "proteus = pd.read_csv(\"./proteus-quantms-NN.csv\", header=0, sep=\",\", index_col=0)\n",
    "proteus.dropna(subset=[\"logFC\", \"P.Value\"], how=\"any\", inplace=True)\n",
    "positive =  proteus[(abs(proteus[\"logFC\"]) >1) &(proteus[\"adj.P.Val\"] <0.05) ]\n",
    "negative = proteus[(abs(proteus[\"logFC\"]) <=1) | (proteus[\"adj.P.Val\"] >=0.05) ]\n",
    "\n",
    "no_difference_ups = [\"P00167\", \"P01133\", \"P02144\", \"P04040\", \"P15559\", \"P62937\", \"P63165\",  \"Q06830\"]\n",
    "difference_ups =  [\"P01579\", \"O76070\", \"P63279\", \"P68871\",\"P01127\", \"P01008\", \"P62988\", \"P10599\", \"P02787\", \"P99999\", \"P12081\", \"P51965\",\"P10636-8\", \n",
    "       \"P01031\", \"P09211\", \"P02788\", \"P41159\", \"O00762\", \"P05413\", \"P00441\", \"P00918\", \"P08758\", \"P00915\", \"P01344\", \"P69905\", \n",
    "        \"P00709\", \"P55957\", \"P08263\", \"P61769\", \"P10145\", \"P16083\", \"P61626\", \"P02741\", \"P06732\",\n",
    "        \"P01375\", \"P06396\", \"P02753\", \"P01112\", \"Q15843\", \"P02768\"]\n",
    "\n",
    "\n",
    "TP = len(positive[positive[\"protein\"].str.contains(\"|\".join(difference_ups))])\n",
    "FP = len(positive) - TP\n",
    "\n",
    "FN = len(negative[negative[\"protein\"].str.contains(\"|\".join(difference_ups))])\n",
    "TN = len(negative) - FN\n",
    "\n",
    "print(TP)\n",
    "print(FP)\n",
    "print(TN)\n",
    "print(FN)\n",
    "\n",
    "print(\"PPV = %.6f\" % (TP / (TP + FP)))\n",
    "print(\"NPV = %.6f\" % (TN / (TN + FN)))"
   ]
  },
  {
   "cell_type": "markdown",
   "metadata": {},
   "source": [
    "# maxquant"
   ]
  },
  {
   "cell_type": "code",
   "execution_count": 12,
   "metadata": {},
   "outputs": [
    {
     "name": "stdout",
     "output_type": "stream",
     "text": [
      "34\n",
      "4\n",
      "2077\n",
      "0\n",
      "PPV = 0.894737\n",
      "NPV = 1.000000\n"
     ]
    }
   ],
   "source": [
    "# EM (equalizeMedians)\n",
    "proteus = pd.read_csv(\"./proteus-maxquant-EM.csv\", header=0, sep=\",\", index_col=0)\n",
    "proteus.dropna(subset=[\"logFC\", \"P.Value\"], how=\"any\", inplace=True)\n",
    "positive =  proteus[(abs(proteus[\"logFC\"]) >1) &(proteus[\"adj.P.Val\"] <0.05) ]\n",
    "negative = proteus[(abs(proteus[\"logFC\"]) <=1) | (proteus[\"adj.P.Val\"] >=0.05) ]\n",
    "\n",
    "no_difference_ups = [\"P00167\", \"P01133\", \"P02144\", \"P04040\", \"P15559\", \"P62937\", \"P63165\",  \"Q06830\"]\n",
    "difference_ups =  [\"P01579\", \"O76070\", \"P63279\", \"P68871\",\"P01127\", \"P01008\", \"P62988\", \"P10599\", \"P02787\", \"P99999\", \"P12081\", \"P51965\",\"P10636-8\", \n",
    "       \"P01031\", \"P09211\", \"P02788\", \"P41159\", \"O00762\", \"P05413\", \"P00441\", \"P00918\", \"P08758\", \"P00915\", \"P01344\", \"P69905\", \n",
    "        \"P00709\", \"P55957\", \"P08263\", \"P61769\", \"P10145\", \"P16083\", \"P61626\", \"P02741\", \"P06732\",\n",
    "        \"P01375\", \"P06396\", \"P02753\", \"P01112\", \"Q15843\", \"P02768\"]\n",
    "\n",
    "\n",
    "TP = len(positive[positive[\"protein\"].str.contains(\"|\".join(difference_ups))])\n",
    "FP = len(positive) - TP\n",
    "\n",
    "FN = len(negative[negative[\"protein\"].str.contains(\"|\".join(difference_ups))])\n",
    "TN = len(negative) - FN\n",
    "\n",
    "print(TP)\n",
    "print(FP)\n",
    "print(TN)\n",
    "print(FN)\n",
    "\n",
    "print(\"PPV = %.6f\" % (TP / (TP + FP)))\n",
    "print(\"NPV = %.6f\" % (TN / (TN + FN)))"
   ]
  },
  {
   "cell_type": "code",
   "execution_count": 13,
   "metadata": {},
   "outputs": [
    {
     "name": "stdout",
     "output_type": "stream",
     "text": [
      "33\n",
      "5\n",
      "2076\n",
      "1\n",
      "PPV = 0.868421\n",
      "NPV = 0.999519\n"
     ]
    }
   ],
   "source": [
    "# Q (quantiles)\n",
    "proteus = pd.read_csv(\"./proteus-maxquant-Q.csv\", header=0, sep=\",\", index_col=0)\n",
    "proteus.dropna(subset=[\"logFC\", \"P.Value\"], how=\"any\", inplace=True)\n",
    "positive =  proteus[(abs(proteus[\"logFC\"]) >1) &(proteus[\"adj.P.Val\"] <0.05) ]\n",
    "negative = proteus[(abs(proteus[\"logFC\"]) <=1) | (proteus[\"adj.P.Val\"] >=0.05) ]\n",
    "\n",
    "no_difference_ups = [\"P00167\", \"P01133\", \"P02144\", \"P04040\", \"P15559\", \"P62937\", \"P63165\",  \"Q06830\"]\n",
    "difference_ups =  [\"P01579\", \"O76070\", \"P63279\", \"P68871\",\"P01127\", \"P01008\", \"P62988\", \"P10599\", \"P02787\", \"P99999\", \"P12081\", \"P51965\",\"P10636-8\", \n",
    "       \"P01031\", \"P09211\", \"P02788\", \"P41159\", \"O00762\", \"P05413\", \"P00441\", \"P00918\", \"P08758\", \"P00915\", \"P01344\", \"P69905\", \n",
    "        \"P00709\", \"P55957\", \"P08263\", \"P61769\", \"P10145\", \"P16083\", \"P61626\", \"P02741\", \"P06732\",\n",
    "        \"P01375\", \"P06396\", \"P02753\", \"P01112\", \"Q15843\", \"P02768\"]\n",
    "\n",
    "\n",
    "TP = len(positive[positive[\"protein\"].str.contains(\"|\".join(difference_ups))])\n",
    "FP = len(positive) - TP\n",
    "\n",
    "FN = len(negative[negative[\"protein\"].str.contains(\"|\".join(difference_ups))])\n",
    "TN = len(negative) - FN\n",
    "\n",
    "print(TP)\n",
    "print(FP)\n",
    "print(TN)\n",
    "print(FN)\n",
    "\n",
    "print(\"PPV = %.6f\" % (TP / (TP + FP)))\n",
    "print(\"NPV = %.6f\" % (TN / (TN + FN)))"
   ]
  },
  {
   "cell_type": "code",
   "execution_count": 14,
   "metadata": {},
   "outputs": [
    {
     "name": "stdout",
     "output_type": "stream",
     "text": [
      "32\n",
      "3\n",
      "2078\n",
      "2\n",
      "PPV = 0.914286\n",
      "NPV = 0.999038\n"
     ]
    }
   ],
   "source": [
    "# NN (None)\n",
    "proteus = pd.read_csv(\"./proteus-maxquant-NN.csv\", header=0, sep=\",\", index_col=0)\n",
    "proteus.dropna(subset=[\"logFC\", \"P.Value\"], how=\"any\", inplace=True)\n",
    "positive =  proteus[(abs(proteus[\"logFC\"]) >1) &(proteus[\"adj.P.Val\"] <0.05) ]\n",
    "negative = proteus[(abs(proteus[\"logFC\"]) <=1) | (proteus[\"adj.P.Val\"] >=0.05) ]\n",
    "\n",
    "no_difference_ups = [\"P00167\", \"P01133\", \"P02144\", \"P04040\", \"P15559\", \"P62937\", \"P63165\",  \"Q06830\"]\n",
    "difference_ups =  [\"P01579\", \"O76070\", \"P63279\", \"P68871\",\"P01127\", \"P01008\", \"P62988\", \"P10599\", \"P02787\", \"P99999\", \"P12081\", \"P51965\",\"P10636-8\", \n",
    "       \"P01031\", \"P09211\", \"P02788\", \"P41159\", \"O00762\", \"P05413\", \"P00441\", \"P00918\", \"P08758\", \"P00915\", \"P01344\", \"P69905\", \n",
    "        \"P00709\", \"P55957\", \"P08263\", \"P61769\", \"P10145\", \"P16083\", \"P61626\", \"P02741\", \"P06732\",\n",
    "        \"P01375\", \"P06396\", \"P02753\", \"P01112\", \"Q15843\", \"P02768\"]\n",
    "\n",
    "\n",
    "TP = len(positive[positive[\"protein\"].str.contains(\"|\".join(difference_ups))])\n",
    "FP = len(positive) - TP\n",
    "\n",
    "FN = len(negative[negative[\"protein\"].str.contains(\"|\".join(difference_ups))])\n",
    "TN = len(negative) - FN\n",
    "\n",
    "print(TP)\n",
    "print(FP)\n",
    "print(TN)\n",
    "print(FN)\n",
    "\n",
    "print(\"PPV = %.6f\" % (TP / (TP + FP)))\n",
    "print(\"NPV = %.6f\" % (TN / (TN + FN)))"
   ]
  }
 ],
 "metadata": {
  "kernelspec": {
   "display_name": "douer(base)",
   "language": "python",
   "name": "base"
  },
  "language_info": {
   "codemirror_mode": {
    "name": "ipython",
    "version": 3
   },
   "file_extension": ".py",
   "mimetype": "text/x-python",
   "name": "python",
   "nbconvert_exporter": "python",
   "pygments_lexer": "ipython3",
   "version": "3.7.6"
  }
 },
 "nbformat": 4,
 "nbformat_minor": 4
}
