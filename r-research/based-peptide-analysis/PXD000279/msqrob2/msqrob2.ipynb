{
 "cells": [
  {
   "cell_type": "code",
   "execution_count": 1,
   "metadata": {},
   "outputs": [],
   "source": [
    "import pandas as pd"
   ]
  },
  {
   "cell_type": "markdown",
   "metadata": {},
   "source": [
    "# quantms"
   ]
  },
  {
   "cell_type": "code",
   "execution_count": 2,
   "metadata": {},
   "outputs": [
    {
     "name": "stdout",
     "output_type": "stream",
     "text": [
      "12\n",
      "3\n",
      "1626\n",
      "16\n",
      "PPV = 0.800000\n",
      "NPV = 0.990256\n"
     ]
    }
   ],
   "source": [
    "# CM (center.median)\n",
    "msqrob = pd.read_csv(\"./ups-quantms-dep-CM.csv\", header=0)\n",
    "msqrob.dropna(subset=[\"logFC\", \"adjPval\"], how=\"any\", inplace=True)\n",
    "positive =  msqrob[(abs(msqrob[\"logFC\"]) >1) &(msqrob[\"adjPval\"] <0.05) ]\n",
    "negative = msqrob[(abs(msqrob[\"logFC\"]) <=1) | (msqrob[\"adjPval\"] >=0.05) ]\n",
    "\n",
    "no_difference_ups = [\"P00167\", \"P01133\", \"P02144\", \"P04040\", \"P15559\", \"P62937\", \"P63165\",  \"Q06830\"]\n",
    "difference_ups =  [\"P01579\", \"O76070\", \"P63279\", \"P68871\",\"P01127\", \"P01008\", \"P62988\", \"P10599\", \"P02787\", \"P99999\", \"P12081\", \"P51965\",\"P10636-8\", \n",
    "       \"P01031\", \"P09211\", \"P02788\", \"P41159\", \"O00762\", \"P05413\", \"P00441\", \"P00918\", \"P08758\", \"P00915\", \"P01344\", \"P69905\", \n",
    "        \"P00709\", \"P55957\", \"P08263\", \"P61769\", \"P10145\", \"P16083\", \"P61626\", \"P02741\", \"P06732\",\n",
    "        \"P01375\", \"P06396\", \"P02753\", \"P01112\", \"Q15843\", \"P02768\"]\n",
    "\n",
    "TP = len(positive[positive.iloc[:,0].str.contains(\"|\".join(difference_ups))])\n",
    "FP = len(positive) - TP\n",
    "\n",
    "FN = len(negative[negative.iloc[:,0].str.contains(\"|\".join(difference_ups))])\n",
    "TN = len(negative) - FN\n",
    "\n",
    "print(TP)\n",
    "print(FP)\n",
    "print(TN)\n",
    "print(FN)\n",
    "\n",
    "print(\"PPV = %.6f\" % (TP / (TP + FP)))\n",
    "print(\"NPV = %.6f\" % (TN / (TN + FN)))"
   ]
  },
  {
   "cell_type": "code",
   "execution_count": 3,
   "metadata": {},
   "outputs": [
    {
     "name": "stdout",
     "output_type": "stream",
     "text": [
      "12\n",
      "3\n",
      "1625\n",
      "16\n",
      "PPV = 0.800000\n",
      "NPV = 0.990250\n"
     ]
    }
   ],
   "source": [
    "# Q (quantiles)\n",
    "msqrob = pd.read_csv(\"./ups-quantms-dep-Q.csv\", header=0)\n",
    "msqrob.dropna(subset=[\"logFC\", \"adjPval\"], how=\"any\", inplace=True)\n",
    "positive =  msqrob[(abs(msqrob[\"logFC\"]) >1) &(msqrob[\"adjPval\"] <0.05) ]\n",
    "negative = msqrob[(abs(msqrob[\"logFC\"]) <=1) | (msqrob[\"adjPval\"] >=0.05) ]\n",
    "\n",
    "no_difference_ups = [\"P00167\", \"P01133\", \"P02144\", \"P04040\", \"P15559\", \"P62937\", \"P63165\",  \"Q06830\"]\n",
    "difference_ups =  [\"P01579\", \"O76070\", \"P63279\", \"P68871\",\"P01127\", \"P01008\", \"P62988\", \"P10599\", \"P02787\", \"P99999\", \"P12081\", \"P51965\",\"P10636-8\", \n",
    "       \"P01031\", \"P09211\", \"P02788\", \"P41159\", \"O00762\", \"P05413\", \"P00441\", \"P00918\", \"P08758\", \"P00915\", \"P01344\", \"P69905\", \n",
    "        \"P00709\", \"P55957\", \"P08263\", \"P61769\", \"P10145\", \"P16083\", \"P61626\", \"P02741\", \"P06732\",\n",
    "        \"P01375\", \"P06396\", \"P02753\", \"P01112\", \"Q15843\", \"P02768\"]\n",
    "\n",
    "TP = len(positive[positive.iloc[:,0].str.contains(\"|\".join(difference_ups))])\n",
    "FP = len(positive) - TP\n",
    "\n",
    "FN = len(negative[negative.iloc[:,0].str.contains(\"|\".join(difference_ups))])\n",
    "TN = len(negative) - FN\n",
    "\n",
    "print(TP)\n",
    "print(FP)\n",
    "print(TN)\n",
    "print(FN)\n",
    "\n",
    "print(\"PPV = %.6f\" % (TP / (TP + FP)))\n",
    "print(\"NPV = %.6f\" % (TN / (TN + FN)))"
   ]
  },
  {
   "cell_type": "code",
   "execution_count": 4,
   "metadata": {},
   "outputs": [
    {
     "name": "stdout",
     "output_type": "stream",
     "text": [
      "2\n",
      "0\n",
      "1627\n",
      "26\n",
      "PPV = 1.000000\n",
      "NPV = 0.984271\n"
     ]
    }
   ],
   "source": [
    "# NN (none)\n",
    "msqrob = pd.read_csv(\"./ups-quantms-dep-NN.csv\", header=0)\n",
    "msqrob.dropna(subset=[\"logFC\", \"adjPval\"], how=\"any\", inplace=True)\n",
    "positive =  msqrob[(abs(msqrob[\"logFC\"]) >1) &(msqrob[\"adjPval\"] <0.05) ]\n",
    "negative = msqrob[(abs(msqrob[\"logFC\"]) <=1) | (msqrob[\"adjPval\"] >=0.05) ]\n",
    "\n",
    "no_difference_ups = [\"P00167\", \"P01133\", \"P02144\", \"P04040\", \"P15559\", \"P62937\", \"P63165\",  \"Q06830\"]\n",
    "difference_ups =  [\"P01579\", \"O76070\", \"P63279\", \"P68871\",\"P01127\", \"P01008\", \"P62988\", \"P10599\", \"P02787\", \"P99999\", \"P12081\", \"P51965\",\"P10636-8\", \n",
    "       \"P01031\", \"P09211\", \"P02788\", \"P41159\", \"O00762\", \"P05413\", \"P00441\", \"P00918\", \"P08758\", \"P00915\", \"P01344\", \"P69905\", \n",
    "        \"P00709\", \"P55957\", \"P08263\", \"P61769\", \"P10145\", \"P16083\", \"P61626\", \"P02741\", \"P06732\",\n",
    "        \"P01375\", \"P06396\", \"P02753\", \"P01112\", \"Q15843\", \"P02768\"]\n",
    "\n",
    "TP = len(positive[positive.iloc[:,0].str.contains(\"|\".join(difference_ups))])\n",
    "FP = len(positive) - TP\n",
    "\n",
    "FN = len(negative[negative.iloc[:,0].str.contains(\"|\".join(difference_ups))])\n",
    "TN = len(negative) - FN\n",
    "\n",
    "print(TP)\n",
    "print(FP)\n",
    "print(TN)\n",
    "print(FN)\n",
    "\n",
    "print(\"PPV = %.6f\" % (TP / (TP + FP)))\n",
    "print(\"NPV = %.6f\" % (TN / (TN + FN)))"
   ]
  },
  {
   "cell_type": "markdown",
   "metadata": {},
   "source": [
    "# maxquant"
   ]
  },
  {
   "cell_type": "code",
   "execution_count": 5,
   "metadata": {},
   "outputs": [
    {
     "name": "stdout",
     "output_type": "stream",
     "text": [
      "33\n",
      "5\n",
      "2077\n",
      "1\n",
      "PPV = 0.868421\n",
      "NPV = 0.999519\n"
     ]
    }
   ],
   "source": [
    "# CM (center.median)\n",
    "msqrob = pd.read_csv(\"./ups-maxquant-dep-CM.csv\", header=0)\n",
    "msqrob.dropna(subset=[\"logFC\", \"adjPval\"], how=\"any\", inplace=True)\n",
    "positive =  msqrob[(abs(msqrob[\"logFC\"]) >1) &(msqrob[\"adjPval\"] <0.05) ]\n",
    "negative = msqrob[(abs(msqrob[\"logFC\"]) <=1) | (msqrob[\"adjPval\"] >=0.05) ]\n",
    "\n",
    "no_difference_ups = [\"P00167\", \"P01133\", \"P02144\", \"P04040\", \"P15559\", \"P62937\", \"P63165\",  \"Q06830\"]\n",
    "difference_ups =  [\"P01579\", \"O76070\", \"P63279\", \"P68871\",\"P01127\", \"P01008\", \"P62988\", \"P10599\", \"P02787\", \"P99999\", \"P12081\", \"P51965\",\"P10636-8\", \n",
    "       \"P01031\", \"P09211\", \"P02788\", \"P41159\", \"O00762\", \"P05413\", \"P00441\", \"P00918\", \"P08758\", \"P00915\", \"P01344\", \"P69905\", \n",
    "        \"P00709\", \"P55957\", \"P08263\", \"P61769\", \"P10145\", \"P16083\", \"P61626\", \"P02741\", \"P06732\",\n",
    "        \"P01375\", \"P06396\", \"P02753\", \"P01112\", \"Q15843\", \"P02768\"]\n",
    "\n",
    "TP = len(positive[positive.iloc[:,0].str.contains(\"|\".join(difference_ups))])\n",
    "FP = len(positive) - TP\n",
    "\n",
    "FN = len(negative[negative.iloc[:,0].str.contains(\"|\".join(difference_ups))])\n",
    "TN = len(negative) - FN\n",
    "\n",
    "print(TP)\n",
    "print(FP)\n",
    "print(TN)\n",
    "print(FN)\n",
    "\n",
    "print(\"PPV = %.6f\" % (TP / (TP + FP)))\n",
    "print(\"NPV = %.6f\" % (TN / (TN + FN)))"
   ]
  },
  {
   "cell_type": "code",
   "execution_count": 6,
   "metadata": {},
   "outputs": [
    {
     "name": "stdout",
     "output_type": "stream",
     "text": [
      "32\n",
      "4\n",
      "2078\n",
      "1\n",
      "PPV = 0.888889\n",
      "NPV = 0.999519\n"
     ]
    }
   ],
   "source": [
    "# Q (quantiles)\n",
    "msqrob = pd.read_csv(\"./ups-maxquant-dep-Q.csv\", header=0)\n",
    "msqrob.dropna(subset=[\"logFC\", \"adjPval\"], how=\"any\", inplace=True)\n",
    "positive =  msqrob[(abs(msqrob[\"logFC\"]) >1) &(msqrob[\"adjPval\"] <0.05) ]\n",
    "negative = msqrob[(abs(msqrob[\"logFC\"]) <=1) | (msqrob[\"adjPval\"] >=0.05) ]\n",
    "\n",
    "no_difference_ups = [\"P00167\", \"P01133\", \"P02144\", \"P04040\", \"P15559\", \"P62937\", \"P63165\",  \"Q06830\"]\n",
    "difference_ups =  [\"P01579\", \"O76070\", \"P63279\", \"P68871\",\"P01127\", \"P01008\", \"P62988\", \"P10599\", \"P02787\", \"P99999\", \"P12081\", \"P51965\",\"P10636-8\", \n",
    "       \"P01031\", \"P09211\", \"P02788\", \"P41159\", \"O00762\", \"P05413\", \"P00441\", \"P00918\", \"P08758\", \"P00915\", \"P01344\", \"P69905\", \n",
    "        \"P00709\", \"P55957\", \"P08263\", \"P61769\", \"P10145\", \"P16083\", \"P61626\", \"P02741\", \"P06732\",\n",
    "        \"P01375\", \"P06396\", \"P02753\", \"P01112\", \"Q15843\", \"P02768\"]\n",
    "\n",
    "TP = len(positive[positive.iloc[:,0].str.contains(\"|\".join(difference_ups))])\n",
    "FP = len(positive) - TP\n",
    "\n",
    "FN = len(negative[negative.iloc[:,0].str.contains(\"|\".join(difference_ups))])\n",
    "TN = len(negative) - FN\n",
    "\n",
    "print(TP)\n",
    "print(FP)\n",
    "print(TN)\n",
    "print(FN)\n",
    "\n",
    "print(\"PPV = %.6f\" % (TP / (TP + FP)))\n",
    "print(\"NPV = %.6f\" % (TN / (TN + FN)))"
   ]
  },
  {
   "cell_type": "code",
   "execution_count": 7,
   "metadata": {},
   "outputs": [
    {
     "name": "stdout",
     "output_type": "stream",
     "text": [
      "31\n",
      "4\n",
      "2077\n",
      "2\n",
      "PPV = 0.885714\n",
      "NPV = 0.999038\n"
     ]
    }
   ],
   "source": [
    "# NN (none)\n",
    "msqrob = pd.read_csv(\"./ups-maxquant-dep-NN.csv\", header=0)\n",
    "msqrob.dropna(subset=[\"logFC\", \"adjPval\"], how=\"any\", inplace=True)\n",
    "positive =  msqrob[(abs(msqrob[\"logFC\"]) >1) &(msqrob[\"adjPval\"] <0.05) ]\n",
    "negative = msqrob[(abs(msqrob[\"logFC\"]) <=1) | (msqrob[\"adjPval\"] >=0.05) ]\n",
    "\n",
    "no_difference_ups = [\"P00167\", \"P01133\", \"P02144\", \"P04040\", \"P15559\", \"P62937\", \"P63165\",  \"Q06830\"]\n",
    "difference_ups =  [\"P01579\", \"O76070\", \"P63279\", \"P68871\",\"P01127\", \"P01008\", \"P62988\", \"P10599\", \"P02787\", \"P99999\", \"P12081\", \"P51965\",\"P10636-8\", \n",
    "       \"P01031\", \"P09211\", \"P02788\", \"P41159\", \"O00762\", \"P05413\", \"P00441\", \"P00918\", \"P08758\", \"P00915\", \"P01344\", \"P69905\", \n",
    "        \"P00709\", \"P55957\", \"P08263\", \"P61769\", \"P10145\", \"P16083\", \"P61626\", \"P02741\", \"P06732\",\n",
    "        \"P01375\", \"P06396\", \"P02753\", \"P01112\", \"Q15843\", \"P02768\"]\n",
    "\n",
    "TP = len(positive[positive.iloc[:,0].str.contains(\"|\".join(difference_ups))])\n",
    "FP = len(positive) - TP\n",
    "\n",
    "FN = len(negative[negative.iloc[:,0].str.contains(\"|\".join(difference_ups))])\n",
    "TN = len(negative) - FN\n",
    "\n",
    "print(TP)\n",
    "print(FP)\n",
    "print(TN)\n",
    "print(FN)\n",
    "\n",
    "print(\"PPV = %.6f\" % (TP / (TP + FP)))\n",
    "print(\"NPV = %.6f\" % (TN / (TN + FN)))"
   ]
  }
 ],
 "metadata": {
  "kernelspec": {
   "display_name": "douer(base)",
   "language": "python",
   "name": "base"
  },
  "language_info": {
   "codemirror_mode": {
    "name": "ipython",
    "version": 3
   },
   "file_extension": ".py",
   "mimetype": "text/x-python",
   "name": "python",
   "nbconvert_exporter": "python",
   "pygments_lexer": "ipython3",
   "version": "3.7.6"
  }
 },
 "nbformat": 4,
 "nbformat_minor": 4
}
