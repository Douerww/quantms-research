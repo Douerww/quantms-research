{
 "cells": [
  {
   "cell_type": "code",
   "execution_count": 7,
   "metadata": {},
   "outputs": [],
   "source": [
    "import pandas as pd"
   ]
  },
  {
   "cell_type": "markdown",
   "metadata": {},
   "source": [
    "# 4-1"
   ]
  },
  {
   "cell_type": "code",
   "execution_count": 8,
   "metadata": {},
   "outputs": [
    {
     "name": "stdout",
     "output_type": "stream",
     "text": [
      "311\n",
      "40\n",
      "1201\n",
      "95\n",
      "PPV = 0.886040\n",
      "NPV = 0.926698\n"
     ]
    }
   ],
   "source": [
    "# quantms\n",
    "msstats = pd.read_csv(\"./MSstats_output-quantms_4-1.csv\", header=0, sep=\",\", index_col=0)\n",
    "msstats.dropna(subset=[\"log2FC\", \"adj.pvalue\"], how=\"any\", inplace=True)\n",
    "\n",
    "msstats[\"log2FC\"] = pd.to_numeric(msstats[\"log2FC\"],errors='coerce')\n",
    "\n",
    "positive =  msstats[(abs(msstats[\"log2FC\"]) >1) &(msstats[\"adj.pvalue\"] <0.05) ]\n",
    "negative = msstats[(abs(msstats[\"log2FC\"]) <=1) | (msstats[\"adj.pvalue\"] >=0.05) ]\n",
    "\n",
    "no_difference_ups = [\"P00167\", \"P01133\", \"P02144\", \"P04040\", \"P15559\", \"P62937\", \"P63165\",  \"Q06830\"]\n",
    "difference_ups =  [\"P01579\", \"O76070\", \"P63279\", \"P68871\",\"P01127\", \"P01008\", \"P62988\", \"P10599\", \"P02787\", \"P99999\", \"P12081\", \"P51965\",\"P10636-8\", \n",
    "       \"P01031\", \"P09211\", \"P02788\", \"P41159\", \"O00762\", \"P05413\", \"P00441\", \"P00918\", \"P08758\", \"P00915\", \"P01344\", \"P69905\", \n",
    "        \"P00709\", \"P55957\", \"P08263\", \"P61769\", \"P10145\", \"P16083\", \"P61626\", \"P02741\", \"P06732\",\n",
    "        \"P01375\", \"P06396\", \"P02753\", \"P01112\", \"Q15843\", \"P02768\"]\n",
    "\n",
    "\n",
    "TP = len(positive[positive[\"Protein\"].str.contains(\"YEAST\")])\n",
    "FP = len(positive) - TP\n",
    "\n",
    "FN = len(negative[negative[\"Protein\"].str.contains(\"YEAST\")])\n",
    "TN = len(negative) - FN\n",
    "\n",
    "print(TP)\n",
    "print(FP)\n",
    "print(TN)\n",
    "print(FN)\n",
    "\n",
    "print(\"PPV = %.6f\" % (TP / (TP + FP)))\n",
    "print(\"NPV = %.6f\" % (TN / (TN + FN)))"
   ]
  },
  {
   "cell_type": "code",
   "execution_count": 9,
   "metadata": {},
   "outputs": [
    {
     "name": "stdout",
     "output_type": "stream",
     "text": [
      "584\n",
      "70\n",
      "1870\n",
      "52\n",
      "PPV = 0.892966\n",
      "NPV = 0.972945\n"
     ]
    }
   ],
   "source": [
    "# maxquant\n",
    "msstats = pd.read_csv(\"./MSstats_output-maxquant_4-1.csv\", header=0, sep=\",\", index_col=0)\n",
    "msstats.dropna(subset=[\"log2FC\", \"adj.pvalue\"], how=\"any\", inplace=True)\n",
    "\n",
    "msstats[\"log2FC\"] = pd.to_numeric(msstats[\"log2FC\"],errors='coerce')\n",
    "\n",
    "positive =  msstats[(abs(msstats[\"log2FC\"]) >1) &(msstats[\"adj.pvalue\"] <0.05) ]\n",
    "negative = msstats[(abs(msstats[\"log2FC\"]) <=1) | (msstats[\"adj.pvalue\"] >=0.05) ]\n",
    "\n",
    "no_difference_ups = [\"P00167\", \"P01133\", \"P02144\", \"P04040\", \"P15559\", \"P62937\", \"P63165\",  \"Q06830\"]\n",
    "difference_ups =  [\"P01579\", \"O76070\", \"P63279\", \"P68871\",\"P01127\", \"P01008\", \"P62988\", \"P10599\", \"P02787\", \"P99999\", \"P12081\", \"P51965\",\"P10636-8\", \n",
    "       \"P01031\", \"P09211\", \"P02788\", \"P41159\", \"O00762\", \"P05413\", \"P00441\", \"P00918\", \"P08758\", \"P00915\", \"P01344\", \"P69905\", \n",
    "        \"P00709\", \"P55957\", \"P08263\", \"P61769\", \"P10145\", \"P16083\", \"P61626\", \"P02741\", \"P06732\",\n",
    "        \"P01375\", \"P06396\", \"P02753\", \"P01112\", \"Q15843\", \"P02768\"]\n",
    "\n",
    "\n",
    "TP = len(positive[positive[\"Protein\"].str.contains(\"YEAST\")])\n",
    "FP = len(positive) - TP\n",
    "\n",
    "FN = len(negative[negative[\"Protein\"].str.contains(\"YEAST\")])\n",
    "TN = len(negative) - FN\n",
    "\n",
    "print(TP)\n",
    "print(FP)\n",
    "print(TN)\n",
    "print(FN)\n",
    "\n",
    "print(\"PPV = %.6f\" % (TP / (TP + FP)))\n",
    "print(\"NPV = %.6f\" % (TN / (TN + FN)))"
   ]
  },
  {
   "cell_type": "markdown",
   "metadata": {},
   "source": [
    "# 10-1"
   ]
  },
  {
   "cell_type": "code",
   "execution_count": 10,
   "metadata": {},
   "outputs": [
    {
     "name": "stdout",
     "output_type": "stream",
     "text": [
      "375\n",
      "169\n",
      "1058\n",
      "32\n",
      "PPV = 0.689338\n",
      "NPV = 0.970642\n"
     ]
    }
   ],
   "source": [
    "# quantms\n",
    "msstats = pd.read_csv(\"./MSstats_output-quantms_10-1.csv\", header=0, sep=\",\", index_col=0)\n",
    "msstats.dropna(subset=[\"log2FC\", \"adj.pvalue\"], how=\"any\", inplace=True)\n",
    "\n",
    "msstats[\"log2FC\"] = pd.to_numeric(msstats[\"log2FC\"],errors='coerce')\n",
    "\n",
    "positive =  msstats[(abs(msstats[\"log2FC\"]) >1) &(msstats[\"adj.pvalue\"] <0.05) ]\n",
    "negative = msstats[(abs(msstats[\"log2FC\"]) <=1) | (msstats[\"adj.pvalue\"] >=0.05) ]\n",
    "\n",
    "no_difference_ups = [\"P00167\", \"P01133\", \"P02144\", \"P04040\", \"P15559\", \"P62937\", \"P63165\",  \"Q06830\"]\n",
    "difference_ups =  [\"P01579\", \"O76070\", \"P63279\", \"P68871\",\"P01127\", \"P01008\", \"P62988\", \"P10599\", \"P02787\", \"P99999\", \"P12081\", \"P51965\",\"P10636-8\", \n",
    "       \"P01031\", \"P09211\", \"P02788\", \"P41159\", \"O00762\", \"P05413\", \"P00441\", \"P00918\", \"P08758\", \"P00915\", \"P01344\", \"P69905\", \n",
    "        \"P00709\", \"P55957\", \"P08263\", \"P61769\", \"P10145\", \"P16083\", \"P61626\", \"P02741\", \"P06732\",\n",
    "        \"P01375\", \"P06396\", \"P02753\", \"P01112\", \"Q15843\", \"P02768\"]\n",
    "\n",
    "\n",
    "TP = len(positive[positive[\"Protein\"].str.contains(\"YEAST\")])\n",
    "FP = len(positive) - TP\n",
    "\n",
    "FN = len(negative[negative[\"Protein\"].str.contains(\"YEAST\")])\n",
    "TN = len(negative) - FN\n",
    "\n",
    "print(TP)\n",
    "print(FP)\n",
    "print(TN)\n",
    "print(FN)\n",
    "\n",
    "print(\"PPV = %.6f\" % (TP / (TP + FP)))\n",
    "print(\"NPV = %.6f\" % (TN / (TN + FN)))"
   ]
  },
  {
   "cell_type": "code",
   "execution_count": 11,
   "metadata": {},
   "outputs": [
    {
     "name": "stdout",
     "output_type": "stream",
     "text": [
      "618\n",
      "207\n",
      "1634\n",
      "19\n",
      "PPV = 0.749091\n",
      "NPV = 0.988506\n"
     ]
    }
   ],
   "source": [
    "# maxquant\n",
    "msstats = pd.read_csv(\"./MSstats_output-maxquant_10-1.csv\", header=0, sep=\",\", index_col=0)\n",
    "msstats.dropna(subset=[\"log2FC\", \"adj.pvalue\"], how=\"any\", inplace=True)\n",
    "\n",
    "msstats[\"log2FC\"] = pd.to_numeric(msstats[\"log2FC\"],errors='coerce')\n",
    "\n",
    "positive =  msstats[(abs(msstats[\"log2FC\"]) >1) &(msstats[\"adj.pvalue\"] <0.05) ]\n",
    "negative = msstats[(abs(msstats[\"log2FC\"]) <=1) | (msstats[\"adj.pvalue\"] >=0.05) ]\n",
    "\n",
    "no_difference_ups = [\"P00167\", \"P01133\", \"P02144\", \"P04040\", \"P15559\", \"P62937\", \"P63165\",  \"Q06830\"]\n",
    "difference_ups =  [\"P01579\", \"O76070\", \"P63279\", \"P68871\",\"P01127\", \"P01008\", \"P62988\", \"P10599\", \"P02787\", \"P99999\", \"P12081\", \"P51965\",\"P10636-8\", \n",
    "       \"P01031\", \"P09211\", \"P02788\", \"P41159\", \"O00762\", \"P05413\", \"P00441\", \"P00918\", \"P08758\", \"P00915\", \"P01344\", \"P69905\", \n",
    "        \"P00709\", \"P55957\", \"P08263\", \"P61769\", \"P10145\", \"P16083\", \"P61626\", \"P02741\", \"P06732\",\n",
    "        \"P01375\", \"P06396\", \"P02753\", \"P01112\", \"Q15843\", \"P02768\"]\n",
    "\n",
    "\n",
    "TP = len(positive[positive[\"Protein\"].str.contains(\"YEAST\")])\n",
    "FP = len(positive) - TP\n",
    "\n",
    "FN = len(negative[negative[\"Protein\"].str.contains(\"YEAST\")])\n",
    "TN = len(negative) - FN\n",
    "\n",
    "print(TP)\n",
    "print(FP)\n",
    "print(TN)\n",
    "print(FN)\n",
    "\n",
    "print(\"PPV = %.6f\" % (TP / (TP + FP)))\n",
    "print(\"NPV = %.6f\" % (TN / (TN + FN)))"
   ]
  },
  {
   "cell_type": "code",
   "execution_count": null,
   "metadata": {},
   "outputs": [],
   "source": []
  },
  {
   "cell_type": "code",
   "execution_count": null,
   "metadata": {},
   "outputs": [],
   "source": []
  }
 ],
 "metadata": {
  "kernelspec": {
   "display_name": "douer(base)",
   "language": "python",
   "name": "base"
  },
  "language_info": {
   "codemirror_mode": {
    "name": "ipython",
    "version": 3
   },
   "file_extension": ".py",
   "mimetype": "text/x-python",
   "name": "python",
   "nbconvert_exporter": "python",
   "pygments_lexer": "ipython3",
   "version": "3.7.6"
  }
 },
 "nbformat": 4,
 "nbformat_minor": 4
}
