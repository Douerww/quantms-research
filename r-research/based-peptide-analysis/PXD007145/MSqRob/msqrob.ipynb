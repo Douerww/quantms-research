{
 "cells": [
  {
   "cell_type": "code",
   "execution_count": 4,
   "metadata": {},
   "outputs": [],
   "source": [
    "import pandas as pd"
   ]
  },
  {
   "cell_type": "markdown",
   "metadata": {},
   "source": [
    "# maxquant"
   ]
  },
  {
   "cell_type": "markdown",
   "metadata": {},
   "source": [
    "### 4-1"
   ]
  },
  {
   "cell_type": "code",
   "execution_count": 5,
   "metadata": {},
   "outputs": [
    {
     "name": "stdout",
     "output_type": "stream",
     "text": [
      "312\n",
      "59\n",
      "1970\n",
      "47\n",
      "PPV = 0.840970\n",
      "NPV = 0.976698\n"
     ]
    }
   ],
   "source": [
    "# CM (center.median)\n",
    "msqrob = pd.read_excel(\"./maxquant-CM_results-4_1.xlsx\", header=0)\n",
    "msqrob.dropna(subset=[\"estimate\", \"qval\"], how=\"any\", inplace=True)\n",
    "positive =  msqrob[(abs(msqrob[\"estimate\"]) >1) &(msqrob[\"qval\"] <0.05) ]\n",
    "negative = msqrob[(abs(msqrob[\"estimate\"]) <=1) | (msqrob[\"qval\"] >=0.05) ]\n",
    "\n",
    "TP = len(positive[positive.iloc[:,0].str.contains(\"YEAST\")])\n",
    "FP = len(positive) - TP\n",
    "\n",
    "FN = len(negative[negative.iloc[:,0].str.contains(\"YEAST\")])\n",
    "TN = len(negative) - FN\n",
    "\n",
    "print(TP)\n",
    "print(FP)\n",
    "print(TN)\n",
    "print(FN)\n",
    "\n",
    "print(\"PPV = %.6f\" % (TP / (TP + FP)))\n",
    "print(\"NPV = %.6f\" % (TN / (TN + FN)))"
   ]
  },
  {
   "cell_type": "code",
   "execution_count": 6,
   "metadata": {},
   "outputs": [
    {
     "name": "stdout",
     "output_type": "stream",
     "text": [
      "318\n",
      "55\n",
      "1974\n",
      "41\n",
      "PPV = 0.852547\n",
      "NPV = 0.979653\n"
     ]
    }
   ],
   "source": [
    "# Q (quantiles)\n",
    "msqrob = pd.read_excel(\"./maxquant-Q_results-4_1.xlsx\", header=0)\n",
    "msqrob.dropna(subset=[\"estimate\", \"qval\"], how=\"any\", inplace=True)\n",
    "positive =  msqrob[(abs(msqrob[\"estimate\"]) >1) &(msqrob[\"qval\"] <0.05) ]\n",
    "negative = msqrob[(abs(msqrob[\"estimate\"]) <=1) | (msqrob[\"qval\"] >=0.05) ]\n",
    "\n",
    "TP = len(positive[positive.iloc[:,0].str.contains(\"YEAST\")])\n",
    "FP = len(positive) - TP\n",
    "\n",
    "FN = len(negative[negative.iloc[:,0].str.contains(\"YEAST\")])\n",
    "TN = len(negative) - FN\n",
    "\n",
    "print(TP)\n",
    "print(FP)\n",
    "print(TN)\n",
    "print(FN)\n",
    "\n",
    "print(\"PPV = %.6f\" % (TP / (TP + FP)))\n",
    "print(\"NPV = %.6f\" % (TN / (TN + FN)))"
   ]
  },
  {
   "cell_type": "code",
   "execution_count": 7,
   "metadata": {},
   "outputs": [
    {
     "name": "stdout",
     "output_type": "stream",
     "text": [
      "329\n",
      "43\n",
      "1986\n",
      "30\n",
      "PPV = 0.884409\n",
      "NPV = 0.985119\n"
     ]
    }
   ],
   "source": [
    "# NN (None)\n",
    "msqrob = pd.read_excel(\"./maxquant-NN_results-4_1.xlsx\", header=0)\n",
    "msqrob.dropna(subset=[\"estimate\", \"qval\"], how=\"any\", inplace=True)\n",
    "positive =  msqrob[(abs(msqrob[\"estimate\"]) >1) &(msqrob[\"qval\"] <0.05) ]\n",
    "negative = msqrob[(abs(msqrob[\"estimate\"]) <=1) | (msqrob[\"qval\"] >=0.05) ]\n",
    "\n",
    "TP = len(positive[positive.iloc[:,0].str.contains(\"YEAST\")])\n",
    "FP = len(positive) - TP\n",
    "\n",
    "FN = len(negative[negative.iloc[:,0].str.contains(\"YEAST\")])\n",
    "TN = len(negative) - FN\n",
    "\n",
    "print(TP)\n",
    "print(FP)\n",
    "print(TN)\n",
    "print(FN)\n",
    "\n",
    "print(\"PPV = %.6f\" % (TP / (TP + FP)))\n",
    "print(\"NPV = %.6f\" % (TN / (TN + FN)))"
   ]
  },
  {
   "cell_type": "markdown",
   "metadata": {},
   "source": [
    "### 10-1"
   ]
  },
  {
   "cell_type": "code",
   "execution_count": 8,
   "metadata": {},
   "outputs": [
    {
     "name": "stdout",
     "output_type": "stream",
     "text": [
      "339\n",
      "263\n",
      "1654\n",
      "24\n",
      "PPV = 0.563123\n",
      "NPV = 0.985697\n"
     ]
    }
   ],
   "source": [
    "# CM (center.median)\n",
    "msqrob = pd.read_excel(\"./maxquant-CM_results-10_1.xlsx\", header=0)\n",
    "msqrob.dropna(subset=[\"estimate\", \"qval\"], how=\"any\", inplace=True)\n",
    "positive =  msqrob[(abs(msqrob[\"estimate\"]) >1) &(msqrob[\"qval\"] <0.05) ]\n",
    "negative = msqrob[(abs(msqrob[\"estimate\"]) <=1) | (msqrob[\"qval\"] >=0.05) ]\n",
    "\n",
    "TP = len(positive[positive.iloc[:,0].str.contains(\"YEAST\")])\n",
    "FP = len(positive) - TP\n",
    "\n",
    "FN = len(negative[negative.iloc[:,0].str.contains(\"YEAST\")])\n",
    "TN = len(negative) - FN\n",
    "\n",
    "print(TP)\n",
    "print(FP)\n",
    "print(TN)\n",
    "print(FN)\n",
    "\n",
    "print(\"PPV = %.6f\" % (TP / (TP + FP)))\n",
    "print(\"NPV = %.6f\" % (TN / (TN + FN)))"
   ]
  },
  {
   "cell_type": "code",
   "execution_count": 9,
   "metadata": {},
   "outputs": [
    {
     "name": "stdout",
     "output_type": "stream",
     "text": [
      "341\n",
      "244\n",
      "1673\n",
      "22\n",
      "PPV = 0.582906\n",
      "NPV = 0.987021\n"
     ]
    }
   ],
   "source": [
    "# Q (quantiles)\n",
    "msqrob = pd.read_excel(\"./maxquant-Q_results-10_1.xlsx\", header=0)\n",
    "msqrob.dropna(subset=[\"estimate\", \"qval\"], how=\"any\", inplace=True)\n",
    "positive =  msqrob[(abs(msqrob[\"estimate\"]) >1) &(msqrob[\"qval\"] <0.05) ]\n",
    "negative = msqrob[(abs(msqrob[\"estimate\"]) <=1) | (msqrob[\"qval\"] >=0.05) ]\n",
    "\n",
    "TP = len(positive[positive.iloc[:,0].str.contains(\"YEAST\")])\n",
    "FP = len(positive) - TP\n",
    "\n",
    "FN = len(negative[negative.iloc[:,0].str.contains(\"YEAST\")])\n",
    "TN = len(negative) - FN\n",
    "\n",
    "print(TP)\n",
    "print(FP)\n",
    "print(TN)\n",
    "print(FN)\n",
    "\n",
    "print(\"PPV = %.6f\" % (TP / (TP + FP)))\n",
    "print(\"NPV = %.6f\" % (TN / (TN + FN)))"
   ]
  },
  {
   "cell_type": "code",
   "execution_count": 10,
   "metadata": {},
   "outputs": [
    {
     "name": "stdout",
     "output_type": "stream",
     "text": [
      "346\n",
      "102\n",
      "1815\n",
      "17\n",
      "PPV = 0.772321\n",
      "NPV = 0.990721\n"
     ]
    }
   ],
   "source": [
    "# NN (None)\n",
    "msqrob = pd.read_excel(\"./maxquant-NN_results-10_1.xlsx\", header=0)\n",
    "msqrob.dropna(subset=[\"estimate\", \"qval\"], how=\"any\", inplace=True)\n",
    "positive =  msqrob[(abs(msqrob[\"estimate\"]) >1) &(msqrob[\"qval\"] <0.05) ]\n",
    "negative = msqrob[(abs(msqrob[\"estimate\"]) <=1) | (msqrob[\"qval\"] >=0.05) ]\n",
    "\n",
    "TP = len(positive[positive.iloc[:,0].str.contains(\"YEAST\")])\n",
    "FP = len(positive) - TP\n",
    "\n",
    "FN = len(negative[negative.iloc[:,0].str.contains(\"YEAST\")])\n",
    "TN = len(negative) - FN\n",
    "\n",
    "print(TP)\n",
    "print(FP)\n",
    "print(TN)\n",
    "print(FN)\n",
    "\n",
    "print(\"PPV = %.6f\" % (TP / (TP + FP)))\n",
    "print(\"NPV = %.6f\" % (TN / (TN + FN)))"
   ]
  },
  {
   "cell_type": "markdown",
   "metadata": {},
   "source": [
    "# quantms"
   ]
  },
  {
   "cell_type": "markdown",
   "metadata": {},
   "source": [
    "### 4-1"
   ]
  },
  {
   "cell_type": "code",
   "execution_count": 11,
   "metadata": {},
   "outputs": [
    {
     "name": "stdout",
     "output_type": "stream",
     "text": [
      "108\n",
      "3\n",
      "2034\n",
      "420\n",
      "PPV = 0.972973\n",
      "NPV = 0.828851\n"
     ]
    }
   ],
   "source": [
    "# CM (center.median)\n",
    "msqrob = pd.read_excel(\"./quantms-CM_results-4_1.xlsx\", header=0)\n",
    "msqrob.dropna(subset=[\"estimate\", \"qval\"], how=\"any\", inplace=True)\n",
    "positive =  msqrob[(abs(msqrob[\"estimate\"]) >1) &(msqrob[\"qval\"] <0.05) ]\n",
    "negative = msqrob[(abs(msqrob[\"estimate\"]) <=1) | (msqrob[\"qval\"] >=0.05) ]\n",
    "\n",
    "TP = len(positive[positive.iloc[:,0].str.contains(\"YEAST\")])\n",
    "FP = len(positive) - TP\n",
    "\n",
    "FN = len(negative[negative.iloc[:,0].str.contains(\"YEAST\")])\n",
    "TN = len(negative) - FN\n",
    "\n",
    "print(TP)\n",
    "print(FP)\n",
    "print(TN)\n",
    "print(FN)\n",
    "\n",
    "print(\"PPV = %.6f\" % (TP / (TP + FP)))\n",
    "print(\"NPV = %.6f\" % (TN / (TN + FN)))"
   ]
  },
  {
   "cell_type": "code",
   "execution_count": 12,
   "metadata": {},
   "outputs": [
    {
     "name": "stdout",
     "output_type": "stream",
     "text": [
      "104\n",
      "3\n",
      "2034\n",
      "424\n",
      "PPV = 0.971963\n",
      "NPV = 0.827502\n"
     ]
    }
   ],
   "source": [
    "# Q (quantiles)\n",
    "msqrob = pd.read_excel(\"./quantms-Q_results-4_1.xlsx\", header=0)\n",
    "msqrob.dropna(subset=[\"estimate\", \"qval\"], how=\"any\", inplace=True)\n",
    "positive =  msqrob[(abs(msqrob[\"estimate\"]) >1) &(msqrob[\"qval\"] <0.05) ]\n",
    "negative = msqrob[(abs(msqrob[\"estimate\"]) <=1) | (msqrob[\"qval\"] >=0.05) ]\n",
    "\n",
    "TP = len(positive[positive.iloc[:,0].str.contains(\"YEAST\")])\n",
    "FP = len(positive) - TP\n",
    "\n",
    "FN = len(negative[negative.iloc[:,0].str.contains(\"YEAST\")])\n",
    "TN = len(negative) - FN\n",
    "\n",
    "print(TP)\n",
    "print(FP)\n",
    "print(TN)\n",
    "print(FN)\n",
    "\n",
    "print(\"PPV = %.6f\" % (TP / (TP + FP)))\n",
    "print(\"NPV = %.6f\" % (TN / (TN + FN)))"
   ]
  },
  {
   "cell_type": "code",
   "execution_count": 13,
   "metadata": {},
   "outputs": [
    {
     "name": "stdout",
     "output_type": "stream",
     "text": [
      "125\n",
      "3\n",
      "2034\n",
      "403\n",
      "PPV = 0.976562\n",
      "NPV = 0.834633\n"
     ]
    }
   ],
   "source": [
    "# NN (None)\n",
    "msqrob = pd.read_excel(\"./quantms-NN_results-4_1.xlsx\", header=0)\n",
    "msqrob.dropna(subset=[\"estimate\", \"qval\"], how=\"any\", inplace=True)\n",
    "positive =  msqrob[(abs(msqrob[\"estimate\"]) >1) &(msqrob[\"qval\"] <0.05) ]\n",
    "negative = msqrob[(abs(msqrob[\"estimate\"]) <=1) | (msqrob[\"qval\"] >=0.05) ]\n",
    "\n",
    "TP = len(positive[positive.iloc[:,0].str.contains(\"YEAST\")])\n",
    "FP = len(positive) - TP\n",
    "\n",
    "FN = len(negative[negative.iloc[:,0].str.contains(\"YEAST\")])\n",
    "TN = len(negative) - FN\n",
    "\n",
    "print(TP)\n",
    "print(FP)\n",
    "print(TN)\n",
    "print(FN)\n",
    "\n",
    "print(\"PPV = %.6f\" % (TP / (TP + FP)))\n",
    "print(\"NPV = %.6f\" % (TN / (TN + FN)))"
   ]
  },
  {
   "cell_type": "markdown",
   "metadata": {},
   "source": [
    "### 10-1"
   ]
  },
  {
   "cell_type": "code",
   "execution_count": 14,
   "metadata": {},
   "outputs": [
    {
     "name": "stdout",
     "output_type": "stream",
     "text": [
      "222\n",
      "72\n",
      "1910\n",
      "308\n",
      "PPV = 0.755102\n",
      "NPV = 0.861136\n"
     ]
    }
   ],
   "source": [
    "# CM (center.median)\n",
    "msqrob = pd.read_excel(\"./quantms-CM_results-10_1.xlsx\", header=0)\n",
    "msqrob.dropna(subset=[\"estimate\", \"qval\"], how=\"any\", inplace=True)\n",
    "positive =  msqrob[(abs(msqrob[\"estimate\"]) >1) &(msqrob[\"qval\"] <0.05) ]\n",
    "negative = msqrob[(abs(msqrob[\"estimate\"]) <=1) | (msqrob[\"qval\"] >=0.05) ]\n",
    "\n",
    "TP = len(positive[positive.iloc[:,0].str.contains(\"YEAST\")])\n",
    "FP = len(positive) - TP\n",
    "\n",
    "FN = len(negative[negative.iloc[:,0].str.contains(\"YEAST\")])\n",
    "TN = len(negative) - FN\n",
    "\n",
    "print(TP)\n",
    "print(FP)\n",
    "print(TN)\n",
    "print(FN)\n",
    "\n",
    "print(\"PPV = %.6f\" % (TP / (TP + FP)))\n",
    "print(\"NPV = %.6f\" % (TN / (TN + FN)))"
   ]
  },
  {
   "cell_type": "code",
   "execution_count": 15,
   "metadata": {},
   "outputs": [
    {
     "name": "stdout",
     "output_type": "stream",
     "text": [
      "222\n",
      "46\n",
      "1936\n",
      "308\n",
      "PPV = 0.828358\n",
      "NPV = 0.862745\n"
     ]
    }
   ],
   "source": [
    "# Q (quantiles)\n",
    "msqrob = pd.read_excel(\"./quantms-Q_results-10_1.xlsx\", header=0)\n",
    "msqrob.dropna(subset=[\"estimate\", \"qval\"], how=\"any\", inplace=True)\n",
    "positive =  msqrob[(abs(msqrob[\"estimate\"]) >1) &(msqrob[\"qval\"] <0.05) ]\n",
    "negative = msqrob[(abs(msqrob[\"estimate\"]) <=1) | (msqrob[\"qval\"] >=0.05) ]\n",
    "\n",
    "TP = len(positive[positive.iloc[:,0].str.contains(\"YEAST\")])\n",
    "FP = len(positive) - TP\n",
    "\n",
    "FN = len(negative[negative.iloc[:,0].str.contains(\"YEAST\")])\n",
    "TN = len(negative) - FN\n",
    "\n",
    "print(TP)\n",
    "print(FP)\n",
    "print(TN)\n",
    "print(FN)\n",
    "\n",
    "print(\"PPV = %.6f\" % (TP / (TP + FP)))\n",
    "print(\"NPV = %.6f\" % (TN / (TN + FN)))"
   ]
  },
  {
   "cell_type": "code",
   "execution_count": 16,
   "metadata": {},
   "outputs": [
    {
     "name": "stdout",
     "output_type": "stream",
     "text": [
      "241\n",
      "5\n",
      "1977\n",
      "289\n",
      "PPV = 0.979675\n",
      "NPV = 0.872462\n"
     ]
    }
   ],
   "source": [
    "# NN (None)\n",
    "msqrob = pd.read_excel(\"./quantms-NN_results-10_1.xlsx\", header=0)\n",
    "msqrob.dropna(subset=[\"estimate\", \"qval\"], how=\"any\", inplace=True)\n",
    "positive =  msqrob[(abs(msqrob[\"estimate\"]) >1) &(msqrob[\"qval\"] <0.05) ]\n",
    "negative = msqrob[(abs(msqrob[\"estimate\"]) <=1) | (msqrob[\"qval\"] >=0.05) ]\n",
    "\n",
    "TP = len(positive[positive.iloc[:,0].str.contains(\"YEAST\")])\n",
    "FP = len(positive) - TP\n",
    "\n",
    "FN = len(negative[negative.iloc[:,0].str.contains(\"YEAST\")])\n",
    "TN = len(negative) - FN\n",
    "\n",
    "print(TP)\n",
    "print(FP)\n",
    "print(TN)\n",
    "print(FN)\n",
    "\n",
    "print(\"PPV = %.6f\" % (TP / (TP + FP)))\n",
    "print(\"NPV = %.6f\" % (TN / (TN + FN)))"
   ]
  },
  {
   "cell_type": "code",
   "execution_count": null,
   "metadata": {},
   "outputs": [],
   "source": []
  },
  {
   "cell_type": "code",
   "execution_count": 17,
   "metadata": {},
   "outputs": [
    {
     "ename": "FileNotFoundError",
     "evalue": "[Errno 2] No such file or directory: './test-maxquant-CM_results-4_1.xlsx'",
     "output_type": "error",
     "traceback": [
      "\u001b[1;31m---------------------------------------------------------------------------\u001b[0m",
      "\u001b[1;31mFileNotFoundError\u001b[0m                         Traceback (most recent call last)",
      "\u001b[1;32m<ipython-input-17-00e093256f43>\u001b[0m in \u001b[0;36m<module>\u001b[1;34m\u001b[0m\n\u001b[0;32m      1\u001b[0m \u001b[1;31m# CM (center.median)\u001b[0m\u001b[1;33m\u001b[0m\u001b[1;33m\u001b[0m\u001b[1;33m\u001b[0m\u001b[0m\n\u001b[1;32m----> 2\u001b[1;33m \u001b[0mmsqrob\u001b[0m \u001b[1;33m=\u001b[0m \u001b[0mpd\u001b[0m\u001b[1;33m.\u001b[0m\u001b[0mread_excel\u001b[0m\u001b[1;33m(\u001b[0m\u001b[1;34m\"./test-maxquant-CM_results-4_1.xlsx\"\u001b[0m\u001b[1;33m,\u001b[0m \u001b[0mheader\u001b[0m\u001b[1;33m=\u001b[0m\u001b[1;36m0\u001b[0m\u001b[1;33m)\u001b[0m\u001b[1;33m\u001b[0m\u001b[1;33m\u001b[0m\u001b[0m\n\u001b[0m\u001b[0;32m      3\u001b[0m \u001b[0mmsqrob\u001b[0m\u001b[1;33m.\u001b[0m\u001b[0mdropna\u001b[0m\u001b[1;33m(\u001b[0m\u001b[0msubset\u001b[0m\u001b[1;33m=\u001b[0m\u001b[1;33m[\u001b[0m\u001b[1;34m\"estimate\"\u001b[0m\u001b[1;33m,\u001b[0m \u001b[1;34m\"qval\"\u001b[0m\u001b[1;33m]\u001b[0m\u001b[1;33m,\u001b[0m \u001b[0mhow\u001b[0m\u001b[1;33m=\u001b[0m\u001b[1;34m\"any\"\u001b[0m\u001b[1;33m,\u001b[0m \u001b[0minplace\u001b[0m\u001b[1;33m=\u001b[0m\u001b[1;32mTrue\u001b[0m\u001b[1;33m)\u001b[0m\u001b[1;33m\u001b[0m\u001b[1;33m\u001b[0m\u001b[0m\n\u001b[0;32m      4\u001b[0m \u001b[0mpositive\u001b[0m \u001b[1;33m=\u001b[0m  \u001b[0mmsqrob\u001b[0m\u001b[1;33m[\u001b[0m\u001b[1;33m(\u001b[0m\u001b[0mabs\u001b[0m\u001b[1;33m(\u001b[0m\u001b[0mmsqrob\u001b[0m\u001b[1;33m[\u001b[0m\u001b[1;34m\"estimate\"\u001b[0m\u001b[1;33m]\u001b[0m\u001b[1;33m)\u001b[0m \u001b[1;33m>\u001b[0m\u001b[1;36m1\u001b[0m\u001b[1;33m)\u001b[0m \u001b[1;33m&\u001b[0m\u001b[1;33m(\u001b[0m\u001b[0mmsqrob\u001b[0m\u001b[1;33m[\u001b[0m\u001b[1;34m\"qval\"\u001b[0m\u001b[1;33m]\u001b[0m \u001b[1;33m<\u001b[0m\u001b[1;36m0.05\u001b[0m\u001b[1;33m)\u001b[0m \u001b[1;33m]\u001b[0m\u001b[1;33m\u001b[0m\u001b[1;33m\u001b[0m\u001b[0m\n\u001b[0;32m      5\u001b[0m \u001b[0mnegative\u001b[0m \u001b[1;33m=\u001b[0m \u001b[0mmsqrob\u001b[0m\u001b[1;33m[\u001b[0m\u001b[1;33m(\u001b[0m\u001b[0mabs\u001b[0m\u001b[1;33m(\u001b[0m\u001b[0mmsqrob\u001b[0m\u001b[1;33m[\u001b[0m\u001b[1;34m\"estimate\"\u001b[0m\u001b[1;33m]\u001b[0m\u001b[1;33m)\u001b[0m \u001b[1;33m<=\u001b[0m\u001b[1;36m1\u001b[0m\u001b[1;33m)\u001b[0m \u001b[1;33m|\u001b[0m \u001b[1;33m(\u001b[0m\u001b[0mmsqrob\u001b[0m\u001b[1;33m[\u001b[0m\u001b[1;34m\"qval\"\u001b[0m\u001b[1;33m]\u001b[0m \u001b[1;33m>=\u001b[0m\u001b[1;36m0.05\u001b[0m\u001b[1;33m)\u001b[0m \u001b[1;33m]\u001b[0m\u001b[1;33m\u001b[0m\u001b[1;33m\u001b[0m\u001b[0m\n",
      "\u001b[1;32mD:\\need_software\\anaconda3\\lib\\site-packages\\pandas\\util\\_decorators.py\u001b[0m in \u001b[0;36mwrapper\u001b[1;34m(*args, **kwargs)\u001b[0m\n\u001b[0;32m    309\u001b[0m                     \u001b[0mstacklevel\u001b[0m\u001b[1;33m=\u001b[0m\u001b[0mstacklevel\u001b[0m\u001b[1;33m,\u001b[0m\u001b[1;33m\u001b[0m\u001b[1;33m\u001b[0m\u001b[0m\n\u001b[0;32m    310\u001b[0m                 )\n\u001b[1;32m--> 311\u001b[1;33m             \u001b[1;32mreturn\u001b[0m \u001b[0mfunc\u001b[0m\u001b[1;33m(\u001b[0m\u001b[1;33m*\u001b[0m\u001b[0margs\u001b[0m\u001b[1;33m,\u001b[0m \u001b[1;33m**\u001b[0m\u001b[0mkwargs\u001b[0m\u001b[1;33m)\u001b[0m\u001b[1;33m\u001b[0m\u001b[1;33m\u001b[0m\u001b[0m\n\u001b[0m\u001b[0;32m    312\u001b[0m \u001b[1;33m\u001b[0m\u001b[0m\n\u001b[0;32m    313\u001b[0m         \u001b[1;32mreturn\u001b[0m \u001b[0mwrapper\u001b[0m\u001b[1;33m\u001b[0m\u001b[1;33m\u001b[0m\u001b[0m\n",
      "\u001b[1;32mD:\\need_software\\anaconda3\\lib\\site-packages\\pandas\\io\\excel\\_base.py\u001b[0m in \u001b[0;36mread_excel\u001b[1;34m(io, sheet_name, header, names, index_col, usecols, squeeze, dtype, engine, converters, true_values, false_values, skiprows, nrows, na_values, keep_default_na, na_filter, verbose, parse_dates, date_parser, thousands, comment, skipfooter, convert_float, mangle_dupe_cols, storage_options)\u001b[0m\n\u001b[0;32m    362\u001b[0m     \u001b[1;32mif\u001b[0m \u001b[1;32mnot\u001b[0m \u001b[0misinstance\u001b[0m\u001b[1;33m(\u001b[0m\u001b[0mio\u001b[0m\u001b[1;33m,\u001b[0m \u001b[0mExcelFile\u001b[0m\u001b[1;33m)\u001b[0m\u001b[1;33m:\u001b[0m\u001b[1;33m\u001b[0m\u001b[1;33m\u001b[0m\u001b[0m\n\u001b[0;32m    363\u001b[0m         \u001b[0mshould_close\u001b[0m \u001b[1;33m=\u001b[0m \u001b[1;32mTrue\u001b[0m\u001b[1;33m\u001b[0m\u001b[1;33m\u001b[0m\u001b[0m\n\u001b[1;32m--> 364\u001b[1;33m         \u001b[0mio\u001b[0m \u001b[1;33m=\u001b[0m \u001b[0mExcelFile\u001b[0m\u001b[1;33m(\u001b[0m\u001b[0mio\u001b[0m\u001b[1;33m,\u001b[0m \u001b[0mstorage_options\u001b[0m\u001b[1;33m=\u001b[0m\u001b[0mstorage_options\u001b[0m\u001b[1;33m,\u001b[0m \u001b[0mengine\u001b[0m\u001b[1;33m=\u001b[0m\u001b[0mengine\u001b[0m\u001b[1;33m)\u001b[0m\u001b[1;33m\u001b[0m\u001b[1;33m\u001b[0m\u001b[0m\n\u001b[0m\u001b[0;32m    365\u001b[0m     \u001b[1;32melif\u001b[0m \u001b[0mengine\u001b[0m \u001b[1;32mand\u001b[0m \u001b[0mengine\u001b[0m \u001b[1;33m!=\u001b[0m \u001b[0mio\u001b[0m\u001b[1;33m.\u001b[0m\u001b[0mengine\u001b[0m\u001b[1;33m:\u001b[0m\u001b[1;33m\u001b[0m\u001b[1;33m\u001b[0m\u001b[0m\n\u001b[0;32m    366\u001b[0m         raise ValueError(\n",
      "\u001b[1;32mD:\\need_software\\anaconda3\\lib\\site-packages\\pandas\\io\\excel\\_base.py\u001b[0m in \u001b[0;36m__init__\u001b[1;34m(self, path_or_buffer, engine, storage_options)\u001b[0m\n\u001b[0;32m   1190\u001b[0m             \u001b[1;32melse\u001b[0m\u001b[1;33m:\u001b[0m\u001b[1;33m\u001b[0m\u001b[1;33m\u001b[0m\u001b[0m\n\u001b[0;32m   1191\u001b[0m                 ext = inspect_excel_format(\n\u001b[1;32m-> 1192\u001b[1;33m                     \u001b[0mcontent_or_path\u001b[0m\u001b[1;33m=\u001b[0m\u001b[0mpath_or_buffer\u001b[0m\u001b[1;33m,\u001b[0m \u001b[0mstorage_options\u001b[0m\u001b[1;33m=\u001b[0m\u001b[0mstorage_options\u001b[0m\u001b[1;33m\u001b[0m\u001b[1;33m\u001b[0m\u001b[0m\n\u001b[0m\u001b[0;32m   1193\u001b[0m                 )\n\u001b[0;32m   1194\u001b[0m                 \u001b[1;32mif\u001b[0m \u001b[0mext\u001b[0m \u001b[1;32mis\u001b[0m \u001b[1;32mNone\u001b[0m\u001b[1;33m:\u001b[0m\u001b[1;33m\u001b[0m\u001b[1;33m\u001b[0m\u001b[0m\n",
      "\u001b[1;32mD:\\need_software\\anaconda3\\lib\\site-packages\\pandas\\io\\excel\\_base.py\u001b[0m in \u001b[0;36minspect_excel_format\u001b[1;34m(content_or_path, storage_options)\u001b[0m\n\u001b[0;32m   1069\u001b[0m \u001b[1;33m\u001b[0m\u001b[0m\n\u001b[0;32m   1070\u001b[0m     with get_handle(\n\u001b[1;32m-> 1071\u001b[1;33m         \u001b[0mcontent_or_path\u001b[0m\u001b[1;33m,\u001b[0m \u001b[1;34m\"rb\"\u001b[0m\u001b[1;33m,\u001b[0m \u001b[0mstorage_options\u001b[0m\u001b[1;33m=\u001b[0m\u001b[0mstorage_options\u001b[0m\u001b[1;33m,\u001b[0m \u001b[0mis_text\u001b[0m\u001b[1;33m=\u001b[0m\u001b[1;32mFalse\u001b[0m\u001b[1;33m\u001b[0m\u001b[1;33m\u001b[0m\u001b[0m\n\u001b[0m\u001b[0;32m   1072\u001b[0m     ) as handle:\n\u001b[0;32m   1073\u001b[0m         \u001b[0mstream\u001b[0m \u001b[1;33m=\u001b[0m \u001b[0mhandle\u001b[0m\u001b[1;33m.\u001b[0m\u001b[0mhandle\u001b[0m\u001b[1;33m\u001b[0m\u001b[1;33m\u001b[0m\u001b[0m\n",
      "\u001b[1;32mD:\\need_software\\anaconda3\\lib\\site-packages\\pandas\\io\\common.py\u001b[0m in \u001b[0;36mget_handle\u001b[1;34m(path_or_buf, mode, encoding, compression, memory_map, is_text, errors, storage_options)\u001b[0m\n\u001b[0;32m    709\u001b[0m         \u001b[1;32melse\u001b[0m\u001b[1;33m:\u001b[0m\u001b[1;33m\u001b[0m\u001b[1;33m\u001b[0m\u001b[0m\n\u001b[0;32m    710\u001b[0m             \u001b[1;31m# Binary mode\u001b[0m\u001b[1;33m\u001b[0m\u001b[1;33m\u001b[0m\u001b[1;33m\u001b[0m\u001b[0m\n\u001b[1;32m--> 711\u001b[1;33m             \u001b[0mhandle\u001b[0m \u001b[1;33m=\u001b[0m \u001b[0mopen\u001b[0m\u001b[1;33m(\u001b[0m\u001b[0mhandle\u001b[0m\u001b[1;33m,\u001b[0m \u001b[0mioargs\u001b[0m\u001b[1;33m.\u001b[0m\u001b[0mmode\u001b[0m\u001b[1;33m)\u001b[0m\u001b[1;33m\u001b[0m\u001b[1;33m\u001b[0m\u001b[0m\n\u001b[0m\u001b[0;32m    712\u001b[0m         \u001b[0mhandles\u001b[0m\u001b[1;33m.\u001b[0m\u001b[0mappend\u001b[0m\u001b[1;33m(\u001b[0m\u001b[0mhandle\u001b[0m\u001b[1;33m)\u001b[0m\u001b[1;33m\u001b[0m\u001b[1;33m\u001b[0m\u001b[0m\n\u001b[0;32m    713\u001b[0m \u001b[1;33m\u001b[0m\u001b[0m\n",
      "\u001b[1;31mFileNotFoundError\u001b[0m: [Errno 2] No such file or directory: './test-maxquant-CM_results-4_1.xlsx'"
     ]
    }
   ],
   "source": [
    "# CM (center.median)\n",
    "msqrob = pd.read_excel(\"./test-maxquant-CM_results-4_1.xlsx\", header=0)\n",
    "msqrob.dropna(subset=[\"estimate\", \"qval\"], how=\"any\", inplace=True)\n",
    "positive =  msqrob[(abs(msqrob[\"estimate\"]) >1) &(msqrob[\"qval\"] <0.05) ]\n",
    "negative = msqrob[(abs(msqrob[\"estimate\"]) <=1) | (msqrob[\"qval\"] >=0.05) ]\n",
    "\n",
    "TP = len(positive[positive.iloc[:,0].str.contains(\"YEAST\")])\n",
    "FP = len(positive) - TP\n",
    "\n",
    "FN = len(negative[negative.iloc[:,0].str.contains(\"YEAST\")])\n",
    "TN = len(negative) - FN\n",
    "\n",
    "print(TP)\n",
    "print(FP)\n",
    "print(TN)\n",
    "print(FN)\n",
    "\n",
    "print(\"PPV = %.6f\" % (TP / (TP + FP)))\n",
    "print(\"NPV = %.6f\" % (TN / (TN + FN)))"
   ]
  },
  {
   "cell_type": "code",
   "execution_count": null,
   "metadata": {},
   "outputs": [],
   "source": [
    "# CM (center.median)\n",
    "msqrob = pd.read_excel(\"./test-maxquant-CM_results-10_1.xlsx\", header=0)\n",
    "msqrob.dropna(subset=[\"estimate\", \"qval\"], how=\"any\", inplace=True)\n",
    "positive =  msqrob[(abs(msqrob[\"estimate\"]) >1) &(msqrob[\"qval\"] <0.05) ]\n",
    "negative = msqrob[(abs(msqrob[\"estimate\"]) <=1) | (msqrob[\"qval\"] >=0.05) ]\n",
    "\n",
    "TP = len(positive[positive.iloc[:,0].str.contains(\"YEAST\")])\n",
    "FP = len(positive) - TP\n",
    "\n",
    "FN = len(negative[negative.iloc[:,0].str.contains(\"YEAST\")])\n",
    "TN = len(negative) - FN\n",
    "\n",
    "print(TP)\n",
    "print(FP)\n",
    "print(TN)\n",
    "print(FN)\n",
    "\n",
    "print(\"PPV = %.6f\" % (TP / (TP + FP)))\n",
    "print(\"NPV = %.6f\" % (TN / (TN + FN)))"
   ]
  },
  {
   "cell_type": "code",
   "execution_count": null,
   "metadata": {},
   "outputs": [],
   "source": []
  }
 ],
 "metadata": {
  "kernelspec": {
   "display_name": "douer(base)",
   "language": "python",
   "name": "base"
  },
  "language_info": {
   "codemirror_mode": {
    "name": "ipython",
    "version": 3
   },
   "file_extension": ".py",
   "mimetype": "text/x-python",
   "name": "python",
   "nbconvert_exporter": "python",
   "pygments_lexer": "ipython3",
   "version": "3.7.6"
  }
 },
 "nbformat": 4,
 "nbformat_minor": 4
}
