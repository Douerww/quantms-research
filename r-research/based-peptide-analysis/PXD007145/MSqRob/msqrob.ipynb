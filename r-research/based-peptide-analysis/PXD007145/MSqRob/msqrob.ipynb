{
 "cells": [
  {
   "cell_type": "code",
   "execution_count": 7,
   "metadata": {},
   "outputs": [],
   "source": [
    "import pandas as pd"
   ]
  },
  {
   "cell_type": "markdown",
   "metadata": {},
   "source": [
    "# 4-1"
   ]
  },
  {
   "cell_type": "code",
   "execution_count": 8,
   "metadata": {},
   "outputs": [
    {
     "name": "stdout",
     "output_type": "stream",
     "text": [
      "368\n",
      "34\n",
      "1973\n",
      "153\n",
      "PPV = 0.915423\n",
      "NPV = 0.928034\n"
     ]
    }
   ],
   "source": [
    "# quantms\n",
    "msqrob = pd.read_excel(\"./project_results-quantms-4_1.xlsx\", header=0)\n",
    "msqrob.dropna(subset=[\"estimate\", \"qval\"], how=\"any\", inplace=True)\n",
    "positive =  msqrob[(abs(msqrob[\"estimate\"]) >1) &(msqrob[\"qval\"] <0.05) ]\n",
    "negative = msqrob[(abs(msqrob[\"estimate\"]) <=1) | (msqrob[\"qval\"] >=0.05) ]\n",
    "\n",
    "TP = len(positive[positive.iloc[:,0].str.contains(\"YEAST\")])\n",
    "FP = len(positive) - TP\n",
    "\n",
    "FN = len(negative[negative.iloc[:,0].str.contains(\"YEAST\")])\n",
    "TN = len(negative) - FN\n",
    "\n",
    "print(TP)\n",
    "print(FP)\n",
    "print(TN)\n",
    "print(FN)\n",
    "\n",
    "print(\"PPV = %.6f\" % (TP / (TP + FP)))\n",
    "print(\"NPV = %.6f\" % (TN / (TN + FN)))"
   ]
  },
  {
   "cell_type": "code",
   "execution_count": 9,
   "metadata": {},
   "outputs": [
    {
     "name": "stdout",
     "output_type": "stream",
     "text": [
      "101\n",
      "35\n",
      "1393\n",
      "13\n",
      "PPV = 0.742647\n",
      "NPV = 0.990754\n"
     ]
    }
   ],
   "source": [
    "# maxquant\n",
    "msqrob = pd.read_excel(\"./project_results-maxquant_4-1.xlsx\", header=0)\n",
    "msqrob.dropna(subset=[\"estimate\", \"qval\"], how=\"any\", inplace=True)\n",
    "positive =  msqrob[(abs(msqrob[\"estimate\"]) >1) &(msqrob[\"qval\"] <0.05) ]\n",
    "negative = msqrob[(abs(msqrob[\"estimate\"]) <=1) | (msqrob[\"qval\"] >=0.05) ]\n",
    "\n",
    "TP = len(positive[positive.iloc[:,0].str.contains(\"YEAST\")])\n",
    "FP = len(positive) - TP\n",
    "\n",
    "FN = len(negative[negative.iloc[:,0].str.contains(\"YEAST\")])\n",
    "TN = len(negative) - FN\n",
    "\n",
    "print(TP)\n",
    "print(FP)\n",
    "print(TN)\n",
    "print(FN)\n",
    "\n",
    "print(\"PPV = %.6f\" % (TP / (TP + FP)))\n",
    "print(\"NPV = %.6f\" % (TN / (TN + FN)))"
   ]
  },
  {
   "cell_type": "markdown",
   "metadata": {},
   "source": [
    "# 10-1"
   ]
  },
  {
   "cell_type": "code",
   "execution_count": 10,
   "metadata": {},
   "outputs": [
    {
     "name": "stdout",
     "output_type": "stream",
     "text": [
      "426\n",
      "88\n",
      "1872\n",
      "102\n",
      "PPV = 0.828794\n",
      "NPV = 0.948328\n"
     ]
    }
   ],
   "source": [
    "# quantms\n",
    "msqrob = pd.read_excel(\"./project_results-quantms-10_1.xlsx\", header=0)\n",
    "msqrob.dropna(subset=[\"estimate\", \"qval\"], how=\"any\", inplace=True)\n",
    "positive =  msqrob[(abs(msqrob[\"estimate\"]) >1) &(msqrob[\"qval\"] <0.05) ]\n",
    "negative = msqrob[(abs(msqrob[\"estimate\"]) <=1) | (msqrob[\"qval\"] >=0.05) ]\n",
    "\n",
    "TP = len(positive[positive.iloc[:,0].str.contains(\"YEAST\")])\n",
    "FP = len(positive) - TP\n",
    "\n",
    "FN = len(negative[negative.iloc[:,0].str.contains(\"YEAST\")])\n",
    "TN = len(negative) - FN\n",
    "\n",
    "print(TP)\n",
    "print(FP)\n",
    "print(TN)\n",
    "print(FN)\n",
    "\n",
    "print(\"PPV = %.6f\" % (TP / (TP + FP)))\n",
    "print(\"NPV = %.6f\" % (TN / (TN + FN)))"
   ]
  },
  {
   "cell_type": "code",
   "execution_count": 11,
   "metadata": {},
   "outputs": [
    {
     "name": "stdout",
     "output_type": "stream",
     "text": [
      "99\n",
      "101\n",
      "1200\n",
      "14\n",
      "PPV = 0.495000\n",
      "NPV = 0.988468\n"
     ]
    }
   ],
   "source": [
    "# maxquant\n",
    "msqrob = pd.read_excel(\"./project_results-maxquant_10-1.xlsx\", header=0)\n",
    "msqrob.dropna(subset=[\"estimate\", \"qval\"], how=\"any\", inplace=True)\n",
    "positive =  msqrob[(abs(msqrob[\"estimate\"]) >1) &(msqrob[\"qval\"] <0.05) ]\n",
    "negative = msqrob[(abs(msqrob[\"estimate\"]) <=1) | (msqrob[\"qval\"] >=0.05) ]\n",
    "\n",
    "TP = len(positive[positive.iloc[:,0].str.contains(\"YEAST\")])\n",
    "FP = len(positive) - TP\n",
    "\n",
    "FN = len(negative[negative.iloc[:,0].str.contains(\"YEAST\")])\n",
    "TN = len(negative) - FN\n",
    "\n",
    "print(TP)\n",
    "print(FP)\n",
    "print(TN)\n",
    "print(FN)\n",
    "\n",
    "print(\"PPV = %.6f\" % (TP / (TP + FP)))\n",
    "print(\"NPV = %.6f\" % (TN / (TN + FN)))"
   ]
  },
  {
   "cell_type": "code",
   "execution_count": null,
   "metadata": {},
   "outputs": [],
   "source": []
  }
 ],
 "metadata": {
  "kernelspec": {
   "display_name": "douer(base)",
   "language": "python",
   "name": "base"
  },
  "language_info": {
   "codemirror_mode": {
    "name": "ipython",
    "version": 3
   },
   "file_extension": ".py",
   "mimetype": "text/x-python",
   "name": "python",
   "nbconvert_exporter": "python",
   "pygments_lexer": "ipython3",
   "version": "3.7.6"
  }
 },
 "nbformat": 4,
 "nbformat_minor": 4
}
