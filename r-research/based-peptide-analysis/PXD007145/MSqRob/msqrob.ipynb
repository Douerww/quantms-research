{
 "cells": [
  {
   "cell_type": "code",
   "execution_count": 1,
   "metadata": {},
   "outputs": [],
   "source": [
    "import pandas as pd"
   ]
  },
  {
   "cell_type": "markdown",
   "metadata": {},
   "source": [
    "# 4-1"
   ]
  },
  {
   "cell_type": "code",
   "execution_count": 3,
   "metadata": {},
   "outputs": [
    {
     "name": "stdout",
     "output_type": "stream",
     "text": [
      "112\n",
      "36\n",
      "1734\n",
      "26\n",
      "PPV = 0.756757\n",
      "NPV = 0.985227\n"
     ]
    }
   ],
   "source": [
    "# maxquant\n",
    "msqrob = pd.read_excel(\"./project_results-maxquant-4_1.xlsx\", header=0)\n",
    "msqrob.dropna(subset=[\"estimate\", \"qval\"], how=\"any\", inplace=True)\n",
    "positive =  msqrob[(abs(msqrob[\"estimate\"]) >1) &(msqrob[\"qval\"] <0.05) ]\n",
    "negative = msqrob[(abs(msqrob[\"estimate\"]) <=1) | (msqrob[\"qval\"] >=0.05) ]\n",
    "\n",
    "TP = len(positive[positive.iloc[:,0].str.contains(\"YEAST\")])\n",
    "FP = len(positive) - TP\n",
    "\n",
    "FN = len(negative[negative.iloc[:,0].str.contains(\"YEAST\")])\n",
    "TN = len(negative) - FN\n",
    "\n",
    "print(TP)\n",
    "print(FP)\n",
    "print(TN)\n",
    "print(FN)\n",
    "\n",
    "print(\"PPV = %.6f\" % (TP / (TP + FP)))\n",
    "print(\"NPV = %.6f\" % (TN / (TN + FN)))"
   ]
  },
  {
   "cell_type": "markdown",
   "metadata": {},
   "source": [
    "# 10-1"
   ]
  },
  {
   "cell_type": "code",
   "execution_count": 4,
   "metadata": {},
   "outputs": [
    {
     "name": "stdout",
     "output_type": "stream",
     "text": [
      "113\n",
      "108\n",
      "1464\n",
      "24\n",
      "PPV = 0.511312\n",
      "NPV = 0.983871\n"
     ]
    }
   ],
   "source": [
    "# maxquant\n",
    "msqrob = pd.read_excel(\"./project_results-maxquant-10_1.xlsx\", header=0)\n",
    "msqrob.dropna(subset=[\"estimate\", \"qval\"], how=\"any\", inplace=True)\n",
    "positive =  msqrob[(abs(msqrob[\"estimate\"]) >1) &(msqrob[\"qval\"] <0.05) ]\n",
    "negative = msqrob[(abs(msqrob[\"estimate\"]) <=1) | (msqrob[\"qval\"] >=0.05) ]\n",
    "\n",
    "TP = len(positive[positive.iloc[:,0].str.contains(\"YEAST\")])\n",
    "FP = len(positive) - TP\n",
    "\n",
    "FN = len(negative[negative.iloc[:,0].str.contains(\"YEAST\")])\n",
    "TN = len(negative) - FN\n",
    "\n",
    "print(TP)\n",
    "print(FP)\n",
    "print(TN)\n",
    "print(FN)\n",
    "\n",
    "print(\"PPV = %.6f\" % (TP / (TP + FP)))\n",
    "print(\"NPV = %.6f\" % (TN / (TN + FN)))"
   ]
  },
  {
   "cell_type": "code",
   "execution_count": null,
   "metadata": {},
   "outputs": [],
   "source": []
  }
 ],
 "metadata": {
  "kernelspec": {
   "display_name": "douer(base)",
   "language": "python",
   "name": "base"
  },
  "language_info": {
   "codemirror_mode": {
    "name": "ipython",
    "version": 3
   },
   "file_extension": ".py",
   "mimetype": "text/x-python",
   "name": "python",
   "nbconvert_exporter": "python",
   "pygments_lexer": "ipython3",
   "version": "3.7.6"
  }
 },
 "nbformat": 4,
 "nbformat_minor": 4
}
