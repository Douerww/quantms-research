{
 "cells": [
  {
   "cell_type": "code",
   "execution_count": 1,
   "metadata": {},
   "outputs": [],
   "source": [
    "import pandas as pd"
   ]
  },
  {
   "cell_type": "markdown",
   "metadata": {},
   "source": [
    "# maxquant"
   ]
  },
  {
   "cell_type": "markdown",
   "metadata": {},
   "source": [
    "### 4-1"
   ]
  },
  {
   "cell_type": "code",
   "execution_count": 2,
   "metadata": {},
   "outputs": [
    {
     "name": "stdout",
     "output_type": "stream",
     "text": [
      "324\n",
      "81\n",
      "1794\n",
      "34\n",
      "PPV = 0.800000\n",
      "NPV = 0.981400\n"
     ]
    }
   ],
   "source": [
    "# CM (center.median)\n",
    "msqrob = pd.read_csv(\"./PXD007145-4FC-maxquant-dep-CM.csv\", header=0)\n",
    "msqrob.dropna(subset=[\"logFC\", \"adjPval\"], how=\"any\", inplace=True)\n",
    "positive =  msqrob[(abs(msqrob[\"logFC\"]) >1) &(msqrob[\"adjPval\"] <0.05) ]\n",
    "negative = msqrob[(abs(msqrob[\"logFC\"]) <=1) | (msqrob[\"adjPval\"] >=0.05) ]\n",
    "\n",
    "TP = len(positive[positive.iloc[:,0].str.contains(\"YEAST\")])\n",
    "FP = len(positive) - TP\n",
    "\n",
    "FN = len(negative[negative.iloc[:,0].str.contains(\"YEAST\")])\n",
    "TN = len(negative) - FN\n",
    "\n",
    "print(TP)\n",
    "print(FP)\n",
    "print(TN)\n",
    "print(FN)\n",
    "\n",
    "print(\"PPV = %.6f\" % (TP / (TP + FP)))\n",
    "print(\"NPV = %.6f\" % (TN / (TN + FN)))"
   ]
  },
  {
   "cell_type": "code",
   "execution_count": 3,
   "metadata": {},
   "outputs": [
    {
     "name": "stdout",
     "output_type": "stream",
     "text": [
      "325\n",
      "77\n",
      "1797\n",
      "33\n",
      "PPV = 0.808458\n",
      "NPV = 0.981967\n"
     ]
    }
   ],
   "source": [
    "# Q (quantiles)\n",
    "msqrob = pd.read_csv(\"./PXD007145-4FC-maxquant-dep-Q.csv\", header=0)\n",
    "msqrob.dropna(subset=[\"logFC\", \"adjPval\"], how=\"any\", inplace=True)\n",
    "positive =  msqrob[(abs(msqrob[\"logFC\"]) >1) &(msqrob[\"adjPval\"] <0.05) ]\n",
    "negative = msqrob[(abs(msqrob[\"logFC\"]) <=1) | (msqrob[\"adjPval\"] >=0.05) ]\n",
    "\n",
    "TP = len(positive[positive.iloc[:,0].str.contains(\"YEAST\")])\n",
    "FP = len(positive) - TP\n",
    "\n",
    "FN = len(negative[negative.iloc[:,0].str.contains(\"YEAST\")])\n",
    "TN = len(negative) - FN\n",
    "\n",
    "print(TP)\n",
    "print(FP)\n",
    "print(TN)\n",
    "print(FN)\n",
    "\n",
    "print(\"PPV = %.6f\" % (TP / (TP + FP)))\n",
    "print(\"NPV = %.6f\" % (TN / (TN + FN)))"
   ]
  },
  {
   "cell_type": "code",
   "execution_count": 4,
   "metadata": {},
   "outputs": [
    {
     "name": "stdout",
     "output_type": "stream",
     "text": [
      "321\n",
      "85\n",
      "1790\n",
      "37\n",
      "PPV = 0.790640\n",
      "NPV = 0.979748\n"
     ]
    }
   ],
   "source": [
    "# NN (None)\n",
    "msqrob = pd.read_csv(\"./PXD007145-4FC-maxquant-dep-NN.csv\", header=0)\n",
    "msqrob.dropna(subset=[\"logFC\", \"adjPval\"], how=\"any\", inplace=True)\n",
    "positive =  msqrob[(abs(msqrob[\"logFC\"]) >1) &(msqrob[\"adjPval\"] <0.05) ]\n",
    "negative = msqrob[(abs(msqrob[\"logFC\"]) <=1) | (msqrob[\"adjPval\"] >=0.05) ]\n",
    "\n",
    "TP = len(positive[positive.iloc[:,0].str.contains(\"YEAST\")])\n",
    "FP = len(positive) - TP\n",
    "\n",
    "FN = len(negative[negative.iloc[:,0].str.contains(\"YEAST\")])\n",
    "TN = len(negative) - FN\n",
    "\n",
    "print(TP)\n",
    "print(FP)\n",
    "print(TN)\n",
    "print(FN)\n",
    "\n",
    "print(\"PPV = %.6f\" % (TP / (TP + FP)))\n",
    "print(\"NPV = %.6f\" % (TN / (TN + FN)))"
   ]
  },
  {
   "cell_type": "markdown",
   "metadata": {},
   "source": [
    "### 10-1"
   ]
  },
  {
   "cell_type": "code",
   "execution_count": 5,
   "metadata": {},
   "outputs": [
    {
     "name": "stdout",
     "output_type": "stream",
     "text": [
      "348\n",
      "342\n",
      "1533\n",
      "10\n",
      "PPV = 0.504348\n",
      "NPV = 0.993519\n"
     ]
    }
   ],
   "source": [
    "# CM (center.median)\n",
    "msqrob = pd.read_csv(\"./PXD007145-10FC-maxquant-dep-CM.csv\", header=0)\n",
    "msqrob.dropna(subset=[\"logFC\", \"adjPval\"], how=\"any\", inplace=True)\n",
    "positive =  msqrob[(abs(msqrob[\"logFC\"]) >1) &(msqrob[\"adjPval\"] <0.05) ]\n",
    "negative = msqrob[(abs(msqrob[\"logFC\"]) <=1) | (msqrob[\"adjPval\"] >=0.05) ]\n",
    "\n",
    "TP = len(positive[positive.iloc[:,0].str.contains(\"YEAST\")])\n",
    "FP = len(positive) - TP\n",
    "\n",
    "FN = len(negative[negative.iloc[:,0].str.contains(\"YEAST\")])\n",
    "TN = len(negative) - FN\n",
    "\n",
    "print(TP)\n",
    "print(FP)\n",
    "print(TN)\n",
    "print(FN)\n",
    "\n",
    "print(\"PPV = %.6f\" % (TP / (TP + FP)))\n",
    "print(\"NPV = %.6f\" % (TN / (TN + FN)))"
   ]
  },
  {
   "cell_type": "code",
   "execution_count": 6,
   "metadata": {},
   "outputs": [
    {
     "name": "stdout",
     "output_type": "stream",
     "text": [
      "348\n",
      "313\n",
      "1561\n",
      "10\n",
      "PPV = 0.526475\n",
      "NPV = 0.993635\n"
     ]
    }
   ],
   "source": [
    "# Q (quantiles)\n",
    "msqrob = pd.read_csv(\"./PXD007145-10FC-maxquant-dep-Q.csv\", header=0)\n",
    "msqrob.dropna(subset=[\"logFC\", \"adjPval\"], how=\"any\", inplace=True)\n",
    "positive =  msqrob[(abs(msqrob[\"logFC\"]) >1) &(msqrob[\"adjPval\"] <0.05) ]\n",
    "negative = msqrob[(abs(msqrob[\"logFC\"]) <=1) | (msqrob[\"adjPval\"] >=0.05) ]\n",
    "\n",
    "TP = len(positive[positive.iloc[:,0].str.contains(\"YEAST\")])\n",
    "FP = len(positive) - TP\n",
    "\n",
    "FN = len(negative[negative.iloc[:,0].str.contains(\"YEAST\")])\n",
    "TN = len(negative) - FN\n",
    "\n",
    "print(TP)\n",
    "print(FP)\n",
    "print(TN)\n",
    "print(FN)\n",
    "\n",
    "print(\"PPV = %.6f\" % (TP / (TP + FP)))\n",
    "print(\"NPV = %.6f\" % (TN / (TN + FN)))"
   ]
  },
  {
   "cell_type": "code",
   "execution_count": 7,
   "metadata": {},
   "outputs": [
    {
     "name": "stdout",
     "output_type": "stream",
     "text": [
      "348\n",
      "317\n",
      "1558\n",
      "10\n",
      "PPV = 0.523308\n",
      "NPV = 0.993622\n"
     ]
    }
   ],
   "source": [
    "# NN (None)\n",
    "msqrob = pd.read_csv(\"./PXD007145-10FC-maxquant-dep-NN.csv\", header=0)\n",
    "msqrob.dropna(subset=[\"logFC\", \"adjPval\"], how=\"any\", inplace=True)\n",
    "positive =  msqrob[(abs(msqrob[\"logFC\"]) >1) &(msqrob[\"adjPval\"] <0.05) ]\n",
    "negative = msqrob[(abs(msqrob[\"logFC\"]) <=1) | (msqrob[\"adjPval\"] >=0.05) ]\n",
    "\n",
    "TP = len(positive[positive.iloc[:,0].str.contains(\"YEAST\")])\n",
    "FP = len(positive) - TP\n",
    "\n",
    "FN = len(negative[negative.iloc[:,0].str.contains(\"YEAST\")])\n",
    "TN = len(negative) - FN\n",
    "\n",
    "print(TP)\n",
    "print(FP)\n",
    "print(TN)\n",
    "print(FN)\n",
    "\n",
    "print(\"PPV = %.6f\" % (TP / (TP + FP)))\n",
    "print(\"NPV = %.6f\" % (TN / (TN + FN)))"
   ]
  },
  {
   "cell_type": "markdown",
   "metadata": {},
   "source": [
    "# quantms"
   ]
  },
  {
   "cell_type": "markdown",
   "metadata": {},
   "source": [
    "### 4-1"
   ]
  },
  {
   "cell_type": "code",
   "execution_count": 9,
   "metadata": {},
   "outputs": [
    {
     "name": "stdout",
     "output_type": "stream",
     "text": [
      "0\n",
      "0\n",
      "1893\n",
      "636\n"
     ]
    },
    {
     "ename": "ZeroDivisionError",
     "evalue": "division by zero",
     "output_type": "error",
     "traceback": [
      "\u001b[1;31m---------------------------------------------------------------------------\u001b[0m",
      "\u001b[1;31mZeroDivisionError\u001b[0m                         Traceback (most recent call last)",
      "\u001b[1;32m<ipython-input-9-f5ac7f9179e1>\u001b[0m in \u001b[0;36m<module>\u001b[1;34m\u001b[0m\n\u001b[0;32m     16\u001b[0m \u001b[0mprint\u001b[0m\u001b[1;33m(\u001b[0m\u001b[0mFN\u001b[0m\u001b[1;33m)\u001b[0m\u001b[1;33m\u001b[0m\u001b[1;33m\u001b[0m\u001b[0m\n\u001b[0;32m     17\u001b[0m \u001b[1;33m\u001b[0m\u001b[0m\n\u001b[1;32m---> 18\u001b[1;33m \u001b[0mprint\u001b[0m\u001b[1;33m(\u001b[0m\u001b[1;34m\"PPV = %.6f\"\u001b[0m \u001b[1;33m%\u001b[0m \u001b[1;33m(\u001b[0m\u001b[0mTP\u001b[0m \u001b[1;33m/\u001b[0m \u001b[1;33m(\u001b[0m\u001b[0mTP\u001b[0m \u001b[1;33m+\u001b[0m \u001b[0mFP\u001b[0m\u001b[1;33m)\u001b[0m\u001b[1;33m)\u001b[0m\u001b[1;33m)\u001b[0m\u001b[1;33m\u001b[0m\u001b[1;33m\u001b[0m\u001b[0m\n\u001b[0m\u001b[0;32m     19\u001b[0m \u001b[0mprint\u001b[0m\u001b[1;33m(\u001b[0m\u001b[1;34m\"NPV = %.6f\"\u001b[0m \u001b[1;33m%\u001b[0m \u001b[1;33m(\u001b[0m\u001b[0mTN\u001b[0m \u001b[1;33m/\u001b[0m \u001b[1;33m(\u001b[0m\u001b[0mTN\u001b[0m \u001b[1;33m+\u001b[0m \u001b[0mFN\u001b[0m\u001b[1;33m)\u001b[0m\u001b[1;33m)\u001b[0m\u001b[1;33m)\u001b[0m\u001b[1;33m\u001b[0m\u001b[1;33m\u001b[0m\u001b[0m\n",
      "\u001b[1;31mZeroDivisionError\u001b[0m: division by zero"
     ]
    }
   ],
   "source": [
    "# CM (center.median)\n",
    "msqrob = pd.read_csv(\"./PXD007145-4FC-quantms-dep-CM.csv\", header=0)\n",
    "msqrob.dropna(subset=[\"logFC\", \"adjPval\"], how=\"any\", inplace=True)\n",
    "positive =  msqrob[(abs(msqrob[\"logFC\"]) >1) &(msqrob[\"adjPval\"] <0.05) ]\n",
    "negative = msqrob[(abs(msqrob[\"logFC\"]) <=1) | (msqrob[\"adjPval\"] >=0.05) ]\n",
    "\n",
    "TP = len(positive[positive.iloc[:,0].str.contains(\"YEAST\")])\n",
    "FP = len(positive) - TP\n",
    "\n",
    "FN = len(negative[negative.iloc[:,0].str.contains(\"YEAST\")])\n",
    "TN = len(negative) - FN\n",
    "\n",
    "print(TP)\n",
    "print(FP)\n",
    "print(TN)\n",
    "print(FN)\n",
    "\n",
    "print(\"PPV = %.6f\" % (TP / (TP + FP)))\n",
    "print(\"NPV = %.6f\" % (TN / (TN + FN)))"
   ]
  },
  {
   "cell_type": "code",
   "execution_count": 10,
   "metadata": {},
   "outputs": [
    {
     "name": "stdout",
     "output_type": "stream",
     "text": [
      "374\n",
      "53\n",
      "1781\n",
      "102\n",
      "PPV = 0.875878\n",
      "NPV = 0.945831\n"
     ]
    }
   ],
   "source": [
    "# Q (quantiles)\n",
    "msqrob = pd.read_csv(\"./PXD007145-4FC-quantms-dep-Q.csv\", header=0)\n",
    "msqrob.dropna(subset=[\"logFC\", \"adjPval\"], how=\"any\", inplace=True)\n",
    "positive =  msqrob[(abs(msqrob[\"logFC\"]) >1) &(msqrob[\"adjPval\"] <0.05) ]\n",
    "negative = msqrob[(abs(msqrob[\"logFC\"]) <=1) | (msqrob[\"adjPval\"] >=0.05) ]\n",
    "\n",
    "TP = len(positive[positive.iloc[:,0].str.contains(\"YEAST\")])\n",
    "FP = len(positive) - TP\n",
    "\n",
    "FN = len(negative[negative.iloc[:,0].str.contains(\"YEAST\")])\n",
    "TN = len(negative) - FN\n",
    "\n",
    "print(TP)\n",
    "print(FP)\n",
    "print(TN)\n",
    "print(FN)\n",
    "\n",
    "print(\"PPV = %.6f\" % (TP / (TP + FP)))\n",
    "print(\"NPV = %.6f\" % (TN / (TN + FN)))"
   ]
  },
  {
   "cell_type": "code",
   "execution_count": 11,
   "metadata": {},
   "outputs": [
    {
     "name": "stdout",
     "output_type": "stream",
     "text": [
      "388\n",
      "59\n",
      "1775\n",
      "88\n",
      "PPV = 0.868009\n",
      "NPV = 0.952764\n"
     ]
    }
   ],
   "source": [
    "# NN (None)\n",
    "msqrob = pd.read_csv(\"./PXD007145-4FC-quantms-dep-NN.csv\", header=0)\n",
    "msqrob.dropna(subset=[\"logFC\", \"adjPval\"], how=\"any\", inplace=True)\n",
    "positive =  msqrob[(abs(msqrob[\"logFC\"]) >1) &(msqrob[\"adjPval\"] <0.05) ]\n",
    "negative = msqrob[(abs(msqrob[\"logFC\"]) <=1) | (msqrob[\"adjPval\"] >=0.05) ]\n",
    "\n",
    "TP = len(positive[positive.iloc[:,0].str.contains(\"YEAST\")])\n",
    "FP = len(positive) - TP\n",
    "\n",
    "FN = len(negative[negative.iloc[:,0].str.contains(\"YEAST\")])\n",
    "TN = len(negative) - FN\n",
    "\n",
    "print(TP)\n",
    "print(FP)\n",
    "print(TN)\n",
    "print(FN)\n",
    "\n",
    "print(\"PPV = %.6f\" % (TP / (TP + FP)))\n",
    "print(\"NPV = %.6f\" % (TN / (TN + FN)))"
   ]
  },
  {
   "cell_type": "markdown",
   "metadata": {},
   "source": [
    "### 10-1"
   ]
  },
  {
   "cell_type": "code",
   "execution_count": 12,
   "metadata": {},
   "outputs": [
    {
     "name": "stdout",
     "output_type": "stream",
     "text": [
      "0\n",
      "0\n",
      "1893\n",
      "636\n"
     ]
    },
    {
     "ename": "ZeroDivisionError",
     "evalue": "division by zero",
     "output_type": "error",
     "traceback": [
      "\u001b[1;31m---------------------------------------------------------------------------\u001b[0m",
      "\u001b[1;31mZeroDivisionError\u001b[0m                         Traceback (most recent call last)",
      "\u001b[1;32m<ipython-input-12-12ae80b6053a>\u001b[0m in \u001b[0;36m<module>\u001b[1;34m\u001b[0m\n\u001b[0;32m     16\u001b[0m \u001b[0mprint\u001b[0m\u001b[1;33m(\u001b[0m\u001b[0mFN\u001b[0m\u001b[1;33m)\u001b[0m\u001b[1;33m\u001b[0m\u001b[1;33m\u001b[0m\u001b[0m\n\u001b[0;32m     17\u001b[0m \u001b[1;33m\u001b[0m\u001b[0m\n\u001b[1;32m---> 18\u001b[1;33m \u001b[0mprint\u001b[0m\u001b[1;33m(\u001b[0m\u001b[1;34m\"PPV = %.6f\"\u001b[0m \u001b[1;33m%\u001b[0m \u001b[1;33m(\u001b[0m\u001b[0mTP\u001b[0m \u001b[1;33m/\u001b[0m \u001b[1;33m(\u001b[0m\u001b[0mTP\u001b[0m \u001b[1;33m+\u001b[0m \u001b[0mFP\u001b[0m\u001b[1;33m)\u001b[0m\u001b[1;33m)\u001b[0m\u001b[1;33m)\u001b[0m\u001b[1;33m\u001b[0m\u001b[1;33m\u001b[0m\u001b[0m\n\u001b[0m\u001b[0;32m     19\u001b[0m \u001b[0mprint\u001b[0m\u001b[1;33m(\u001b[0m\u001b[1;34m\"NPV = %.6f\"\u001b[0m \u001b[1;33m%\u001b[0m \u001b[1;33m(\u001b[0m\u001b[0mTN\u001b[0m \u001b[1;33m/\u001b[0m \u001b[1;33m(\u001b[0m\u001b[0mTN\u001b[0m \u001b[1;33m+\u001b[0m \u001b[0mFN\u001b[0m\u001b[1;33m)\u001b[0m\u001b[1;33m)\u001b[0m\u001b[1;33m)\u001b[0m\u001b[1;33m\u001b[0m\u001b[1;33m\u001b[0m\u001b[0m\n",
      "\u001b[1;31mZeroDivisionError\u001b[0m: division by zero"
     ]
    }
   ],
   "source": [
    "# CM (center.median)\n",
    "msqrob = pd.read_csv(\"./PXD007145-10FC-quantms-dep-CM.csv\", header=0)\n",
    "msqrob.dropna(subset=[\"logFC\", \"adjPval\"], how=\"any\", inplace=True)\n",
    "positive =  msqrob[(abs(msqrob[\"logFC\"]) >1) &(msqrob[\"adjPval\"] <0.05) ]\n",
    "negative = msqrob[(abs(msqrob[\"logFC\"]) <=1) | (msqrob[\"adjPval\"] >=0.05) ]\n",
    "\n",
    "TP = len(positive[positive.iloc[:,0].str.contains(\"YEAST\")])\n",
    "FP = len(positive) - TP\n",
    "\n",
    "FN = len(negative[negative.iloc[:,0].str.contains(\"YEAST\")])\n",
    "TN = len(negative) - FN\n",
    "\n",
    "print(TP)\n",
    "print(FP)\n",
    "print(TN)\n",
    "print(FN)\n",
    "\n",
    "print(\"PPV = %.6f\" % (TP / (TP + FP)))\n",
    "print(\"NPV = %.6f\" % (TN / (TN + FN)))"
   ]
  },
  {
   "cell_type": "code",
   "execution_count": 13,
   "metadata": {},
   "outputs": [
    {
     "name": "stdout",
     "output_type": "stream",
     "text": [
      "413\n",
      "183\n",
      "1651\n",
      "63\n",
      "PPV = 0.692953\n",
      "NPV = 0.963244\n"
     ]
    }
   ],
   "source": [
    "# Q (quantiles)\n",
    "msqrob = pd.read_csv(\"./PXD007145-10FC-quantms-dep-Q.csv\", header=0)\n",
    "msqrob.dropna(subset=[\"logFC\", \"adjPval\"], how=\"any\", inplace=True)\n",
    "positive =  msqrob[(abs(msqrob[\"logFC\"]) >1) &(msqrob[\"adjPval\"] <0.05) ]\n",
    "negative = msqrob[(abs(msqrob[\"logFC\"]) <=1) | (msqrob[\"adjPval\"] >=0.05) ]\n",
    "\n",
    "TP = len(positive[positive.iloc[:,0].str.contains(\"YEAST\")])\n",
    "FP = len(positive) - TP\n",
    "\n",
    "FN = len(negative[negative.iloc[:,0].str.contains(\"YEAST\")])\n",
    "TN = len(negative) - FN\n",
    "\n",
    "print(TP)\n",
    "print(FP)\n",
    "print(TN)\n",
    "print(FN)\n",
    "\n",
    "print(\"PPV = %.6f\" % (TP / (TP + FP)))\n",
    "print(\"NPV = %.6f\" % (TN / (TN + FN)))"
   ]
  },
  {
   "cell_type": "code",
   "execution_count": 14,
   "metadata": {},
   "outputs": [
    {
     "name": "stdout",
     "output_type": "stream",
     "text": [
      "423\n",
      "95\n",
      "1739\n",
      "53\n",
      "PPV = 0.816602\n",
      "NPV = 0.970424\n"
     ]
    }
   ],
   "source": [
    "# NN (None)\n",
    "msqrob = pd.read_csv(\"./PXD007145-10FC-quantms-dep-NN.csv\", header=0)\n",
    "msqrob.dropna(subset=[\"logFC\", \"adjPval\"], how=\"any\", inplace=True)\n",
    "positive =  msqrob[(abs(msqrob[\"logFC\"]) >1) &(msqrob[\"adjPval\"] <0.05) ]\n",
    "negative = msqrob[(abs(msqrob[\"logFC\"]) <=1) | (msqrob[\"adjPval\"] >=0.05) ]\n",
    "\n",
    "TP = len(positive[positive.iloc[:,0].str.contains(\"YEAST\")])\n",
    "FP = len(positive) - TP\n",
    "\n",
    "FN = len(negative[negative.iloc[:,0].str.contains(\"YEAST\")])\n",
    "TN = len(negative) - FN\n",
    "\n",
    "print(TP)\n",
    "print(FP)\n",
    "print(TN)\n",
    "print(FN)\n",
    "\n",
    "print(\"PPV = %.6f\" % (TP / (TP + FP)))\n",
    "print(\"NPV = %.6f\" % (TN / (TN + FN)))"
   ]
  },
  {
   "cell_type": "code",
   "execution_count": null,
   "metadata": {},
   "outputs": [],
   "source": []
  }
 ],
 "metadata": {
  "kernelspec": {
   "display_name": "douer(base)",
   "language": "python",
   "name": "base"
  },
  "language_info": {
   "codemirror_mode": {
    "name": "ipython",
    "version": 3
   },
   "file_extension": ".py",
   "mimetype": "text/x-python",
   "name": "python",
   "nbconvert_exporter": "python",
   "pygments_lexer": "ipython3",
   "version": "3.7.6"
  }
 },
 "nbformat": 4,
 "nbformat_minor": 4
}
