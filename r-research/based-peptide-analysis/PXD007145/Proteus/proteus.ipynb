{
 "cells": [
  {
   "cell_type": "code",
   "execution_count": 1,
   "metadata": {},
   "outputs": [],
   "source": [
    "import pandas as pd"
   ]
  },
  {
   "cell_type": "markdown",
   "metadata": {},
   "source": [
    "# 4-1"
   ]
  },
  {
   "cell_type": "code",
   "execution_count": 2,
   "metadata": {},
   "outputs": [
    {
     "name": "stdout",
     "output_type": "stream",
     "text": [
      "242\n",
      "69\n",
      "1177\n",
      "111\n",
      "PPV = 0.778135\n",
      "NPV = 0.913820\n"
     ]
    }
   ],
   "source": [
    "# quantms\n",
    "proteus = pd.read_csv(\"./proteus-quantms_4-1.csv\", header=0, sep=\",\", index_col=0)\n",
    "proteus.dropna(subset=[\"logFC\", \"P.Value\"], how=\"any\", inplace=True)\n",
    "positive =  proteus[(abs(proteus[\"logFC\"]) >1) &(proteus[\"adj.P.Val\"] <0.05) ]\n",
    "negative = proteus[(abs(proteus[\"logFC\"]) <=1) | (proteus[\"adj.P.Val\"] >=0.05) ]\n",
    "\n",
    "TP = len(positive[positive[\"protein\"].str.contains(\"YEAST\")])\n",
    "FP = len(positive) - TP\n",
    "\n",
    "FN = len(negative[negative[\"protein\"].str.contains(\"YEAST\")])\n",
    "TN = len(negative) - FN\n",
    "\n",
    "print(TP)\n",
    "print(FP)\n",
    "print(TN)\n",
    "print(FN)\n",
    "\n",
    "print(\"PPV = %.6f\" % (TP / (TP + FP)))\n",
    "print(\"NPV = %.6f\" % (TN / (TN + FN)))"
   ]
  },
  {
   "cell_type": "code",
   "execution_count": 3,
   "metadata": {},
   "outputs": [
    {
     "name": "stdout",
     "output_type": "stream",
     "text": [
      "242\n",
      "69\n",
      "1177\n",
      "111\n",
      "PPV = 0.778135\n",
      "NPV = 0.913820\n"
     ]
    }
   ],
   "source": [
    "# maxquant\n",
    "proteus = pd.read_csv(\"./proteus-maxquant_4-1.csv\", header=0, sep=\",\", index_col=0)\n",
    "proteus.dropna(subset=[\"logFC\", \"P.Value\"], how=\"any\", inplace=True)\n",
    "positive =  proteus[(abs(proteus[\"logFC\"]) >1) &(proteus[\"adj.P.Val\"] <0.05) ]\n",
    "negative = proteus[(abs(proteus[\"logFC\"]) <=1) | (proteus[\"adj.P.Val\"] >=0.05) ]\n",
    "\n",
    "TP = len(positive[positive[\"protein\"].str.contains(\"YEAST\")])\n",
    "FP = len(positive) - TP\n",
    "\n",
    "FN = len(negative[negative[\"protein\"].str.contains(\"YEAST\")])\n",
    "TN = len(negative) - FN\n",
    "\n",
    "print(TP)\n",
    "print(FP)\n",
    "print(TN)\n",
    "print(FN)\n",
    "\n",
    "print(\"PPV = %.6f\" % (TP / (TP + FP)))\n",
    "print(\"NPV = %.6f\" % (TN / (TN + FN)))"
   ]
  },
  {
   "cell_type": "markdown",
   "metadata": {},
   "source": [
    "# 10-1"
   ]
  },
  {
   "cell_type": "code",
   "execution_count": 4,
   "metadata": {},
   "outputs": [
    {
     "name": "stdout",
     "output_type": "stream",
     "text": [
      "299\n",
      "207\n",
      "1026\n",
      "55\n",
      "PPV = 0.590909\n",
      "NPV = 0.949121\n"
     ]
    }
   ],
   "source": [
    "# quantms\n",
    "proteus = pd.read_csv(\"./proteus-quantms_10-1.csv\", header=0, sep=\",\", index_col=0)\n",
    "proteus.dropna(subset=[\"logFC\", \"P.Value\"], how=\"any\", inplace=True)\n",
    "positive =  proteus[(abs(proteus[\"logFC\"]) >1) &(proteus[\"adj.P.Val\"] <0.05) ]\n",
    "negative = proteus[(abs(proteus[\"logFC\"]) <=1) | (proteus[\"adj.P.Val\"] >=0.05) ]\n",
    "\n",
    "TP = len(positive[positive[\"protein\"].str.contains(\"YEAST\")])\n",
    "FP = len(positive) - TP\n",
    "\n",
    "FN = len(negative[negative[\"protein\"].str.contains(\"YEAST\")])\n",
    "TN = len(negative) - FN\n",
    "\n",
    "print(TP)\n",
    "print(FP)\n",
    "print(TN)\n",
    "print(FN)\n",
    "\n",
    "print(\"PPV = %.6f\" % (TP / (TP + FP)))\n",
    "print(\"NPV = %.6f\" % (TN / (TN + FN)))"
   ]
  },
  {
   "cell_type": "code",
   "execution_count": 5,
   "metadata": {},
   "outputs": [
    {
     "name": "stdout",
     "output_type": "stream",
     "text": [
      "299\n",
      "207\n",
      "1026\n",
      "55\n",
      "PPV = 0.590909\n",
      "NPV = 0.949121\n"
     ]
    }
   ],
   "source": [
    "# maxquant\n",
    "proteus = pd.read_csv(\"./proteus-maxquant_10-1.csv\", header=0, sep=\",\", index_col=0)\n",
    "proteus.dropna(subset=[\"logFC\", \"P.Value\"], how=\"any\", inplace=True)\n",
    "positive =  proteus[(abs(proteus[\"logFC\"]) >1) &(proteus[\"adj.P.Val\"] <0.05) ]\n",
    "negative = proteus[(abs(proteus[\"logFC\"]) <=1) | (proteus[\"adj.P.Val\"] >=0.05) ]\n",
    "\n",
    "TP = len(positive[positive[\"protein\"].str.contains(\"YEAST\")])\n",
    "FP = len(positive) - TP\n",
    "\n",
    "FN = len(negative[negative[\"protein\"].str.contains(\"YEAST\")])\n",
    "TN = len(negative) - FN\n",
    "\n",
    "print(TP)\n",
    "print(FP)\n",
    "print(TN)\n",
    "print(FN)\n",
    "\n",
    "print(\"PPV = %.6f\" % (TP / (TP + FP)))\n",
    "print(\"NPV = %.6f\" % (TN / (TN + FN)))"
   ]
  },
  {
   "cell_type": "code",
   "execution_count": null,
   "metadata": {},
   "outputs": [],
   "source": []
  }
 ],
 "metadata": {
  "kernelspec": {
   "display_name": "douer(base)",
   "language": "python",
   "name": "base"
  },
  "language_info": {
   "codemirror_mode": {
    "name": "ipython",
    "version": 3
   },
   "file_extension": ".py",
   "mimetype": "text/x-python",
   "name": "python",
   "nbconvert_exporter": "python",
   "pygments_lexer": "ipython3",
   "version": "3.7.6"
  }
 },
 "nbformat": 4,
 "nbformat_minor": 4
}
