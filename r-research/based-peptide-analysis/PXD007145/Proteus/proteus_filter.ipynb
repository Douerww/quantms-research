{
 "cells": [
  {
   "cell_type": "code",
   "execution_count": 1,
   "metadata": {},
   "outputs": [
    {
     "name": "stderr",
     "output_type": "stream",
     "text": [
      "C:\\Users\\ChengXin\\MyProgram\\python\\anaconda\\pro\\lib\\site-packages\\rpy2\\robjects\\packages.py:367: UserWarning: The symbol 'quartz' is not in this R namespace/package.\n",
      "  \"The symbol '%s' is not in this R namespace/package.\" % name\n"
     ]
    }
   ],
   "source": [
    "%load_ext rpy2.ipython"
   ]
  },
  {
   "cell_type": "code",
   "execution_count": 2,
   "metadata": {},
   "outputs": [],
   "source": [
    "import pandas as pd\n",
    "from matplotlib import pyplot as plt\n",
    "import numpy as np\n",
    "import seaborn as sns\n",
    "import urllib"
   ]
  },
  {
   "cell_type": "code",
   "execution_count": 3,
   "metadata": {},
   "outputs": [],
   "source": [
    "%%R\n",
    "data_folder = './'\n",
    "setwd(data_folder)"
   ]
  },
  {
   "cell_type": "code",
   "execution_count": 5,
   "metadata": {},
   "outputs": [],
   "source": [
    "import re\n",
    "from collections import Counter\n",
    "\n",
    "def clean_PeptideSequence(pep_seq):\n",
    "    pattern = re.compile(r\"\\(.*?\\)\")\n",
    "    pep_seq = pep_seq.replace(\".\", \"\")\n",
    "    return pattern.sub(\"\", pep_seq)\n",
    "\n",
    "def modified_PeptideSequence(pep_seq):\n",
    "    pattern = re.compile(r\"\\(.*?\\)\")\n",
    "    t_pep_seq = pep_seq.replace(\".\", \"\").replace(\"Acetyl\", \"ac\").replace(\"Carbamidomethyl\", \"ca\").replace(\"Oxidation\", \"ox\")\n",
    "    t_pep_seq = \"_\" + t_pep_seq + \"_\"\n",
    "    return t_pep_seq\n",
    "\n",
    "def get_modifications(pep_seq):\n",
    "    pattern = re.compile(r\"\\(.*?\\)\")\n",
    "    t = \"\"\n",
    "    modifications = re.findall(pattern, pep_seq)\n",
    "    if len(modifications) == 0:\n",
    "        return \"Unmodified\"\n",
    "    c = Counter(modifications)\n",
    "    for key, value in c.items():\n",
    "        if value == 1:\n",
    "            c[key] = \"\"\n",
    "        else:\n",
    "            c[key] = str(c[key]) + \" \"\n",
    "    modifications = \",\".join(modifications)\n",
    "    if \"(Acetyl)\" in c:\n",
    "        modifications = modifications.replace(\"(Acetyl)\", c[\"(Acetyl)\"] + \"Acetyl (Protein N-term)\")\n",
    "    if \"(Carbamidomethyl)\" in c:\n",
    "        modifications = modifications.replace(\"(Carbamidomethyl)\", c[\"(Carbamidomethyl)\"] + \"Carbamidomethyl (C)\")\n",
    "    if \"(Oxidation)\" in c:\n",
    "        modifications = modifications.replace(\"(Oxidation)\", c[\"(Oxidation)\"] + \"Oxidation (M)\")\n",
    "    if \"(Phospho)\" in c:\n",
    "         modifications = modifications.replace(\"(Phospho)\", c[\"(Phospho)\"] + \"Phospho (STY)\")\n",
    "    \n",
    "    return modifications\n",
    "\n",
    "def get_experiment(row):\n",
    "    return row['Reference'].split(\".\")[0].split(\"_\")[-2] + \"_\" +\"TechRep\" + str(row['Reference'].split(\".\")[0].split(\"_\")[-1])\n",
    "    \n",
    "    \n",
    "evi = pd.DataFrame(None, columns=['sequence', 'modified_sequence', 'modifications', 'protein_group', \n",
    "                                  'protein', 'experiment', 'charge', 'reverse', 'contaminant', 'intensity'])\n",
    "quantms = pd.read_csv(\"../out_msstats_filter.csv\", sep=',', header=0)\n",
    "quantms = quantms[-quantms['ProteinName'].str.contains(\"DECOY_\")]\n",
    "evi['sequence'] = quantms.apply(lambda x: clean_PeptideSequence(x['PeptideSequence']), axis=1)\n",
    "evi['modified_sequence'] = quantms.apply(lambda x: modified_PeptideSequence(x['PeptideSequence']), axis=1)\n",
    "evi['modifications'] = quantms.apply(lambda x: get_modifications(x['PeptideSequence']), axis=1)\n",
    "evi['protein_group'] = quantms['ProteinName']\n",
    "evi['protein'] = quantms['ProteinName']\n",
    "evi['experiment'] = quantms.apply(lambda x: get_experiment(x), axis=1)\n",
    "evi['charge'] = quantms['PrecursorCharge']\n",
    "evi['intensity'] = quantms['Intensity']\n",
    "evi.to_csv(\"./evi.txt\", sep='\\t', index=False)\n",
    "\n",
    "metadata = pd.DataFrame(None, columns=['experiment', 'measure', 'sample', 'condition', 'replicate'])\n",
    "metadata['experiment'] = [\"1_TechRep1\", \"1_TechRep2\", \"1_TechRep3\", \"1_TechRep4\", \"1_TechRep5\", \"1_TechRep6\", \n",
    "                          \"4_TechRep1\", \"4_TechRep2\", \"4_TechRep3\", \"4_TechRep4\", \"4_TechRep5\", \"4_TechRep6\",\n",
    "                          \"10_TechRep1\", \"10_TechRep2\", \"10_TechRep3\", \"10_TechRep4\", \"10_TechRep5\", \"10_TechRep6\"]\n",
    "metadata['measure'] = ['Intensity'] * 18\n",
    "metadata['sample'] = [\"1_TechRep1\", \"1_TechRep2\", \"1_TechRep3\", \"1_TechRep4\", \"1_TechRep5\", \"1_TechRep6\", \n",
    "                          \"4_TechRep1\", \"4_TechRep2\", \"4_TechRep3\", \"4_TechRep4\", \"4_TechRep5\", \"4_TechRep6\",\n",
    "                          \"10_TechRep1\", \"10_TechRep2\", \"10_TechRep3\", \"10_TechRep4\", \"10_TechRep5\", \"10_TechRep6\"]\n",
    "\n",
    "metadata['condition'] = [\"1\"]*6 + [\"4\"]*6 + [\"10\"]*6\n",
    "metadata['replicate'] = [1, 2, 3, 4, 5, 6] * 3\n",
    "metadata.to_csv(\"./metadata.txt\", sep=\"\\t\", index=False)\n",
    "\n"
   ]
  },
  {
   "cell_type": "code",
   "execution_count": 5,
   "metadata": {},
   "outputs": [],
   "source": [
    "%%R\n",
    "\n",
    "### peptide\n",
    "\n",
    "library(proteus)\n",
    "\n",
    "# quantms\n",
    "evi <- read.csv(\"evi.txt\", row.names = NULL, sep=\"\\t\")\n",
    "meta <- read.csv(\"metadata.txt\", sep=\"\\t\")\n",
    "pepdat <- makePeptideTable(evi, meta)\n",
    "prodat <- makeProteinTable(pepdat)\n",
    "\n",
    "prodat.med <- normalizeData(prodat)\n",
    "\n",
    "res4 <- limmaDE(prodat.med, sig.level=0.05, conditions=c(\"4\",\"1\"))\n",
    "res10 <- limmaDE(prodat.med, sig.level=0.05, conditions=c(\"10\",\"1\"))\n",
    "\n",
    "r4 <- res4[which(res4$significant), c(\"protein\", \"logFC\", \"adj.P.Val\")]\n",
    "r10 <- res10[which(res10$significant), c(\"protein\", \"logFC\", \"adj.P.Val\")]\n",
    "\n",
    "write.csv(res4, \"proteus-EM-quantms_4.csv\")\n",
    "write.csv(res10, \"proteus-EM-quantms_10.csv\")\n",
    "\n",
    "\n",
    "res4 <- limmaDE(prodat, sig.level=0.05, conditions=c(\"4\",\"1\"))\n",
    "res10 <- limmaDE(prodat, sig.level=0.05, conditions=c(\"10\",\"1\"))\n",
    "\n",
    "r4 <- res4[which(res4$significant), c(\"protein\", \"logFC\", \"adj.P.Val\")]\n",
    "r10 <- res10[which(res10$significant), c(\"protein\", \"logFC\", \"adj.P.Val\")]\n",
    "\n",
    "write.csv(res4, \"proteus-NN-quantms_4.csv\")\n",
    "write.csv(res10, \"proteus-NN-quantms_10.csv\")\n",
    "\n",
    "\n",
    "prodat.q <- normalizeData(prodat, norm.fun=limma::normalizeQuantiles)\n",
    "res4 <- limmaDE(prodat.q, sig.level=0.05, conditions=c(\"4\",\"1\"))\n",
    "res10 <- limmaDE(prodat.q, sig.level=0.05, conditions=c(\"10\",\"1\"))\n",
    "\n",
    "r4 <- res4[which(res4$significant), c(\"protein\", \"logFC\", \"adj.P.Val\")]\n",
    "r10 <- res10[which(res10$significant), c(\"protein\", \"logFC\", \"adj.P.Val\")]\n",
    "\n",
    "write.csv(res4, \"proteus-Q-quantms_4.csv\")\n",
    "write.csv(res10, \"proteus-Q-quantms_10.csv\")\n"
   ]
  },
  {
   "cell_type": "code",
   "execution_count": 6,
   "metadata": {},
   "outputs": [
    {
     "name": "stdout",
     "output_type": "stream",
     "text": [
      "365\n",
      "122\n",
      "1932\n",
      "168\n",
      "PPV = 0.749487\n",
      "NPV = 0.920000\n"
     ]
    }
   ],
   "source": [
    "# quantms\n",
    "proteus = pd.read_csv(\"./proteus-EM-quantms_4.csv\", header=0, sep=\",\", index_col=0)\n",
    "\n",
    "proteus.dropna(subset=[\"logFC\", \"P.Value\"], how=\"any\", inplace=True)\n",
    "positive =  proteus[(abs(proteus[\"logFC\"]) >1) &(proteus[\"adj.P.Val\"] <0.05) ]\n",
    "negative = proteus[(abs(proteus[\"logFC\"]) <=1) | (proteus[\"adj.P.Val\"] >=0.05) ]\n",
    "\n",
    "TP = len(positive[positive[\"protein\"].str.contains(\"YEAST\")])\n",
    "FP = len(positive) - TP\n",
    "\n",
    "FN = len(negative[negative[\"protein\"].str.contains(\"YEAST\")])\n",
    "TN = len(negative) - FN\n",
    "\n",
    "print(TP)\n",
    "print(FP)\n",
    "print(TN)\n",
    "print(FN)\n",
    "\n",
    "print(\"PPV = %.6f\" % (TP / (TP + FP)))\n",
    "print(\"NPV = %.6f\" % (TN / (TN + FN)))\n",
    "\n"
   ]
  },
  {
   "cell_type": "code",
   "execution_count": 7,
   "metadata": {},
   "outputs": [
    {
     "name": "stdout",
     "output_type": "stream",
     "text": [
      "432\n",
      "324\n",
      "1673\n",
      "106\n",
      "PPV = 0.571429\n",
      "NPV = 0.940416\n"
     ]
    }
   ],
   "source": [
    "# quantms\n",
    "proteus = pd.read_csv(\"./proteus-EM-quantms_10.csv\", header=0, sep=\",\", index_col=0)\n",
    "\n",
    "proteus.dropna(subset=[\"logFC\", \"P.Value\"], how=\"any\", inplace=True)\n",
    "positive =  proteus[(abs(proteus[\"logFC\"]) >1) &(proteus[\"adj.P.Val\"] <0.05) ]\n",
    "negative = proteus[(abs(proteus[\"logFC\"]) <=1) | (proteus[\"adj.P.Val\"] >=0.05) ]\n",
    "\n",
    "TP = len(positive[positive[\"protein\"].str.contains(\"YEAST\")])\n",
    "FP = len(positive) - TP\n",
    "\n",
    "FN = len(negative[negative[\"protein\"].str.contains(\"YEAST\")])\n",
    "TN = len(negative) - FN\n",
    "\n",
    "print(TP)\n",
    "print(FP)\n",
    "print(TN)\n",
    "print(FN)\n",
    "\n",
    "print(\"PPV = %.6f\" % (TP / (TP + FP)))\n",
    "print(\"NPV = %.6f\" % (TN / (TN + FN)))"
   ]
  },
  {
   "cell_type": "code",
   "execution_count": 8,
   "metadata": {},
   "outputs": [
    {
     "name": "stdout",
     "output_type": "stream",
     "text": [
      "362\n",
      "119\n",
      "1935\n",
      "171\n",
      "PPV = 0.752599\n",
      "NPV = 0.918803\n"
     ]
    }
   ],
   "source": [
    "# quantms\n",
    "proteus = pd.read_csv(\"./proteus-Q-quantms_4.csv\", header=0, sep=\",\", index_col=0)\n",
    "\n",
    "proteus.dropna(subset=[\"logFC\", \"P.Value\"], how=\"any\", inplace=True)\n",
    "positive =  proteus[(abs(proteus[\"logFC\"]) >1) &(proteus[\"adj.P.Val\"] <0.05) ]\n",
    "negative = proteus[(abs(proteus[\"logFC\"]) <=1) | (proteus[\"adj.P.Val\"] >=0.05) ]\n",
    "\n",
    "TP = len(positive[positive[\"protein\"].str.contains(\"YEAST\")])\n",
    "FP = len(positive) - TP\n",
    "\n",
    "FN = len(negative[negative[\"protein\"].str.contains(\"YEAST\")])\n",
    "TN = len(negative) - FN\n",
    "\n",
    "print(TP)\n",
    "print(FP)\n",
    "print(TN)\n",
    "print(FN)\n",
    "\n",
    "print(\"PPV = %.6f\" % (TP / (TP + FP)))\n",
    "print(\"NPV = %.6f\" % (TN / (TN + FN)))"
   ]
  },
  {
   "cell_type": "code",
   "execution_count": 9,
   "metadata": {},
   "outputs": [
    {
     "name": "stdout",
     "output_type": "stream",
     "text": [
      "428\n",
      "323\n",
      "1674\n",
      "110\n",
      "PPV = 0.569907\n",
      "NPV = 0.938341\n"
     ]
    }
   ],
   "source": [
    "# quantms\n",
    "proteus = pd.read_csv(\"./proteus-Q-quantms_10.csv\", header=0, sep=\",\", index_col=0)\n",
    "\n",
    "proteus.dropna(subset=[\"logFC\", \"P.Value\"], how=\"any\", inplace=True)\n",
    "positive =  proteus[(abs(proteus[\"logFC\"]) >1) &(proteus[\"adj.P.Val\"] <0.05) ]\n",
    "negative = proteus[(abs(proteus[\"logFC\"]) <=1) | (proteus[\"adj.P.Val\"] >=0.05) ]\n",
    "\n",
    "TP = len(positive[positive[\"protein\"].str.contains(\"YEAST\")])\n",
    "FP = len(positive) - TP\n",
    "\n",
    "FN = len(negative[negative[\"protein\"].str.contains(\"YEAST\")])\n",
    "TN = len(negative) - FN\n",
    "\n",
    "print(TP)\n",
    "print(FP)\n",
    "print(TN)\n",
    "print(FN)\n",
    "\n",
    "print(\"PPV = %.6f\" % (TP / (TP + FP)))\n",
    "print(\"NPV = %.6f\" % (TN / (TN + FN)))"
   ]
  },
  {
   "cell_type": "code",
   "execution_count": 10,
   "metadata": {},
   "outputs": [
    {
     "name": "stdout",
     "output_type": "stream",
     "text": [
      "386\n",
      "125\n",
      "1929\n",
      "147\n",
      "PPV = 0.755382\n",
      "NPV = 0.929191\n",
      "450\n",
      "233\n",
      "1764\n",
      "88\n",
      "PPV = 0.658858\n",
      "NPV = 0.952484\n"
     ]
    }
   ],
   "source": [
    "# quantms\n",
    "proteus = pd.read_csv(\"./proteus-NN-quantms_4.csv\", header=0, sep=\",\", index_col=0)\n",
    "\n",
    "proteus.dropna(subset=[\"logFC\", \"P.Value\"], how=\"any\", inplace=True)\n",
    "positive =  proteus[(abs(proteus[\"logFC\"]) >1) &(proteus[\"adj.P.Val\"] <0.05) ]\n",
    "negative = proteus[(abs(proteus[\"logFC\"]) <=1) | (proteus[\"adj.P.Val\"] >=0.05) ]\n",
    "\n",
    "TP = len(positive[positive[\"protein\"].str.contains(\"YEAST\")])\n",
    "FP = len(positive) - TP\n",
    "\n",
    "FN = len(negative[negative[\"protein\"].str.contains(\"YEAST\")])\n",
    "TN = len(negative) - FN\n",
    "\n",
    "print(TP)\n",
    "print(FP)\n",
    "print(TN)\n",
    "print(FN)\n",
    "\n",
    "print(\"PPV = %.6f\" % (TP / (TP + FP)))\n",
    "print(\"NPV = %.6f\" % (TN / (TN + FN)))\n",
    "\n",
    "# quantms\n",
    "proteus = pd.read_csv(\"./proteus-NN-quantms_10.csv\", header=0, sep=\",\", index_col=0)\n",
    "\n",
    "proteus.dropna(subset=[\"logFC\", \"P.Value\"], how=\"any\", inplace=True)\n",
    "positive =  proteus[(abs(proteus[\"logFC\"]) >1) &(proteus[\"adj.P.Val\"] <0.05) ]\n",
    "negative = proteus[(abs(proteus[\"logFC\"]) <=1) | (proteus[\"adj.P.Val\"] >=0.05) ]\n",
    "\n",
    "TP = len(positive[positive[\"protein\"].str.contains(\"YEAST\")])\n",
    "FP = len(positive) - TP\n",
    "\n",
    "FN = len(negative[negative[\"protein\"].str.contains(\"YEAST\")])\n",
    "TN = len(negative) - FN\n",
    "\n",
    "print(TP)\n",
    "print(FP)\n",
    "print(TN)\n",
    "print(FN)\n",
    "\n",
    "print(\"PPV = %.6f\" % (TP / (TP + FP)))\n",
    "print(\"NPV = %.6f\" % (TN / (TN + FN)))"
   ]
  },
  {
   "cell_type": "code",
   "execution_count": null,
   "metadata": {},
   "outputs": [],
   "source": []
  },
  {
   "cell_type": "code",
   "execution_count": null,
   "metadata": {},
   "outputs": [],
   "source": [
    "%%R -w 800 -h 600\n",
    "### peptide\n",
    "\n",
    "library(proteus)\n",
    "\n",
    "\n",
    "# out_proteus\n",
    "evi <- read.csv(\"out_proteus.csv\", row.names = NULL)\n",
    "meta <- read.csv(\"metadata.csv\")\n",
    "colnames(meta)[1] <- 'experiment'\n",
    "pepdat <- makePeptideTable(evi, meta)\n",
    "prodat <- makeProteinTable(pepdat)\n",
    "prodat.med <- normalizeData(prodat)\n",
    "\n",
    "res <- limmaDE(prodat.med, sig.level=0.05, conditions=c(\"fold4\",\"fold1\"))\n",
    "res <- limmaDE(prodat.med, sig.level=0.05, conditions=c(\"fold10\",\"fold1\"))\n",
    "\n",
    "r <- res[which(res$significant), c(\"protein\", \"logFC\", \"adj.P.Val\")]\n",
    "write.csv(res, \"proteus-quantms.csv\")\n",
    "\n",
    "\n",
    "# proteinGroups\n",
    "proteinGroupsFile <- \"D:/dataset/R downstream analysis/0-paper/data_benchmark/0-reviewer/peptide based/PXD007145/proteinGroups.txt\"\n",
    "\n",
    "meta <- read.csv(\"./metadata.csv\")\n",
    "prot.MQ <- readProteinGroups(proteinGroupsFile, meta)\n",
    "#It is possible to read these data directly into Proteus and skip peptide and protein aggregation steps.\n",
    "#equalize medians (EM), quantile (Q), no normalization (NN)\n",
    "prodat.EM <- normalizeData(prot.MQ)\n",
    "\n",
    "res <- limmaDE(prodat.med, sig.level=0.05, conditions=c(\"fold4\",\"fold1\"))\n",
    "res <- limmaDE(prodat.med, sig.level=0.05, conditions=c(\"fold10\",\"fold1\"))\n",
    "\n",
    "r <- res[which(res$significant), c(\"protein\", \"logFC\", \"adj.P.Val\")]\n",
    "write.csv(res, \"proteus-maxquant.csv\")\n"
   ]
  }
 ],
 "metadata": {
  "kernelspec": {
   "display_name": "Python 3",
   "language": "python",
   "name": "python3"
  },
  "language_info": {
   "codemirror_mode": {
    "name": "ipython",
    "version": 3
   },
   "file_extension": ".py",
   "mimetype": "text/x-python",
   "name": "python",
   "nbconvert_exporter": "python",
   "pygments_lexer": "ipython3",
   "version": "3.7.8"
  }
 },
 "nbformat": 4,
 "nbformat_minor": 2
}
