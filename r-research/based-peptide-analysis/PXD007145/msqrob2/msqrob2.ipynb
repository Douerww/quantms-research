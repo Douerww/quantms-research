{
 "cells": [
  {
   "cell_type": "code",
   "execution_count": 3,
   "metadata": {},
   "outputs": [],
   "source": [
    "import pandas as pd"
   ]
  },
  {
   "cell_type": "markdown",
   "metadata": {},
   "source": [
    "# maxquant"
   ]
  },
  {
   "cell_type": "markdown",
   "metadata": {},
   "source": [
    "### 4-1"
   ]
  },
  {
   "cell_type": "code",
   "execution_count": 4,
   "metadata": {},
   "outputs": [
    {
     "name": "stdout",
     "output_type": "stream",
     "text": [
      "324\n",
      "81\n",
      "1794\n",
      "34\n",
      "PPV = 0.800000\n",
      "NPV = 0.981400\n"
     ]
    }
   ],
   "source": [
    "# CM (center.median)\n",
    "msqrob = pd.read_csv(\"./PXD007145-4FC-maxquant-dep-CM.csv\", header=0)\n",
    "msqrob.dropna(subset=[\"logFC\", \"adjPval\"], how=\"any\", inplace=True)\n",
    "positive =  msqrob[(abs(msqrob[\"logFC\"]) >1) &(msqrob[\"adjPval\"] <0.05) ]\n",
    "negative = msqrob[(abs(msqrob[\"logFC\"]) <=1) | (msqrob[\"adjPval\"] >=0.05) ]\n",
    "\n",
    "TP = len(positive[positive.iloc[:,0].str.contains(\"YEAST\")])\n",
    "FP = len(positive) - TP\n",
    "\n",
    "FN = len(negative[negative.iloc[:,0].str.contains(\"YEAST\")])\n",
    "TN = len(negative) - FN\n",
    "\n",
    "print(TP)\n",
    "print(FP)\n",
    "print(TN)\n",
    "print(FN)\n",
    "\n",
    "print(\"PPV = %.6f\" % (TP / (TP + FP)))\n",
    "print(\"NPV = %.6f\" % (TN / (TN + FN)))"
   ]
  },
  {
   "cell_type": "code",
   "execution_count": 5,
   "metadata": {},
   "outputs": [
    {
     "name": "stdout",
     "output_type": "stream",
     "text": [
      "325\n",
      "77\n",
      "1797\n",
      "33\n",
      "PPV = 0.808458\n",
      "NPV = 0.981967\n"
     ]
    }
   ],
   "source": [
    "# Q (quantiles)\n",
    "msqrob = pd.read_csv(\"./PXD007145-4FC-maxquant-dep-Q.csv\", header=0)\n",
    "msqrob.dropna(subset=[\"logFC\", \"adjPval\"], how=\"any\", inplace=True)\n",
    "positive =  msqrob[(abs(msqrob[\"logFC\"]) >1) &(msqrob[\"adjPval\"] <0.05) ]\n",
    "negative = msqrob[(abs(msqrob[\"logFC\"]) <=1) | (msqrob[\"adjPval\"] >=0.05) ]\n",
    "\n",
    "TP = len(positive[positive.iloc[:,0].str.contains(\"YEAST\")])\n",
    "FP = len(positive) - TP\n",
    "\n",
    "FN = len(negative[negative.iloc[:,0].str.contains(\"YEAST\")])\n",
    "TN = len(negative) - FN\n",
    "\n",
    "print(TP)\n",
    "print(FP)\n",
    "print(TN)\n",
    "print(FN)\n",
    "\n",
    "print(\"PPV = %.6f\" % (TP / (TP + FP)))\n",
    "print(\"NPV = %.6f\" % (TN / (TN + FN)))"
   ]
  },
  {
   "cell_type": "code",
   "execution_count": 6,
   "metadata": {},
   "outputs": [
    {
     "name": "stdout",
     "output_type": "stream",
     "text": [
      "321\n",
      "85\n",
      "1790\n",
      "37\n",
      "PPV = 0.790640\n",
      "NPV = 0.979748\n"
     ]
    }
   ],
   "source": [
    "# NN (None)\n",
    "msqrob = pd.read_csv(\"./PXD007145-4FC-maxquant-dep-NN.csv\", header=0)\n",
    "msqrob.dropna(subset=[\"logFC\", \"adjPval\"], how=\"any\", inplace=True)\n",
    "positive =  msqrob[(abs(msqrob[\"logFC\"]) >1) &(msqrob[\"adjPval\"] <0.05) ]\n",
    "negative = msqrob[(abs(msqrob[\"logFC\"]) <=1) | (msqrob[\"adjPval\"] >=0.05) ]\n",
    "\n",
    "TP = len(positive[positive.iloc[:,0].str.contains(\"YEAST\")])\n",
    "FP = len(positive) - TP\n",
    "\n",
    "FN = len(negative[negative.iloc[:,0].str.contains(\"YEAST\")])\n",
    "TN = len(negative) - FN\n",
    "\n",
    "print(TP)\n",
    "print(FP)\n",
    "print(TN)\n",
    "print(FN)\n",
    "\n",
    "print(\"PPV = %.6f\" % (TP / (TP + FP)))\n",
    "print(\"NPV = %.6f\" % (TN / (TN + FN)))"
   ]
  },
  {
   "cell_type": "markdown",
   "metadata": {},
   "source": [
    "### 10-1"
   ]
  },
  {
   "cell_type": "code",
   "execution_count": 7,
   "metadata": {},
   "outputs": [
    {
     "name": "stdout",
     "output_type": "stream",
     "text": [
      "348\n",
      "342\n",
      "1533\n",
      "10\n",
      "PPV = 0.504348\n",
      "NPV = 0.993519\n"
     ]
    }
   ],
   "source": [
    "# CM (center.median)\n",
    "msqrob = pd.read_csv(\"./PXD007145-10FC-maxquant-dep-CM.csv\", header=0)\n",
    "msqrob.dropna(subset=[\"logFC\", \"adjPval\"], how=\"any\", inplace=True)\n",
    "positive =  msqrob[(abs(msqrob[\"logFC\"]) >1) &(msqrob[\"adjPval\"] <0.05) ]\n",
    "negative = msqrob[(abs(msqrob[\"logFC\"]) <=1) | (msqrob[\"adjPval\"] >=0.05) ]\n",
    "\n",
    "TP = len(positive[positive.iloc[:,0].str.contains(\"YEAST\")])\n",
    "FP = len(positive) - TP\n",
    "\n",
    "FN = len(negative[negative.iloc[:,0].str.contains(\"YEAST\")])\n",
    "TN = len(negative) - FN\n",
    "\n",
    "print(TP)\n",
    "print(FP)\n",
    "print(TN)\n",
    "print(FN)\n",
    "\n",
    "print(\"PPV = %.6f\" % (TP / (TP + FP)))\n",
    "print(\"NPV = %.6f\" % (TN / (TN + FN)))"
   ]
  },
  {
   "cell_type": "code",
   "execution_count": 8,
   "metadata": {},
   "outputs": [
    {
     "name": "stdout",
     "output_type": "stream",
     "text": [
      "348\n",
      "313\n",
      "1561\n",
      "10\n",
      "PPV = 0.526475\n",
      "NPV = 0.993635\n"
     ]
    }
   ],
   "source": [
    "# Q (quantiles)\n",
    "msqrob = pd.read_csv(\"./PXD007145-10FC-maxquant-dep-Q.csv\", header=0)\n",
    "msqrob.dropna(subset=[\"logFC\", \"adjPval\"], how=\"any\", inplace=True)\n",
    "positive =  msqrob[(abs(msqrob[\"logFC\"]) >1) &(msqrob[\"adjPval\"] <0.05) ]\n",
    "negative = msqrob[(abs(msqrob[\"logFC\"]) <=1) | (msqrob[\"adjPval\"] >=0.05) ]\n",
    "\n",
    "TP = len(positive[positive.iloc[:,0].str.contains(\"YEAST\")])\n",
    "FP = len(positive) - TP\n",
    "\n",
    "FN = len(negative[negative.iloc[:,0].str.contains(\"YEAST\")])\n",
    "TN = len(negative) - FN\n",
    "\n",
    "print(TP)\n",
    "print(FP)\n",
    "print(TN)\n",
    "print(FN)\n",
    "\n",
    "print(\"PPV = %.6f\" % (TP / (TP + FP)))\n",
    "print(\"NPV = %.6f\" % (TN / (TN + FN)))"
   ]
  },
  {
   "cell_type": "code",
   "execution_count": 9,
   "metadata": {},
   "outputs": [
    {
     "name": "stdout",
     "output_type": "stream",
     "text": [
      "348\n",
      "317\n",
      "1558\n",
      "10\n",
      "PPV = 0.523308\n",
      "NPV = 0.993622\n"
     ]
    }
   ],
   "source": [
    "# NN (None)\n",
    "msqrob = pd.read_csv(\"./PXD007145-10FC-maxquant-dep-NN.csv\", header=0)\n",
    "msqrob.dropna(subset=[\"logFC\", \"adjPval\"], how=\"any\", inplace=True)\n",
    "positive =  msqrob[(abs(msqrob[\"logFC\"]) >1) &(msqrob[\"adjPval\"] <0.05) ]\n",
    "negative = msqrob[(abs(msqrob[\"logFC\"]) <=1) | (msqrob[\"adjPval\"] >=0.05) ]\n",
    "\n",
    "TP = len(positive[positive.iloc[:,0].str.contains(\"YEAST\")])\n",
    "FP = len(positive) - TP\n",
    "\n",
    "FN = len(negative[negative.iloc[:,0].str.contains(\"YEAST\")])\n",
    "TN = len(negative) - FN\n",
    "\n",
    "print(TP)\n",
    "print(FP)\n",
    "print(TN)\n",
    "print(FN)\n",
    "\n",
    "print(\"PPV = %.6f\" % (TP / (TP + FP)))\n",
    "print(\"NPV = %.6f\" % (TN / (TN + FN)))"
   ]
  },
  {
   "cell_type": "markdown",
   "metadata": {},
   "source": [
    "# quantms"
   ]
  },
  {
   "cell_type": "markdown",
   "metadata": {},
   "source": [
    "### 4-1"
   ]
  },
  {
   "cell_type": "code",
   "execution_count": null,
   "metadata": {},
   "outputs": [],
   "source": []
  },
  {
   "cell_type": "markdown",
   "metadata": {},
   "source": [
    "### 10-1"
   ]
  },
  {
   "cell_type": "code",
   "execution_count": null,
   "metadata": {},
   "outputs": [],
   "source": []
  }
 ],
 "metadata": {
  "kernelspec": {
   "display_name": "douer(base)",
   "language": "python",
   "name": "base"
  },
  "language_info": {
   "codemirror_mode": {
    "name": "ipython",
    "version": 3
   },
   "file_extension": ".py",
   "mimetype": "text/x-python",
   "name": "python",
   "nbconvert_exporter": "python",
   "pygments_lexer": "ipython3",
   "version": "3.7.6"
  }
 },
 "nbformat": 4,
 "nbformat_minor": 4
}
