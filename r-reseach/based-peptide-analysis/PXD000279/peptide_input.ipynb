{
 "cells": [
  {
   "cell_type": "code",
   "execution_count": 1,
   "metadata": {},
   "outputs": [
    {
     "name": "stderr",
     "output_type": "stream",
     "text": [
      "C:\\Users\\ChengXin\\MyProgram\\python\\anaconda\\pro\\lib\\site-packages\\rpy2\\robjects\\packages.py:367: UserWarning: The symbol 'quartz' is not in this R namespace/package.\n",
      "  \"The symbol '%s' is not in this R namespace/package.\" % name\n"
     ]
    }
   ],
   "source": [
    "%load_ext rpy2.ipython"
   ]
  },
  {
   "cell_type": "code",
   "execution_count": 2,
   "metadata": {},
   "outputs": [],
   "source": [
    "import pandas as pd\n",
    "from matplotlib import pyplot as plt\n",
    "import numpy as np\n",
    "import seaborn as sns\n",
    "import urllib"
   ]
  },
  {
   "cell_type": "code",
   "execution_count": 3,
   "metadata": {},
   "outputs": [],
   "source": [
    "%%R\n",
    "data_folder = './'\n",
    "setwd(data_folder)"
   ]
  },
  {
   "cell_type": "code",
   "execution_count": 41,
   "metadata": {},
   "outputs": [
    {
     "name": "stdout",
     "output_type": "stream",
     "text": [
      "187041\n",
      "183624\n"
     ]
    }
   ],
   "source": [
    "import re\n",
    "out_msstats = pd.read_csv(\"./PXD000279.dynamic.sdrf_openms_design_msstats_in.csv\")\n",
    "def sub_mod(peptide):\n",
    "    peptide = peptide.replace(\".\", \"\")\n",
    "    peptide = re.sub(\"\\(.*?\\)\", \"\", peptide)\n",
    "    return peptide\n",
    "    \n",
    "print(len(out_msstats))\n",
    "out_msstats[\"sequence\"] = out_msstats.apply(lambda x: sub_mod(x[\"PeptideSequence\"]), axis=1)\n",
    "filtered_df = out_msstats.groupby('sequence').filter(lambda x: len(set(x[\"ProteinName\"])) == 1)\n",
    "filtered_df = filtered_df[-filtered_df[\"ProteinName\"].str.contains(\";\")]\n",
    "filtered_df = filtered_df.groupby('ProteinName').filter(lambda x: len(set(x[\"sequence\"])) > 2)\n",
    "filtered_df.drop(\"sequence\", axis=1, inplace=True)\n",
    "print(len(filtered_df))\n",
    "filtered_df.to_csv(\"./PXD000279_no_shared_unique_3.csv\", index=False)"
   ]
  },
  {
   "cell_type": "code",
   "execution_count": 16,
   "metadata": {},
   "outputs": [
    {
     "data": {
      "text/plain": [
       "40"
      ]
     },
     "execution_count": 16,
     "metadata": {},
     "output_type": "execute_result"
    }
   ],
   "source": [
    "len(set(out_msstats[out_msstats[\"ProteinName\"].str.contains(\"|\".join(difference_ups))][\"ProteinName\"]))"
   ]
  },
  {
   "cell_type": "code",
   "execution_count": 8,
   "metadata": {
    "scrolled": false
   },
   "outputs": [
    {
     "name": "stdout",
     "output_type": "stream",
     "text": [
      "INFO  [2022-09-17 14:47:08] ** Raw data from OpenMS imported successfully.\n",
      "INFO  [2022-09-17 14:47:08] ** Raw data from OpenMS cleaned successfully.\n",
      "INFO  [2022-09-17 14:47:08] ** Using annotation extracted from quantification data.\n",
      "INFO  [2022-09-17 14:47:08] ** Run labels were standardized to remove symbols such as '.' or '%'.\n",
      "INFO  [2022-09-17 14:47:08] ** The following options are used:\n",
      "  - Features will be defined by the columns: PeptideSequence, PrecursorCharge, FragmentIon, ProductCharge\n",
      "  - Shared peptides will be removed.\n",
      "  - Proteins with single feature will not be removed.\n",
      "  - Features with less than 3 measurements across runs will be removed.\n",
      "INFO  [2022-09-17 14:47:08] ** Features with all missing measurements across runs are removed.\n",
      "INFO  [2022-09-17 14:47:08] ** Shared peptides are removed.\n",
      "INFO  [2022-09-17 14:47:09] ** Multiple measurements in a feature and a run are summarized by summaryforMultipleRows: max\n",
      "INFO  [2022-09-17 14:47:09] ** Features with one or two measurements across runs are removed.\n",
      "INFO  [2022-09-17 14:47:09] ** Run annotation merged with quantification data.\n",
      "INFO  [2022-09-17 14:47:10] ** Features with one or two measurements across runs are removed.\n",
      "INFO  [2022-09-17 14:47:10] ** Fractionation handled.\n",
      "INFO  [2022-09-17 14:47:10] ** Updated quantification data to make balanced design. Missing values are marked by NA\n",
      "INFO  [2022-09-17 14:47:10] ** Finished preprocessing. The dataset is ready to be processed by the dataProcess function.\n",
      "INFO  [2022-09-17 14:47:11] ** Log2 intensities under cutoff = 17.841  were considered as censored missing values.\n",
      "INFO  [2022-09-17 14:47:11] ** Log2 intensities = NA were considered as censored missing values.\n",
      "INFO  [2022-09-17 14:47:11] ** Use all features that the dataset originally has.\n",
      "INFO  [2022-09-17 14:47:12] \n",
      " # proteins: 2208\n",
      " # peptides per protein: 1-131\n",
      " # features per peptide: 1-1\n",
      "INFO  [2022-09-17 14:47:12] Some proteins have only one feature: \n",
      " sp|A5A614|YCIZ_ECOLI,\n",
      " sp|P00888|AROF_ECOLI,\n",
      " sp|P02929|TONB_ECOLI,\n",
      " sp|P03024|GALR_ECOLI,\n",
      " sp|P04949|FLIC_ECOLI ...\n",
      "INFO  [2022-09-17 14:47:12] \n",
      "                    UPS1 UPS2\n",
      "             # runs    4    4\n",
      "    # bioreplicates    1    1\n",
      " # tech. replicates    4    4\n",
      "INFO  [2022-09-17 14:47:12] Some features are completely missing in at least one condition:  \n",
      " DPAATSVAAAR_2_NA_0,\n",
      " GAEPSGGAAR_2_NA_0,\n",
      " GISAFPESDNLFK_2_NA_0,\n",
      " RLQQELM(Oxidation)TLM(Oxidation)M(Oxidation)SGDK_2_NA_0,\n",
      " RLQQELM(Oxidation)TLM(Oxidation)MSGDK_2_NA_0 ...\n",
      "INFO  [2022-09-17 14:47:12]  == Start the summarization per subplot...\n",
      "  |======================================================================| 100%\n",
      "INFO  [2022-09-17 14:48:07]  == Summarization is done.\n",
      "                    Protein LogIntensities GROUP SUBJECT\n",
      "1 O00762ups|UBE2C_HUMAN_UPS       27.49449  UPS1       1\n",
      "2 O00762ups|UBE2C_HUMAN_UPS       27.70892  UPS1       1\n",
      "3 O00762ups|UBE2C_HUMAN_UPS       26.74959  UPS1       1\n",
      "4 O00762ups|UBE2C_HUMAN_UPS       27.55381  UPS1       1\n",
      "5 O00762ups|UBE2C_HUMAN_UPS       21.97305  UPS2       2\n",
      "6 O00762ups|UBE2C_HUMAN_UPS       23.21668  UPS2       2\n"
     ]
    }
   ],
   "source": [
    "%%R -w 800 -h 600\n",
    "\n",
    "library('MSstats', warn.conflicts = F, quietly = T, verbose = F)\n",
    "\n",
    "protein_expression = './protein_expression.csv'\n",
    "\n",
    "raw.om <- read.csv('./PXD000279_no_shared.csv', header = TRUE, sep = ',')\n",
    "raw.om <- raw.om[!grepl(\"DECOY\", raw.om$ProteinName),]\n",
    "\n",
    "raw.om <- OpenMStoMSstatsFormat(raw.om)\n",
    "quantms.proposed <- MSstats::dataProcess(raw = raw.om,\n",
    "                                           normalization = 'equalizeMedians',\n",
    "                                           summaryMethod = 'TMP',\n",
    "                                           censoredInt = \"NA\",\n",
    "                                           MBimpute = TRUE)\n",
    "\n",
    "# Write the expression protein log values into the expression csv \n",
    "head(quantms.proposed$ProteinLevelData)\n",
    "Protein.Expression <- quantms.proposed$ProteinLevelData[, c('Protein', 'LogIntensities', 'GROUP', 'SUBJECT')]\n",
    "head(Protein.Expression)\n",
    "# write.csv(Protein.Expression, file=protein_expression, row.names=FALSE)"
   ]
  },
  {
   "cell_type": "code",
   "execution_count": 9,
   "metadata": {},
   "outputs": [
    {
     "name": "stdout",
     "output_type": "stream",
     "text": [
      "[1] \"UPS1\" \"UPS2\"\n"
     ]
    }
   ],
   "source": [
    "%%R\n",
    "\n",
    "ac_groups = levels(quantms.proposed$FeatureLevelData$GROUP)\n",
    "groups = levels(quantms.proposed$ProteinLevelData$GROUP)\n",
    "print(ac_groups)"
   ]
  },
  {
   "cell_type": "code",
   "execution_count": 11,
   "metadata": {
    "scrolled": false
   },
   "outputs": [
    {
     "name": "stdout",
     "output_type": "stream",
     "text": [
      "INFO  [2022-09-17 14:49:43]  == Start to test and get inference in whole plot ...\n",
      "  |======================================================================| 100%\n",
      "INFO  [2022-09-17 14:50:03]  == Comparisons for all proteins are done.\n"
     ]
    }
   ],
   "source": [
    "%%R\n",
    "\n",
    "comparison_matrix = c(1, -1)\n",
    "comparison <- matrix(comparison_matrix, nrow=1)\n",
    "\n",
    "colnames(comparison) <- groups[order(as.numeric(groups))]\n",
    "row.names(comparison) <- \"UPS1-UPS2\"\n",
    "\n",
    "ResultComparison <- groupComparison(contrast.matrix=comparison, data=quantms.proposed)\n",
    "head(ResultComparison$ComparisonResult)\n",
    "\n",
    "write.csv(ResultComparison$ComparisonResult, file=\"MSstats_output_equalizeMedians.csv\")"
   ]
  },
  {
   "cell_type": "code",
   "execution_count": 12,
   "metadata": {},
   "outputs": [
    {
     "name": "stdout",
     "output_type": "stream",
     "text": [
      "23\n",
      "1\n",
      "2158\n",
      "16\n"
     ]
    }
   ],
   "source": [
    "MSstats_output_equalizeMedians = pd.read_csv(\"./MSstats_output_equalizeMedians.csv\", header=0, sep=\",\", index_col=0)\n",
    "MSstats_output_equalizeMedians.dropna(subset=[\"log2FC\", \"pvalue\"], how=\"any\", inplace=True)\n",
    "positive =  MSstats_output_equalizeMedians[(abs(MSstats_output_equalizeMedians[\"log2FC\"]) >1) &(MSstats_output_equalizeMedians[\"adj.pvalue\"] <0.05) ]\n",
    "negative = MSstats_output_equalizeMedians[(abs(MSstats_output_equalizeMedians[\"log2FC\"]) <=1) | (MSstats_output_equalizeMedians[\"adj.pvalue\"] >=0.05) ]\n",
    "\n",
    "no_difference_ups = [\"P00167\", \"P01133\", \"P02144\", \"P04040\", \"P15559\", \"P62937\", \"P63165\",  \"Q06830\"]\n",
    "\n",
    "difference_ups =  [\"P01579\", \"O76070\", \"P63279\", \"P68871\",\"P01127\", \"P01008\", \"P62988\", \"P10599\", \"P02787\", \"P99999\", \"P12081\", \"P51965\",\"P10636-8\", \n",
    "       \"P01031\", \"P09211\", \"P02788\", \"P41159\", \"O00762\", \"P05413\", \"P00441\", \"P00918\", \"P08758\", \"P00915\", \"P01344\", \"P69905\", \n",
    "        \"P00709\", \"P55957\", \"P08263\", \"P61769\", \"P10145\", \"P16083\", \"P61626\", \"P02741\", \"P06732\",\n",
    "        \"P01375\", \"P06396\", \"P02753\", \"P01112\", \"Q15843\", \"P02768\"]\n",
    "\n",
    "TP = len(positive[positive[\"Protein\"].str.contains(\"|\".join(difference_ups))])\n",
    "FP = len(positive) - TP\n",
    "\n",
    "FN = len(negative[negative[\"Protein\"].str.contains(\"|\".join(difference_ups))])\n",
    "TN = len(negative) - FN\n",
    "\n",
    "print(TP)\n",
    "print(FP)\n",
    "print(TN)\n",
    "print(FN)"
   ]
  },
  {
   "cell_type": "code",
   "execution_count": 18,
   "metadata": {},
   "outputs": [
    {
     "name": "stdout",
     "output_type": "stream",
     "text": [
      "INFO  [2022-09-17 15:03:40] ** Raw data from OpenMS imported successfully.\n",
      "INFO  [2022-09-17 15:03:41] ** Raw data from OpenMS cleaned successfully.\n",
      "INFO  [2022-09-17 15:03:41] ** Using annotation extracted from quantification data.\n",
      "INFO  [2022-09-17 15:03:41] ** Run labels were standardized to remove symbols such as '.' or '%'.\n",
      "INFO  [2022-09-17 15:03:41] ** The following options are used:\n",
      "  - Features will be defined by the columns: PeptideSequence, PrecursorCharge, FragmentIon, ProductCharge\n",
      "  - Shared peptides will be removed.\n",
      "  - Proteins with single feature will not be removed.\n",
      "  - Features with less than 3 measurements across runs will be removed.\n",
      "INFO  [2022-09-17 15:03:41] ** Features with all missing measurements across runs are removed.\n",
      "INFO  [2022-09-17 15:03:41] ** Shared peptides are removed.\n",
      "INFO  [2022-09-17 15:03:41] ** Multiple measurements in a feature and a run are summarized by summaryforMultipleRows: max\n",
      "INFO  [2022-09-17 15:03:42] ** Features with one or two measurements across runs are removed.\n",
      "INFO  [2022-09-17 15:03:42] ** Run annotation merged with quantification data.\n",
      "INFO  [2022-09-17 15:03:42] ** Features with one or two measurements across runs are removed.\n",
      "INFO  [2022-09-17 15:03:42] ** Fractionation handled.\n",
      "INFO  [2022-09-17 15:03:42] ** Updated quantification data to make balanced design. Missing values are marked by NA\n",
      "INFO  [2022-09-17 15:03:43] ** Finished preprocessing. The dataset is ready to be processed by the dataProcess function.\n",
      "INFO  [2022-09-17 15:03:44] ** Log2 intensities under cutoff = 17.86  were considered as censored missing values.\n",
      "INFO  [2022-09-17 15:03:44] ** Log2 intensities = NA were considered as censored missing values.\n",
      "INFO  [2022-09-17 15:03:44] ** Use all features that the dataset originally has.\n",
      "INFO  [2022-09-17 15:03:45] \n",
      " # proteins: 2208\n",
      " # peptides per protein: 1-131\n",
      " # features per peptide: 1-1\n",
      "INFO  [2022-09-17 15:03:45] Some proteins have only one feature: \n",
      " sp|A5A614|YCIZ_ECOLI,\n",
      " sp|P00888|AROF_ECOLI,\n",
      " sp|P02929|TONB_ECOLI,\n",
      " sp|P03024|GALR_ECOLI,\n",
      " sp|P04949|FLIC_ECOLI ...\n",
      "INFO  [2022-09-17 15:03:45] \n",
      "                    UPS1 UPS2\n",
      "             # runs    4    4\n",
      "    # bioreplicates    1    1\n",
      " # tech. replicates    4    4\n",
      "INFO  [2022-09-17 15:03:45] Some features are completely missing in at least one condition:  \n",
      " DPAATSVAAAR_2_NA_0,\n",
      " GAEPSGGAAR_2_NA_0,\n",
      " GISAFPESDNLFK_2_NA_0,\n",
      " RLQQELM(Oxidation)TLM(Oxidation)M(Oxidation)SGDK_2_NA_0,\n",
      " RLQQELM(Oxidation)TLM(Oxidation)MSGDK_2_NA_0 ...\n",
      "INFO  [2022-09-17 15:03:45]  == Start the summarization per subplot...\n",
      "  |======================================================================| 100%\n",
      "INFO  [2022-09-17 15:04:40]  == Summarization is done.\n",
      "                    Protein LogIntensities GROUP SUBJECT\n",
      "1 O00762ups|UBE2C_HUMAN_UPS       27.74747  UPS1       1\n",
      "2 O00762ups|UBE2C_HUMAN_UPS       28.39736  UPS1       1\n",
      "3 O00762ups|UBE2C_HUMAN_UPS       26.03869  UPS1       1\n",
      "4 O00762ups|UBE2C_HUMAN_UPS       27.45614  UPS1       1\n",
      "5 O00762ups|UBE2C_HUMAN_UPS       21.92198  UPS2       2\n",
      "6 O00762ups|UBE2C_HUMAN_UPS       22.81640  UPS2       2\n"
     ]
    }
   ],
   "source": [
    "%%R -w 800 -h 600\n",
    "\n",
    "library('MSstats', warn.conflicts = F, quietly = T, verbose = F)\n",
    "\n",
    "protein_expression = './protein_expression.csv'\n",
    "\n",
    "raw.om <- read.csv('./PXD000279_no_shared.csv', header = TRUE, sep = ',')\n",
    "raw.om <- raw.om[!grepl(\"DECOY\", raw.om$ProteinName),]\n",
    "\n",
    "raw.om <- OpenMStoMSstatsFormat(raw.om)\n",
    "quantms.proposed <- MSstats::dataProcess(raw = raw.om,\n",
    "                                           normalization = FALSE,\n",
    "                                           summaryMethod = 'TMP',\n",
    "                                           censoredInt = \"NA\",\n",
    "                                           MBimpute = TRUE)\n",
    "\n",
    "# Write the expression protein log values into the expression csv \n",
    "head(quantms.proposed$ProteinLevelData)\n",
    "Protein.Expression <- quantms.proposed$ProteinLevelData[, c('Protein', 'LogIntensities', 'GROUP', 'SUBJECT')]\n",
    "head(Protein.Expression)\n",
    "# write.csv(Protein.Expression, file=protein_expression, row.names=FALSE)"
   ]
  },
  {
   "cell_type": "code",
   "execution_count": 19,
   "metadata": {},
   "outputs": [
    {
     "name": "stdout",
     "output_type": "stream",
     "text": [
      "INFO  [2022-09-17 15:04:41]  == Start to test and get inference in whole plot ...\n",
      "  |======================================================================| 100%\n",
      "INFO  [2022-09-17 15:05:00]  == Comparisons for all proteins are done.\n"
     ]
    }
   ],
   "source": [
    "%%R\n",
    "\n",
    "comparison_matrix = c(1, -1)\n",
    "comparison <- matrix(comparison_matrix, nrow=1)\n",
    "\n",
    "colnames(comparison) <- groups[order(as.numeric(groups))]\n",
    "row.names(comparison) <- \"UPS1-UPS2\"\n",
    "\n",
    "ResultComparison <- groupComparison(contrast.matrix=comparison, data=quantms.proposed)\n",
    "head(ResultComparison$ComparisonResult)\n",
    "\n",
    "write.csv(ResultComparison$ComparisonResult, file=\"MSstats_output_NN.csv\")"
   ]
  },
  {
   "cell_type": "code",
   "execution_count": 21,
   "metadata": {},
   "outputs": [
    {
     "name": "stdout",
     "output_type": "stream",
     "text": [
      "7\n",
      "0\n",
      "2159\n",
      "32\n"
     ]
    }
   ],
   "source": [
    "MSstats_output_NN = pd.read_csv(\"./MSstats_output_NN.csv\", header=0, sep=\",\", index_col=0)\n",
    "MSstats_output_NN.dropna(subset=[\"log2FC\", \"pvalue\"], how=\"any\", inplace=True)\n",
    "positive =  MSstats_output_NN[(abs(MSstats_output_NN[\"log2FC\"]) >1) &(MSstats_output_NN[\"adj.pvalue\"] <0.05) ]\n",
    "negative = MSstats_output_NN[(abs(MSstats_output_NN[\"log2FC\"]) <=1) | (MSstats_output_NN[\"adj.pvalue\"] >=0.05) ]\n",
    "\n",
    "no_difference_ups = [\"P00167\", \"P01133\", \"P02144\", \"P04040\", \"P15559\", \"P62937\", \"P63165\",  \"Q06830\"]\n",
    "\n",
    "difference_ups =  [\"P01579\", \"O76070\", \"P63279\", \"P68871\",\"P01127\", \"P01008\", \"P62988\", \"P10599\", \"P02787\", \"P99999\", \"P12081\", \"P51965\",\"P10636-8\", \n",
    "       \"P01031\", \"P09211\", \"P02788\", \"P41159\", \"O00762\", \"P05413\", \"P00441\", \"P00918\", \"P08758\", \"P00915\", \"P01344\", \"P69905\", \n",
    "        \"P00709\", \"P55957\", \"P08263\", \"P61769\", \"P10145\", \"P16083\", \"P61626\", \"P02741\", \"P06732\",\n",
    "        \"P01375\", \"P06396\", \"P02753\", \"P01112\", \"Q15843\", \"P02768\"]\n",
    "\n",
    "TP = len(positive[positive[\"Protein\"].str.contains(\"|\".join(difference_ups))])\n",
    "FP = len(positive) - TP\n",
    "\n",
    "FN = len(negative[negative[\"Protein\"].str.contains(\"|\".join(difference_ups))])\n",
    "TN = len(negative) - FN\n",
    "\n",
    "print(TP)\n",
    "print(FP)\n",
    "print(TN)\n",
    "print(FN)"
   ]
  },
  {
   "cell_type": "code",
   "execution_count": 23,
   "metadata": {},
   "outputs": [
    {
     "name": "stdout",
     "output_type": "stream",
     "text": [
      "INFO  [2022-09-17 15:11:35] ** Raw data from OpenMS imported successfully.\n",
      "INFO  [2022-09-17 15:11:35] ** Raw data from OpenMS cleaned successfully.\n",
      "INFO  [2022-09-17 15:11:35] ** Using annotation extracted from quantification data.\n",
      "INFO  [2022-09-17 15:11:35] ** Run labels were standardized to remove symbols such as '.' or '%'.\n",
      "INFO  [2022-09-17 15:11:35] ** The following options are used:\n",
      "  - Features will be defined by the columns: PeptideSequence, PrecursorCharge, FragmentIon, ProductCharge\n",
      "  - Shared peptides will be removed.\n",
      "  - Proteins with single feature will not be removed.\n",
      "  - Features with less than 3 measurements across runs will be removed.\n",
      "INFO  [2022-09-17 15:11:35] ** Features with all missing measurements across runs are removed.\n",
      "INFO  [2022-09-17 15:11:35] ** Shared peptides are removed.\n",
      "INFO  [2022-09-17 15:11:36] ** Multiple measurements in a feature and a run are summarized by summaryforMultipleRows: max\n",
      "INFO  [2022-09-17 15:11:36] ** Features with one or two measurements across runs are removed.\n",
      "INFO  [2022-09-17 15:11:36] ** Run annotation merged with quantification data.\n",
      "INFO  [2022-09-17 15:11:36] ** Features with one or two measurements across runs are removed.\n",
      "INFO  [2022-09-17 15:11:36] ** Fractionation handled.\n",
      "INFO  [2022-09-17 15:11:37] ** Updated quantification data to make balanced design. Missing values are marked by NA\n",
      "INFO  [2022-09-17 15:11:37] ** Finished preprocessing. The dataset is ready to be processed by the dataProcess function.\n",
      "INFO  [2022-09-17 15:11:38] ** Log2 intensities under cutoff = 17.821  were considered as censored missing values.\n",
      "INFO  [2022-09-17 15:11:38] ** Log2 intensities = NA were considered as censored missing values.\n",
      "INFO  [2022-09-17 15:11:38] ** Use all features that the dataset originally has.\n",
      "INFO  [2022-09-17 15:11:40] \n",
      " # proteins: 2208\n",
      " # peptides per protein: 1-131\n",
      " # features per peptide: 1-1\n",
      "INFO  [2022-09-17 15:11:40] Some proteins have only one feature: \n",
      " sp|A5A614|YCIZ_ECOLI,\n",
      " sp|P00888|AROF_ECOLI,\n",
      " sp|P02929|TONB_ECOLI,\n",
      " sp|P03024|GALR_ECOLI,\n",
      " sp|P04949|FLIC_ECOLI ...\n",
      "INFO  [2022-09-17 15:11:40] \n",
      "                    UPS1 UPS2\n",
      "             # runs    4    4\n",
      "    # bioreplicates    1    1\n",
      " # tech. replicates    4    4\n",
      "INFO  [2022-09-17 15:11:40] Some features are completely missing in at least one condition:  \n",
      " DPAATSVAAAR_2_NA_0,\n",
      " GAEPSGGAAR_2_NA_0,\n",
      " GISAFPESDNLFK_2_NA_0,\n",
      " RLQQELM(Oxidation)TLM(Oxidation)M(Oxidation)SGDK_2_NA_0,\n",
      " RLQQELM(Oxidation)TLM(Oxidation)MSGDK_2_NA_0 ...\n",
      "INFO  [2022-09-17 15:11:40]  == Start the summarization per subplot...\n",
      "  |======================================================================| 100%\n",
      "INFO  [2022-09-17 15:12:34]  == Summarization is done.\n",
      "                    Protein LogIntensities GROUP SUBJECT\n",
      "1 O00762ups|UBE2C_HUMAN_UPS       27.41433  UPS1       1\n",
      "2 O00762ups|UBE2C_HUMAN_UPS       27.55939  UPS1       1\n",
      "3 O00762ups|UBE2C_HUMAN_UPS       26.87847  UPS1       1\n",
      "4 O00762ups|UBE2C_HUMAN_UPS       27.58108  UPS1       1\n",
      "5 O00762ups|UBE2C_HUMAN_UPS       21.95017  UPS2       2\n",
      "6 O00762ups|UBE2C_HUMAN_UPS       23.24235  UPS2       2\n"
     ]
    }
   ],
   "source": [
    "%%R -w 800 -h 600\n",
    "\n",
    "protein_expression = './protein_expression.csv'\n",
    "\n",
    "raw.om <- read.csv('./PXD000279_no_shared.csv', header = TRUE, sep = ',')\n",
    "raw.om <- raw.om[!grepl(\"DECOY\", raw.om$ProteinName),]\n",
    "\n",
    "raw.om <- OpenMStoMSstatsFormat(raw.om)\n",
    "quantms.proposed <- MSstats::dataProcess(raw = raw.om,\n",
    "                                           normalization = \"quantile\",\n",
    "                                           summaryMethod = 'TMP',\n",
    "                                           censoredInt = \"NA\",\n",
    "                                           MBimpute = TRUE)\n",
    "\n",
    "# Write the expression protein log values into the expression csv \n",
    "head(quantms.proposed$ProteinLevelData)\n",
    "Protein.Expression <- quantms.proposed$ProteinLevelData[, c('Protein', 'LogIntensities', 'GROUP', 'SUBJECT')]\n",
    "head(Protein.Expression)"
   ]
  },
  {
   "cell_type": "code",
   "execution_count": 24,
   "metadata": {},
   "outputs": [
    {
     "name": "stdout",
     "output_type": "stream",
     "text": [
      "INFO  [2022-09-17 15:12:35]  == Start to test and get inference in whole plot ...\n",
      "  |======================================================================| 100%\n",
      "INFO  [2022-09-17 15:12:57]  == Comparisons for all proteins are done.\n"
     ]
    }
   ],
   "source": [
    "%%R\n",
    "\n",
    "comparison_matrix = c(1, -1)\n",
    "comparison <- matrix(comparison_matrix, nrow=1)\n",
    "\n",
    "colnames(comparison) <- groups[order(as.numeric(groups))]\n",
    "row.names(comparison) <- \"UPS1-UPS2\"\n",
    "\n",
    "ResultComparison <- groupComparison(contrast.matrix=comparison, data=quantms.proposed)\n",
    "head(ResultComparison$ComparisonResult)\n",
    "\n",
    "write.csv(ResultComparison$ComparisonResult, file=\"MSstats_output_quantile.csv\")"
   ]
  },
  {
   "cell_type": "code",
   "execution_count": 25,
   "metadata": {},
   "outputs": [
    {
     "name": "stdout",
     "output_type": "stream",
     "text": [
      "28\n",
      "1\n",
      "2158\n",
      "11\n"
     ]
    }
   ],
   "source": [
    "MSstats_output_NN = pd.read_csv(\"./MSstats_output_quantile.csv\", header=0, sep=\",\", index_col=0)\n",
    "MSstats_output_NN.dropna(subset=[\"log2FC\", \"pvalue\"], how=\"any\", inplace=True)\n",
    "positive =  MSstats_output_NN[(abs(MSstats_output_NN[\"log2FC\"]) >1) &(MSstats_output_NN[\"adj.pvalue\"] <0.05) ]\n",
    "negative = MSstats_output_NN[(abs(MSstats_output_NN[\"log2FC\"]) <=1) | (MSstats_output_NN[\"adj.pvalue\"] >=0.05) ]\n",
    "\n",
    "no_difference_ups = [\"P00167\", \"P01133\", \"P02144\", \"P04040\", \"P15559\", \"P62937\", \"P63165\",  \"Q06830\"]\n",
    "\n",
    "difference_ups =  [\"P01579\", \"O76070\", \"P63279\", \"P68871\",\"P01127\", \"P01008\", \"P62988\", \"P10599\", \"P02787\", \"P99999\", \"P12081\", \"P51965\",\"P10636-8\", \n",
    "       \"P01031\", \"P09211\", \"P02788\", \"P41159\", \"O00762\", \"P05413\", \"P00441\", \"P00918\", \"P08758\", \"P00915\", \"P01344\", \"P69905\", \n",
    "        \"P00709\", \"P55957\", \"P08263\", \"P61769\", \"P10145\", \"P16083\", \"P61626\", \"P02741\", \"P06732\",\n",
    "        \"P01375\", \"P06396\", \"P02753\", \"P01112\", \"Q15843\", \"P02768\"]\n",
    "\n",
    "TP = len(positive[positive[\"Protein\"].str.contains(\"|\".join(difference_ups))])\n",
    "FP = len(positive) - TP\n",
    "\n",
    "FN = len(negative[negative[\"Protein\"].str.contains(\"|\".join(difference_ups))])\n",
    "TN = len(negative) - FN\n",
    "\n",
    "print(TP)\n",
    "print(FP)\n",
    "print(TN)\n",
    "print(FN)"
   ]
  },
  {
   "cell_type": "code",
   "execution_count": 38,
   "metadata": {},
   "outputs": [
    {
     "name": "stdout",
     "output_type": "stream",
     "text": [
      "INFO  [2022-09-17 16:16:22] ** Raw data from OpenMS imported successfully.\n",
      "INFO  [2022-09-17 16:16:23] ** Raw data from OpenMS cleaned successfully.\n",
      "INFO  [2022-09-17 16:16:23] ** Using annotation extracted from quantification data.\n",
      "INFO  [2022-09-17 16:16:23] ** Run labels were standardized to remove symbols such as '.' or '%'.\n",
      "INFO  [2022-09-17 16:16:23] ** The following options are used:\n",
      "  - Features will be defined by the columns: PeptideSequence, PrecursorCharge, FragmentIon, ProductCharge\n",
      "  - Shared peptides will be removed.\n",
      "  - Proteins with single feature will not be removed.\n",
      "  - Features with less than 3 measurements across runs will be removed.\n",
      "INFO  [2022-09-17 16:16:23] ** Features with all missing measurements across runs are removed.\n",
      "INFO  [2022-09-17 16:16:23] ** Shared peptides are removed.\n",
      "INFO  [2022-09-17 16:16:23] ** Multiple measurements in a feature and a run are summarized by summaryforMultipleRows: max\n",
      "INFO  [2022-09-17 16:16:23] ** Features with one or two measurements across runs are removed.\n",
      "INFO  [2022-09-17 16:16:23] ** Run annotation merged with quantification data.\n",
      "INFO  [2022-09-17 16:16:24] ** Features with one or two measurements across runs are removed.\n",
      "INFO  [2022-09-17 16:16:24] ** Fractionation handled.\n",
      "INFO  [2022-09-17 16:16:24] ** Updated quantification data to make balanced design. Missing values are marked by NA\n",
      "INFO  [2022-09-17 16:16:24] ** Finished preprocessing. The dataset is ready to be processed by the dataProcess function.\n",
      "INFO  [2022-09-17 16:16:25] ** Log2 intensities under cutoff = 17.841  were considered as censored missing values.\n",
      "INFO  [2022-09-17 16:16:25] ** Log2 intensities = 0 were considered as censored missing values.\n",
      "INFO  [2022-09-17 16:16:25] ** Use all features that the dataset originally has.\n",
      "INFO  [2022-09-17 16:16:26] \n",
      " # proteins: 2208\n",
      " # peptides per protein: 1-131\n",
      " # features per peptide: 1-1\n",
      "INFO  [2022-09-17 16:16:26] Some proteins have only one feature: \n",
      " sp|A5A614|YCIZ_ECOLI,\n",
      " sp|P00888|AROF_ECOLI,\n",
      " sp|P02929|TONB_ECOLI,\n",
      " sp|P03024|GALR_ECOLI,\n",
      " sp|P04949|FLIC_ECOLI ...\n",
      "INFO  [2022-09-17 16:16:26] \n",
      "                    UPS1 UPS2\n",
      "             # runs    4    4\n",
      "    # bioreplicates    1    1\n",
      " # tech. replicates    4    4\n",
      "INFO  [2022-09-17 16:16:26] Some features are completely missing in at least one condition:  \n",
      " DPAATSVAAAR_2_NA_0,\n",
      " GAEPSGGAAR_2_NA_0,\n",
      " GISAFPESDNLFK_2_NA_0,\n",
      " RLQQELM(Oxidation)TLM(Oxidation)M(Oxidation)SGDK_2_NA_0,\n",
      " RLQQELM(Oxidation)TLM(Oxidation)MSGDK_2_NA_0 ...\n",
      "INFO  [2022-09-17 16:16:26]  == Start the summarization per subplot...\n",
      "  |======================================================================| 100%\n",
      "INFO  [2022-09-17 16:17:07]  == Summarization is done.\n",
      "                    Protein LogIntensities GROUP SUBJECT\n",
      "1 O00762ups|UBE2C_HUMAN_UPS       26.72524  UPS1       1\n",
      "2 O00762ups|UBE2C_HUMAN_UPS       26.72396  UPS1       1\n",
      "3 O00762ups|UBE2C_HUMAN_UPS       26.48583  UPS1       1\n",
      "4 O00762ups|UBE2C_HUMAN_UPS       27.14334  UPS1       1\n",
      "5 O00762ups|UBE2C_HUMAN_UPS       25.09304  UPS2       2\n",
      "6 O00762ups|UBE2C_HUMAN_UPS       26.20986  UPS2       2\n"
     ]
    }
   ],
   "source": [
    "%%R -w 800 -h 600\n",
    "\n",
    "protein_expression = './protein_expression.csv'\n",
    "\n",
    "raw.om <- read.csv('./PXD000279_no_shared.csv', header = TRUE, sep = ',')\n",
    "raw.om <- raw.om[!grepl(\"DECOY\", raw.om$ProteinName),]\n",
    "\n",
    "raw.om <- OpenMStoMSstatsFormat(raw.om)\n",
    "quantms.proposed <- MSstats::dataProcess(raw = raw.om,\n",
    "                                           normalization = \"equalizeMedians\",\n",
    "                                           summaryMethod = 'TMP',\n",
    "                                           censoredInt = \"0\",\n",
    "                                           MBimpute = TRUE)\n",
    "\n",
    "# Write the expression protein log values into the expression csv \n",
    "head(quantms.proposed$ProteinLevelData)\n",
    "Protein.Expression <- quantms.proposed$ProteinLevelData[, c('Protein', 'LogIntensities', 'GROUP', 'SUBJECT')]\n",
    "head(Protein.Expression)"
   ]
  },
  {
   "cell_type": "code",
   "execution_count": 39,
   "metadata": {},
   "outputs": [
    {
     "name": "stdout",
     "output_type": "stream",
     "text": [
      "INFO  [2022-09-17 16:17:08]  == Start to test and get inference in whole plot ...\n",
      "  |======================================================================| 100%\n",
      "INFO  [2022-09-17 16:17:26]  == Comparisons for all proteins are done.\n"
     ]
    }
   ],
   "source": [
    "%%R\n",
    "\n",
    "comparison_matrix = c(1, -1)\n",
    "comparison <- matrix(comparison_matrix, nrow=1)\n",
    "\n",
    "colnames(comparison) <- groups[order(as.numeric(groups))]\n",
    "row.names(comparison) <- \"UPS1-UPS2\"\n",
    "\n",
    "ResultComparison <- groupComparison(contrast.matrix=comparison, data=quantms.proposed)\n",
    "head(ResultComparison$ComparisonResult)\n",
    "\n",
    "write.csv(ResultComparison$ComparisonResult, file=\"MSstats_output_0.csv\")"
   ]
  },
  {
   "cell_type": "code",
   "execution_count": 40,
   "metadata": {},
   "outputs": [
    {
     "name": "stdout",
     "output_type": "stream",
     "text": [
      "7\n",
      "0\n",
      "2159\n",
      "32\n"
     ]
    }
   ],
   "source": [
    "MSstats_output_NN = pd.read_csv(\"./MSstats_output_0.csv\", header=0, sep=\",\", index_col=0)\n",
    "MSstats_output_NN.dropna(subset=[\"log2FC\", \"pvalue\"], how=\"any\", inplace=True)\n",
    "positive =  MSstats_output_NN[(abs(MSstats_output_NN[\"log2FC\"]) >1) &(MSstats_output_NN[\"adj.pvalue\"] <0.05) ]\n",
    "negative = MSstats_output_NN[(abs(MSstats_output_NN[\"log2FC\"]) <=1) | (MSstats_output_NN[\"adj.pvalue\"] >=0.05) ]\n",
    "\n",
    "no_difference_ups = [\"P00167\", \"P01133\", \"P02144\", \"P04040\", \"P15559\", \"P62937\", \"P63165\",  \"Q06830\"]\n",
    "\n",
    "difference_ups =  [\"P01579\", \"O76070\", \"P63279\", \"P68871\",\"P01127\", \"P01008\", \"P62988\", \"P10599\", \"P02787\", \"P99999\", \"P12081\", \"P51965\",\"P10636-8\", \n",
    "       \"P01031\", \"P09211\", \"P02788\", \"P41159\", \"O00762\", \"P05413\", \"P00441\", \"P00918\", \"P08758\", \"P00915\", \"P01344\", \"P69905\", \n",
    "        \"P00709\", \"P55957\", \"P08263\", \"P61769\", \"P10145\", \"P16083\", \"P61626\", \"P02741\", \"P06732\",\n",
    "        \"P01375\", \"P06396\", \"P02753\", \"P01112\", \"Q15843\", \"P02768\"]\n",
    "\n",
    "TP = len(positive[positive[\"Protein\"].str.contains(\"|\".join(difference_ups))])\n",
    "FP = len(positive) - TP\n",
    "\n",
    "FN = len(negative[negative[\"Protein\"].str.contains(\"|\".join(difference_ups))])\n",
    "TN = len(negative) - FN\n",
    "\n",
    "print(TP)\n",
    "print(FP)\n",
    "print(TN)\n",
    "print(FN)"
   ]
  },
  {
   "cell_type": "code",
   "execution_count": null,
   "metadata": {},
   "outputs": [],
   "source": []
  },
  {
   "cell_type": "code",
   "execution_count": 42,
   "metadata": {},
   "outputs": [
    {
     "name": "stdout",
     "output_type": "stream",
     "text": [
      "INFO  [2022-09-17 16:32:16] ** Raw data from OpenMS imported successfully.\n",
      "INFO  [2022-09-17 16:32:16] ** Raw data from OpenMS cleaned successfully.\n",
      "INFO  [2022-09-17 16:32:16] ** Using annotation extracted from quantification data.\n",
      "INFO  [2022-09-17 16:32:16] ** Run labels were standardized to remove symbols such as '.' or '%'.\n",
      "INFO  [2022-09-17 16:32:16] ** The following options are used:\n",
      "  - Features will be defined by the columns: PeptideSequence, PrecursorCharge, FragmentIon, ProductCharge\n",
      "  - Shared peptides will be removed.\n",
      "  - Proteins with single feature will not be removed.\n",
      "  - Features with less than 3 measurements across runs will be removed.\n",
      "INFO  [2022-09-17 16:32:16] ** Features with all missing measurements across runs are removed.\n",
      "INFO  [2022-09-17 16:32:16] ** Shared peptides are removed.\n",
      "INFO  [2022-09-17 16:32:17] ** Multiple measurements in a feature and a run are summarized by summaryforMultipleRows: max\n",
      "INFO  [2022-09-17 16:32:17] ** Features with one or two measurements across runs are removed.\n",
      "INFO  [2022-09-17 16:32:17] ** Run annotation merged with quantification data.\n",
      "INFO  [2022-09-17 16:32:17] ** Features with one or two measurements across runs are removed.\n",
      "INFO  [2022-09-17 16:32:17] ** Fractionation handled.\n",
      "INFO  [2022-09-17 16:32:18] ** Updated quantification data to make balanced design. Missing values are marked by NA\n",
      "INFO  [2022-09-17 16:32:18] ** Finished preprocessing. The dataset is ready to be processed by the dataProcess function.\n",
      "INFO  [2022-09-17 16:32:19] ** Log2 intensities under cutoff = 17.85  were considered as censored missing values.\n",
      "INFO  [2022-09-17 16:32:19] ** Log2 intensities = NA were considered as censored missing values.\n",
      "INFO  [2022-09-17 16:32:19] ** Use all features that the dataset originally has.\n",
      "INFO  [2022-09-17 16:32:20] \n",
      " # proteins: 1896\n",
      " # peptides per protein: 1-131\n",
      " # features per peptide: 1-1\n",
      "INFO  [2022-09-17 16:32:20] Some proteins have only one feature: \n",
      " sp|P00888|AROF_ECOLI,\n",
      " sp|P05523|FPG_ECOLI,\n",
      " sp|P08394|RECB_ECOLI,\n",
      " sp|P08660|AK3_ECOLI,\n",
      " sp|P0A6L7|UXAB_ECOLI ...\n",
      "INFO  [2022-09-17 16:32:20] \n",
      "                    UPS1 UPS2\n",
      "             # runs    4    4\n",
      "    # bioreplicates    1    1\n",
      " # tech. replicates    4    4\n",
      "INFO  [2022-09-17 16:32:20] Some features are completely missing in at least one condition:  \n",
      " DPAATSVAAAR_2_NA_0,\n",
      " GAEPSGGAAR_2_NA_0,\n",
      " GISAFPESDNLFK_2_NA_0,\n",
      " RLQQELM(Oxidation)TLM(Oxidation)M(Oxidation)SGDK_2_NA_0,\n",
      " RLQQELM(Oxidation)TLM(Oxidation)MSGDK_2_NA_0 ...\n",
      "INFO  [2022-09-17 16:32:20]  == Start the summarization per subplot...\n",
      "  |======================================================================| 100%\n",
      "INFO  [2022-09-17 16:33:09]  == Summarization is done.\n",
      "                    Protein LogIntensities GROUP SUBJECT\n",
      "1 O00762ups|UBE2C_HUMAN_UPS       27.48991  UPS1       1\n",
      "2 O00762ups|UBE2C_HUMAN_UPS       27.69809  UPS1       1\n",
      "3 O00762ups|UBE2C_HUMAN_UPS       26.75554  UPS1       1\n",
      "4 O00762ups|UBE2C_HUMAN_UPS       27.55147  UPS1       1\n",
      "5 O00762ups|UBE2C_HUMAN_UPS       21.96968  UPS2       2\n",
      "6 O00762ups|UBE2C_HUMAN_UPS       23.21719  UPS2       2\n"
     ]
    }
   ],
   "source": [
    "%%R -w 800 -h 600\n",
    "\n",
    "protein_expression = './protein_expression.csv'\n",
    "\n",
    "raw.om <- read.csv('./PXD000279_no_shared_unique_3.csv', header = TRUE, sep = ',')\n",
    "raw.om <- raw.om[!grepl(\"DECOY\", raw.om$ProteinName),]\n",
    "\n",
    "raw.om <- OpenMStoMSstatsFormat(raw.om)\n",
    "quantms.proposed <- MSstats::dataProcess(raw = raw.om,\n",
    "                                           normalization = 'equalizeMedians',\n",
    "                                           summaryMethod = 'TMP',\n",
    "                                           censoredInt = \"NA\",\n",
    "                                           MBimpute = TRUE)\n",
    "\n",
    "# Write the expression protein log values into the expression csv \n",
    "head(quantms.proposed$ProteinLevelData)\n",
    "Protein.Expression <- quantms.proposed$ProteinLevelData[, c('Protein', 'LogIntensities', 'GROUP', 'SUBJECT')]\n",
    "head(Protein.Expression)\n",
    "# write.csv(Protein.Expression, file=protein_expression, row.names=FALSE)"
   ]
  },
  {
   "cell_type": "code",
   "execution_count": 43,
   "metadata": {},
   "outputs": [
    {
     "name": "stdout",
     "output_type": "stream",
     "text": [
      "INFO  [2022-09-17 16:33:10]  == Start to test and get inference in whole plot ...\n",
      "  |======================================================================| 100%\n",
      "INFO  [2022-09-17 16:33:28]  == Comparisons for all proteins are done.\n"
     ]
    }
   ],
   "source": [
    "%%R\n",
    "\n",
    "comparison_matrix = c(1, -1)\n",
    "comparison <- matrix(comparison_matrix, nrow=1)\n",
    "\n",
    "colnames(comparison) <- groups[order(as.numeric(groups))]\n",
    "row.names(comparison) <- \"UPS1-UPS2\"\n",
    "\n",
    "ResultComparison <- groupComparison(contrast.matrix=comparison, data=quantms.proposed)\n",
    "head(ResultComparison$ComparisonResult)\n",
    "\n",
    "write.csv(ResultComparison$ComparisonResult, file=\"MSstats_output_equalizeMedians_unique3.csv\")"
   ]
  },
  {
   "cell_type": "code",
   "execution_count": 44,
   "metadata": {},
   "outputs": [
    {
     "name": "stdout",
     "output_type": "stream",
     "text": [
      "27\n",
      "1\n",
      "1853\n",
      "12\n"
     ]
    }
   ],
   "source": [
    "MSstats_output_equalizeMedians_unique = pd.read_csv(\"./MSstats_output_equalizeMedians_unique3.csv\", header=0, sep=\",\", index_col=0)\n",
    "MSstats_output_equalizeMedians_unique.dropna(subset=[\"log2FC\", \"pvalue\"], how=\"any\", inplace=True)\n",
    "positive =  MSstats_output_equalizeMedians_unique[(abs(MSstats_output_equalizeMedians_unique[\"log2FC\"]) >1) &(MSstats_output_equalizeMedians_unique[\"adj.pvalue\"] <0.05) ]\n",
    "negative = MSstats_output_equalizeMedians_unique[(abs(MSstats_output_equalizeMedians_unique[\"log2FC\"]) <=1) | (MSstats_output_equalizeMedians_unique[\"adj.pvalue\"] >=0.05) ]\n",
    "\n",
    "no_difference_ups = [\"P00167\", \"P01133\", \"P02144\", \"P04040\", \"P15559\", \"P62937\", \"P63165\",  \"Q06830\"]\n",
    "\n",
    "difference_ups =  [\"P01579\", \"O76070\", \"P63279\", \"P68871\",\"P01127\", \"P01008\", \"P62988\", \"P10599\", \"P02787\", \"P99999\", \"P12081\", \"P51965\",\"P10636-8\", \n",
    "       \"P01031\", \"P09211\", \"P02788\", \"P41159\", \"O00762\", \"P05413\", \"P00441\", \"P00918\", \"P08758\", \"P00915\", \"P01344\", \"P69905\", \n",
    "        \"P00709\", \"P55957\", \"P08263\", \"P61769\", \"P10145\", \"P16083\", \"P61626\", \"P02741\", \"P06732\",\n",
    "        \"P01375\", \"P06396\", \"P02753\", \"P01112\", \"Q15843\", \"P02768\"]\n",
    "\n",
    "TP = len(positive[positive[\"Protein\"].str.contains(\"|\".join(difference_ups))])\n",
    "FP = len(positive) - TP\n",
    "\n",
    "FN = len(negative[negative[\"Protein\"].str.contains(\"|\".join(difference_ups))])\n",
    "TN = len(negative) - FN\n",
    "\n",
    "print(TP)\n",
    "print(FP)\n",
    "print(TN)\n",
    "print(FN)"
   ]
  },
  {
   "cell_type": "code",
   "execution_count": 45,
   "metadata": {},
   "outputs": [
    {
     "name": "stdout",
     "output_type": "stream",
     "text": [
      "INFO  [2022-09-17 16:39:18] ** Raw data from OpenMS imported successfully.\n",
      "INFO  [2022-09-17 16:39:19] ** Raw data from OpenMS cleaned successfully.\n",
      "INFO  [2022-09-17 16:39:19] ** Using annotation extracted from quantification data.\n",
      "INFO  [2022-09-17 16:39:19] ** Run labels were standardized to remove symbols such as '.' or '%'.\n",
      "INFO  [2022-09-17 16:39:19] ** The following options are used:\n",
      "  - Features will be defined by the columns: PeptideSequence, PrecursorCharge, FragmentIon, ProductCharge\n",
      "  - Shared peptides will be removed.\n",
      "  - Proteins with single feature will not be removed.\n",
      "  - Features with less than 3 measurements across runs will be removed.\n",
      "INFO  [2022-09-17 16:39:19] ** Features with all missing measurements across runs are removed.\n",
      "INFO  [2022-09-17 16:39:19] ** Shared peptides are removed.\n",
      "INFO  [2022-09-17 16:39:19] ** Multiple measurements in a feature and a run are summarized by summaryforMultipleRows: max\n",
      "INFO  [2022-09-17 16:39:19] ** Features with one or two measurements across runs are removed.\n",
      "INFO  [2022-09-17 16:39:20] ** Run annotation merged with quantification data.\n",
      "INFO  [2022-09-17 16:39:20] ** Features with one or two measurements across runs are removed.\n",
      "INFO  [2022-09-17 16:39:20] ** Fractionation handled.\n",
      "INFO  [2022-09-17 16:39:20] ** Updated quantification data to make balanced design. Missing values are marked by NA\n",
      "INFO  [2022-09-17 16:39:20] ** Finished preprocessing. The dataset is ready to be processed by the dataProcess function.\n",
      "INFO  [2022-09-17 16:39:21] ** Log2 intensities under cutoff = 17.874  were considered as censored missing values.\n",
      "INFO  [2022-09-17 16:39:21] ** Log2 intensities = NA were considered as censored missing values.\n",
      "INFO  [2022-09-17 16:39:21] ** Use all features that the dataset originally has.\n",
      "INFO  [2022-09-17 16:39:22] \n",
      " # proteins: 1896\n",
      " # peptides per protein: 1-131\n",
      " # features per peptide: 1-1\n",
      "INFO  [2022-09-17 16:39:22] Some proteins have only one feature: \n",
      " sp|P00888|AROF_ECOLI,\n",
      " sp|P05523|FPG_ECOLI,\n",
      " sp|P08394|RECB_ECOLI,\n",
      " sp|P08660|AK3_ECOLI,\n",
      " sp|P0A6L7|UXAB_ECOLI ...\n",
      "INFO  [2022-09-17 16:39:22] \n",
      "                    UPS1 UPS2\n",
      "             # runs    4    4\n",
      "    # bioreplicates    1    1\n",
      " # tech. replicates    4    4\n",
      "INFO  [2022-09-17 16:39:23] Some features are completely missing in at least one condition:  \n",
      " DPAATSVAAAR_2_NA_0,\n",
      " GAEPSGGAAR_2_NA_0,\n",
      " GISAFPESDNLFK_2_NA_0,\n",
      " RLQQELM(Oxidation)TLM(Oxidation)M(Oxidation)SGDK_2_NA_0,\n",
      " RLQQELM(Oxidation)TLM(Oxidation)MSGDK_2_NA_0 ...\n",
      "INFO  [2022-09-17 16:39:23]  == Start the summarization per subplot...\n",
      "  |======================================================================| 100%\n",
      "INFO  [2022-09-17 16:40:13]  == Summarization is done.\n"
     ]
    }
   ],
   "source": [
    "%%R -w 800 -h 600\n",
    "\n",
    "library('MSstats', warn.conflicts = F, quietly = T, verbose = F)\n",
    "\n",
    "protein_expression = './protein_expression.csv'\n",
    "\n",
    "raw.om <- read.csv('./PXD000279_no_shared_unique_3.csv', header = TRUE, sep = ',')\n",
    "raw.om <- raw.om[!grepl(\"DECOY\", raw.om$ProteinName),]\n",
    "\n",
    "raw.om <- OpenMStoMSstatsFormat(raw.om)\n",
    "quantms.proposed <- MSstats::dataProcess(raw = raw.om,\n",
    "                                           normalization = FALSE,\n",
    "                                           summaryMethod = 'TMP',\n",
    "                                           censoredInt = \"NA\",\n",
    "                                           MBimpute = TRUE)\n",
    "\n",
    "# Write the expression protein log values into the expression csv \n",
    "head(quantms.proposed$ProteinLevelData)\n",
    "Protein.Expression <- quantms.proposed$ProteinLevelData[, c('Protein', 'LogIntensities', 'GROUP', 'SUBJECT')]"
   ]
  },
  {
   "cell_type": "code",
   "execution_count": 46,
   "metadata": {},
   "outputs": [
    {
     "name": "stdout",
     "output_type": "stream",
     "text": [
      "INFO  [2022-09-17 16:40:14]  == Start to test and get inference in whole plot ...\n",
      "  |======================================================================| 100%\n",
      "INFO  [2022-09-17 16:40:30]  == Comparisons for all proteins are done.\n"
     ]
    }
   ],
   "source": [
    "%%R\n",
    "\n",
    "comparison_matrix = c(1, -1)\n",
    "comparison <- matrix(comparison_matrix, nrow=1)\n",
    "\n",
    "colnames(comparison) <- groups[order(as.numeric(groups))]\n",
    "row.names(comparison) <- \"UPS1-UPS2\"\n",
    "\n",
    "ResultComparison <- groupComparison(contrast.matrix=comparison, data=quantms.proposed)\n",
    "head(ResultComparison$ComparisonResult)\n",
    "\n",
    "write.csv(ResultComparison$ComparisonResult, file=\"MSstats_output_NN_unique3.csv\")"
   ]
  },
  {
   "cell_type": "code",
   "execution_count": 47,
   "metadata": {},
   "outputs": [
    {
     "name": "stdout",
     "output_type": "stream",
     "text": [
      "7\n",
      "0\n",
      "1854\n",
      "32\n"
     ]
    }
   ],
   "source": [
    "MSstats_output_NN_unique3 = pd.read_csv(\"./MSstats_output_NN_unique3.csv\", header=0, sep=\",\", index_col=0)\n",
    "MSstats_output_NN_unique3.dropna(subset=[\"log2FC\", \"pvalue\"], how=\"any\", inplace=True)\n",
    "positive =  MSstats_output_NN_unique3[(abs(MSstats_output_NN_unique3[\"log2FC\"]) >1) &(MSstats_output_NN_unique3[\"adj.pvalue\"] <0.05) ]\n",
    "negative = MSstats_output_NN_unique3[(abs(MSstats_output_NN_unique3[\"log2FC\"]) <=1) | (MSstats_output_NN_unique3[\"adj.pvalue\"] >=0.05) ]\n",
    "\n",
    "no_difference_ups = [\"P00167\", \"P01133\", \"P02144\", \"P04040\", \"P15559\", \"P62937\", \"P63165\",  \"Q06830\"]\n",
    "\n",
    "difference_ups =  [\"P01579\", \"O76070\", \"P63279\", \"P68871\",\"P01127\", \"P01008\", \"P62988\", \"P10599\", \"P02787\", \"P99999\", \"P12081\", \"P51965\",\"P10636-8\", \n",
    "       \"P01031\", \"P09211\", \"P02788\", \"P41159\", \"O00762\", \"P05413\", \"P00441\", \"P00918\", \"P08758\", \"P00915\", \"P01344\", \"P69905\", \n",
    "        \"P00709\", \"P55957\", \"P08263\", \"P61769\", \"P10145\", \"P16083\", \"P61626\", \"P02741\", \"P06732\",\n",
    "        \"P01375\", \"P06396\", \"P02753\", \"P01112\", \"Q15843\", \"P02768\"]\n",
    "\n",
    "TP = len(positive[positive[\"Protein\"].str.contains(\"|\".join(difference_ups))])\n",
    "FP = len(positive) - TP\n",
    "\n",
    "FN = len(negative[negative[\"Protein\"].str.contains(\"|\".join(difference_ups))])\n",
    "TN = len(negative) - FN\n",
    "\n",
    "print(TP)\n",
    "print(FP)\n",
    "print(TN)\n",
    "print(FN)"
   ]
  },
  {
   "cell_type": "code",
   "execution_count": 48,
   "metadata": {},
   "outputs": [
    {
     "name": "stdout",
     "output_type": "stream",
     "text": [
      "INFO  [2022-09-17 16:42:52] ** Raw data from OpenMS imported successfully.\n",
      "INFO  [2022-09-17 16:42:53] ** Raw data from OpenMS cleaned successfully.\n",
      "INFO  [2022-09-17 16:42:53] ** Using annotation extracted from quantification data.\n",
      "INFO  [2022-09-17 16:42:53] ** Run labels were standardized to remove symbols such as '.' or '%'.\n",
      "INFO  [2022-09-17 16:42:53] ** The following options are used:\n",
      "  - Features will be defined by the columns: PeptideSequence, PrecursorCharge, FragmentIon, ProductCharge\n",
      "  - Shared peptides will be removed.\n",
      "  - Proteins with single feature will not be removed.\n",
      "  - Features with less than 3 measurements across runs will be removed.\n",
      "INFO  [2022-09-17 16:42:53] ** Features with all missing measurements across runs are removed.\n",
      "INFO  [2022-09-17 16:42:53] ** Shared peptides are removed.\n",
      "INFO  [2022-09-17 16:42:53] ** Multiple measurements in a feature and a run are summarized by summaryforMultipleRows: max\n",
      "INFO  [2022-09-17 16:42:53] ** Features with one or two measurements across runs are removed.\n",
      "INFO  [2022-09-17 16:42:54] ** Run annotation merged with quantification data.\n",
      "INFO  [2022-09-17 16:42:54] ** Features with one or two measurements across runs are removed.\n",
      "INFO  [2022-09-17 16:42:54] ** Fractionation handled.\n",
      "INFO  [2022-09-17 16:42:54] ** Updated quantification data to make balanced design. Missing values are marked by NA\n",
      "INFO  [2022-09-17 16:42:54] ** Finished preprocessing. The dataset is ready to be processed by the dataProcess function.\n",
      "INFO  [2022-09-17 16:42:55] ** Log2 intensities under cutoff = 17.838  were considered as censored missing values.\n",
      "INFO  [2022-09-17 16:42:55] ** Log2 intensities = NA were considered as censored missing values.\n",
      "INFO  [2022-09-17 16:42:55] ** Use all features that the dataset originally has.\n",
      "INFO  [2022-09-17 16:42:57] \n",
      " # proteins: 1896\n",
      " # peptides per protein: 1-131\n",
      " # features per peptide: 1-1\n",
      "INFO  [2022-09-17 16:42:57] Some proteins have only one feature: \n",
      " sp|P00888|AROF_ECOLI,\n",
      " sp|P05523|FPG_ECOLI,\n",
      " sp|P08394|RECB_ECOLI,\n",
      " sp|P08660|AK3_ECOLI,\n",
      " sp|P0A6L7|UXAB_ECOLI ...\n",
      "INFO  [2022-09-17 16:42:57] \n",
      "                    UPS1 UPS2\n",
      "             # runs    4    4\n",
      "    # bioreplicates    1    1\n",
      " # tech. replicates    4    4\n",
      "INFO  [2022-09-17 16:42:57] Some features are completely missing in at least one condition:  \n",
      " DPAATSVAAAR_2_NA_0,\n",
      " GAEPSGGAAR_2_NA_0,\n",
      " GISAFPESDNLFK_2_NA_0,\n",
      " RLQQELM(Oxidation)TLM(Oxidation)M(Oxidation)SGDK_2_NA_0,\n",
      " RLQQELM(Oxidation)TLM(Oxidation)MSGDK_2_NA_0 ...\n",
      "INFO  [2022-09-17 16:42:57]  == Start the summarization per subplot...\n",
      "  |======================================================================| 100%\n",
      "INFO  [2022-09-17 16:43:45]  == Summarization is done.\n",
      "                    Protein LogIntensities GROUP SUBJECT\n",
      "1 O00762ups|UBE2C_HUMAN_UPS       27.41468  UPS1       1\n",
      "2 O00762ups|UBE2C_HUMAN_UPS       27.55368  UPS1       1\n",
      "3 O00762ups|UBE2C_HUMAN_UPS       26.88293  UPS1       1\n",
      "4 O00762ups|UBE2C_HUMAN_UPS       27.58038  UPS1       1\n",
      "5 O00762ups|UBE2C_HUMAN_UPS       21.94668  UPS2       2\n",
      "6 O00762ups|UBE2C_HUMAN_UPS       23.24315  UPS2       2\n"
     ]
    }
   ],
   "source": [
    "%%R -w 800 -h 600\n",
    "\n",
    "protein_expression = './protein_expression.csv'\n",
    "\n",
    "raw.om <- read.csv('./PXD000279_no_shared_unique_3.csv', header = TRUE, sep = ',')\n",
    "raw.om <- raw.om[!grepl(\"DECOY\", raw.om$ProteinName),]\n",
    "\n",
    "raw.om <- OpenMStoMSstatsFormat(raw.om)\n",
    "quantms.proposed <- MSstats::dataProcess(raw = raw.om,\n",
    "                                           normalization = \"quantile\",\n",
    "                                           summaryMethod = 'TMP',\n",
    "                                           censoredInt = \"NA\",\n",
    "                                           MBimpute = TRUE)\n",
    "\n",
    "# Write the expression protein log values into the expression csv \n",
    "head(quantms.proposed$ProteinLevelData)\n",
    "Protein.Expression <- quantms.proposed$ProteinLevelData[, c('Protein', 'LogIntensities', 'GROUP', 'SUBJECT')]\n",
    "head(Protein.Expression)"
   ]
  },
  {
   "cell_type": "code",
   "execution_count": 49,
   "metadata": {},
   "outputs": [
    {
     "name": "stdout",
     "output_type": "stream",
     "text": [
      "INFO  [2022-09-17 16:43:46]  == Start to test and get inference in whole plot ...\n",
      "  |======================================================================| 100%\n",
      "INFO  [2022-09-17 16:44:02]  == Comparisons for all proteins are done.\n"
     ]
    }
   ],
   "source": [
    "%%R\n",
    "\n",
    "comparison_matrix = c(1, -1)\n",
    "comparison <- matrix(comparison_matrix, nrow=1)\n",
    "\n",
    "colnames(comparison) <- groups[order(as.numeric(groups))]\n",
    "row.names(comparison) <- \"UPS1-UPS2\"\n",
    "\n",
    "ResultComparison <- groupComparison(contrast.matrix=comparison, data=quantms.proposed)\n",
    "head(ResultComparison$ComparisonResult)\n",
    "\n",
    "write.csv(ResultComparison$ComparisonResult, file=\"MSstats_output_quantile_unique3.csv\")"
   ]
  },
  {
   "cell_type": "code",
   "execution_count": 50,
   "metadata": {},
   "outputs": [
    {
     "name": "stdout",
     "output_type": "stream",
     "text": [
      "29\n",
      "1\n",
      "1853\n",
      "10\n"
     ]
    }
   ],
   "source": [
    "MSstats_output_quantile_unique3 = pd.read_csv(\"./MSstats_output_quantile_unique3.csv\", header=0, sep=\",\", index_col=0)\n",
    "MSstats_output_quantile_unique3.dropna(subset=[\"log2FC\", \"pvalue\"], how=\"any\", inplace=True)\n",
    "positive =  MSstats_output_quantile_unique3[(abs(MSstats_output_quantile_unique3[\"log2FC\"]) >1) &(MSstats_output_quantile_unique3[\"adj.pvalue\"] <0.05) ]\n",
    "negative = MSstats_output_quantile_unique3[(abs(MSstats_output_quantile_unique3[\"log2FC\"]) <=1) | (MSstats_output_quantile_unique3[\"adj.pvalue\"] >=0.05) ]\n",
    "\n",
    "no_difference_ups = [\"P00167\", \"P01133\", \"P02144\", \"P04040\", \"P15559\", \"P62937\", \"P63165\",  \"Q06830\"]\n",
    "\n",
    "difference_ups =  [\"P01579\", \"O76070\", \"P63279\", \"P68871\",\"P01127\", \"P01008\", \"P62988\", \"P10599\", \"P02787\", \"P99999\", \"P12081\", \"P51965\",\"P10636-8\", \n",
    "       \"P01031\", \"P09211\", \"P02788\", \"P41159\", \"O00762\", \"P05413\", \"P00441\", \"P00918\", \"P08758\", \"P00915\", \"P01344\", \"P69905\", \n",
    "        \"P00709\", \"P55957\", \"P08263\", \"P61769\", \"P10145\", \"P16083\", \"P61626\", \"P02741\", \"P06732\",\n",
    "        \"P01375\", \"P06396\", \"P02753\", \"P01112\", \"Q15843\", \"P02768\"]\n",
    "\n",
    "TP = len(positive[positive[\"Protein\"].str.contains(\"|\".join(difference_ups))])\n",
    "FP = len(positive) - TP\n",
    "\n",
    "FN = len(negative[negative[\"Protein\"].str.contains(\"|\".join(difference_ups))])\n",
    "TN = len(negative) - FN\n",
    "\n",
    "print(TP)\n",
    "print(FP)\n",
    "print(TN)\n",
    "print(FN)"
   ]
  },
  {
   "cell_type": "markdown",
   "metadata": {},
   "source": [
    "### Proteus"
   ]
  },
  {
   "cell_type": "code",
   "execution_count": 29,
   "metadata": {},
   "outputs": [],
   "source": [
    "import re\n",
    "from collections import Counter\n",
    "\n",
    "def clean_PeptideSequence(pep_seq):\n",
    "    pattern = re.compile(r\"\\(.*?\\)\")\n",
    "    pep_seq = pep_seq.replace(\".\", \"\")\n",
    "    return pattern.sub(\"\", pep_seq)\n",
    "\n",
    "def modified_PeptideSequence(pep_seq):\n",
    "    pattern = re.compile(r\"\\(.*?\\)\")\n",
    "    t_pep_seq = pep_seq.replace(\".\", \"\").replace(\"Acetyl\", \"ac\").replace(\"Carbamidomethyl\", \"ca\").replace(\"Oxidation\", \"ox\")\n",
    "    t_pep_seq = \"_\" + t_pep_seq + \"_\"\n",
    "\n",
    "def get_modifications(pep_seq):\n",
    "    pattern = re.compile(r\"\\(.*?\\)\")\n",
    "    t = \"\"\n",
    "    modifications = re.findall(pattern, pep_seq)\n",
    "    if len(modifications) == 0:\n",
    "        return \"Unmodified\"\n",
    "    c = Counter(modifications)\n",
    "    for key, value in c.items():\n",
    "        if value == 1:\n",
    "            c[key] = \"\"\n",
    "        else:\n",
    "            c[key] = str(c[key]) + \" \"\n",
    "    modifications = \",\".join(set(modifications))\n",
    "    if \"(Acetyl)\" in c:\n",
    "        modifications = modifications.replace(\"(Acetyl)\", c[\"(Acetyl)\"] + \"Acetyl (Protein N-term)\")\n",
    "    if \"(Carbamidomethyl)\" in c:\n",
    "        modifications = modifications.replace(\"(Carbamidomethyl)\", c[\"(Carbamidomethyl)\"] + \"Carbamidomethyl (C)\")\n",
    "    if \"(Oxidation)\" in c:\n",
    "        modifications = modifications.replace(\"(Oxidation)\", c[\"(Oxidation)\"] + \"Oxidation (M)\")\n",
    "        \n",
    "    return modifications\n",
    "\n",
    "def get_experiment(row):\n",
    "    return \"_\".join(row[\"Reference\"].split(\".\")[0].split(\"_\")[-2:])\n",
    "\n",
    "evi = pd.DataFrame(None, columns=['sequence', 'modified_sequence', 'modifications', 'protein_group', \n",
    "                                  'protein', 'experiment', 'charge', 'reverse', 'contaminant', 'intensity'])\n",
    "quantms = pd.read_csv(\"./PXD000279_no_shared.csv\", sep=',', header=0)\n",
    "\n",
    "quantms = quantms[-quantms['ProteinName'].str.contains(\"DECOY_\")]\n",
    "evi['sequence'] = quantms.apply(lambda x: clean_PeptideSequence(x['PeptideSequence']), axis=1)\n",
    "evi['modified_sequence'] = quantms.apply(lambda x: modified_PeptideSequence(x['PeptideSequence']), axis=1)\n",
    "evi['modifications'] = quantms.apply(lambda x: get_modifications(x['PeptideSequence']), axis=1)\n",
    "evi['protein_group'] = quantms['ProteinName']\n",
    "evi['protein'] = quantms['ProteinName']\n",
    "evi['experiment'] = quantms.apply(lambda x: get_experiment(x), axis=1)\n",
    "evi['charge'] = quantms['PrecursorCharge']\n",
    "evi['intensity'] = quantms['Intensity']\n",
    "evi.to_csv(\"evi.txt\", sep='\\t', index=False)\n",
    "\n",
    "metadata = pd.DataFrame(None, columns=['experiment', 'measure', 'sample', 'condition', 'replicate'])\n",
    "metadata['experiment'] = ['UPS1_01', 'UPS1_02', 'UPS1_03',\n",
    "       'UPS1_04', 'UPS2_01', 'UPS2_02','UPS2_03', 'UPS2_04']\n",
    "metadata['measure'] = ['Intensity'] * 8\n",
    "metadata['sample'] = ['UPS1_01', 'UPS1_02', 'UPS1_03',\n",
    "       'UPS1_04', 'UPS2_01', 'UPS2_02','UPS2_03', 'UPS2_04']\n",
    "metadata['condition'] = ['UPS1', 'UPS1', 'UPS1','UPS1', 'UPS2', 'UPS2','UPS2', 'UPS2']\n",
    "metadata['replicate'] = [1, 2, 3, 4] * 2"
   ]
  },
  {
   "cell_type": "code",
   "execution_count": 30,
   "metadata": {},
   "outputs": [],
   "source": [
    "metadata.to_csv(\"metadata.txt\", sep=\"\\t\", index=False)"
   ]
  },
  {
   "cell_type": "code",
   "execution_count": 31,
   "metadata": {},
   "outputs": [
    {
     "name": "stdout",
     "output_type": "stream",
     "text": [
      "\n",
      "*** Basic statistics ***\n",
      "\n",
      "  content = peptide\n",
      "  experiment type = label-free\n",
      "  number of samples = 8\n",
      "  number of conditions = 2\n",
      "  number of peptides = 23503\n",
      "  samples = UPS1_01, UPS1_02, UPS1_03, UPS1_04, UPS2_01, UPS2_02, UPS2_03, UPS2_04\n",
      "  conditions = UPS1, UPS2\n",
      "\n",
      "*** Data processing ***\n",
      "\n",
      "  evidence columns used = Intensity\n",
      "  sequence = 'Sequence'\n",
      "  protein = 'Leading razor protein'\n",
      "  normalization = identity\n"
     ]
    }
   ],
   "source": [
    "%%R\n",
    "\n",
    "library(proteus)\n",
    "\n",
    "evi = read.csv(\"evi.txt\", sep=\"\\t\", header=TRUE)\n",
    "meta = read.csv(\"metadata.txt\", sep=\"\\t\", header=TRUE)\n",
    "pepdat <- makePeptideTable(evi, meta)\n",
    "summary(pepdat)"
   ]
  },
  {
   "cell_type": "code",
   "execution_count": 32,
   "metadata": {},
   "outputs": [
    {
     "name": "stdout",
     "output_type": "stream",
     "text": [
      "                             UPS1_01    UPS1_02    UPS1_03    UPS1_04\n",
      "O00762ups|UBE2C_HUMAN_UPS 1405555367 2465267773 1398198992 2624523882\n",
      "O76070ups|SYUG_HUMAN_UPS  8374320000 8310648000 1485911757 8592413697\n",
      "P00167ups|CYB5_HUMAN_UPS  7237330000 7968457133 2695331300 7032960000\n",
      "P00441ups|SODC_HUMAN_UPS  4898760133 5437914533 1936543590 3496641267\n",
      "P00709ups|LALBA_HUMAN_UPS 3696774000 3669703000 1440633440 3850955100\n",
      "P00915ups|CAH1_HUMAN_UPS  8299357007 7554906693 1107202417 6363305860\n",
      "                              UPS2_01     UPS2_02     UPS2_03     UPS2_04\n",
      "O00762ups|UBE2C_HUMAN_UPS    52321160   160094800   465433800    85820640\n",
      "O76070ups|SYUG_HUMAN_UPS    192869227   164200040   141290167   127114877\n",
      "P00167ups|CYB5_HUMAN_UPS   4514579300  1959635900  2901376533  2629963803\n",
      "P00441ups|SODC_HUMAN_UPS    239565250   141623180    78962700   261807467\n",
      "P00709ups|LALBA_HUMAN_UPS   975680830   223541257   520962520   380500700\n",
      "P00915ups|CAH1_HUMAN_UPS  37557116233 21317133333 32544200547 29880837460\n"
     ]
    }
   ],
   "source": [
    "%%R\n",
    "\n",
    "prodat <- makeProteinTable(pepdat)\n",
    "head(prodat$tab)"
   ]
  },
  {
   "cell_type": "code",
   "execution_count": 33,
   "metadata": {},
   "outputs": [
    {
     "data": {
      "image/png": "[encoded data removed]"
     },
     "metadata": {},
     "output_type": "display_data"
    }
   ],
   "source": [
    "%%R -w 800 -h 600\n",
    "\n",
    "prodat.med <- normalizeData(prodat)\n",
    "prodat.quant <- normalizeData(prodat, norm.fun=limma::normalizeQuantiles)\n",
    "plotSampleDistributions(prodat, title=\"Not normalized\", fill=\"condition\", method=\"violin\")"
   ]
  },
  {
   "cell_type": "code",
   "execution_count": 34,
   "metadata": {},
   "outputs": [
    {
     "name": "stdout",
     "output_type": "stream",
     "text": [
      "                    protein     logFC  AveExpr          t      P.Value\n",
      "1 O00762ups|UBE2C_HUMAN_UPS -3.807714 28.95944  -5.530256 5.222490e-04\n",
      "2  O76070ups|SYUG_HUMAN_UPS -5.301823 29.86594 -13.861528 6.050428e-07\n",
      "3  P00167ups|CYB5_HUMAN_UPS -1.002748 32.03218  -4.663337 1.545924e-03\n",
      "4  P00441ups|SODC_HUMAN_UPS -4.538227 29.56077 -10.918552 3.853081e-06\n",
      "5 P00709ups|LALBA_HUMAN_UPS -2.683091 30.16471  -8.672924 2.191775e-05\n",
      "6  P00915ups|CAH1_HUMAN_UPS  2.565373 33.49218   6.269427 2.243683e-04\n",
      "     adj.P.Val           B significant mean_UPS1 mean_UPS2 ngood_UPS1\n",
      "1 0.0305950860  0.05602872        TRUE  30.86329  27.05558          4\n",
      "2 0.0002126725  6.76958040        TRUE  32.51685  27.21503          4\n",
      "3 0.0881176444 -1.07970310       FALSE  32.53355  31.53080          4\n",
      "4 0.0006286902  5.04241391        TRUE  31.82988  27.29165          4\n",
      "5 0.0021011151  3.32519922        TRUE  31.50625  28.82316          4\n",
      "6 0.0139174323  0.93745254        TRUE  32.20949  34.77487          4\n",
      "  ngood_UPS2\n",
      "1          4\n",
      "2          4\n",
      "3          4\n",
      "4          4\n",
      "5          4\n",
      "6          4\n"
     ]
    }
   ],
   "source": [
    "%%R\n",
    "res <- limmaDE(prodat, sig.level=0.05)\n",
    "\n",
    "write.csv(res, file=\"./prodat_comp_res_filter.csv\")\n",
    "\n",
    "res <- limmaDE(prodat.med, sig.level=0.05)\n",
    "write.csv(res, file=\"./prodat_med_comp_res_filter.csv\")\n",
    "\n",
    "res <- limmaDE(prodat.quant, sig.level=0.05)\n",
    "write.csv(res, file=\"./prodat_quantile_comp_res_filter.csv\")\n",
    "\n",
    "head(res)"
   ]
  },
  {
   "cell_type": "code",
   "execution_count": 35,
   "metadata": {},
   "outputs": [
    {
     "name": "stdout",
     "output_type": "stream",
     "text": [
      "26\n",
      "2\n",
      "2068\n",
      "13\n"
     ]
    }
   ],
   "source": [
    "proteus_median = pd.read_csv(\"./prodat_comp_res_filter.csv\", header=0, sep=\",\", index_col=0)\n",
    "proteus_median.dropna(subset=[\"logFC\", \"P.Value\"], how=\"any\", inplace=True)\n",
    "positive =  proteus_median[(abs(proteus_median[\"logFC\"]) >1) &(proteus_median[\"adj.P.Val\"] <0.05) ]\n",
    "negative = proteus_median[(abs(proteus_median[\"logFC\"]) <=1) | (proteus_median[\"adj.P.Val\"] >=0.05) ]\n",
    "\n",
    "\n",
    "TP = len(positive[positive[\"protein\"].str.contains(\"|\".join(difference_ups))])\n",
    "FP = len(positive) - TP\n",
    "\n",
    "FN = len(negative[negative[\"protein\"].str.contains(\"|\".join(difference_ups))])\n",
    "TN = len(negative) - FN\n",
    "\n",
    "print(TP)\n",
    "print(FP)\n",
    "print(TN)\n",
    "print(FN)"
   ]
  },
  {
   "cell_type": "code",
   "execution_count": 36,
   "metadata": {},
   "outputs": [
    {
     "name": "stdout",
     "output_type": "stream",
     "text": [
      "33\n",
      "3\n",
      "2067\n",
      "6\n"
     ]
    }
   ],
   "source": [
    "proteus_median = pd.read_csv(\"./prodat_med_comp_res_filter.csv\", header=0, sep=\",\", index_col=0)\n",
    "proteus_median.dropna(subset=[\"logFC\", \"P.Value\"], how=\"any\", inplace=True)\n",
    "positive =  proteus_median[(abs(proteus_median[\"logFC\"]) >1) &(proteus_median[\"adj.P.Val\"] <0.05) ]\n",
    "negative = proteus_median[(abs(proteus_median[\"logFC\"]) <=1) | (proteus_median[\"adj.P.Val\"] >=0.05) ]\n",
    "\n",
    "\n",
    "TP = len(positive[positive[\"protein\"].str.contains(\"|\".join(difference_ups))])\n",
    "FP = len(positive) - TP\n",
    "\n",
    "FN = len(negative[negative[\"protein\"].str.contains(\"|\".join(difference_ups))])\n",
    "TN = len(negative) - FN\n",
    "\n",
    "print(TP)\n",
    "print(FP)\n",
    "print(TN)\n",
    "print(FN)"
   ]
  },
  {
   "cell_type": "code",
   "execution_count": 37,
   "metadata": {},
   "outputs": [
    {
     "name": "stdout",
     "output_type": "stream",
     "text": [
      "33\n",
      "3\n",
      "2067\n",
      "6\n"
     ]
    }
   ],
   "source": [
    "proteus_median = pd.read_csv(\"./prodat_quantile_comp_res_filter.csv\", header=0, sep=\",\", index_col=0)\n",
    "proteus_median.dropna(subset=[\"logFC\", \"P.Value\"], how=\"any\", inplace=True)\n",
    "positive =  proteus_median[(abs(proteus_median[\"logFC\"]) >1) &(proteus_median[\"adj.P.Val\"] <0.05) ]\n",
    "negative = proteus_median[(abs(proteus_median[\"logFC\"]) <=1) | (proteus_median[\"adj.P.Val\"] >=0.05) ]\n",
    "\n",
    "\n",
    "TP = len(positive[positive[\"protein\"].str.contains(\"|\".join(difference_ups))])\n",
    "FP = len(positive) - TP\n",
    "\n",
    "FN = len(negative[negative[\"protein\"].str.contains(\"|\".join(difference_ups))])\n",
    "TN = len(negative) - FN\n",
    "\n",
    "print(TP)\n",
    "print(FP)\n",
    "print(TN)\n",
    "print(FN)"
   ]
  },
  {
   "cell_type": "code",
   "execution_count": 51,
   "metadata": {},
   "outputs": [],
   "source": [
    "import re\n",
    "from collections import Counter\n",
    "\n",
    "def clean_PeptideSequence(pep_seq):\n",
    "    pattern = re.compile(r\"\\(.*?\\)\")\n",
    "    pep_seq = pep_seq.replace(\".\", \"\")\n",
    "    return pattern.sub(\"\", pep_seq)\n",
    "\n",
    "def modified_PeptideSequence(pep_seq):\n",
    "    pattern = re.compile(r\"\\(.*?\\)\")\n",
    "    t_pep_seq = pep_seq.replace(\".\", \"\").replace(\"Acetyl\", \"ac\").replace(\"Carbamidomethyl\", \"ca\").replace(\"Oxidation\", \"ox\")\n",
    "    t_pep_seq = \"_\" + t_pep_seq + \"_\"\n",
    "\n",
    "def get_modifications(pep_seq):\n",
    "    pattern = re.compile(r\"\\(.*?\\)\")\n",
    "    t = \"\"\n",
    "    modifications = re.findall(pattern, pep_seq)\n",
    "    if len(modifications) == 0:\n",
    "        return \"Unmodified\"\n",
    "    c = Counter(modifications)\n",
    "    for key, value in c.items():\n",
    "        if value == 1:\n",
    "            c[key] = \"\"\n",
    "        else:\n",
    "            c[key] = str(c[key]) + \" \"\n",
    "    modifications = \",\".join(set(modifications))\n",
    "    if \"(Acetyl)\" in c:\n",
    "        modifications = modifications.replace(\"(Acetyl)\", c[\"(Acetyl)\"] + \"Acetyl (Protein N-term)\")\n",
    "    if \"(Carbamidomethyl)\" in c:\n",
    "        modifications = modifications.replace(\"(Carbamidomethyl)\", c[\"(Carbamidomethyl)\"] + \"Carbamidomethyl (C)\")\n",
    "    if \"(Oxidation)\" in c:\n",
    "        modifications = modifications.replace(\"(Oxidation)\", c[\"(Oxidation)\"] + \"Oxidation (M)\")\n",
    "        \n",
    "    return modifications\n",
    "\n",
    "def get_experiment(row):\n",
    "    return \"_\".join(row[\"Reference\"].split(\".\")[0].split(\"_\")[-2:])\n",
    "\n",
    "evi = pd.DataFrame(None, columns=['sequence', 'modified_sequence', 'modifications', 'protein_group', \n",
    "                                  'protein', 'experiment', 'charge', 'reverse', 'contaminant', 'intensity'])\n",
    "quantms = pd.read_csv(\"./PXD000279_no_shared_unique_3.csv\", sep=',', header=0)\n",
    "\n",
    "quantms = quantms[-quantms['ProteinName'].str.contains(\"DECOY_\")]\n",
    "evi['sequence'] = quantms.apply(lambda x: clean_PeptideSequence(x['PeptideSequence']), axis=1)\n",
    "evi['modified_sequence'] = quantms.apply(lambda x: modified_PeptideSequence(x['PeptideSequence']), axis=1)\n",
    "evi['modifications'] = quantms.apply(lambda x: get_modifications(x['PeptideSequence']), axis=1)\n",
    "evi['protein_group'] = quantms['ProteinName']\n",
    "evi['protein'] = quantms['ProteinName']\n",
    "evi['experiment'] = quantms.apply(lambda x: get_experiment(x), axis=1)\n",
    "evi['charge'] = quantms['PrecursorCharge']\n",
    "evi['intensity'] = quantms['Intensity']\n",
    "evi.to_csv(\"evi_unique3.txt\", sep='\\t', index=False)\n",
    "\n",
    "metadata = pd.DataFrame(None, columns=['experiment', 'measure', 'sample', 'condition', 'replicate'])\n",
    "metadata['experiment'] = ['UPS1_01', 'UPS1_02', 'UPS1_03',\n",
    "       'UPS1_04', 'UPS2_01', 'UPS2_02','UPS2_03', 'UPS2_04']\n",
    "metadata['measure'] = ['Intensity'] * 8\n",
    "metadata['sample'] = ['UPS1_01', 'UPS1_02', 'UPS1_03',\n",
    "       'UPS1_04', 'UPS2_01', 'UPS2_02','UPS2_03', 'UPS2_04']\n",
    "metadata['condition'] = ['UPS1', 'UPS1', 'UPS1','UPS1', 'UPS2', 'UPS2','UPS2', 'UPS2']\n",
    "metadata['replicate'] = [1, 2, 3, 4] * 2\n",
    "metadata.to_csv(\"metadata_unique3.txt\", sep=\"\\t\", index=False)"
   ]
  },
  {
   "cell_type": "code",
   "execution_count": 52,
   "metadata": {},
   "outputs": [
    {
     "name": "stdout",
     "output_type": "stream",
     "text": [
      "\n",
      "*** Basic statistics ***\n",
      "\n",
      "  content = peptide\n",
      "  experiment type = label-free\n",
      "  number of samples = 8\n",
      "  number of conditions = 2\n",
      "  number of peptides = 22877\n",
      "  samples = UPS1_01, UPS1_02, UPS1_03, UPS1_04, UPS2_01, UPS2_02, UPS2_03, UPS2_04\n",
      "  conditions = UPS1, UPS2\n",
      "\n",
      "*** Data processing ***\n",
      "\n",
      "  evidence columns used = Intensity\n",
      "  sequence = 'Sequence'\n",
      "  protein = 'Leading razor protein'\n",
      "  normalization = identity\n"
     ]
    }
   ],
   "source": [
    "%%R\n",
    "\n",
    "library(proteus)\n",
    "\n",
    "evi = read.csv(\"evi_unique3.txt\", sep=\"\\t\", header=TRUE)\n",
    "meta = read.csv(\"metadata_unique3.txt\", sep=\"\\t\", header=TRUE)\n",
    "pepdat <- makePeptideTable(evi, meta)\n",
    "summary(pepdat)"
   ]
  },
  {
   "cell_type": "code",
   "execution_count": 53,
   "metadata": {},
   "outputs": [
    {
     "name": "stdout",
     "output_type": "stream",
     "text": [
      "                             UPS1_01    UPS1_02    UPS1_03    UPS1_04\n",
      "O00762ups|UBE2C_HUMAN_UPS 1405555367 2465267773 1398198992 2624523882\n",
      "O76070ups|SYUG_HUMAN_UPS  8374320000 8310648000 1485911757 8592413697\n",
      "P00167ups|CYB5_HUMAN_UPS  7237330000 7968457133 2695331300 7032960000\n",
      "P00441ups|SODC_HUMAN_UPS  4898760133 5437914533 1936543590 3496641267\n",
      "P00709ups|LALBA_HUMAN_UPS 3696774000 3669703000 1440633440 3850955100\n",
      "P00915ups|CAH1_HUMAN_UPS  8299357007 7554906693 1107202417 6363305860\n",
      "                              UPS2_01     UPS2_02     UPS2_03     UPS2_04\n",
      "O00762ups|UBE2C_HUMAN_UPS    52321160   160094800   465433800    85820640\n",
      "O76070ups|SYUG_HUMAN_UPS    192869227   164200040   141290167   127114877\n",
      "P00167ups|CYB5_HUMAN_UPS   4514579300  1959635900  2901376533  2629963803\n",
      "P00441ups|SODC_HUMAN_UPS    239565250   141623180    78962700   261807467\n",
      "P00709ups|LALBA_HUMAN_UPS   975680830   223541257   520962520   380500700\n",
      "P00915ups|CAH1_HUMAN_UPS  37557116233 21317133333 32544200547 29880837460\n"
     ]
    }
   ],
   "source": [
    "%%R\n",
    "\n",
    "prodat <- makeProteinTable(pepdat)\n",
    "head(prodat$tab)"
   ]
  },
  {
   "cell_type": "code",
   "execution_count": 54,
   "metadata": {},
   "outputs": [
    {
     "data": {
      "image/png": "[encoded data removed]"
     },
     "metadata": {},
     "output_type": "display_data"
    }
   ],
   "source": [
    "%%R -w 800 -h 600\n",
    "\n",
    "prodat.med <- normalizeData(prodat)\n",
    "prodat.quant <- normalizeData(prodat, norm.fun=limma::normalizeQuantiles)\n",
    "plotSampleDistributions(prodat, title=\"Not normalized\", fill=\"condition\", method=\"violin\")"
   ]
  },
  {
   "cell_type": "code",
   "execution_count": 55,
   "metadata": {},
   "outputs": [
    {
     "name": "stdout",
     "output_type": "stream",
     "text": [
      "                    protein     logFC  AveExpr          t      P.Value\n",
      "1 O00762ups|UBE2C_HUMAN_UPS -3.801464 28.96661  -5.616319 4.478771e-04\n",
      "2  O76070ups|SYUG_HUMAN_UPS -5.310722 29.86801 -14.151879 4.468125e-07\n",
      "3  P00167ups|CYB5_HUMAN_UPS -1.001306 32.03571  -4.800296 1.241952e-03\n",
      "4  P00441ups|SODC_HUMAN_UPS -4.542445 29.56381 -10.783773 3.790289e-06\n",
      "5 P00709ups|LALBA_HUMAN_UPS -2.690645 30.17166  -9.005827 1.508406e-05\n",
      "6  P00915ups|CAH1_HUMAN_UPS  2.559425 33.49487   6.434155 1.762322e-04\n",
      "     adj.P.Val          B significant mean_UPS1 mean_UPS2 ngood_UPS1 ngood_UPS2\n",
      "1 0.0237001646  0.1687665        TRUE  30.86734  27.06587          4          4\n",
      "2 0.0001418630  7.0789723        TRUE  32.52337  27.21265          4          4\n",
      "3 0.0639437536 -0.9015173       FALSE  32.53637  31.53506          4          4\n",
      "4 0.0005157501  5.0536784        TRUE  31.83503  27.29259          4          4\n",
      "5 0.0013867861  3.6769468        TRUE  31.51699  28.82634          4          4\n",
      "6 0.0098741883  1.1449039        TRUE  32.21515  34.77458          4          4\n"
     ]
    }
   ],
   "source": [
    "%%R\n",
    "res <- limmaDE(prodat, sig.level=0.05)\n",
    "\n",
    "write.csv(res, file=\"./prodat_comp_res_filter_unique3.csv\")\n",
    "\n",
    "res <- limmaDE(prodat.med, sig.level=0.05)\n",
    "write.csv(res, file=\"./prodat_med_comp_res_filter_unique3.csv\")\n",
    "\n",
    "res <- limmaDE(prodat.quant, sig.level=0.05)\n",
    "write.csv(res, file=\"./prodat_quantile_comp_res_filter_unique3.csv\")\n",
    "\n",
    "head(res)"
   ]
  },
  {
   "cell_type": "code",
   "execution_count": 56,
   "metadata": {},
   "outputs": [
    {
     "name": "stdout",
     "output_type": "stream",
     "text": [
      "28\n",
      "2\n",
      "1864\n",
      "11\n"
     ]
    }
   ],
   "source": [
    "proteus_median = pd.read_csv(\"./prodat_comp_res_filter_unique3.csv\", header=0, sep=\",\", index_col=0)\n",
    "proteus_median.dropna(subset=[\"logFC\", \"P.Value\"], how=\"any\", inplace=True)\n",
    "positive =  proteus_median[(abs(proteus_median[\"logFC\"]) >1) &(proteus_median[\"adj.P.Val\"] <0.05) ]\n",
    "negative = proteus_median[(abs(proteus_median[\"logFC\"]) <=1) | (proteus_median[\"adj.P.Val\"] >=0.05) ]\n",
    "\n",
    "\n",
    "TP = len(positive[positive[\"protein\"].str.contains(\"|\".join(difference_ups))])\n",
    "FP = len(positive) - TP\n",
    "\n",
    "FN = len(negative[negative[\"protein\"].str.contains(\"|\".join(difference_ups))])\n",
    "TN = len(negative) - FN\n",
    "\n",
    "print(TP)\n",
    "print(FP)\n",
    "print(TN)\n",
    "print(FN)"
   ]
  },
  {
   "cell_type": "code",
   "execution_count": 57,
   "metadata": {},
   "outputs": [
    {
     "name": "stdout",
     "output_type": "stream",
     "text": [
      "33\n",
      "3\n",
      "1863\n",
      "6\n"
     ]
    }
   ],
   "source": [
    "proteus_median = pd.read_csv(\"./prodat_med_comp_res_filter_unique3.csv\", header=0, sep=\",\", index_col=0)\n",
    "proteus_median.dropna(subset=[\"logFC\", \"P.Value\"], how=\"any\", inplace=True)\n",
    "positive =  proteus_median[(abs(proteus_median[\"logFC\"]) >1) &(proteus_median[\"adj.P.Val\"] <0.05) ]\n",
    "negative = proteus_median[(abs(proteus_median[\"logFC\"]) <=1) | (proteus_median[\"adj.P.Val\"] >=0.05) ]\n",
    "\n",
    "\n",
    "TP = len(positive[positive[\"protein\"].str.contains(\"|\".join(difference_ups))])\n",
    "FP = len(positive) - TP\n",
    "\n",
    "FN = len(negative[negative[\"protein\"].str.contains(\"|\".join(difference_ups))])\n",
    "TN = len(negative) - FN\n",
    "\n",
    "print(TP)\n",
    "print(FP)\n",
    "print(TN)\n",
    "print(FN)"
   ]
  },
  {
   "cell_type": "code",
   "execution_count": 58,
   "metadata": {},
   "outputs": [
    {
     "name": "stdout",
     "output_type": "stream",
     "text": [
      "33\n",
      "3\n",
      "1863\n",
      "6\n"
     ]
    }
   ],
   "source": [
    "proteus_median = pd.read_csv(\"./prodat_quantile_comp_res_filter_unique3.csv\", header=0, sep=\",\", index_col=0)\n",
    "proteus_median.dropna(subset=[\"logFC\", \"P.Value\"], how=\"any\", inplace=True)\n",
    "positive =  proteus_median[(abs(proteus_median[\"logFC\"]) >1) &(proteus_median[\"adj.P.Val\"] <0.05) ]\n",
    "negative = proteus_median[(abs(proteus_median[\"logFC\"]) <=1) | (proteus_median[\"adj.P.Val\"] >=0.05) ]\n",
    "\n",
    "\n",
    "TP = len(positive[positive[\"protein\"].str.contains(\"|\".join(difference_ups))])\n",
    "FP = len(positive) - TP\n",
    "\n",
    "FN = len(negative[negative[\"protein\"].str.contains(\"|\".join(difference_ups))])\n",
    "TN = len(negative) - FN\n",
    "\n",
    "print(TP)\n",
    "print(FP)\n",
    "print(TN)\n",
    "print(FN)"
   ]
  },
  {
   "cell_type": "code",
   "execution_count": null,
   "metadata": {},
   "outputs": [],
   "source": []
  }
 ],
 "metadata": {
  "kernelspec": {
   "display_name": "Python 3",
   "language": "python",
   "name": "python3"
  },
  "language_info": {
   "codemirror_mode": {
    "name": "ipython",
    "version": 3
   },
   "file_extension": ".py",
   "mimetype": "text/x-python",
   "name": "python",
   "nbconvert_exporter": "python",
   "pygments_lexer": "ipython3",
   "version": "3.7.8"
  }
 },
 "nbformat": 4,
 "nbformat_minor": 2
}
