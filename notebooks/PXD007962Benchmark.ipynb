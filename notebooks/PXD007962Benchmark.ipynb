{
 "cells": [
  {
   "cell_type": "markdown",
   "metadata": {},
   "source": [
    "### Benchmarking based on PXD007962"
   ]
  },
  {
   "cell_type": "code",
   "execution_count": 1,
   "metadata": {},
   "outputs": [
    {
     "name": "stderr",
     "output_type": "stream",
     "text": [
      "C:\\Users\\ChengXin\\MyProgram\\python\\anaconda\\pro\\lib\\site-packages\\rpy2\\robjects\\packages.py:367: UserWarning: The symbol 'quartz' is not in this R namespace/package.\n",
      "  \"The symbol '%s' is not in this R namespace/package.\" % name\n"
     ]
    }
   ],
   "source": [
    "%load_ext rpy2.ipython"
   ]
  },
  {
   "cell_type": "code",
   "execution_count": 2,
   "metadata": {},
   "outputs": [],
   "source": [
    "import pandas as pd\n",
    "from matplotlib import pyplot as plt\n",
    "import numpy as np\n",
    "import seaborn as sns"
   ]
  },
  {
   "cell_type": "code",
   "execution_count": 3,
   "metadata": {},
   "outputs": [],
   "source": [
    "%%R\n",
    "data_folder = '../datasets/PXD007962/'\n",
    "setwd(data_folder)"
   ]
  },
  {
   "cell_type": "code",
   "execution_count": 4,
   "metadata": {},
   "outputs": [
    {
     "name": "stdout",
     "output_type": "stream",
     "text": [
      "1517\n"
     ]
    },
    {
     "data": {
      "text/html": [
       "<div>\n",
       "<style scoped>\n",
       "    .dataframe tbody tr th:only-of-type {\n",
       "        vertical-align: middle;\n",
       "    }\n",
       "\n",
       "    .dataframe tbody tr th {\n",
       "        vertical-align: top;\n",
       "    }\n",
       "\n",
       "    .dataframe thead th {\n",
       "        text-align: right;\n",
       "    }\n",
       "</style>\n",
       "<table border=\"1\" class=\"dataframe\">\n",
       "  <thead>\n",
       "    <tr style=\"text-align: right;\">\n",
       "      <th></th>\n",
       "      <th>ProteinName</th>\n",
       "      <th>PeptideSequence</th>\n",
       "      <th>PrecursorCharge</th>\n",
       "      <th>FragmentIon</th>\n",
       "      <th>ProductCharge</th>\n",
       "      <th>IsotopeLabelType</th>\n",
       "      <th>Condition</th>\n",
       "      <th>BioReplicate</th>\n",
       "      <th>Run</th>\n",
       "      <th>Intensity</th>\n",
       "      <th>Reference</th>\n",
       "    </tr>\n",
       "  </thead>\n",
       "  <tbody>\n",
       "    <tr>\n",
       "      <th>0</th>\n",
       "      <td>sp|P52272|HNRPM_HUMAN</td>\n",
       "      <td>.(Acetyl)AAGVEAAAEVAATEIK</td>\n",
       "      <td>2</td>\n",
       "      <td>NaN</td>\n",
       "      <td>0</td>\n",
       "      <td>L</td>\n",
       "      <td>Benign - ovarian related</td>\n",
       "      <td>1</td>\n",
       "      <td>1</td>\n",
       "      <td>33801700.0</td>\n",
       "      <td>P3063_B_1_1_1.mzML</td>\n",
       "    </tr>\n",
       "    <tr>\n",
       "      <th>1</th>\n",
       "      <td>sp|P52272|HNRPM_HUMAN</td>\n",
       "      <td>.(Acetyl)AAGVEAAAEVAATEIK</td>\n",
       "      <td>2</td>\n",
       "      <td>NaN</td>\n",
       "      <td>0</td>\n",
       "      <td>L</td>\n",
       "      <td>Serous Cancer Late</td>\n",
       "      <td>10</td>\n",
       "      <td>10</td>\n",
       "      <td>327944000.0</td>\n",
       "      <td>P3063_L_1_1_5.mzML</td>\n",
       "    </tr>\n",
       "    <tr>\n",
       "      <th>2</th>\n",
       "      <td>sp|P52272|HNRPM_HUMAN</td>\n",
       "      <td>.(Acetyl)AAGVEAAAEVAATEIK</td>\n",
       "      <td>2</td>\n",
       "      <td>NaN</td>\n",
       "      <td>0</td>\n",
       "      <td>L</td>\n",
       "      <td>Benign - ovarian related</td>\n",
       "      <td>2</td>\n",
       "      <td>2</td>\n",
       "      <td>47131110.0</td>\n",
       "      <td>P3063_B_1_1_2.mzML</td>\n",
       "    </tr>\n",
       "    <tr>\n",
       "      <th>3</th>\n",
       "      <td>sp|P52272|HNRPM_HUMAN</td>\n",
       "      <td>.(Acetyl)AAGVEAAAEVAATEIK</td>\n",
       "      <td>2</td>\n",
       "      <td>NaN</td>\n",
       "      <td>0</td>\n",
       "      <td>L</td>\n",
       "      <td>Benign - ovarian related</td>\n",
       "      <td>3</td>\n",
       "      <td>3</td>\n",
       "      <td>17246480.0</td>\n",
       "      <td>P3063_B_1_1_3.mzML</td>\n",
       "    </tr>\n",
       "    <tr>\n",
       "      <th>4</th>\n",
       "      <td>sp|P52272|HNRPM_HUMAN</td>\n",
       "      <td>.(Acetyl)AAGVEAAAEVAATEIK</td>\n",
       "      <td>2</td>\n",
       "      <td>NaN</td>\n",
       "      <td>0</td>\n",
       "      <td>L</td>\n",
       "      <td>Benign - ovarian related</td>\n",
       "      <td>4</td>\n",
       "      <td>4</td>\n",
       "      <td>100209400.0</td>\n",
       "      <td>P3063_B_1_1_4.mzML</td>\n",
       "    </tr>\n",
       "  </tbody>\n",
       "</table>\n",
       "</div>"
      ],
      "text/plain": [
       "             ProteinName            PeptideSequence  PrecursorCharge  \\\n",
       "0  sp|P52272|HNRPM_HUMAN  .(Acetyl)AAGVEAAAEVAATEIK                2   \n",
       "1  sp|P52272|HNRPM_HUMAN  .(Acetyl)AAGVEAAAEVAATEIK                2   \n",
       "2  sp|P52272|HNRPM_HUMAN  .(Acetyl)AAGVEAAAEVAATEIK                2   \n",
       "3  sp|P52272|HNRPM_HUMAN  .(Acetyl)AAGVEAAAEVAATEIK                2   \n",
       "4  sp|P52272|HNRPM_HUMAN  .(Acetyl)AAGVEAAAEVAATEIK                2   \n",
       "\n",
       "   FragmentIon  ProductCharge IsotopeLabelType                 Condition  \\\n",
       "0          NaN              0                L  Benign - ovarian related   \n",
       "1          NaN              0                L        Serous Cancer Late   \n",
       "2          NaN              0                L  Benign - ovarian related   \n",
       "3          NaN              0                L  Benign - ovarian related   \n",
       "4          NaN              0                L  Benign - ovarian related   \n",
       "\n",
       "   BioReplicate  Run    Intensity           Reference  \n",
       "0             1    1   33801700.0  P3063_B_1_1_1.mzML  \n",
       "1            10   10  327944000.0  P3063_L_1_1_5.mzML  \n",
       "2             2    2   47131110.0  P3063_B_1_1_2.mzML  \n",
       "3             3    3   17246480.0  P3063_B_1_1_3.mzML  \n",
       "4             4    4  100209400.0  P3063_B_1_1_4.mzML  "
      ]
     },
     "execution_count": 4,
     "metadata": {},
     "output_type": "execute_result"
    }
   ],
   "source": [
    "quantms = pd.read_csv(\"./MBR/out_msstats.csv\", sep=',', header=0)\n",
    "quantms = quantms[-(quantms['ProteinName'].str.contains(\"DECOY_\") | (quantms['ProteinName'].str.contains(\"CONTAMINANT\")))]\n",
    "print(len(set(quantms['ProteinName'])))\n",
    "quantms.head()"
   ]
  },
  {
   "cell_type": "code",
   "execution_count": null,
   "metadata": {},
   "outputs": [],
   "source": [
    "original = pd.read_csv('./MaxQuantOutput/proteinGroups.txt', sep=\"\\t\", header=0)\n"
   ]
  }
 ],
 "metadata": {
  "kernelspec": {
   "display_name": "Python 3",
   "language": "python",
   "name": "python3"
  },
  "language_info": {
   "codemirror_mode": {
    "name": "ipython",
    "version": 3
   },
   "file_extension": ".py",
   "mimetype": "text/x-python",
   "name": "python",
   "nbconvert_exporter": "python",
   "pygments_lexer": "ipython3",
   "version": "3.7.8"
  }
 },
 "nbformat": 4,
 "nbformat_minor": 2
}
