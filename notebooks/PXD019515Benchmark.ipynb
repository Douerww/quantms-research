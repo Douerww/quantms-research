{
 "cells": [
  {
   "cell_type": "code",
   "execution_count": 1,
   "metadata": {},
   "outputs": [
    {
     "name": "stderr",
     "output_type": "stream",
     "text": [
      "C:\\Users\\ChengXin\\MyProgram\\python\\anaconda\\pro\\lib\\site-packages\\rpy2\\robjects\\packages.py:367: UserWarning: The symbol 'quartz' is not in this R namespace/package.\n",
      "  \"The symbol '%s' is not in this R namespace/package.\" % name\n"
     ]
    }
   ],
   "source": [
    "%load_ext rpy2.ipython"
   ]
  },
  {
   "cell_type": "code",
   "execution_count": 2,
   "metadata": {},
   "outputs": [],
   "source": [
    "import pandas as pd\n",
    "from matplotlib import pyplot as plt\n",
    "import numpy as np\n",
    "import seaborn as sns\n",
    "from pyteomics import mztab\n",
    "import os"
   ]
  },
  {
   "cell_type": "code",
   "execution_count": 3,
   "metadata": {},
   "outputs": [],
   "source": [
    "%%R\n",
    "data_folder = '../datasets/PXD019515'\n",
    "setwd(data_folder)"
   ]
  },
  {
   "cell_type": "code",
   "execution_count": 4,
   "metadata": {},
   "outputs": [
    {
     "name": "stdout",
     "output_type": "stream",
     "text": [
      "473\n"
     ]
    },
    {
     "data": {
      "text/html": [
       "<div>\n",
       "<style scoped>\n",
       "    .dataframe tbody tr th:only-of-type {\n",
       "        vertical-align: middle;\n",
       "    }\n",
       "\n",
       "    .dataframe tbody tr th {\n",
       "        vertical-align: top;\n",
       "    }\n",
       "\n",
       "    .dataframe thead th {\n",
       "        text-align: right;\n",
       "    }\n",
       "</style>\n",
       "<table border=\"1\" class=\"dataframe\">\n",
       "  <thead>\n",
       "    <tr style=\"text-align: right;\">\n",
       "      <th></th>\n",
       "      <th>ProteinName</th>\n",
       "      <th>PeptideSequence</th>\n",
       "      <th>PrecursorCharge</th>\n",
       "      <th>FragmentIon</th>\n",
       "      <th>ProductCharge</th>\n",
       "      <th>IsotopeLabelType</th>\n",
       "      <th>Condition</th>\n",
       "      <th>BioReplicate</th>\n",
       "      <th>Run</th>\n",
       "      <th>Intensity</th>\n",
       "      <th>Reference</th>\n",
       "    </tr>\n",
       "  </thead>\n",
       "  <tbody>\n",
       "    <tr>\n",
       "      <th>0</th>\n",
       "      <td>sp|P09382|LEG1_HUMAN</td>\n",
       "      <td>.(Acetyl)AC(Carbamidomethyl)GLVASNLNLKPGEC(Car...</td>\n",
       "      <td>3</td>\n",
       "      <td>NaN</td>\n",
       "      <td>0</td>\n",
       "      <td>L</td>\n",
       "      <td>HeLa</td>\n",
       "      <td>2</td>\n",
       "      <td>5</td>\n",
       "      <td>3158304.00</td>\n",
       "      <td>FAIMS_2CV_OTIT_HCD_300ITMS2_Single_HeLa_2.mzML</td>\n",
       "    </tr>\n",
       "    <tr>\n",
       "      <th>1</th>\n",
       "      <td>sp|P09382|LEG1_HUMAN</td>\n",
       "      <td>.(Acetyl)AC(Carbamidomethyl)GLVASNLNLKPGEC(Car...</td>\n",
       "      <td>3</td>\n",
       "      <td>NaN</td>\n",
       "      <td>0</td>\n",
       "      <td>L</td>\n",
       "      <td>HeLa</td>\n",
       "      <td>2</td>\n",
       "      <td>6</td>\n",
       "      <td>1807503.00</td>\n",
       "      <td>FAIMS_2CV_OTIT_HCD_300ITMS2_Single_HeLa_3.mzML</td>\n",
       "    </tr>\n",
       "    <tr>\n",
       "      <th>2</th>\n",
       "      <td>sp|P63261|ACTG_HUMAN</td>\n",
       "      <td>.(Acetyl)EEEIAALVIDNGSGM(Oxidation)C(Carbamido...</td>\n",
       "      <td>3</td>\n",
       "      <td>NaN</td>\n",
       "      <td>0</td>\n",
       "      <td>L</td>\n",
       "      <td>HeLa</td>\n",
       "      <td>2</td>\n",
       "      <td>5</td>\n",
       "      <td>95664.98</td>\n",
       "      <td>FAIMS_2CV_OTIT_HCD_300ITMS2_Single_HeLa_2.mzML</td>\n",
       "    </tr>\n",
       "    <tr>\n",
       "      <th>3</th>\n",
       "      <td>sp|P63261|ACTG_HUMAN</td>\n",
       "      <td>.(Acetyl)EEEIAALVIDNGSGMC(Carbamidomethyl)K</td>\n",
       "      <td>3</td>\n",
       "      <td>NaN</td>\n",
       "      <td>0</td>\n",
       "      <td>L</td>\n",
       "      <td>HeLa</td>\n",
       "      <td>2</td>\n",
       "      <td>5</td>\n",
       "      <td>71317.54</td>\n",
       "      <td>FAIMS_2CV_OTIT_HCD_300ITMS2_Single_HeLa_2.mzML</td>\n",
       "    </tr>\n",
       "    <tr>\n",
       "      <th>4</th>\n",
       "      <td>sp|P46779|RL28_HUMAN</td>\n",
       "      <td>.(Acetyl)SAHLQWMVVR</td>\n",
       "      <td>2</td>\n",
       "      <td>NaN</td>\n",
       "      <td>0</td>\n",
       "      <td>L</td>\n",
       "      <td>HeLa</td>\n",
       "      <td>2</td>\n",
       "      <td>5</td>\n",
       "      <td>1003434.00</td>\n",
       "      <td>FAIMS_2CV_OTIT_HCD_300ITMS2_Single_HeLa_2.mzML</td>\n",
       "    </tr>\n",
       "  </tbody>\n",
       "</table>\n",
       "</div>"
      ],
      "text/plain": [
       "            ProteinName                                    PeptideSequence  \\\n",
       "0  sp|P09382|LEG1_HUMAN  .(Acetyl)AC(Carbamidomethyl)GLVASNLNLKPGEC(Car...   \n",
       "1  sp|P09382|LEG1_HUMAN  .(Acetyl)AC(Carbamidomethyl)GLVASNLNLKPGEC(Car...   \n",
       "2  sp|P63261|ACTG_HUMAN  .(Acetyl)EEEIAALVIDNGSGM(Oxidation)C(Carbamido...   \n",
       "3  sp|P63261|ACTG_HUMAN        .(Acetyl)EEEIAALVIDNGSGMC(Carbamidomethyl)K   \n",
       "4  sp|P46779|RL28_HUMAN                                .(Acetyl)SAHLQWMVVR   \n",
       "\n",
       "   PrecursorCharge  FragmentIon  ProductCharge IsotopeLabelType Condition  \\\n",
       "0                3          NaN              0                L      HeLa   \n",
       "1                3          NaN              0                L      HeLa   \n",
       "2                3          NaN              0                L      HeLa   \n",
       "3                3          NaN              0                L      HeLa   \n",
       "4                2          NaN              0                L      HeLa   \n",
       "\n",
       "   BioReplicate  Run   Intensity  \\\n",
       "0             2    5  3158304.00   \n",
       "1             2    6  1807503.00   \n",
       "2             2    5    95664.98   \n",
       "3             2    5    71317.54   \n",
       "4             2    5  1003434.00   \n",
       "\n",
       "                                        Reference  \n",
       "0  FAIMS_2CV_OTIT_HCD_300ITMS2_Single_HeLa_2.mzML  \n",
       "1  FAIMS_2CV_OTIT_HCD_300ITMS2_Single_HeLa_3.mzML  \n",
       "2  FAIMS_2CV_OTIT_HCD_300ITMS2_Single_HeLa_2.mzML  \n",
       "3  FAIMS_2CV_OTIT_HCD_300ITMS2_Single_HeLa_2.mzML  \n",
       "4  FAIMS_2CV_OTIT_HCD_300ITMS2_Single_HeLa_2.mzML  "
      ]
     },
     "execution_count": 4,
     "metadata": {},
     "output_type": "execute_result"
    }
   ],
   "source": [
    "quantms_MBR = pd.read_csv(\"./Hela/out_msstats.csv\", sep=',', header=0)\n",
    "quantms_MBR = quantms_MBR[-quantms_MBR['ProteinName'].str.contains(\"DECOY_\")]\n",
    "print(len(set(quantms_MBR['ProteinName'])))\n",
    "quantms_MBR.head()"
   ]
  },
  {
   "cell_type": "code",
   "execution_count": null,
   "metadata": {},
   "outputs": [],
   "source": []
  }
 ],
 "metadata": {
  "kernelspec": {
   "display_name": "Python 3",
   "language": "python",
   "name": "python3"
  },
  "language_info": {
   "codemirror_mode": {
    "name": "ipython",
    "version": 3
   },
   "file_extension": ".py",
   "mimetype": "text/x-python",
   "name": "python",
   "nbconvert_exporter": "python",
   "pygments_lexer": "ipython3",
   "version": "3.7.8"
  }
 },
 "nbformat": 4,
 "nbformat_minor": 2
}
