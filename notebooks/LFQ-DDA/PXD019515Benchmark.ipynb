{
 "cells": [
  {
   "cell_type": "code",
   "execution_count": 1,
   "metadata": {},
   "outputs": [
    {
     "name": "stderr",
     "output_type": "stream",
     "text": [
      "C:\\Users\\ChengXin\\MyProgram\\python\\anaconda\\pro\\lib\\site-packages\\rpy2\\robjects\\packages.py:367: UserWarning: The symbol 'quartz' is not in this R namespace/package.\n",
      "  \"The symbol '%s' is not in this R namespace/package.\" % name\n"
     ]
    }
   ],
   "source": [
    "%load_ext rpy2.ipython"
   ]
  },
  {
   "cell_type": "code",
   "execution_count": 2,
   "metadata": {},
   "outputs": [],
   "source": [
    "import pandas as pd\n",
    "from matplotlib import pyplot as plt\n",
    "import numpy as np\n",
    "import seaborn as sns\n",
    "from pyteomics import mztab\n",
    "import os"
   ]
  },
  {
   "cell_type": "code",
   "execution_count": 3,
   "metadata": {},
   "outputs": [],
   "source": [
    "%%R\n",
    "data_folder = '../../datasets/LFQ-DDA/PXD019515'\n",
    "setwd(data_folder)"
   ]
  },
  {
   "cell_type": "code",
   "execution_count": 4,
   "metadata": {},
   "outputs": [
    {
     "name": "stdout",
     "output_type": "stream",
     "text": [
      "473\n"
     ]
    },
    {
     "data": {
      "text/html": [
       "<div>\n",
       "<style scoped>\n",
       "    .dataframe tbody tr th:only-of-type {\n",
       "        vertical-align: middle;\n",
       "    }\n",
       "\n",
       "    .dataframe tbody tr th {\n",
       "        vertical-align: top;\n",
       "    }\n",
       "\n",
       "    .dataframe thead th {\n",
       "        text-align: right;\n",
       "    }\n",
       "</style>\n",
       "<table border=\"1\" class=\"dataframe\">\n",
       "  <thead>\n",
       "    <tr style=\"text-align: right;\">\n",
       "      <th></th>\n",
       "      <th>ProteinName</th>\n",
       "      <th>PeptideSequence</th>\n",
       "      <th>PrecursorCharge</th>\n",
       "      <th>FragmentIon</th>\n",
       "      <th>ProductCharge</th>\n",
       "      <th>IsotopeLabelType</th>\n",
       "      <th>Condition</th>\n",
       "      <th>BioReplicate</th>\n",
       "      <th>Run</th>\n",
       "      <th>Intensity</th>\n",
       "      <th>Reference</th>\n",
       "    </tr>\n",
       "  </thead>\n",
       "  <tbody>\n",
       "    <tr>\n",
       "      <th>0</th>\n",
       "      <td>sp|P09382|LEG1_HUMAN</td>\n",
       "      <td>.(Acetyl)AC(Carbamidomethyl)GLVASNLNLKPGEC(Car...</td>\n",
       "      <td>3</td>\n",
       "      <td>NaN</td>\n",
       "      <td>0</td>\n",
       "      <td>L</td>\n",
       "      <td>HeLa</td>\n",
       "      <td>2</td>\n",
       "      <td>5</td>\n",
       "      <td>3158304.00</td>\n",
       "      <td>FAIMS_2CV_OTIT_HCD_300ITMS2_Single_HeLa_2.mzML</td>\n",
       "    </tr>\n",
       "    <tr>\n",
       "      <th>1</th>\n",
       "      <td>sp|P09382|LEG1_HUMAN</td>\n",
       "      <td>.(Acetyl)AC(Carbamidomethyl)GLVASNLNLKPGEC(Car...</td>\n",
       "      <td>3</td>\n",
       "      <td>NaN</td>\n",
       "      <td>0</td>\n",
       "      <td>L</td>\n",
       "      <td>HeLa</td>\n",
       "      <td>2</td>\n",
       "      <td>6</td>\n",
       "      <td>1807503.00</td>\n",
       "      <td>FAIMS_2CV_OTIT_HCD_300ITMS2_Single_HeLa_3.mzML</td>\n",
       "    </tr>\n",
       "    <tr>\n",
       "      <th>2</th>\n",
       "      <td>sp|P63261|ACTG_HUMAN</td>\n",
       "      <td>.(Acetyl)EEEIAALVIDNGSGM(Oxidation)C(Carbamido...</td>\n",
       "      <td>3</td>\n",
       "      <td>NaN</td>\n",
       "      <td>0</td>\n",
       "      <td>L</td>\n",
       "      <td>HeLa</td>\n",
       "      <td>2</td>\n",
       "      <td>5</td>\n",
       "      <td>95664.98</td>\n",
       "      <td>FAIMS_2CV_OTIT_HCD_300ITMS2_Single_HeLa_2.mzML</td>\n",
       "    </tr>\n",
       "    <tr>\n",
       "      <th>3</th>\n",
       "      <td>sp|P63261|ACTG_HUMAN</td>\n",
       "      <td>.(Acetyl)EEEIAALVIDNGSGMC(Carbamidomethyl)K</td>\n",
       "      <td>3</td>\n",
       "      <td>NaN</td>\n",
       "      <td>0</td>\n",
       "      <td>L</td>\n",
       "      <td>HeLa</td>\n",
       "      <td>2</td>\n",
       "      <td>5</td>\n",
       "      <td>71317.54</td>\n",
       "      <td>FAIMS_2CV_OTIT_HCD_300ITMS2_Single_HeLa_2.mzML</td>\n",
       "    </tr>\n",
       "    <tr>\n",
       "      <th>4</th>\n",
       "      <td>sp|P46779|RL28_HUMAN</td>\n",
       "      <td>.(Acetyl)SAHLQWMVVR</td>\n",
       "      <td>2</td>\n",
       "      <td>NaN</td>\n",
       "      <td>0</td>\n",
       "      <td>L</td>\n",
       "      <td>HeLa</td>\n",
       "      <td>2</td>\n",
       "      <td>5</td>\n",
       "      <td>1003434.00</td>\n",
       "      <td>FAIMS_2CV_OTIT_HCD_300ITMS2_Single_HeLa_2.mzML</td>\n",
       "    </tr>\n",
       "  </tbody>\n",
       "</table>\n",
       "</div>"
      ],
      "text/plain": [
       "            ProteinName                                    PeptideSequence  \\\n",
       "0  sp|P09382|LEG1_HUMAN  .(Acetyl)AC(Carbamidomethyl)GLVASNLNLKPGEC(Car...   \n",
       "1  sp|P09382|LEG1_HUMAN  .(Acetyl)AC(Carbamidomethyl)GLVASNLNLKPGEC(Car...   \n",
       "2  sp|P63261|ACTG_HUMAN  .(Acetyl)EEEIAALVIDNGSGM(Oxidation)C(Carbamido...   \n",
       "3  sp|P63261|ACTG_HUMAN        .(Acetyl)EEEIAALVIDNGSGMC(Carbamidomethyl)K   \n",
       "4  sp|P46779|RL28_HUMAN                                .(Acetyl)SAHLQWMVVR   \n",
       "\n",
       "   PrecursorCharge  FragmentIon  ProductCharge IsotopeLabelType Condition  \\\n",
       "0                3          NaN              0                L      HeLa   \n",
       "1                3          NaN              0                L      HeLa   \n",
       "2                3          NaN              0                L      HeLa   \n",
       "3                3          NaN              0                L      HeLa   \n",
       "4                2          NaN              0                L      HeLa   \n",
       "\n",
       "   BioReplicate  Run   Intensity  \\\n",
       "0             2    5  3158304.00   \n",
       "1             2    6  1807503.00   \n",
       "2             2    5    95664.98   \n",
       "3             2    5    71317.54   \n",
       "4             2    5  1003434.00   \n",
       "\n",
       "                                        Reference  \n",
       "0  FAIMS_2CV_OTIT_HCD_300ITMS2_Single_HeLa_2.mzML  \n",
       "1  FAIMS_2CV_OTIT_HCD_300ITMS2_Single_HeLa_3.mzML  \n",
       "2  FAIMS_2CV_OTIT_HCD_300ITMS2_Single_HeLa_2.mzML  \n",
       "3  FAIMS_2CV_OTIT_HCD_300ITMS2_Single_HeLa_2.mzML  \n",
       "4  FAIMS_2CV_OTIT_HCD_300ITMS2_Single_HeLa_2.mzML  "
      ]
     },
     "execution_count": 4,
     "metadata": {},
     "output_type": "execute_result"
    }
   ],
   "source": [
    "quantms_MBR = pd.read_csv(\"./Hela/out_msstats.csv\", sep=',', header=0)\n",
    "quantms_MBR = quantms_MBR[-quantms_MBR['ProteinName'].str.contains(\"DECOY_\")]\n",
    "print(len(set(quantms_MBR['ProteinName'])))\n",
    "quantms_MBR.head()"
   ]
  },
  {
   "cell_type": "code",
   "execution_count": 65,
   "metadata": {},
   "outputs": [
    {
     "name": "stdout",
     "output_type": "stream",
     "text": [
      "473\n"
     ]
    }
   ],
   "source": [
    "print(len(set(quantms_MBR[quantms_MBR['Condition'] == \"HeLa\"]['ProteinName'])))"
   ]
  },
  {
   "cell_type": "code",
   "execution_count": 66,
   "metadata": {},
   "outputs": [
    {
     "name": "stdout",
     "output_type": "stream",
     "text": [
      "66\n"
     ]
    }
   ],
   "source": [
    "print(len(set(quantms_MBR[quantms_MBR['Condition'] == \"not applicable\"]['ProteinName'])))"
   ]
  },
  {
   "cell_type": "code",
   "execution_count": 69,
   "metadata": {},
   "outputs": [
    {
     "name": "stdout",
     "output_type": "stream",
     "text": [
      "35\n",
      "36\n",
      "33\n",
      "289\n",
      "306\n",
      "198\n"
     ]
    }
   ],
   "source": [
    "print(len(set(quantms_MBR[quantms_MBR['Run'] == 1]['ProteinName'])))\n",
    "print(len(set(quantms_MBR[quantms_MBR['Run'] == 2]['ProteinName'])))\n",
    "print(len(set(quantms_MBR[quantms_MBR['Run'] == 3]['ProteinName'])))\n",
    "\n",
    "print(len(set(quantms_MBR[quantms_MBR['Run'] == 4]['ProteinName'])))\n",
    "print(len(set(quantms_MBR[quantms_MBR['Run'] == 5]['ProteinName'])))\n",
    "print(len(set(quantms_MBR[quantms_MBR['Run'] == 6]['ProteinName'])))"
   ]
  },
  {
   "cell_type": "code",
   "execution_count": 5,
   "metadata": {},
   "outputs": [
    {
     "name": "stdout",
     "output_type": "stream",
     "text": [
      "956\n"
     ]
    }
   ],
   "source": [
    "data_mztab = mztab.MzTab(\"./Hela/out.mzTab\")\n",
    "prot_table = data_mztab.protein_table\n",
    "prot_table = prot_table[prot_table['opt_global_cv_PRIDE:0000303_decoy_hit'] != 1]\n",
    "print(len(set(prot_table['accession'])))"
   ]
  },
  {
   "cell_type": "code",
   "execution_count": 71,
   "metadata": {},
   "outputs": [],
   "source": [
    "MaxQuantMBR = pd.read_csv(\"./MaxQuantMBR/proteinGroups.txt\", header=0, sep=\"\\t\")\n",
    "MaxQuantMBR =MaxQuantMBR[(MaxQuantMBR['Reverse'] != \"+\") & (MaxQuantMBR['Potential contaminant'] != \"+\")]\n",
    "MaxQuantMBR = MaxQuantMBR.replace({\"Intensity B1\": {0:np.nan}, \"Intensity B2\": {0:np.nan}, \"Intensity B3\": {0:np.nan},\n",
    "                                   \"Intensity H1\": {0:np.nan}, \"Intensity H2\": {0:np.nan}, \"Intensity H3\": {0:np.nan}})"
   ]
  },
  {
   "cell_type": "code",
   "execution_count": 72,
   "metadata": {
    "scrolled": false
   },
   "outputs": [
    {
     "name": "stdout",
     "output_type": "stream",
     "text": [
      "97\n"
     ]
    }
   ],
   "source": [
    "MaxQuantMBRBlack = MaxQuantMBR.dropna(how=\"all\", subset=[\"Intensity B1\", \"Intensity B2\", \"Intensity B3\"])\n",
    "print(len(set(MaxQuantMBRBlack['Protein IDs'])))"
   ]
  },
  {
   "cell_type": "code",
   "execution_count": 79,
   "metadata": {},
   "outputs": [
    {
     "name": "stdout",
     "output_type": "stream",
     "text": [
      "51\n",
      "53\n",
      "44\n"
     ]
    }
   ],
   "source": [
    "B1 = MaxQuantMBRBlack.dropna(how=\"all\", subset=[\"Intensity B1\"])\n",
    "print(len(set(B1['Protein IDs'])))\n",
    "B2 = MaxQuantMBRBlack.dropna(how=\"all\", subset=[\"Intensity B2\"])\n",
    "print(len(set(B2['Protein IDs'])))\n",
    "B3 = MaxQuantMBRBlack.dropna(how=\"all\", subset=[\"Intensity B3\"])\n",
    "print(len(set(B3['Protein IDs'])))"
   ]
  },
  {
   "cell_type": "code",
   "execution_count": 61,
   "metadata": {},
   "outputs": [
    {
     "name": "stdout",
     "output_type": "stream",
     "text": [
      "541\n"
     ]
    }
   ],
   "source": [
    "MaxQuantMBRHela = MaxQuantMBR.dropna(how=\"all\", subset=[\"Intensity H1\", \"Intensity H2\", \"Intensity H3\"])\n",
    "print(len(set(MaxQuantMBRHela['Protein IDs'])))"
   ]
  },
  {
   "cell_type": "code",
   "execution_count": 80,
   "metadata": {},
   "outputs": [
    {
     "name": "stdout",
     "output_type": "stream",
     "text": [
      "365\n",
      "409\n",
      "317\n"
     ]
    }
   ],
   "source": [
    "H1 = MaxQuantMBRHela.dropna(how=\"all\", subset=[\"Intensity H1\"])\n",
    "print(len(set(H1['Protein IDs'])))\n",
    "H2 = MaxQuantMBRHela.dropna(how=\"all\", subset=[\"Intensity H2\"])\n",
    "print(len(set(H2['Protein IDs'])))\n",
    "H3 = MaxQuantMBRHela.dropna(how=\"all\", subset=[\"Intensity H3\"])\n",
    "print(len(set(H3['Protein IDs'])))"
   ]
  },
  {
   "cell_type": "code",
   "execution_count": 63,
   "metadata": {},
   "outputs": [
    {
     "data": {
      "text/html": [
       "<div>\n",
       "<style scoped>\n",
       "    .dataframe tbody tr th:only-of-type {\n",
       "        vertical-align: middle;\n",
       "    }\n",
       "\n",
       "    .dataframe tbody tr th {\n",
       "        vertical-align: top;\n",
       "    }\n",
       "\n",
       "    .dataframe thead th {\n",
       "        text-align: right;\n",
       "    }\n",
       "</style>\n",
       "<table border=\"1\" class=\"dataframe\">\n",
       "  <thead>\n",
       "    <tr style=\"text-align: right;\">\n",
       "      <th></th>\n",
       "      <th>Protein IDs</th>\n",
       "      <th>Intensity H1</th>\n",
       "      <th>Intensity H2</th>\n",
       "      <th>Intensity H3</th>\n",
       "    </tr>\n",
       "  </thead>\n",
       "  <tbody>\n",
       "    <tr>\n",
       "      <th>26</th>\n",
       "      <td>sp|P0DMR1|HNRC4_HUMAN;sp|O60812|HNRC1_HUMAN;sp...</td>\n",
       "      <td>412020.0</td>\n",
       "      <td>4663500.0</td>\n",
       "      <td>NaN</td>\n",
       "    </tr>\n",
       "    <tr>\n",
       "      <th>27</th>\n",
       "      <td>sp|Q13765|NACA_HUMAN;sp|E9PAV3|NACAM_HUMAN</td>\n",
       "      <td>NaN</td>\n",
       "      <td>146630.0</td>\n",
       "      <td>NaN</td>\n",
       "    </tr>\n",
       "    <tr>\n",
       "      <th>28</th>\n",
       "      <td>sp|P63165|SUMO1_HUMAN;sp|G2XKQ0|SUMO5_HUMAN</td>\n",
       "      <td>124990.0</td>\n",
       "      <td>14364.0</td>\n",
       "      <td>NaN</td>\n",
       "    </tr>\n",
       "    <tr>\n",
       "      <th>29</th>\n",
       "      <td>sp|O00148|DX39A_HUMAN;sp|Q13838|DX39B_HUMAN</td>\n",
       "      <td>NaN</td>\n",
       "      <td>601770.0</td>\n",
       "      <td>796450.0</td>\n",
       "    </tr>\n",
       "    <tr>\n",
       "      <th>30</th>\n",
       "      <td>sp|O00231|PSD11_HUMAN</td>\n",
       "      <td>NaN</td>\n",
       "      <td>135100.0</td>\n",
       "      <td>NaN</td>\n",
       "    </tr>\n",
       "    <tr>\n",
       "      <th>...</th>\n",
       "      <td>...</td>\n",
       "      <td>...</td>\n",
       "      <td>...</td>\n",
       "      <td>...</td>\n",
       "    </tr>\n",
       "    <tr>\n",
       "      <th>677</th>\n",
       "      <td>sp|Q9Y5B9|SP16H_HUMAN</td>\n",
       "      <td>NaN</td>\n",
       "      <td>271650.0</td>\n",
       "      <td>90296.0</td>\n",
       "    </tr>\n",
       "    <tr>\n",
       "      <th>678</th>\n",
       "      <td>sp|Q9Y617|SERC_HUMAN</td>\n",
       "      <td>NaN</td>\n",
       "      <td>277100.0</td>\n",
       "      <td>27710.0</td>\n",
       "    </tr>\n",
       "    <tr>\n",
       "      <th>679</th>\n",
       "      <td>sp|Q9Y6C9|MTCH2_HUMAN</td>\n",
       "      <td>12602.0</td>\n",
       "      <td>460400.0</td>\n",
       "      <td>45985.0</td>\n",
       "    </tr>\n",
       "    <tr>\n",
       "      <th>680</th>\n",
       "      <td>sp|Q9Y6E2|BZW2_HUMAN</td>\n",
       "      <td>NaN</td>\n",
       "      <td>74998.0</td>\n",
       "      <td>172450.0</td>\n",
       "    </tr>\n",
       "    <tr>\n",
       "      <th>681</th>\n",
       "      <td>sp|Q9Y6G9|DC1L1_HUMAN</td>\n",
       "      <td>NaN</td>\n",
       "      <td>4136.2</td>\n",
       "      <td>NaN</td>\n",
       "    </tr>\n",
       "  </tbody>\n",
       "</table>\n",
       "<p>541 rows × 4 columns</p>\n",
       "</div>"
      ],
      "text/plain": [
       "                                           Protein IDs  Intensity H1  \\\n",
       "26   sp|P0DMR1|HNRC4_HUMAN;sp|O60812|HNRC1_HUMAN;sp...      412020.0   \n",
       "27          sp|Q13765|NACA_HUMAN;sp|E9PAV3|NACAM_HUMAN           NaN   \n",
       "28         sp|P63165|SUMO1_HUMAN;sp|G2XKQ0|SUMO5_HUMAN      124990.0   \n",
       "29         sp|O00148|DX39A_HUMAN;sp|Q13838|DX39B_HUMAN           NaN   \n",
       "30                               sp|O00231|PSD11_HUMAN           NaN   \n",
       "..                                                 ...           ...   \n",
       "677                              sp|Q9Y5B9|SP16H_HUMAN           NaN   \n",
       "678                               sp|Q9Y617|SERC_HUMAN           NaN   \n",
       "679                              sp|Q9Y6C9|MTCH2_HUMAN       12602.0   \n",
       "680                               sp|Q9Y6E2|BZW2_HUMAN           NaN   \n",
       "681                              sp|Q9Y6G9|DC1L1_HUMAN           NaN   \n",
       "\n",
       "     Intensity H2  Intensity H3  \n",
       "26      4663500.0           NaN  \n",
       "27       146630.0           NaN  \n",
       "28        14364.0           NaN  \n",
       "29       601770.0      796450.0  \n",
       "30       135100.0           NaN  \n",
       "..            ...           ...  \n",
       "677      271650.0       90296.0  \n",
       "678      277100.0       27710.0  \n",
       "679      460400.0       45985.0  \n",
       "680       74998.0      172450.0  \n",
       "681        4136.2           NaN  \n",
       "\n",
       "[541 rows x 4 columns]"
      ]
     },
     "execution_count": 63,
     "metadata": {},
     "output_type": "execute_result"
    }
   ],
   "source": [
    "MaxQuantMBRHela[[\"Protein IDs\",\"Intensity H1\", \"Intensity H2\", \"Intensity H3\"]]"
   ]
  },
  {
   "cell_type": "code",
   "execution_count": null,
   "metadata": {},
   "outputs": [],
   "source": []
  },
  {
   "cell_type": "markdown",
   "metadata": {},
   "source": [
    "### NOMBR"
   ]
  },
  {
   "cell_type": "code",
   "execution_count": 5,
   "metadata": {},
   "outputs": [
    {
     "name": "stdout",
     "output_type": "stream",
     "text": [
      "499\n"
     ]
    },
    {
     "data": {
      "text/html": [
       "<div>\n",
       "<style scoped>\n",
       "    .dataframe tbody tr th:only-of-type {\n",
       "        vertical-align: middle;\n",
       "    }\n",
       "\n",
       "    .dataframe tbody tr th {\n",
       "        vertical-align: top;\n",
       "    }\n",
       "\n",
       "    .dataframe thead th {\n",
       "        text-align: right;\n",
       "    }\n",
       "</style>\n",
       "<table border=\"1\" class=\"dataframe\">\n",
       "  <thead>\n",
       "    <tr style=\"text-align: right;\">\n",
       "      <th></th>\n",
       "      <th>ProteinName</th>\n",
       "      <th>PeptideSequence</th>\n",
       "      <th>PrecursorCharge</th>\n",
       "      <th>FragmentIon</th>\n",
       "      <th>ProductCharge</th>\n",
       "      <th>IsotopeLabelType</th>\n",
       "      <th>Condition</th>\n",
       "      <th>BioReplicate</th>\n",
       "      <th>Run</th>\n",
       "      <th>Intensity</th>\n",
       "      <th>Reference</th>\n",
       "    </tr>\n",
       "  </thead>\n",
       "  <tbody>\n",
       "    <tr>\n",
       "      <th>0</th>\n",
       "      <td>sp|P09382|LEG1_HUMAN</td>\n",
       "      <td>.(Acetyl)AC(Carbamidomethyl)GLVASNLNLKPGEC(Car...</td>\n",
       "      <td>3</td>\n",
       "      <td>NaN</td>\n",
       "      <td>0</td>\n",
       "      <td>L</td>\n",
       "      <td>HeLa</td>\n",
       "      <td>2</td>\n",
       "      <td>5</td>\n",
       "      <td>3983435.00</td>\n",
       "      <td>FAIMS_2CV_OTIT_HCD_300ITMS2_Single_HeLa_2.mzML</td>\n",
       "    </tr>\n",
       "    <tr>\n",
       "      <th>1</th>\n",
       "      <td>sp|P09382|LEG1_HUMAN</td>\n",
       "      <td>.(Acetyl)AC(Carbamidomethyl)GLVASNLNLKPGEC(Car...</td>\n",
       "      <td>3</td>\n",
       "      <td>NaN</td>\n",
       "      <td>0</td>\n",
       "      <td>L</td>\n",
       "      <td>HeLa</td>\n",
       "      <td>2</td>\n",
       "      <td>6</td>\n",
       "      <td>1932874.00</td>\n",
       "      <td>FAIMS_2CV_OTIT_HCD_300ITMS2_Single_HeLa_3.mzML</td>\n",
       "    </tr>\n",
       "    <tr>\n",
       "      <th>2</th>\n",
       "      <td>sp|P63261|ACTG_HUMAN</td>\n",
       "      <td>.(Acetyl)EEEIAALVIDNGSGM(Oxidation)C(Carbamido...</td>\n",
       "      <td>3</td>\n",
       "      <td>NaN</td>\n",
       "      <td>0</td>\n",
       "      <td>L</td>\n",
       "      <td>HeLa</td>\n",
       "      <td>2</td>\n",
       "      <td>5</td>\n",
       "      <td>75938.95</td>\n",
       "      <td>FAIMS_2CV_OTIT_HCD_300ITMS2_Single_HeLa_2.mzML</td>\n",
       "    </tr>\n",
       "    <tr>\n",
       "      <th>3</th>\n",
       "      <td>sp|P46779|RL28_HUMAN</td>\n",
       "      <td>.(Acetyl)SAHLQWMVVR</td>\n",
       "      <td>2</td>\n",
       "      <td>NaN</td>\n",
       "      <td>0</td>\n",
       "      <td>L</td>\n",
       "      <td>HeLa</td>\n",
       "      <td>2</td>\n",
       "      <td>5</td>\n",
       "      <td>564142.50</td>\n",
       "      <td>FAIMS_2CV_OTIT_HCD_300ITMS2_Single_HeLa_2.mzML</td>\n",
       "    </tr>\n",
       "    <tr>\n",
       "      <th>4</th>\n",
       "      <td>sp|P62328|TYB4_HUMAN</td>\n",
       "      <td>.(Acetyl)SDKPDMAEIEK</td>\n",
       "      <td>2</td>\n",
       "      <td>NaN</td>\n",
       "      <td>0</td>\n",
       "      <td>L</td>\n",
       "      <td>HeLa</td>\n",
       "      <td>2</td>\n",
       "      <td>6</td>\n",
       "      <td>14688.65</td>\n",
       "      <td>FAIMS_2CV_OTIT_HCD_300ITMS2_Single_HeLa_3.mzML</td>\n",
       "    </tr>\n",
       "  </tbody>\n",
       "</table>\n",
       "</div>"
      ],
      "text/plain": [
       "            ProteinName                                    PeptideSequence  \\\n",
       "0  sp|P09382|LEG1_HUMAN  .(Acetyl)AC(Carbamidomethyl)GLVASNLNLKPGEC(Car...   \n",
       "1  sp|P09382|LEG1_HUMAN  .(Acetyl)AC(Carbamidomethyl)GLVASNLNLKPGEC(Car...   \n",
       "2  sp|P63261|ACTG_HUMAN  .(Acetyl)EEEIAALVIDNGSGM(Oxidation)C(Carbamido...   \n",
       "3  sp|P46779|RL28_HUMAN                                .(Acetyl)SAHLQWMVVR   \n",
       "4  sp|P62328|TYB4_HUMAN                               .(Acetyl)SDKPDMAEIEK   \n",
       "\n",
       "   PrecursorCharge  FragmentIon  ProductCharge IsotopeLabelType Condition  \\\n",
       "0                3          NaN              0                L      HeLa   \n",
       "1                3          NaN              0                L      HeLa   \n",
       "2                3          NaN              0                L      HeLa   \n",
       "3                2          NaN              0                L      HeLa   \n",
       "4                2          NaN              0                L      HeLa   \n",
       "\n",
       "   BioReplicate  Run   Intensity  \\\n",
       "0             2    5  3983435.00   \n",
       "1             2    6  1932874.00   \n",
       "2             2    5    75938.95   \n",
       "3             2    5   564142.50   \n",
       "4             2    6    14688.65   \n",
       "\n",
       "                                        Reference  \n",
       "0  FAIMS_2CV_OTIT_HCD_300ITMS2_Single_HeLa_2.mzML  \n",
       "1  FAIMS_2CV_OTIT_HCD_300ITMS2_Single_HeLa_3.mzML  \n",
       "2  FAIMS_2CV_OTIT_HCD_300ITMS2_Single_HeLa_2.mzML  \n",
       "3  FAIMS_2CV_OTIT_HCD_300ITMS2_Single_HeLa_2.mzML  \n",
       "4  FAIMS_2CV_OTIT_HCD_300ITMS2_Single_HeLa_3.mzML  "
      ]
     },
     "execution_count": 5,
     "metadata": {},
     "output_type": "execute_result"
    }
   ],
   "source": [
    "quantms_NoMBR = pd.read_csv(\"./quantmsNoMBR/out_msstats.csv\", sep=',', header=0)\n",
    "quantms_NoMBR = quantms_NoMBR[-quantms_NoMBR['ProteinName'].str.contains(\"DECOY_\")]\n",
    "print(len(set(quantms_NoMBR['ProteinName'])))\n",
    "quantms_NoMBR.head()"
   ]
  },
  {
   "cell_type": "code",
   "execution_count": 6,
   "metadata": {},
   "outputs": [
    {
     "name": "stdout",
     "output_type": "stream",
     "text": [
      "498\n"
     ]
    }
   ],
   "source": [
    "print(len(set(quantms_NoMBR[quantms_NoMBR['Condition'] == \"HeLa\"]['ProteinName'])))"
   ]
  },
  {
   "cell_type": "code",
   "execution_count": 7,
   "metadata": {},
   "outputs": [
    {
     "name": "stdout",
     "output_type": "stream",
     "text": [
      "20\n"
     ]
    }
   ],
   "source": [
    "print(len(set(quantms_NoMBR[quantms_NoMBR['Condition'] == \"not applicable\"]['ProteinName'])))"
   ]
  },
  {
   "cell_type": "code",
   "execution_count": 8,
   "metadata": {},
   "outputs": [
    {
     "name": "stdout",
     "output_type": "stream",
     "text": [
      "5\n",
      "12\n",
      "5\n",
      "310\n",
      "291\n",
      "173\n"
     ]
    }
   ],
   "source": [
    "print(len(set(quantms_NoMBR[quantms_NoMBR['Run'] == 1]['ProteinName'])))\n",
    "print(len(set(quantms_NoMBR[quantms_NoMBR['Run'] == 2]['ProteinName'])))\n",
    "print(len(set(quantms_NoMBR[quantms_NoMBR['Run'] == 3]['ProteinName'])))\n",
    "\n",
    "print(len(set(quantms_NoMBR[quantms_NoMBR['Run'] == 4]['ProteinName'])))\n",
    "print(len(set(quantms_NoMBR[quantms_NoMBR['Run'] == 5]['ProteinName'])))\n",
    "print(len(set(quantms_NoMBR[quantms_NoMBR['Run'] == 6]['ProteinName'])))"
   ]
  },
  {
   "cell_type": "code",
   "execution_count": 9,
   "metadata": {},
   "outputs": [],
   "source": [
    "MaxQuantNoMBR = pd.read_csv(\"./MaxQuantNoMBR/proteinGroups.txt\", header=0, sep=\"\\t\")\n",
    "MaxQuantNoMBR =MaxQuantNoMBR[(MaxQuantNoMBR['Reverse'] != \"+\") & (MaxQuantNoMBR['Potential contaminant'] != \"+\")]\n",
    "MaxQuantNoMBR = MaxQuantNoMBR.replace({\"Intensity B1\": {0:np.nan}, \"Intensity B2\": {0:np.nan}, \"Intensity B3\": {0:np.nan},\n",
    "                                   \"Intensity H1\": {0:np.nan}, \"Intensity H2\": {0:np.nan}, \"Intensity H3\": {0:np.nan}})"
   ]
  },
  {
   "cell_type": "code",
   "execution_count": 10,
   "metadata": {},
   "outputs": [
    {
     "name": "stdout",
     "output_type": "stream",
     "text": [
      "46\n"
     ]
    }
   ],
   "source": [
    "MaxQuantNoMBRBlack = MaxQuantNoMBR.dropna(how=\"all\", subset=[\"Intensity B1\", \"Intensity B2\", \"Intensity B3\"])\n",
    "print(len(set(MaxQuantNoMBRBlack['Protein IDs'])))"
   ]
  },
  {
   "cell_type": "code",
   "execution_count": 11,
   "metadata": {},
   "outputs": [
    {
     "name": "stdout",
     "output_type": "stream",
     "text": [
      "15\n",
      "21\n",
      "24\n"
     ]
    }
   ],
   "source": [
    "B1 = MaxQuantNoMBRBlack.dropna(how=\"all\", subset=[\"Intensity B1\"])\n",
    "print(len(set(B1['Protein IDs'])))\n",
    "B2 = MaxQuantNoMBRBlack.dropna(how=\"all\", subset=[\"Intensity B2\"])\n",
    "print(len(set(B2['Protein IDs'])))\n",
    "B3 = MaxQuantNoMBRBlack.dropna(how=\"all\", subset=[\"Intensity B3\"])\n",
    "print(len(set(B3['Protein IDs'])))"
   ]
  },
  {
   "cell_type": "code",
   "execution_count": 12,
   "metadata": {},
   "outputs": [
    {
     "name": "stdout",
     "output_type": "stream",
     "text": [
      "537\n"
     ]
    }
   ],
   "source": [
    "MaxQuantNoMBRHela = MaxQuantNoMBR.dropna(how=\"all\", subset=[\"Intensity H1\", \"Intensity H2\", \"Intensity H3\"])\n",
    "print(len(set(MaxQuantNoMBRHela['Protein IDs'])))"
   ]
  },
  {
   "cell_type": "code",
   "execution_count": 13,
   "metadata": {},
   "outputs": [
    {
     "name": "stdout",
     "output_type": "stream",
     "text": [
      "358\n",
      "387\n",
      "247\n"
     ]
    }
   ],
   "source": [
    "H1 = MaxQuantNoMBRHela.dropna(how=\"all\", subset=[\"Intensity H1\"])\n",
    "print(len(set(H1['Protein IDs'])))\n",
    "H2 = MaxQuantNoMBRHela.dropna(how=\"all\", subset=[\"Intensity H2\"])\n",
    "print(len(set(H2['Protein IDs'])))\n",
    "H3 = MaxQuantNoMBRHela.dropna(how=\"all\", subset=[\"Intensity H3\"])\n",
    "print(len(set(H3['Protein IDs'])))"
   ]
  },
  {
   "cell_type": "code",
   "execution_count": null,
   "metadata": {},
   "outputs": [],
   "source": []
  }
 ],
 "metadata": {
  "kernelspec": {
   "display_name": "Python 3",
   "language": "python",
   "name": "python3"
  },
  "language_info": {
   "codemirror_mode": {
    "name": "ipython",
    "version": 3
   },
   "file_extension": ".py",
   "mimetype": "text/x-python",
   "name": "python",
   "nbconvert_exporter": "python",
   "pygments_lexer": "ipython3",
   "version": "3.7.8"
  }
 },
 "nbformat": 4,
 "nbformat_minor": 2
}
